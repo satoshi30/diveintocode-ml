{
 "cells": [
  {
   "cell_type": "markdown",
   "metadata": {},
   "source": [
    "# Sprint 深層学習スクラッチ ニューラルネットワーク"
   ]
  },
  {
   "cell_type": "markdown",
   "metadata": {},
   "source": [
    "## 1. このSprintについて\n",
    "\n",
    "### Sprintの目的\n",
    "- スクラッチを通してニューラルネットワークの基礎を理解する\n",
    "- 画像データの扱い方を知る\n",
    "\n",
    "### どのように学ぶか\n",
    "スクラッチで単純なニューラルネットワークを実装した後、学習と検証を行なっていきます。"
   ]
  },
  {
   "cell_type": "code",
   "execution_count": 1,
   "metadata": {},
   "outputs": [],
   "source": [
    "import numpy as np"
   ]
  },
  {
   "cell_type": "markdown",
   "metadata": {},
   "source": [
    "## 2. MNISTデータセット\n",
    "\n",
    "ニューラルネットワークスクラッチの検証にはMNISTデータセットを使用します。各種ライブラリやサイトからダウンロードできますが、ここでは深層学習フレームワークのKerasを用います。以下のコードを実行すればデータセットをダウンロードし、展開まで行えます。\n",
    "\n",
    "**《データセットをダウンロードするコード》**"
   ]
  },
  {
   "cell_type": "code",
   "execution_count": 2,
   "metadata": {},
   "outputs": [],
   "source": [
    "from tensorflow.keras.datasets import mnist\n",
    "(X_train, y_train), (X_test, y_test) = mnist.load_data()"
   ]
  },
  {
   "cell_type": "markdown",
   "metadata": {},
   "source": [
    "**《MNISTとは？》**\n",
    "\n",
    "画像分類のための定番データセットで、手書き数字認識を行います。このデータセットには訓練用6万枚、テスト用1万枚の28×28ピクセルの白黒画像、およびそれらが0〜9のどの数字であるかというラベルが含まれています。"
   ]
  },
  {
   "cell_type": "markdown",
   "metadata": {},
   "source": [
    "**《画像データとは？》**\n",
    "\n",
    "デジタル画像は点の集合で、これをピクセルと呼びます。一般的に白黒画像であればピクセルには0〜255の値が含まれます。一方、カラー画像であればR（赤）、G（緑）、B（青）それぞれに対応する0〜255の値が含まれます。機械学習をする上では、この0〜255の値一つひとつが特徴量として扱われます。0〜255は符号なしの8ビット整数で表せる範囲になるため、NumPyであれば「uint8」型の変数として保持できます。"
   ]
  },
  {
   "cell_type": "markdown",
   "metadata": {},
   "source": [
    "### データセットの確認\n",
    "\n",
    "どういったデータなのかを見てみます。\n",
    "\n",
    "**《サンプルコード》**"
   ]
  },
  {
   "cell_type": "code",
   "execution_count": 3,
   "metadata": {},
   "outputs": [
    {
     "name": "stdout",
     "output_type": "stream",
     "text": [
      "(60000, 28, 28)\n",
      "(10000, 28, 28)\n",
      "uint8\n",
      "[[  0   0   0   0   0   0   0   0   0   0   0   0   0   0   0   0   0   0\n",
      "    0   0   0   0   0   0   0   0   0   0]\n",
      " [  0   0   0   0   0   0   0   0   0   0   0   0   0   0   0   0   0   0\n",
      "    0   0   0   0   0   0   0   0   0   0]\n",
      " [  0   0   0   0   0   0   0   0   0   0   0   0   0   0   0   0   0   0\n",
      "    0   0   0   0   0   0   0   0   0   0]\n",
      " [  0   0   0   0   0   0   0   0   0   0   0   0   0   0   0   0   0   0\n",
      "    0   0   0   0   0   0   0   0   0   0]\n",
      " [  0   0   0   0   0   0   0   0   0   0   0   0   0   0   0   0   0   0\n",
      "    0   0   0   0   0   0   0   0   0   0]\n",
      " [  0   0   0   0   0   0   0   0   0   0   0   0   3  18  18  18 126 136\n",
      "  175  26 166 255 247 127   0   0   0   0]\n",
      " [  0   0   0   0   0   0   0   0  30  36  94 154 170 253 253 253 253 253\n",
      "  225 172 253 242 195  64   0   0   0   0]\n",
      " [  0   0   0   0   0   0   0  49 238 253 253 253 253 253 253 253 253 251\n",
      "   93  82  82  56  39   0   0   0   0   0]\n",
      " [  0   0   0   0   0   0   0  18 219 253 253 253 253 253 198 182 247 241\n",
      "    0   0   0   0   0   0   0   0   0   0]\n",
      " [  0   0   0   0   0   0   0   0  80 156 107 253 253 205  11   0  43 154\n",
      "    0   0   0   0   0   0   0   0   0   0]\n",
      " [  0   0   0   0   0   0   0   0   0  14   1 154 253  90   0   0   0   0\n",
      "    0   0   0   0   0   0   0   0   0   0]\n",
      " [  0   0   0   0   0   0   0   0   0   0   0 139 253 190   2   0   0   0\n",
      "    0   0   0   0   0   0   0   0   0   0]\n",
      " [  0   0   0   0   0   0   0   0   0   0   0  11 190 253  70   0   0   0\n",
      "    0   0   0   0   0   0   0   0   0   0]\n",
      " [  0   0   0   0   0   0   0   0   0   0   0   0  35 241 225 160 108   1\n",
      "    0   0   0   0   0   0   0   0   0   0]\n",
      " [  0   0   0   0   0   0   0   0   0   0   0   0   0  81 240 253 253 119\n",
      "   25   0   0   0   0   0   0   0   0   0]\n",
      " [  0   0   0   0   0   0   0   0   0   0   0   0   0   0  45 186 253 253\n",
      "  150  27   0   0   0   0   0   0   0   0]\n",
      " [  0   0   0   0   0   0   0   0   0   0   0   0   0   0   0  16  93 252\n",
      "  253 187   0   0   0   0   0   0   0   0]\n",
      " [  0   0   0   0   0   0   0   0   0   0   0   0   0   0   0   0   0 249\n",
      "  253 249  64   0   0   0   0   0   0   0]\n",
      " [  0   0   0   0   0   0   0   0   0   0   0   0   0   0  46 130 183 253\n",
      "  253 207   2   0   0   0   0   0   0   0]\n",
      " [  0   0   0   0   0   0   0   0   0   0   0   0  39 148 229 253 253 253\n",
      "  250 182   0   0   0   0   0   0   0   0]\n",
      " [  0   0   0   0   0   0   0   0   0   0  24 114 221 253 253 253 253 201\n",
      "   78   0   0   0   0   0   0   0   0   0]\n",
      " [  0   0   0   0   0   0   0   0  23  66 213 253 253 253 253 198  81   2\n",
      "    0   0   0   0   0   0   0   0   0   0]\n",
      " [  0   0   0   0   0   0  18 171 219 253 253 253 253 195  80   9   0   0\n",
      "    0   0   0   0   0   0   0   0   0   0]\n",
      " [  0   0   0   0  55 172 226 253 253 253 253 244 133  11   0   0   0   0\n",
      "    0   0   0   0   0   0   0   0   0   0]\n",
      " [  0   0   0   0 136 253 253 253 212 135 132  16   0   0   0   0   0   0\n",
      "    0   0   0   0   0   0   0   0   0   0]\n",
      " [  0   0   0   0   0   0   0   0   0   0   0   0   0   0   0   0   0   0\n",
      "    0   0   0   0   0   0   0   0   0   0]\n",
      " [  0   0   0   0   0   0   0   0   0   0   0   0   0   0   0   0   0   0\n",
      "    0   0   0   0   0   0   0   0   0   0]\n",
      " [  0   0   0   0   0   0   0   0   0   0   0   0   0   0   0   0   0   0\n",
      "    0   0   0   0   0   0   0   0   0   0]]\n"
     ]
    }
   ],
   "source": [
    "print(X_train.shape) # (60000, 28, 28)\n",
    "print(X_test.shape) # (10000, 28, 28)\n",
    "print(X_train[0].dtype) # uint8\n",
    "print(X_train[0])"
   ]
  },
  {
   "cell_type": "markdown",
   "metadata": {},
   "source": [
    "### 平滑化\n",
    "\n",
    "(1, 28, 28)の各画像を、(1, 784)に変換します。これまで学んできた機械学習手法や、今回扱う全結合層のみのニューラルネットワークではこの形で扱います。全てのピクセルが一列になっていることを、 **平滑化（flatten）** してあるという風に表現します。\n",
    "\n",
    "**《サンプルコード》**"
   ]
  },
  {
   "cell_type": "code",
   "execution_count": 4,
   "metadata": {},
   "outputs": [],
   "source": [
    "X_train = X_train.reshape(-1, 784)\n",
    "X_test = X_test.reshape(-1, 784)"
   ]
  },
  {
   "cell_type": "markdown",
   "metadata": {},
   "source": [
    "**《補足》**\n",
    "\n",
    "ここまで機械学習を学んでくる中で、特徴量の数を「次元」と呼んできました。その視点ではMNISTは784次元のデータです。一方で、NumPyのshapeが(784,)の状態を1次元配列とも呼びます。画像としての縦横の情報を持つ（28, 28)の状態であれば、2次元配列です。この視点では2次元のデータです。さらに、もしもカラー画像であれば(28, 28, 3)ということになり、3次元配列です。先ほどの視点では3次元のデータになります。しかし、白黒でもカラーでも平面画像であり、立体データではないという視点で、2次元のデータです。画像データを扱う際にはこのように「次元」という言葉が複数の意味合いで使われることに注意してください。"
   ]
  },
  {
   "cell_type": "markdown",
   "metadata": {},
   "source": [
    "### 画像データの可視化\n",
    "\n",
    "画像データを可視化します。`plt.imshow`に渡します。\n",
    "\n",
    "**《サンプルコード》**"
   ]
  },
  {
   "cell_type": "code",
   "execution_count": 5,
   "metadata": {},
   "outputs": [
    {
     "data": {
      "image/png": "[encoded data removed]",
      "text/plain": [
       "<Figure size 432x288 with 1 Axes>"
      ]
     },
     "metadata": {
      "needs_background": "light"
     },
     "output_type": "display_data"
    }
   ],
   "source": [
    "import matplotlib.pyplot as plt\n",
    "%matplotlib inline\n",
    "index = 0\n",
    "image = X_train[index].reshape(28,28)\n",
    "# X_train[index]: (784,)\n",
    "# image: (28, 28)\n",
    "plt.imshow(image, 'gray')\n",
    "plt.title('label : {}'.format(y_train[index]))\n",
    "plt.show()"
   ]
  },
  {
   "cell_type": "markdown",
   "metadata": {},
   "source": [
    "[numpy.reshape — NumPy v1.17 Manual](https://docs.scipy.org/doc/numpy/reference/generated/numpy.reshape.html)\n",
    "\n",
    "[matplotlib.pyplot.imshow — Matplotlib 3.1.1 documentation](https://matplotlib.org/api/_as_gen/matplotlib.pyplot.imshow.html)"
   ]
  },
  {
   "cell_type": "markdown",
   "metadata": {},
   "source": [
    "**《発展的話題》**\n",
    "\n",
    "画像データは符号なし8ビット整数のuint8型で保持されることが一般的ですが、`plt.imshow`はより自由な配列を画像として表示することが可能です。例えば、以下のようにマイナスの値を持ったfloat64型の浮動小数点であってもエラーにはならないし、先ほどと全く同じ風に表示されます。"
   ]
  },
  {
   "cell_type": "code",
   "execution_count": 6,
   "metadata": {},
   "outputs": [
    {
     "data": {
      "image/png": "[encoded data removed]",
      "text/plain": [
       "<Figure size 432x288 with 1 Axes>"
      ]
     },
     "metadata": {
      "needs_background": "light"
     },
     "output_type": "display_data"
    },
    {
     "name": "stdout",
     "output_type": "stream",
     "text": [
      "[[-105.35 -105.35 -105.35 -105.35 -105.35 -105.35 -105.35 -105.35 -105.35\n",
      "  -105.35 -105.35 -105.35 -105.35 -105.35 -105.35 -105.35 -105.35 -105.35\n",
      "  -105.35 -105.35 -105.35 -105.35 -105.35 -105.35 -105.35 -105.35 -105.35\n",
      "  -105.35]\n",
      " [-105.35 -105.35 -105.35 -105.35 -105.35 -105.35 -105.35 -105.35 -105.35\n",
      "  -105.35 -105.35 -105.35 -105.35 -105.35 -105.35 -105.35 -105.35 -105.35\n",
      "  -105.35 -105.35 -105.35 -105.35 -105.35 -105.35 -105.35 -105.35 -105.35\n",
      "  -105.35]\n",
      " [-105.35 -105.35 -105.35 -105.35 -105.35 -105.35 -105.35 -105.35 -105.35\n",
      "  -105.35 -105.35 -105.35 -105.35 -105.35 -105.35 -105.35 -105.35 -105.35\n",
      "  -105.35 -105.35 -105.35 -105.35 -105.35 -105.35 -105.35 -105.35 -105.35\n",
      "  -105.35]\n",
      " [-105.35 -105.35 -105.35 -105.35 -105.35 -105.35 -105.35 -105.35 -105.35\n",
      "  -105.35 -105.35 -105.35 -105.35 -105.35 -105.35 -105.35 -105.35 -105.35\n",
      "  -105.35 -105.35 -105.35 -105.35 -105.35 -105.35 -105.35 -105.35 -105.35\n",
      "  -105.35]\n",
      " [-105.35 -105.35 -105.35 -105.35 -105.35 -105.35 -105.35 -105.35 -105.35\n",
      "  -105.35 -105.35 -105.35 -105.35 -105.35 -105.35 -105.35 -105.35 -105.35\n",
      "  -105.35 -105.35 -105.35 -105.35 -105.35 -105.35 -105.35 -105.35 -105.35\n",
      "  -105.35]\n",
      " [-105.35 -105.35 -105.35 -105.35 -105.35 -105.35 -105.35 -105.35 -105.35\n",
      "  -105.35 -105.35 -105.35 -102.35  -87.35  -87.35  -87.35   20.65   30.65\n",
      "    69.65  -79.35   60.65  149.65  141.65   21.65 -105.35 -105.35 -105.35\n",
      "  -105.35]\n",
      " [-105.35 -105.35 -105.35 -105.35 -105.35 -105.35 -105.35 -105.35  -75.35\n",
      "   -69.35  -11.35   48.65   64.65  147.65  147.65  147.65  147.65  147.65\n",
      "   119.65   66.65  147.65  136.65   89.65  -41.35 -105.35 -105.35 -105.35\n",
      "  -105.35]\n",
      " [-105.35 -105.35 -105.35 -105.35 -105.35 -105.35 -105.35  -56.35  132.65\n",
      "   147.65  147.65  147.65  147.65  147.65  147.65  147.65  147.65  145.65\n",
      "   -12.35  -23.35  -23.35  -49.35  -66.35 -105.35 -105.35 -105.35 -105.35\n",
      "  -105.35]\n",
      " [-105.35 -105.35 -105.35 -105.35 -105.35 -105.35 -105.35  -87.35  113.65\n",
      "   147.65  147.65  147.65  147.65  147.65   92.65   76.65  141.65  135.65\n",
      "  -105.35 -105.35 -105.35 -105.35 -105.35 -105.35 -105.35 -105.35 -105.35\n",
      "  -105.35]\n",
      " [-105.35 -105.35 -105.35 -105.35 -105.35 -105.35 -105.35 -105.35  -25.35\n",
      "    50.65    1.65  147.65  147.65   99.65  -94.35 -105.35  -62.35   48.65\n",
      "  -105.35 -105.35 -105.35 -105.35 -105.35 -105.35 -105.35 -105.35 -105.35\n",
      "  -105.35]\n",
      " [-105.35 -105.35 -105.35 -105.35 -105.35 -105.35 -105.35 -105.35 -105.35\n",
      "   -91.35 -104.35   48.65  147.65  -15.35 -105.35 -105.35 -105.35 -105.35\n",
      "  -105.35 -105.35 -105.35 -105.35 -105.35 -105.35 -105.35 -105.35 -105.35\n",
      "  -105.35]\n",
      " [-105.35 -105.35 -105.35 -105.35 -105.35 -105.35 -105.35 -105.35 -105.35\n",
      "  -105.35 -105.35   33.65  147.65   84.65 -103.35 -105.35 -105.35 -105.35\n",
      "  -105.35 -105.35 -105.35 -105.35 -105.35 -105.35 -105.35 -105.35 -105.35\n",
      "  -105.35]\n",
      " [-105.35 -105.35 -105.35 -105.35 -105.35 -105.35 -105.35 -105.35 -105.35\n",
      "  -105.35 -105.35  -94.35   84.65  147.65  -35.35 -105.35 -105.35 -105.35\n",
      "  -105.35 -105.35 -105.35 -105.35 -105.35 -105.35 -105.35 -105.35 -105.35\n",
      "  -105.35]\n",
      " [-105.35 -105.35 -105.35 -105.35 -105.35 -105.35 -105.35 -105.35 -105.35\n",
      "  -105.35 -105.35 -105.35  -70.35  135.65  119.65   54.65    2.65 -104.35\n",
      "  -105.35 -105.35 -105.35 -105.35 -105.35 -105.35 -105.35 -105.35 -105.35\n",
      "  -105.35]\n",
      " [-105.35 -105.35 -105.35 -105.35 -105.35 -105.35 -105.35 -105.35 -105.35\n",
      "  -105.35 -105.35 -105.35 -105.35  -24.35  134.65  147.65  147.65   13.65\n",
      "   -80.35 -105.35 -105.35 -105.35 -105.35 -105.35 -105.35 -105.35 -105.35\n",
      "  -105.35]\n",
      " [-105.35 -105.35 -105.35 -105.35 -105.35 -105.35 -105.35 -105.35 -105.35\n",
      "  -105.35 -105.35 -105.35 -105.35 -105.35  -60.35   80.65  147.65  147.65\n",
      "    44.65  -78.35 -105.35 -105.35 -105.35 -105.35 -105.35 -105.35 -105.35\n",
      "  -105.35]\n",
      " [-105.35 -105.35 -105.35 -105.35 -105.35 -105.35 -105.35 -105.35 -105.35\n",
      "  -105.35 -105.35 -105.35 -105.35 -105.35 -105.35  -89.35  -12.35  146.65\n",
      "   147.65   81.65 -105.35 -105.35 -105.35 -105.35 -105.35 -105.35 -105.35\n",
      "  -105.35]\n",
      " [-105.35 -105.35 -105.35 -105.35 -105.35 -105.35 -105.35 -105.35 -105.35\n",
      "  -105.35 -105.35 -105.35 -105.35 -105.35 -105.35 -105.35 -105.35  143.65\n",
      "   147.65  143.65  -41.35 -105.35 -105.35 -105.35 -105.35 -105.35 -105.35\n",
      "  -105.35]\n",
      " [-105.35 -105.35 -105.35 -105.35 -105.35 -105.35 -105.35 -105.35 -105.35\n",
      "  -105.35 -105.35 -105.35 -105.35 -105.35  -59.35   24.65   77.65  147.65\n",
      "   147.65  101.65 -103.35 -105.35 -105.35 -105.35 -105.35 -105.35 -105.35\n",
      "  -105.35]\n",
      " [-105.35 -105.35 -105.35 -105.35 -105.35 -105.35 -105.35 -105.35 -105.35\n",
      "  -105.35 -105.35 -105.35  -66.35   42.65  123.65  147.65  147.65  147.65\n",
      "   144.65   76.65 -105.35 -105.35 -105.35 -105.35 -105.35 -105.35 -105.35\n",
      "  -105.35]\n",
      " [-105.35 -105.35 -105.35 -105.35 -105.35 -105.35 -105.35 -105.35 -105.35\n",
      "  -105.35  -81.35    8.65  115.65  147.65  147.65  147.65  147.65   95.65\n",
      "   -27.35 -105.35 -105.35 -105.35 -105.35 -105.35 -105.35 -105.35 -105.35\n",
      "  -105.35]\n",
      " [-105.35 -105.35 -105.35 -105.35 -105.35 -105.35 -105.35 -105.35  -82.35\n",
      "   -39.35  107.65  147.65  147.65  147.65  147.65   92.65  -24.35 -103.35\n",
      "  -105.35 -105.35 -105.35 -105.35 -105.35 -105.35 -105.35 -105.35 -105.35\n",
      "  -105.35]\n",
      " [-105.35 -105.35 -105.35 -105.35 -105.35 -105.35  -87.35   65.65  113.65\n",
      "   147.65  147.65  147.65  147.65   89.65  -25.35  -96.35 -105.35 -105.35\n",
      "  -105.35 -105.35 -105.35 -105.35 -105.35 -105.35 -105.35 -105.35 -105.35\n",
      "  -105.35]\n",
      " [-105.35 -105.35 -105.35 -105.35  -50.35   66.65  120.65  147.65  147.65\n",
      "   147.65  147.65  138.65   27.65  -94.35 -105.35 -105.35 -105.35 -105.35\n",
      "  -105.35 -105.35 -105.35 -105.35 -105.35 -105.35 -105.35 -105.35 -105.35\n",
      "  -105.35]\n",
      " [-105.35 -105.35 -105.35 -105.35   30.65  147.65  147.65  147.65  106.65\n",
      "    29.65   26.65  -89.35 -105.35 -105.35 -105.35 -105.35 -105.35 -105.35\n",
      "  -105.35 -105.35 -105.35 -105.35 -105.35 -105.35 -105.35 -105.35 -105.35\n",
      "  -105.35]\n",
      " [-105.35 -105.35 -105.35 -105.35 -105.35 -105.35 -105.35 -105.35 -105.35\n",
      "  -105.35 -105.35 -105.35 -105.35 -105.35 -105.35 -105.35 -105.35 -105.35\n",
      "  -105.35 -105.35 -105.35 -105.35 -105.35 -105.35 -105.35 -105.35 -105.35\n",
      "  -105.35]\n",
      " [-105.35 -105.35 -105.35 -105.35 -105.35 -105.35 -105.35 -105.35 -105.35\n",
      "  -105.35 -105.35 -105.35 -105.35 -105.35 -105.35 -105.35 -105.35 -105.35\n",
      "  -105.35 -105.35 -105.35 -105.35 -105.35 -105.35 -105.35 -105.35 -105.35\n",
      "  -105.35]\n",
      " [-105.35 -105.35 -105.35 -105.35 -105.35 -105.35 -105.35 -105.35 -105.35\n",
      "  -105.35 -105.35 -105.35 -105.35 -105.35 -105.35 -105.35 -105.35 -105.35\n",
      "  -105.35 -105.35 -105.35 -105.35 -105.35 -105.35 -105.35 -105.35 -105.35\n",
      "  -105.35]]\n"
     ]
    }
   ],
   "source": [
    "index = 0\n",
    "image = X_train[index].reshape(28,28)\n",
    "image = image.astype(np.float) # float型に変換\n",
    "image -= 105.35 # 意図的に負の小数値を作り出してみる\n",
    "plt.imshow(image, 'gray')\n",
    "plt.title('label : {}'.format(y_train[index]))\n",
    "plt.show()\n",
    "print(image) # 値を確認"
   ]
  },
  {
   "cell_type": "markdown",
   "metadata": {},
   "source": [
    "これは、自動的に値を0〜255の整数に変換して処理するように作られているからです。uint8型であっても最小値が0、最大値が255でない場合には色合いがおかしくなります。それを防ぐためには次のように引数を入れてください。"
   ]
  },
  {
   "cell_type": "code",
   "execution_count": 7,
   "metadata": {},
   "outputs": [
    {
     "data": {
      "text/plain": [
       "<matplotlib.image.AxesImage at 0x7fd744d9af90>"
      ]
     },
     "execution_count": 7,
     "metadata": {},
     "output_type": "execute_result"
    },
    {
     "data": {
      "image/png": "[encoded data removed]",
      "text/plain": [
       "<Figure size 432x288 with 1 Axes>"
      ]
     },
     "metadata": {
      "needs_background": "light"
     },
     "output_type": "display_data"
    }
   ],
   "source": [
    "plt.imshow(image, 'gray', vmin = 0, vmax = 255)"
   ]
  },
  {
   "cell_type": "markdown",
   "metadata": {},
   "source": [
    "画像関係のライブラリではこの自動的なスケーリングが思わぬ結果を生むことがあるので、新しいメソッドを使うときには確認しておきましょう。"
   ]
  },
  {
   "cell_type": "markdown",
   "metadata": {},
   "source": [
    "### 前処理\n",
    "画像は0から255のuint8型で表されますが、機械学習をする上では0から1のfloat型で扱うことになります。以下のコードで変換可能です。\n",
    "\n",
    "**《サンプルコード》**"
   ]
  },
  {
   "cell_type": "code",
   "execution_count": 8,
   "metadata": {},
   "outputs": [
    {
     "name": "stdout",
     "output_type": "stream",
     "text": [
      "1.0\n",
      "0.0\n"
     ]
    }
   ],
   "source": [
    "X_train = X_train.astype(np.float)\n",
    "X_test = X_test.astype(np.float)\n",
    "X_train /= 255\n",
    "X_test /= 255\n",
    "print(X_train.max()) # 1.0\n",
    "print(X_train.min()) # 0.0"
   ]
  },
  {
   "cell_type": "markdown",
   "metadata": {},
   "source": [
    "また、正解ラベルは0から9の整数ですが、ニューラルネットワークで多クラス分類を行う際には **one-hot**表現 に変換します。scikit-learnの`OneHotEncoder`を使用したコードが以下です。このone-hot表現による値はそのラベルである確率を示していることになるため、float型で扱います。\n",
    "\n",
    "**《サンプルコード》**"
   ]
  },
  {
   "cell_type": "code",
   "execution_count": 9,
   "metadata": {},
   "outputs": [
    {
     "name": "stdout",
     "output_type": "stream",
     "text": [
      "(60000,)\n",
      "(60000, 10)\n",
      "float64\n"
     ]
    }
   ],
   "source": [
    "from sklearn.preprocessing import OneHotEncoder\n",
    "enc = OneHotEncoder(handle_unknown='ignore', sparse=False)\n",
    "y_train_one_hot = enc.fit_transform(y_train[:, np.newaxis])\n",
    "y_test_one_hot = enc.transform(y_test[:, np.newaxis])\n",
    "print(y_train.shape) # (60000,)\n",
    "print(y_train_one_hot.shape) # (60000, 10)\n",
    "print(y_train_one_hot.dtype) # float64"
   ]
  },
  {
   "cell_type": "markdown",
   "metadata": {},
   "source": [
    "[sklearn.preprocessing.OneHotEncoder — scikit-learn 0.21.3 documentation](https://scikit-learn.org/stable/modules/generated/sklearn.preprocessing.OneHotEncoder.html)"
   ]
  },
  {
   "cell_type": "markdown",
   "metadata": {},
   "source": [
    "さらに、訓練データ6万枚の内2割を検証データとして分割してください。訓練データが48000枚、検証データが12000枚となります。\n",
    "\n",
    "**《サンプルコード》**"
   ]
  },
  {
   "cell_type": "code",
   "execution_count": 10,
   "metadata": {},
   "outputs": [
    {
     "name": "stdout",
     "output_type": "stream",
     "text": [
      "(48000, 784) (48000,)\n",
      "(12000, 784) (12000,)\n"
     ]
    }
   ],
   "source": [
    "from sklearn.model_selection import train_test_split\n",
    "X_train, X_val, y_train, y_val = train_test_split(X_train, y_train, test_size=0.2)\n",
    "print(X_train.shape, y_train.shape) # (48000, 784)\n",
    "print(X_val.shape, y_val.shape) # (12000, 784)"
   ]
  },
  {
   "cell_type": "markdown",
   "metadata": {},
   "source": [
    "## 3. ニューラルネットワークスクラッチ\n",
    "\n",
    "ニューラルネットワークのクラスをスクラッチで作成していきます。NumPyなど最低限のライブラリのみを使いアルゴリズムを実装していきます。\n",
    "\n",
    "今回は多クラス分類を行う3層のニューラルネットワークを作成します。層の数などは固定した上でニューラルネットワークの基本を学びます。次のSprintで層を自由に変えられる設計にしていきます。\n",
    "\n",
    "以下に雛形を用意してあります。このScratchSimpleNeuralNetrowkClassifierクラスにコードを書き加えていってください。"
   ]
  },
  {
   "cell_type": "markdown",
   "metadata": {},
   "source": [
    "### ミニバッチ処理\n",
    "\n",
    "これまでの機械学習スクラッチでは、全てのサンプルを一度に計算していました。しかし、ニューラルネットワークではデータを分割して入力する **確率的勾配降下法** が一般的です。分割した際のひとかたまりを **ミニバッチ** 、そのサンプル数を **バッチサイズ** と呼びます。\n",
    "\n",
    "\n",
    "今回はバッチサイズを20とします。今回使う訓練データは48000枚ですから、48000÷20で2400回の更新を繰り返すことになります。ニューラルネットワークではこれを2400回 **イテレーション（iteration）** すると呼びます。訓練データを一度全て見ると1回の **エポック（epoch）** が終わったことになります。このエポックを複数回繰り返し、学習が完了します。\n",
    "\n",
    "これを実現するための簡素なイテレータを用意しました。for文で呼び出すと、ミニバッチを取得できます。\n",
    "\n",
    "**《コード》**"
   ]
  },
  {
   "cell_type": "code",
   "execution_count": 11,
   "metadata": {},
   "outputs": [],
   "source": [
    "class GetMiniBatch:\n",
    "    \"\"\"\n",
    "    ミニバッチを取得するイテレータ\n",
    "\n",
    "    Parameters\n",
    "    ----------\n",
    "    X : 次の形のndarray, shape (n_samples, n_features)\n",
    "      訓練データ\n",
    "    y : 次の形のndarray, shape (n_samples, 1)\n",
    "      正解値\n",
    "    batch_size : int\n",
    "      バッチサイズ\n",
    "    seed : int\n",
    "      NumPyの乱数のシード\n",
    "    \"\"\"\n",
    "    def __init__(self, X, y, batch_size = 20, seed=0):\n",
    "        self.batch_size = batch_size\n",
    "        np.random.seed(seed)\n",
    "        shuffle_index = np.random.permutation(np.arange(X.shape[0]))\n",
    "        self._X = X[shuffle_index]\n",
    "        self._y = y[shuffle_index]\n",
    "        self._stop = np.ceil(X.shape[0]/self.batch_size).astype(np.int)\n",
    "    def __len__(self):\n",
    "        return self._stop\n",
    "    def __getitem__(self,item):\n",
    "        p0 = item*self.batch_size\n",
    "        p1 = item*self.batch_size + self.batch_size\n",
    "        return self._X[p0:p1], self._y[p0:p1]        \n",
    "    def __iter__(self):\n",
    "        self._counter = 0\n",
    "        return self\n",
    "    def __next__(self):\n",
    "        if self._counter >= self._stop:\n",
    "            raise StopIteration()\n",
    "        p0 = self._counter*self.batch_size\n",
    "        p1 = self._counter*self.batch_size + self.batch_size\n",
    "        self._counter += 1\n",
    "        return self._X[p0:p1], self._y[p0:p1]"
   ]
  },
  {
   "cell_type": "markdown",
   "metadata": {},
   "source": [
    "このクラスをインスタンス化し、for文を使うことでミニバッチが取り出せます。"
   ]
  },
  {
   "cell_type": "code",
   "execution_count": 12,
   "metadata": {},
   "outputs": [
    {
     "name": "stdout",
     "output_type": "stream",
     "text": [
      "2400\n",
      "(array([[0., 0., 0., ..., 0., 0., 0.],\n",
      "       [0., 0., 0., ..., 0., 0., 0.],\n",
      "       [0., 0., 0., ..., 0., 0., 0.],\n",
      "       ...,\n",
      "       [0., 0., 0., ..., 0., 0., 0.],\n",
      "       [0., 0., 0., ..., 0., 0., 0.],\n",
      "       [0., 0., 0., ..., 0., 0., 0.]]), array([8, 9, 7, 3, 3, 0, 9, 8, 4, 8, 0, 4, 8, 8, 8, 4, 4, 9, 7, 9],\n",
      "      dtype=uint8))\n"
     ]
    }
   ],
   "source": [
    "get_mini_batch = GetMiniBatch(X_train, y_train, batch_size=20)\n",
    "print(len(get_mini_batch)) # 2400\n",
    "print(get_mini_batch[5]) # 5番目のミニバッチが取得できる\n",
    "for mini_X_train, mini_y_train in get_mini_batch:\n",
    "    # このfor文内でミニバッチが使える\n",
    "    pass"
   ]
  },
  {
   "cell_type": "markdown",
   "metadata": {},
   "source": [
    "`__getitem__`や`__next__`は`__init__`と同じ特殊メソッドの一種です。"
   ]
  },
  {
   "cell_type": "markdown",
   "metadata": {},
   "source": [
    "### 学習\n",
    "ニューラルネットワークの学習はフォワードプロパゲーションとバックプロパゲションの繰り返しになります。"
   ]
  },
  {
   "cell_type": "markdown",
   "metadata": {},
   "source": [
    "### 【問題1】重みの初期値を決めるコードの作成\n",
    "\n",
    "ニューラルネットワークの各層の重みの初期値を決めるコードを作成してください。\n",
    "\n",
    "重みの初期値は様々な方法が提案されていますが、今回はガウス分布による単純な初期化を行います。バイアスに関しても同様です。\n",
    "\n",
    "以下のコードを参考にしてください。標準偏差の値sigmaはハイパーパラメータです。発展的な重みの初期化方法については次のSprintで扱います。\n",
    "\n",
    "**《サンプルコード》**"
   ]
  },
  {
   "cell_type": "code",
   "execution_count": 13,
   "metadata": {},
   "outputs": [],
   "source": [
    "n_features = 784\n",
    "n_nodes1 = 400\n",
    "sigma = 0.01 # ガウス分布の標準偏差\n",
    "W1 = sigma * np.random.randn(n_features, n_nodes1)\n",
    "# W1: (784, 400)"
   ]
  },
  {
   "cell_type": "markdown",
   "metadata": {},
   "source": [
    "[numpy.random.randn — NumPy v1.15 Manual](https://docs.scipy.org/doc/numpy-1.15.0/reference/generated/numpy.random.randn.html)"
   ]
  },
  {
   "cell_type": "code",
   "execution_count": 14,
   "metadata": {},
   "outputs": [],
   "source": [
    "def _init_weight_bias(n_row, n_column, sigma=0.01):\n",
    "    \"\"\"\n",
    "    n_row : int\n",
    "      行数\n",
    "    n_column : int\n",
    "    　　列数\n",
    "    sigma : float\n",
    "    　　ガウス分布の標準偏差\n",
    "    return\n",
    "    　　標準偏差sigmaに従うガウス分布　shape(n_row, n_column), shape(n_column, )\n",
    "    \"\"\"\n",
    "    return sigma * np.random.randn(n_row, n_column), sigma * np.random.randn(n_column)"
   ]
  },
  {
   "cell_type": "code",
   "execution_count": 15,
   "metadata": {},
   "outputs": [
    {
     "name": "stdout",
     "output_type": "stream",
     "text": [
      "(784, 400)\n",
      "(400,)\n"
     ]
    }
   ],
   "source": [
    "for i in _init_weight_bias(n_features, n_nodes1):\n",
    "    print(i.shape)"
   ]
  },
  {
   "cell_type": "markdown",
   "metadata": {},
   "source": [
    "- 以下のScratch_classへ実装"
   ]
  },
  {
   "cell_type": "markdown",
   "metadata": {},
   "source": [
    "### 【問題2】フォワードプロパゲーションの実装\n",
    "\n",
    "三層のニューラルネットワークの **フォワードプロパゲーション** を作成してください。以下の説明ではノード数は1層目は400、2層目は200としますが、変更しても構いません。\n",
    "\n",
    "各層の数式を以下に示します。今回はそれぞれの記号が表す配列が、実装上どのようなndarrayのshapeになるかを併記してあります。"
   ]
  },
  {
   "cell_type": "code",
   "execution_count": 16,
   "metadata": {},
   "outputs": [],
   "source": [
    "batch_size = 20 # バッチサイズ\n",
    "n_features = 784 # 特徴量の数\n",
    "n_nodes1 = 400 # 1層目のノード数\n",
    "n_nodes2 = 200 # 2層目のノード数\n",
    "n_output = 10 # 出力のクラス数（3層目のノード数）"
   ]
  },
  {
   "cell_type": "markdown",
   "metadata": {},
   "source": [
    "「1層目」\n",
    "$$\n",
    "A_1 = X \\cdot W_1 + B_1\n",
    "$$\n",
    "$X$ : 特徴量ベクトル (batch_size, n_features)\n",
    "\n",
    "$W_1$ : 1層目の重み (n_features, n_nodes1)\n",
    "\n",
    "$B_1$ : 1層目のバイアス (n_nodes1,)\n",
    "\n",
    "$A_1$ : 出力 (batch_size, n_nodes1)"
   ]
  },
  {
   "cell_type": "markdown",
   "metadata": {},
   "source": [
    "「1層目の活性化関数」\n",
    "$$\n",
    "Z_1 = f(A_1)\n",
    "$$\n",
    "$f()$ : 活性化関数\n",
    "\n",
    "$Z_1$ 出力 (batch_size, n_nodes1)"
   ]
  },
  {
   "cell_type": "markdown",
   "metadata": {},
   "source": [
    "「2層目」\n",
    "$$\n",
    "A_2 = Z_1 \\cdot W_2 + B_2\n",
    "$$\n",
    "\n",
    "$W_2$ : 2層目の重み (n_nodes1, n_nodes2)\n",
    "\n",
    "$B_2$ : 2層目のバイアス (n_nodes2,)\n",
    "\n",
    "$A_2$ : 出力 (batch_size, n_nodes2)"
   ]
  },
  {
   "cell_type": "markdown",
   "metadata": {},
   "source": [
    "「2層目の活性化関数」\n",
    "$$\n",
    "Z_2 = f(A_2)\n",
    "$$\n",
    "$f()$ : 活性化関数\n",
    "\n",
    "$Z_2$ 出力 (batch_size, n_nodes2)"
   ]
  },
  {
   "cell_type": "markdown",
   "metadata": {},
   "source": [
    "「3層目（出力層）」\n",
    "$$\n",
    "A_3 = Z_2 \\cdot W_3 + B_3\n",
    "$$\n",
    "\n",
    "$W_3$ : 3層目の重み (n_nodes2, output)\n",
    "\n",
    "$B_3$ : 3層目のバイアス (n_output,)\n",
    "\n",
    "$A_3$ : 出力 (batch_size, n_output)"
   ]
  },
  {
   "cell_type": "markdown",
   "metadata": {},
   "source": [
    "「3層目の活性化関数」\n",
    "$$\n",
    "Z_3 = softmax(A_3)\n",
    "$$\n",
    "$softmax()$ : ソフトマックス関数\n",
    "\n",
    "$Z_3$ 出力 (batch_size, n_output)\n",
    "\n",
    "$Z_3$ は各ラベル（0〜9）に対する確率の配列である。"
   ]
  },
  {
   "cell_type": "markdown",
   "metadata": {},
   "source": [
    "### 活性化関数（フォワードプロバゲーション）\n",
    "\n",
    "活性化関数を作成し、フォワードプロパゲーションの中で使用します。切り替えられるように実装することを推奨しますが、片方でも構いません。\n",
    "\n",
    "「シグモイド関数」\n",
    "$$\n",
    "f(Z) = sigmoid(A) = \\frac{1}{1+exp(-A)}\n",
    "$$\n",
    "指数関数 $exp(-A)$ の計算は`np.exp`を使用してください。\n",
    "\n",
    "[numpy.exp — NumPy v1.15 Manual](https://docs.scipy.org/doc/numpy-1.15.1/reference/generated/numpy.exp.html)\n",
    "\n",
    "「ハイパボリックタンジェント関数」\n",
    "\n",
    "次の数式で表されますが、`np.tanh`ひとつで実現できます。\n",
    "$$\n",
    "f(Z) = tanh(A) = \\frac{exp(A) - exp(-A)}{exp(A) + exp(-A)}\n",
    "$$\n",
    "\n",
    "[numpy.tanh — NumPy v1.15 Manual](https://docs.scipy.org/doc/numpy-1.15.1/reference/generated/numpy.tanh.html)\n",
    "\n",
    "＊現在ではこれらの代わりにReLUと呼ばれる活性化関数が一般的です。次のSprintで扱います。"
   ]
  },
  {
   "cell_type": "code",
   "execution_count": 17,
   "metadata": {},
   "outputs": [],
   "source": [
    "def _sigmoid_forward(A):\n",
    "    return 1.0 / (1.0 + np.exp(-A))"
   ]
  },
  {
   "cell_type": "code",
   "execution_count": 18,
   "metadata": {},
   "outputs": [],
   "source": [
    "def _tanh_forward(A):\n",
    "    return np.tanh(A)"
   ]
  },
  {
   "cell_type": "markdown",
   "metadata": {},
   "source": [
    "- 以下のScratch_classへ実装"
   ]
  },
  {
   "cell_type": "markdown",
   "metadata": {},
   "source": [
    "### ソフトマックス関数\n",
    "ソフトマックス関数を作成し、フォワードプロパゲーションの中で使用します。これも活性化関数の一種ですが、多クラス分類の出力層で使われる特性上、区別して扱われることが多いです。\n",
    "\n",
    "次の数式です。\n",
    "$$\n",
    "Z_{3\\_k} = \\frac{exp(A_{3\\_k})}{\\sum_{i=1}^{n_c}exp(A_{3\\_i})}\n",
    "$$\n",
    "\n",
    "$Z_{3_k}$ : $k$ 番目のクラスの確率ベクトル (batch_size,)\n",
    "\n",
    "$A_{3_k}$ : $k$ 番目のクラスにあたる前の層からのベクトル (batch_size,)\n",
    "\n",
    "$n_c$ : クラスの数、n_output。今回のMNISTでは10。\n",
    "\n",
    "分母は全てのクラスに相当する値を指数関数に通した上で足し合わせたものです。その中で、分子に $k$ 番目のクラスを持ってくることで、 $k$ 番目のクラスである確率が求まります。\n",
    "\n",
    "これを10クラス分計算し、合わせたものが $Z_3$ です。"
   ]
  },
  {
   "cell_type": "code",
   "execution_count": 19,
   "metadata": {},
   "outputs": [
    {
     "data": {
      "text/plain": [
       "array([[ 0,  1,  2],\n",
       "       [ 3,  4,  5],\n",
       "       [ 6,  7,  8],\n",
       "       [ 9, 10, 11]])"
      ]
     },
     "execution_count": 19,
     "metadata": {},
     "output_type": "execute_result"
    }
   ],
   "source": [
    "a = np.arange(12).reshape(4, 3)\n",
    "a"
   ]
  },
  {
   "cell_type": "code",
   "execution_count": 20,
   "metadata": {},
   "outputs": [
    {
     "data": {
      "text/plain": [
       "array([[ 3],\n",
       "       [12],\n",
       "       [21],\n",
       "       [30]])"
      ]
     },
     "execution_count": 20,
     "metadata": {},
     "output_type": "execute_result"
    }
   ],
   "source": [
    "a.sum(axis=1)[:, np.newaxis]"
   ]
  },
  {
   "cell_type": "code",
   "execution_count": 21,
   "metadata": {},
   "outputs": [
    {
     "data": {
      "text/plain": [
       "array([[0.        , 0.33333333, 0.66666667],\n",
       "       [0.25      , 0.33333333, 0.41666667],\n",
       "       [0.28571429, 0.33333333, 0.38095238],\n",
       "       [0.3       , 0.33333333, 0.36666667]])"
      ]
     },
     "execution_count": 21,
     "metadata": {},
     "output_type": "execute_result"
    }
   ],
   "source": [
    "a / a.sum(axis=1)[:, np.newaxis]"
   ]
  },
  {
   "cell_type": "code",
   "execution_count": 22,
   "metadata": {},
   "outputs": [],
   "source": [
    "def _softmax_forward(A):\n",
    "    exp_A = np.exp(A)\n",
    "    return exp_A / exp_A.sum(axis=1)[:, np.newaxis]"
   ]
  },
  {
   "cell_type": "code",
   "execution_count": 23,
   "metadata": {},
   "outputs": [
    {
     "data": {
      "text/plain": [
       "array([[0.09003057, 0.24472847, 0.66524096],\n",
       "       [0.09003057, 0.24472847, 0.66524096],\n",
       "       [0.09003057, 0.24472847, 0.66524096],\n",
       "       [0.09003057, 0.24472847, 0.66524096]])"
      ]
     },
     "execution_count": 23,
     "metadata": {},
     "output_type": "execute_result"
    }
   ],
   "source": [
    "_softmax_forward(a)"
   ]
  },
  {
   "cell_type": "markdown",
   "metadata": {},
   "source": [
    "- 以下のScratch_classへ実装"
   ]
  },
  {
   "cell_type": "markdown",
   "metadata": {},
   "source": [
    "### 【問題3】交差エントロピー誤差の実装\n",
    "目的関数（損失関数）を作成します。\n",
    "\n",
    "多クラス分類の目的関数である交差エントロピー誤差 $L$ は次の数式です。\n",
    "$$\n",
    "L = - \\frac{1}{n_b}\\sum_{j}^{n_b}\\sum_{k}^{n_c}y_{jk} log(z_{3\\_jk})\n",
    "$$\n",
    "\n",
    "$y_{ij}$ : $j$ 番目のサンプルの $k$ 番目のクラスの正解ラベル（one-hot表現で0か1のスカラー）\n",
    "\n",
    "$z_{3_ij}$ : $j$ 番目のサンプルの $k$ 番目のクラスの確率（スカラー）\n",
    "\n",
    "$n_{b}$ : バッチサイズ、batch_size\n",
    "\n",
    "$n_{c}$ : クラスの数、n_output（今回のMNISTでは10）\n",
    "\n",
    "サンプル1つあたりの誤差が求まります。"
   ]
  },
  {
   "cell_type": "code",
   "execution_count": 24,
   "metadata": {},
   "outputs": [
    {
     "data": {
      "text/plain": [
       "(array([[ 1,  2,  3],\n",
       "        [ 4,  5,  6],\n",
       "        [ 7,  8,  9],\n",
       "        [10, 11, 12]]),\n",
       " array([[0, 0, 1],\n",
       "        [0, 1, 0],\n",
       "        [0, 0, 1],\n",
       "        [0, 1, 0]]))"
      ]
     },
     "execution_count": 24,
     "metadata": {},
     "output_type": "execute_result"
    }
   ],
   "source": [
    "a = np.arange(1, 13).reshape(4, -1)\n",
    "b = np.array([[0, 0,1], [0, 1, 0], [0,0,1], [0,1,0]])\n",
    "a, b"
   ]
  },
  {
   "cell_type": "code",
   "execution_count": 25,
   "metadata": {},
   "outputs": [
    {
     "data": {
      "text/plain": [
       "28"
      ]
     },
     "execution_count": 25,
     "metadata": {},
     "output_type": "execute_result"
    }
   ],
   "source": [
    "(a * b).sum()"
   ]
  },
  {
   "cell_type": "code",
   "execution_count": 26,
   "metadata": {},
   "outputs": [],
   "source": [
    "def _cross_entropy_error(Z, y_label, batch_size):\n",
    "    log_Z = np.log(Z)\n",
    "    return -(log_Z * y_label).sum() / batch_size"
   ]
  },
  {
   "cell_type": "code",
   "execution_count": 27,
   "metadata": {
    "scrolled": true
   },
   "outputs": [
    {
     "data": {
      "text/plain": [
       "-1.8257925128092"
      ]
     },
     "execution_count": 27,
     "metadata": {},
     "output_type": "execute_result"
    }
   ],
   "source": [
    "_cross_entropy_error(a, b, 4)"
   ]
  },
  {
   "cell_type": "markdown",
   "metadata": {},
   "source": [
    "- 以下のScratch_classへ実装"
   ]
  },
  {
   "cell_type": "markdown",
   "metadata": {},
   "source": [
    "### 【問題4】バックプロパゲーションの実装\n",
    "\n",
    "三層のニューラルネットワークのバックプロパゲーションを作成してください。確率的勾配降下法を行う部分です。\n",
    "\n",
    "数式を以下に示します。\n",
    "\n",
    "まず、i層目の重みとバイアスの更新式です。 $W_i$ と $B_i$ に対し、更新後の $W_i^{\\prime}$ と $B_i^{\\prime}$ は次の数式で求められます。\n",
    "$$\n",
    "W_i^{\\prime} = W_i - \\alpha \\frac{\\partial L}{\\partial W_i} \\\\\n",
    "B_i^{\\prime} = B_i - \\alpha \\frac{\\partial L}{\\partial B_i}\n",
    "$$\n",
    "$\\alpha$ : 学習率（層ごとに変えることも可能だが、基本的には全て同じとする）\n",
    "\n",
    "$\\frac{\\partial L}{\\partial W_i}$ : $W_i$ に関する損失 $L$ の勾配\n",
    "\n",
    "$\\frac{\\partial L}{\\partial B_i}$ : $B_i$ に関する損失 $L$ の勾配\n",
    "\n",
    "＊この勾配はミニバッチのサンプル数分の合計または平均を考えます。ここでは合計を計算します。\n",
    "\n",
    "この更新方法はSprint3線形回帰やsprint4ロジスティック回帰における最急降下法と同様です。より効果的な更新方法が知られており、それは次のSprintで扱います。\n",
    "\n",
    "勾配 $\\frac{\\partial L}{\\partial W_i}$ や $\\frac{\\partial L}{\\partial B_i}$ を求めるために、バックプロパゲーションを行います。以下の数式です。ハイパボリックタンジェント関数を使用した例を載せました。シグモイド関数の場合の数式はその後ろにあります。\n",
    "\n",
    "「3層目」\n",
    "$$\n",
    "\\frac{\\partial L}{\\partial A_3} = Z_{3} - Y\\\\\n",
    "\\frac{\\partial L}{\\partial B_3} = \\sum_{j}^{n_b}\\frac{\\partial L}{\\partial A_{3\\_j}}\\\\\n",
    "\\frac{\\partial L}{\\partial W_3} = Z_{2}^{T}\\cdot \\frac{\\partial L}{\\partial A_3}\\\\\n",
    "\\frac{\\partial L}{\\partial Z_2} = \\frac{\\partial L}{\\partial A_3} \\cdot W_3^T\n",
    "$$\n",
    "\n",
    "$\\frac{\\partial L}{\\partial A_3}$ : $A_3$ に関する損失 $L$ の勾配 (batch_size, n_output)\n",
    "\n",
    "$\\frac{\\partial L}{\\partial A_{3_j}}$ : j番目のサンプルの$A_3$ に関する損失 $L$ の勾配 (n_nodes2,)\n",
    "\n",
    "$\\frac{\\partial L}{\\partial B_3}$ : $B_3$ に関する損失 $L$ の勾配 (n_output,)\n",
    "\n",
    "$\\frac{\\partial L}{\\partial W_3}$ : $W_3$ に関する損失 $L$ の勾配 (n_nodes2, n_output)\n",
    "\n",
    "$\\frac{\\partial L}{\\partial Z_2}$ : $Z_2$ に関する損失 $L$ の勾配 (batch_size, n_nodes2)\n",
    "\n",
    "$Z_{3}$ : ソフトマックス関数の出力 (batch_size, n_output)\n",
    "\n",
    "$Y$ : 正解ラベル (batch_size, n_output)\n",
    "\n",
    "$Z_{2}$ : 2層目の活性化関数の出力 (batch_size, n_nodes2)\n",
    "\n",
    "$W_3$ : 3層目の重み (n_nodes2, n_output)\n",
    "\n",
    "「2層目」\n",
    "$$\n",
    "\\frac{\\partial L}{\\partial A_2} = \\frac{\\partial L}{\\partial Z_2} \\odot \\{1-tanh^2(A_{2})\\}\\\\\n",
    "\\frac{\\partial L}{\\partial B_2} = \\sum_{j}^{n_b}\\frac{\\partial L}{\\partial A_{2\\_j}}\\\\\n",
    "\\frac{\\partial L}{\\partial W_2} = Z_{1}^T \\cdot \\frac{\\partial L}{\\partial A_2}\\\\\n",
    "\\frac{\\partial L}{\\partial Z_1} = \\frac{\\partial L}{\\partial A_2} \\cdot W_2^T\n",
    "$$\n",
    "\n",
    "$\\frac{\\partial L}{\\partial A_2}$ : $A_2$ に関する損失 $L$ の勾配 (batch_size, n_nodes2)\n",
    "\n",
    "$\\frac{\\partial L}{\\partial A_{2_j}}$ : j番目のサンプルの$A_2$ に関する損失 $L$ の勾配 (n_nodes2,)\n",
    "\n",
    "$\\frac{\\partial L}{\\partial B_2}$ : $B_2$ に関する損失 $L$ の勾配 (n_output,)\n",
    "\n",
    "$\\frac{\\partial L}{\\partial W_2}$ : $W_2$ に関する損失 $L$ の勾配 (n_nodes1, n_nodes2)\n",
    "\n",
    "$\\frac{\\partial L}{\\partial Z_2}$ : $Z_2$ に関する損失 $L$ の勾配 (batch_size, n_nodes2)\n",
    "\n",
    "$A_2$ : 2層目の出力 (batch_size, n_nodes2)\n",
    "\n",
    "$Z_{1}$ : 1層目の活性化関数の出力 (batch_size, n_nodes1)\n",
    "\n",
    "$W_2$ : 2層目の重み (n_nodes1, n_nodes2)\n",
    "\n",
    "「1層目」\n",
    "$$\n",
    "\\frac{\\partial L}{\\partial A_1} = \\frac{\\partial L}{\\partial Z_1} \\odot \\{1-tanh^2(A_{1})\\}\\\\\n",
    "\\frac{\\partial L}{\\partial B_1} = \\sum_{j}^{n_b}\\frac{\\partial L}{\\partial A_{1\\_j}}\\\\\n",
    "\\frac{\\partial L}{\\partial W_1} = X^T \\cdot \\frac{\\partial L}{\\partial A_1}\\\\\n",
    "$$\n",
    "\n",
    "$\\frac{\\partial L}{\\partial A_1}$ : $A_1$ に関する損失 $L$ の勾配 (batch_size, n_nodes1)\n",
    "\n",
    "$\\frac{\\partial L}{\\partial A_{1_j}}$ : j番目のサンプルの$A_1$ に関する損失 $L$ の勾配 (n_nodes1,)\n",
    "\n",
    "$\\frac{\\partial L}{\\partial B_1}$ : $B_1$ に関する損失 $L$ の勾配 (n_output,)\n",
    "\n",
    "$\\frac{\\partial L}{\\partial W_1}$ : $W_1$ に関する損失 $L$ の勾配 (n_features, n_nodes1)\n",
    "\n",
    "$\\frac{\\partial L}{\\partial Z_1}$ : $Z_1$ に関する損失 $L$ の勾配 (batch_size, n_nodes1)\n",
    "\n",
    "$A_1$ : 1層目の出力 (batch_size, n_nodes1)\n",
    "\n",
    "$X$ : 特徴量ベクトル (batch_size, n_features)\n",
    "\n",
    "$W_1$ : 1層目の重み (n_features, n_nodes1)\n",
    "\n",
    "**《補足》**\n",
    "\n",
    "活性化関数にシグモイド関数を使用した場合は、次のようになります。\n",
    "$$\n",
    "\\frac{\\partial L}{\\partial A_2} = \\frac{\\partial L}{\\partial Z_2} \\odot  \\{1-sigmoid(A_{2})\\}sigmoid(A_{2})\n",
    "\\\\\n",
    "\\frac{\\partial L}{\\partial A_1} = \\frac{\\partial L}{\\partial Z_1} \\odot  \\{1-sigmoid(A_{1})\\}sigmoid(A_{1})\n",
    "$$"
   ]
  },
  {
   "cell_type": "markdown",
   "metadata": {},
   "source": [
    "- 以下のScratch_classへ実装"
   ]
  },
  {
   "cell_type": "markdown",
   "metadata": {},
   "source": [
    "### 【問題5】推定\n",
    "推定を行うメソッドを作成してください。\n",
    "\n",
    "フォワードプロパゲーションによって出力された10個の確率の中で、最も高いものはどれかを判定します。\n",
    "\n",
    "[numpy.argmax — NumPy v1.17 Manual](https://docs.scipy.org/doc/numpy/reference/generated/numpy.argmax.html)"
   ]
  },
  {
   "cell_type": "code",
   "execution_count": 28,
   "metadata": {},
   "outputs": [
    {
     "data": {
      "text/plain": [
       "array([ 0, 10, 10,  0, 20, 30])"
      ]
     },
     "execution_count": 28,
     "metadata": {},
     "output_type": "execute_result"
    }
   ],
   "source": [
    "index_array = np.array([0, 1, 1, 0, 2, 3])\n",
    "category = np.array([0, 10, 20, 30])\n",
    "category[index_array]"
   ]
  },
  {
   "cell_type": "markdown",
   "metadata": {},
   "source": [
    "- 以下のScratch_classへ実装"
   ]
  },
  {
   "cell_type": "markdown",
   "metadata": {},
   "source": [
    "**実装したスクラッチ**"
   ]
  },
  {
   "cell_type": "code",
   "execution_count": 29,
   "metadata": {},
   "outputs": [],
   "source": [
    "from copy import deepcopy\n",
    "import numpy as np\n",
    "class ScratchSimpleNeuralNetrowkClassifier():\n",
    "    \"\"\"\n",
    "    シンプルな三層ニューラルネットワーク分類器\n",
    "\n",
    "    Parameters\n",
    "    ----------\n",
    "\n",
    "    Attributes\n",
    "    ----------\n",
    "    \"\"\"\n",
    "    def __init__(self, verbose=False, random_state=None, activation='sigmoid', epoch=10, batch_size=20, lr=0.0001, hidden_layer_sizes=(400, 200,)):\n",
    "        self.verbose = verbose\n",
    "        # 学習率\n",
    "        self.lr = lr\n",
    "        # 層のノード数のタプル\n",
    "        self.hidden_layer_sizes = hidden_layer_sizes\n",
    "        # バッチサイズ\n",
    "        self.batch_size = batch_size\n",
    "        # epochの回数\n",
    "        self.epoch = epoch\n",
    "        # 活性化関数の名前　'sigmoid', 'tanh'\n",
    "        self.activation = activation\n",
    "        # 乱数の設定\n",
    "        self.random_state = random_state\n",
    "        # 出力クラス数\n",
    "        self.n_output = None\n",
    "        # 出力カテゴリの配列\n",
    "        self.categories_ = None\n",
    "        # 重みの情報リスト\n",
    "        self.coefs_ = None\n",
    "        self.intercepts_ = None\n",
    "        # epoch毎に損失を記録\n",
    "        self.losses = np.zeros(self.epoch)\n",
    "        self.val_losses = None\n",
    "        # fitの時にvalデータがあるフラグ\n",
    "        self.val_flag = None\n",
    "    \n",
    "    # 重みの初期値を決めるコード\n",
    "    def _init_weight_bias(self, n_row, n_column, sigma=0.01):\n",
    "        \"\"\"\n",
    "        n_row : int 行数\n",
    "        n_column : int 列数\n",
    "        sigma : float ガウス分布の標準偏差\n",
    "        returns\n",
    "          標準偏差sigmaに従うガウス分布　shape(n_row, n_column), shape(n_column, )\n",
    "        \"\"\"\n",
    "        return sigma * np.random.randn(n_row, n_column), sigma * np.random.randn(n_column)\n",
    "    \n",
    "    # 活性化関数\n",
    "    def _sigmoid_forward(self, A):\n",
    "        return 1.0 / (1.0 + np.exp(-A))\n",
    "    \n",
    "    def _tanh_forward(self, A):\n",
    "        return np.tanh(A)\n",
    "    \n",
    "    def _softmax_forward(self, A):\n",
    "        # オーバーフローを防ぐ\n",
    "        A -= np.max(A)\n",
    "        exp_A = np.exp(A)\n",
    "        return exp_A / exp_A.sum(axis=1)[:, np.newaxis]\n",
    "    \n",
    "    def _sigmoid_back(self, A):\n",
    "        # 合ってる？\n",
    "        return (1.0 - self._sigmoid_forward(A)) * self._sigmoid_forward(A)\n",
    "    \n",
    "    def _tanh_back(self, A):\n",
    "        return 1.0 - np.power(self._tanh_forward(A), 2)\n",
    "    \n",
    "    # 損失関数\n",
    "    def _cross_entropy_error(self, Z, y_one_hot):\n",
    "        return -(np.log(Z) * y_one_hot).sum(axis=1).mean()\n",
    "    \n",
    "\n",
    "    def fit(self, X_train, y_train, X_val=None, y_val=None):\n",
    "        \"\"\"\n",
    "        ニューラルネットワーク分類器を学習する。\n",
    "        \n",
    "        Parameters\n",
    "        ----------\n",
    "        X_train : 次の形のndarray, shape (n_samples, n_features)\n",
    "            訓練データの特徴量\n",
    "        y_train : 次の形のndarray, shape (n_samples, )\n",
    "            訓練データの正解値\n",
    "        X_val : 次の形のndarray, shape (n_samples, n_features)\n",
    "            検証データの特徴量\n",
    "        y_val : 次の形のndarray, shape (n_samples, )\n",
    "            検証データの正解値\n",
    "        \"\"\"\n",
    "        # random_stateが設定されている場合はseed設定\n",
    "        if type(self.random_state) == int:\n",
    "            np.random.seed(self.random_state)\n",
    "        \n",
    "        # 変数情報\n",
    "        self.n_samples, self.n_features = X_train.shape\n",
    "        # valデータの確認\n",
    "        if type(X_val) == np.ndarray and type(y_val) == np.ndarray:\n",
    "            if X_val.shape == (y_val.shape[0], self.n_features):\n",
    "                self.val_flag = True\n",
    "                self.val_losses = np.zeros(self.epoch)\n",
    "        \n",
    "        # 目的変数をone_hot_encoding\n",
    "        from sklearn.preprocessing import OneHotEncoder\n",
    "        enc = OneHotEncoder(handle_unknown='ignore', sparse=False)\n",
    "        y_train_one_hot = enc.fit_transform(y_train[:, np.newaxis])\n",
    "        if self.val_flag:\n",
    "            y_val_one_hot = enc.transform(y_val[:, np.newaxis])\n",
    "        \n",
    "        # 出力カテゴリの配列\n",
    "        self.categories_ = enc.categories_[0]\n",
    "        # 出力クラス数を特定\n",
    "        self.n_output = len(self.categories_)\n",
    "        \n",
    "        # 重みを初期化\n",
    "        self.coefs_, self.intercepts_ = [], []\n",
    "        row = self.n_features\n",
    "        for n_nodes in list(self.hidden_layer_sizes) + [self.n_output]:\n",
    "            weight, bias = self._init_weight_bias(row, n_nodes)\n",
    "            self.coefs_.append(weight)\n",
    "            self.intercepts_.append(bias)\n",
    "            row = n_nodes\n",
    "        \n",
    "        # epoch　でループ\n",
    "        for n_epoch in range(self.epoch):\n",
    "            print(n_epoch)\n",
    "            # 各々のバッチの損失の記録\n",
    "            batches_losses = np.zeros(self.n_samples // self.batch_size, dtype=np.float64)\n",
    "            if self.val_flag:\n",
    "                batches_val_losses = np.zeros(self.n_samples // self.batch_size, dtype=np.float64)\n",
    "            \n",
    "            # バッチを取り出し、バッチでループ\n",
    "            get_mini_batch = GetMiniBatch(X_train, y_train_one_hot, batch_size=self.batch_size)\n",
    "            for mini_X_train, mini_y_train in get_mini_batch:\n",
    "                \n",
    "                # forward propagation\n",
    "                #　全結合層、活性化関数の出力層の結果をリストで管理\n",
    "                affine_layer, act_func_layer = [], [mini_X_train]\n",
    "                # 活性化関数の出力結果をself.Zで管理\n",
    "                self.Z = mini_X_train\n",
    "                if self.val_flag:\n",
    "                    self.Z_val = X_val\n",
    "                \n",
    "                # 各層をループ\n",
    "                n_layer = 0\n",
    "                for _ in range(len(self.hidden_layer_sizes)):\n",
    "                    \n",
    "                    A = np.dot(self.Z, self.coefs_[n_layer]) + self.intercepts_[n_layer]\n",
    "                    if self.val_flag:\n",
    "                        A_val = np.dot(self.Z_val, self.coefs_[n_layer]) + self.intercepts_[n_layer]\n",
    "                    n_layer += 1\n",
    "                    # self.activationに応じて計算\n",
    "                    if self.activation == 'sigmoid':\n",
    "                        self.Z = self._sigmoid_forward(A)\n",
    "                        if self.val_flag:\n",
    "                            self.Z_val = self._sigmoid_forward(A_val)\n",
    "                    elif self.activation == 'tanh':\n",
    "                        self.Z = self._tanh_forward(A)\n",
    "                        if self.val_flag:\n",
    "                            self.Z_val = self._tanh_forward(A_val)\n",
    "                    else:\n",
    "                        print('not proper activation name')\n",
    "                        break\n",
    "                    # A, self.Z　をdeepcopyしてリストへ保管　（deepcopy必要？）\n",
    "                    affine_layer.append(deepcopy(A))\n",
    "                    act_func_layer.append(deepcopy(self.Z))\n",
    "                \n",
    "                # 最後の出力層\n",
    "                A = np.dot(self.Z, self.coefs_[n_layer]) + self.intercepts_[n_layer]\n",
    "                if self.val_flag:\n",
    "                    A_val = np.dot(self.Z_val, self.coefs_[n_layer]) + self.intercepts_[n_layer]\n",
    "                # ソフトマックス関数\n",
    "                self.Z = self._softmax_forward(A)\n",
    "                if self.val_flag:\n",
    "                    self.Z_val = self._softmax_forward(A_val)\n",
    "                # A, self.Z　をdeepcopyしてリストへ保管　（deepcopy必要？）\n",
    "                # affine_layer.append(deepcopy(A)) 計算に使わないので保管しない、追加するとあとの挙動に影響\n",
    "                act_func_layer.append(deepcopy(self.Z))\n",
    "                \n",
    "                # 損失計算\n",
    "                loss = self._cross_entropy_error(self.Z, mini_y_train)\n",
    "                batches_losses[get_mini_batch._counter - 1] = loss\n",
    "                if self.val_flag:\n",
    "                    val_loss = self._cross_entropy_error(self.Z_val, y_val_one_hot)\n",
    "                    batches_val_losses[get_mini_batch._counter - 1] = val_loss\n",
    "                \n",
    "                # back propagation\n",
    "                # 重みを更新するために各層の勾配を計算した結果をリストで管理（逆順）\n",
    "                coefs_gradient, intercepts_gradient = [], []\n",
    "                \n",
    "                # affineに関する損失の勾配を求める、最後のZを取り出して正解ラベルをひく\n",
    "                affine_loss_gradient = act_func_layer.pop() - mini_y_train\n",
    "                \n",
    "                # バイアスに関する損失の勾配を行方向に足して求める\n",
    "                loss_intercepts = affine_loss_gradient.sum(axis=0)\n",
    "                intercepts_gradient.append(deepcopy(loss_intercepts))\n",
    "                \n",
    "                # 重みに関する損失の勾配をZを使って求める\n",
    "                loss_coefs = np.dot(act_func_layer.pop().T, affine_loss_gradient)\n",
    "                coefs_gradient.append(deepcopy(loss_coefs))\n",
    "                \n",
    "                # hidden_layer_sizesの数だけループ\n",
    "                for i in range(len(self.hidden_layer_sizes)):\n",
    "                    # Zに関する損失の勾配を求める\n",
    "                    loss_act_func = np.dot(affine_loss_gradient, self.coefs_[-(i+1)].T)\n",
    "                    # affineに関する損失の勾配を更新, self.activationに応じて計算\n",
    "                    if self.activation == 'sigmoid':\n",
    "                        affine_loss_gradient = loss_act_func * self._sigmoid_back(affine_layer.pop())\n",
    "                    elif self.activation == 'tanh':\n",
    "                        affine_loss_gradient = loss_act_func * self._tanh_back(affine_layer.pop())\n",
    "                    \n",
    "                    # バイアスに関する損失の勾配を行方向に足して求める\n",
    "                    loss_intercepts = affine_loss_gradient.sum(axis=0)\n",
    "                    intercepts_gradient.append(deepcopy(loss_intercepts))\n",
    "                    \n",
    "                    # 重みに関する損失の勾配をZを使って求める\n",
    "                    loss_coefs = np.dot(act_func_layer.pop().T, affine_loss_gradient)\n",
    "                    coefs_gradient.append(deepcopy(loss_coefs))\n",
    "                \n",
    "                # 重みのリストを更新\n",
    "                for i in range(len(self.hidden_layer_sizes)+1):\n",
    "                    self.coefs_[i] = self.coefs_[i] - self.lr * coefs_gradient[-(i+1)]\n",
    "                    self.intercepts_[i] = self.intercepts_[i] - self.lr * intercepts_gradient[-(i+1)]\n",
    "            \n",
    "            #　バッチのループが終わったら損失を合計し、記録\n",
    "            self.losses[n_epoch] = batches_losses.sum()\n",
    "            if self.val_flag:\n",
    "                self.val_losses[n_epoch] = batches_val_losses.sum()\n",
    "        \n",
    "            #verboseをTrueにした際は学習過程などを出力する\n",
    "            if self.verbose:\n",
    "                print('epoch : {} finished'.format(n_epoch))\n",
    "                print('train_loss : {}'.format(self.losses[n_epoch]))\n",
    "                print('val_loss : {}'.format(self.val_losses[n_epoch]))\n",
    "                \n",
    "    def predict(self, X):\n",
    "        \"\"\"\n",
    "        ニューラルネットワーク分類器を使い推定する。\n",
    "\n",
    "        Parameters\n",
    "        ----------\n",
    "        X : 次の形のndarray, shape (n_samples, n_features)\n",
    "            サンプル\n",
    "\n",
    "        Returns\n",
    "        -------\n",
    "            次の形のndarray, shape (n_samples, 1)\n",
    "            推定結果\n",
    "        \"\"\"\n",
    "        # 活性化関数の出力結果をpredで管理\n",
    "        pred = X\n",
    "\n",
    "        # 各層をループ\n",
    "        n_layer = 0\n",
    "        for _ in range(len(self.hidden_layer_sizes)):\n",
    "\n",
    "            A = np.dot(pred, self.coefs_[n_layer]) + self.intercepts_[n_layer]\n",
    "            n_layer += 1\n",
    "            # self.activationに応じて計算\n",
    "            if self.activation == 'sigmoid':\n",
    "                pred = self._sigmoid_forward(A)\n",
    "            elif self.activation == 'tanh':\n",
    "                pred = self._tanh_forward(A)\n",
    "\n",
    "        # 最後の出力層\n",
    "        A = np.dot(pred, self.coefs_[n_layer]) + self.intercepts_[n_layer]\n",
    "        # ソフトマックス関数\n",
    "        pred = self._softmax_forward(A)\n",
    "        \n",
    "        # 列、横方向に最大のインデックスを取得し、出力カテゴリのself.categories_の値を返す\n",
    "        return self.categories_[np.argmax(pred, axis=1)]"
   ]
  },
  {
   "cell_type": "markdown",
   "metadata": {},
   "source": [
    "## 4. 検証"
   ]
  },
  {
   "cell_type": "markdown",
   "metadata": {},
   "source": [
    "### 【問題6】学習と推定\n",
    "MNISTのデータを学習・推定し、Accuracyを計算してください。"
   ]
  },
  {
   "cell_type": "code",
   "execution_count": 30,
   "metadata": {},
   "outputs": [],
   "source": [
    "import time"
   ]
  },
  {
   "cell_type": "code",
   "execution_count": 31,
   "metadata": {},
   "outputs": [
    {
     "data": {
      "text/plain": [
       "'\\n# scratchしたクラスで学習\\nstart = time.time()\\nsaved_scratch_clf = ScratchSimpleNeuralNetrowkClassifier(verbose=True, epoch=20, lr=0.1, batch_size=20, hidden_layer_sizes=(400,200), random_state=0, activation=\\'sigmoid\\')\\nsaved_scratch_clf.fit(X_train, y_train, X_test, y_test)\\nprint(\"time : {:,.1f}[s]\".format(time.time() - start))\\n'"
      ]
     },
     "execution_count": 31,
     "metadata": {},
     "output_type": "execute_result"
    }
   ],
   "source": [
    "'''\n",
    "# scratchしたクラスで学習\n",
    "start = time.time()\n",
    "saved_scratch_clf = ScratchSimpleNeuralNetrowkClassifier(verbose=True, epoch=20, lr=0.1, batch_size=20, hidden_layer_sizes=(400,200), random_state=0, activation='sigmoid')\n",
    "saved_scratch_clf.fit(X_train, y_train, X_test, y_test)\n",
    "print(\"time : {:,.1f}[s]\".format(time.time() - start))\n",
    "'''"
   ]
  },
  {
   "cell_type": "code",
   "execution_count": 32,
   "metadata": {},
   "outputs": [
    {
     "data": {
      "text/plain": [
       "\"\\n# scratchした学習器を保存\\nimport pickle\\nwith open('Scratch_NNC_clf_Sprint9', 'wb') as f:\\n    pickle.dump(scratch, f)\\n\""
      ]
     },
     "execution_count": 32,
     "metadata": {},
     "output_type": "execute_result"
    }
   ],
   "source": [
    "'''\n",
    "# scratchした学習器を保存\n",
    "import pickle\n",
    "with open('Scratch_NNC_clf_Sprint9', 'wb') as f:\n",
    "    pickle.dump(scratch, f)\n",
    "'''"
   ]
  },
  {
   "cell_type": "code",
   "execution_count": 33,
   "metadata": {},
   "outputs": [],
   "source": [
    "# 学習器を呼び出す\n",
    "import pickle\n",
    "with open('Scratch_NNC_clf_Sprint9', 'rb') as f:\n",
    "    saved_scratch_clf = pickle.load(f)"
   ]
  },
  {
   "cell_type": "code",
   "execution_count": 34,
   "metadata": {},
   "outputs": [],
   "source": [
    "scratch_pred = saved_scratch_clf.predict(X_test)"
   ]
  },
  {
   "cell_type": "code",
   "execution_count": 35,
   "metadata": {},
   "outputs": [
    {
     "name": "stdout",
     "output_type": "stream",
     "text": [
      "Accuracy_score : 0.9747\n"
     ]
    }
   ],
   "source": [
    "from sklearn.metrics import accuracy_score\n",
    "print('Accuracy_score : {}'.format(accuracy_score(y_test, scratch_pred)))"
   ]
  },
  {
   "cell_type": "code",
   "execution_count": 36,
   "metadata": {},
   "outputs": [],
   "source": [
    "# start = time.time()\n",
    "# from sklearn.neural_network import MLPClassifier\n",
    "# sklearn = MLPClassifier(batch_size=20, hidden_layer_sizes=(400, 200), random_state=0)\n",
    "# print(\"time : {:,.1f}[s]\".format(time.time() - start))"
   ]
  },
  {
   "cell_type": "markdown",
   "metadata": {},
   "source": [
    "### 【問題7】学習曲線のプロット\n",
    "学習曲線をプロットしてください。\n",
    "\n",
    "ニューラルネットワークは過学習が発生しやすいため、学習曲線の確認が重要です。訓練データと検証データに対するエポックごとの損失（交差エントロピー誤差）を記録できるようにする必要があります。"
   ]
  },
  {
   "cell_type": "code",
   "execution_count": 37,
   "metadata": {},
   "outputs": [],
   "source": [
    "import matplotlib.pyplot as plt\n",
    "%matplotlib inline\n",
    "# 損失関数のプロット\n",
    "def loss_plot(clf):\n",
    "    plt.plot(range(clf.epoch), clf.losses, label='train_loss')\n",
    "    if clf.val_flag:\n",
    "        plt.plot(range(clf.epoch), clf.val_losses, label='val_loss')\n",
    "    plt.xlabel('n_epoch')\n",
    "    plt.title('model_loss')\n",
    "    plt.legend();"
   ]
  },
  {
   "cell_type": "code",
   "execution_count": 38,
   "metadata": {},
   "outputs": [
    {
     "data": {
      "image/png": "[encoded data removed]",
      "text/plain": [
       "<Figure size 432x288 with 1 Axes>"
      ]
     },
     "metadata": {
      "needs_background": "light"
     },
     "output_type": "display_data"
    }
   ],
   "source": [
    "loss_plot(saved_scratch_clf)"
   ]
  },
  {
   "cell_type": "markdown",
   "metadata": {},
   "source": [
    "- train_loss, val_loss　ともに下落していることは見て取れる\n",
    "- 若干val_lossが上昇しているようにも見えるので過学習が進んでいるのか？"
   ]
  },
  {
   "cell_type": "markdown",
   "metadata": {},
   "source": [
    "- MNISTデータセットでは、学習に多大な時間がかかるので、別のデータセットを準備して、確認してみる"
   ]
  },
  {
   "cell_type": "code",
   "execution_count": 39,
   "metadata": {},
   "outputs": [],
   "source": [
    "from sklearn.neural_network import MLPClassifier\n",
    "from sklearn.datasets import make_classification\n",
    "from sklearn.model_selection import train_test_split\n",
    "X, y = make_classification(n_samples=100, random_state=1)\n",
    "X_train2, X_test2, y_train2, y_test2 = train_test_split(X, y, stratify=y,random_state=1)"
   ]
  },
  {
   "cell_type": "code",
   "execution_count": 40,
   "metadata": {},
   "outputs": [
    {
     "name": "stdout",
     "output_type": "stream",
     "text": [
      "0\n",
      "epoch : 0 finished\n",
      "train_loss : 10.862017030990323\n",
      "val_loss : 11.337893472356377\n",
      "1\n",
      "epoch : 1 finished\n",
      "train_loss : 10.734925655698614\n",
      "val_loss : 11.298034903364185\n",
      "2\n",
      "epoch : 2 finished\n",
      "train_loss : 10.673880393611627\n",
      "val_loss : 11.2361312655333\n",
      "3\n",
      "epoch : 3 finished\n",
      "train_loss : 10.627627302169259\n",
      "val_loss : 11.183967435592045\n",
      "4\n",
      "epoch : 4 finished\n",
      "train_loss : 10.592460800746451\n",
      "val_loss : 11.13902165207426\n",
      "5\n",
      "epoch : 5 finished\n",
      "train_loss : 10.565666480426056\n",
      "val_loss : 11.099587190711988\n",
      "6\n",
      "epoch : 6 finished\n",
      "train_loss : 10.545220732403173\n",
      "val_loss : 11.064473135681759\n",
      "7\n",
      "epoch : 7 finished\n",
      "train_loss : 10.52957841411204\n",
      "val_loss : 11.032807387676318\n",
      "8\n",
      "epoch : 8 finished\n",
      "train_loss : 10.51751414993056\n",
      "val_loss : 11.003897560941654\n",
      "9\n",
      "epoch : 9 finished\n",
      "train_loss : 10.507986405792312\n",
      "val_loss : 10.977115695540496\n",
      "10\n",
      "epoch : 10 finished\n",
      "train_loss : 10.499990007154484\n",
      "val_loss : 10.951772961757369\n",
      "11\n",
      "epoch : 11 finished\n",
      "train_loss : 10.492346454921764\n",
      "val_loss : 10.926937647181454\n",
      "12\n",
      "epoch : 12 finished\n",
      "train_loss : 10.483339645900271\n",
      "val_loss : 10.901113773947932\n",
      "13\n",
      "epoch : 13 finished\n",
      "train_loss : 10.470009395924228\n",
      "val_loss : 10.87161466555323\n",
      "14\n",
      "epoch : 14 finished\n",
      "train_loss : 10.446704106566733\n",
      "val_loss : 10.833280508312914\n",
      "15\n",
      "epoch : 15 finished\n",
      "train_loss : 10.402035963537838\n",
      "val_loss : 10.775780522670258\n",
      "16\n",
      "epoch : 16 finished\n",
      "train_loss : 10.31246891993126\n",
      "val_loss : 10.677889231155314\n",
      "17\n",
      "epoch : 17 finished\n",
      "train_loss : 10.129539098592712\n",
      "val_loss : 10.495772126125262\n",
      "18\n",
      "epoch : 18 finished\n",
      "train_loss : 9.75961537356497\n",
      "val_loss : 10.14286426100477\n",
      "19\n",
      "epoch : 19 finished\n",
      "train_loss : 9.056354536941011\n",
      "val_loss : 9.475280236249347\n",
      "20\n",
      "epoch : 20 finished\n",
      "train_loss : 7.903258545993883\n",
      "val_loss : 8.353264469545012\n",
      "21\n",
      "epoch : 21 finished\n",
      "train_loss : 6.419039289010716\n",
      "val_loss : 6.847963070547554\n",
      "22\n",
      "epoch : 22 finished\n",
      "train_loss : 4.964423878154129\n",
      "val_loss : 5.32869917547282\n",
      "23\n",
      "epoch : 23 finished\n",
      "train_loss : 3.8048541917638365\n",
      "val_loss : 4.136332069968328\n",
      "24\n",
      "epoch : 24 finished\n",
      "train_loss : 2.986351286451219\n",
      "val_loss : 3.332516759225412\n",
      "25\n",
      "epoch : 25 finished\n",
      "train_loss : 2.4340909676448055\n",
      "val_loss : 2.8150845401786118\n",
      "26\n",
      "epoch : 26 finished\n",
      "train_loss : 2.0455400531795824\n",
      "val_loss : 2.4796343937424163\n",
      "27\n",
      "epoch : 27 finished\n",
      "train_loss : 1.7527807124432904\n",
      "val_loss : 2.260955618378643\n",
      "28\n",
      "epoch : 28 finished\n",
      "train_loss : 1.5235941237483872\n",
      "val_loss : 2.121531749447647\n",
      "29\n",
      "epoch : 29 finished\n",
      "train_loss : 1.342010098408954\n",
      "val_loss : 2.0388757992762088\n",
      "30\n",
      "epoch : 30 finished\n",
      "train_loss : 1.196884595228025\n",
      "val_loss : 1.9983582790899725\n",
      "31\n",
      "epoch : 31 finished\n",
      "train_loss : 1.0788560115100472\n",
      "val_loss : 1.9899453342906859\n",
      "32\n",
      "epoch : 32 finished\n",
      "train_loss : 0.9804051161695542\n",
      "val_loss : 2.00648313608464\n",
      "33\n",
      "epoch : 33 finished\n",
      "train_loss : 0.8960105913083385\n",
      "val_loss : 2.042472824356526\n",
      "34\n",
      "epoch : 34 finished\n",
      "train_loss : 0.8218970000735721\n",
      "val_loss : 2.093305895481585\n",
      "35\n",
      "epoch : 35 finished\n",
      "train_loss : 0.7556238202328636\n",
      "val_loss : 2.1549749114699766\n",
      "36\n",
      "epoch : 36 finished\n",
      "train_loss : 0.6956887707644174\n",
      "val_loss : 2.2240762090067725\n",
      "37\n",
      "epoch : 37 finished\n",
      "train_loss : 0.641196126372378\n",
      "val_loss : 2.2978801139891845\n",
      "38\n",
      "epoch : 38 finished\n",
      "train_loss : 0.5916004169460917\n",
      "val_loss : 2.3743357993842076\n",
      "39\n",
      "epoch : 39 finished\n",
      "train_loss : 0.5465266760108926\n",
      "val_loss : 2.451989209640743\n",
      "40\n",
      "epoch : 40 finished\n",
      "train_loss : 0.5056609123726012\n",
      "val_loss : 2.5298535574339494\n",
      "41\n",
      "epoch : 41 finished\n",
      "train_loss : 0.46869635849170865\n",
      "val_loss : 2.6072778453793344\n",
      "42\n",
      "epoch : 42 finished\n",
      "train_loss : 0.43531676819693127\n",
      "val_loss : 2.6838391191008277\n",
      "43\n",
      "epoch : 43 finished\n",
      "train_loss : 0.4051993229801006\n",
      "val_loss : 2.7592646173588005\n",
      "44\n",
      "epoch : 44 finished\n",
      "train_loss : 0.3780246206846432\n",
      "val_loss : 2.833379635720956\n",
      "45\n",
      "epoch : 45 finished\n",
      "train_loss : 0.3534867319045571\n",
      "val_loss : 2.906074065086013\n",
      "46\n",
      "epoch : 46 finished\n",
      "train_loss : 0.3313004795162135\n",
      "val_loss : 2.977281287937803\n",
      "47\n",
      "epoch : 47 finished\n",
      "train_loss : 0.3112054886094559\n",
      "val_loss : 3.0469648209923106\n",
      "48\n",
      "epoch : 48 finished\n",
      "train_loss : 0.292967581428761\n",
      "val_loss : 3.115109674559173\n",
      "49\n",
      "epoch : 49 finished\n",
      "train_loss : 0.27637834043455367\n",
      "val_loss : 3.1817165597902988\n",
      "time : 0.3[s]\n"
     ]
    }
   ],
   "source": [
    "start = time.time()\n",
    "scratch2 = ScratchSimpleNeuralNetrowkClassifier(verbose=True, lr=0.1, epoch=50, batch_size=5, hidden_layer_sizes=(15,10), random_state=1)\n",
    "scratch2.fit(X_train2, y_train2, X_test2, y_test2)\n",
    "print(\"time : {:,.1f}[s]\".format(time.time() - start))"
   ]
  },
  {
   "cell_type": "code",
   "execution_count": 41,
   "metadata": {
    "scrolled": true
   },
   "outputs": [
    {
     "data": {
      "image/png": "[encoded data removed]",
      "text/plain": [
       "<Figure size 432x288 with 1 Axes>"
      ]
     },
     "metadata": {
      "needs_background": "light"
     },
     "output_type": "display_data"
    }
   ],
   "source": [
    "loss_plot(scratch2)"
   ]
  },
  {
   "cell_type": "markdown",
   "metadata": {},
   "source": [
    "- 損失が下落していることが確認できる\n",
    "- n_epoch30回あたりから、val_lossが上昇しているので、過学習が進んでしまっていることがわかる"
   ]
  },
  {
   "cell_type": "markdown",
   "metadata": {},
   "source": [
    "- sklearnと予測の比較"
   ]
  },
  {
   "cell_type": "code",
   "execution_count": 42,
   "metadata": {},
   "outputs": [
    {
     "name": "stdout",
     "output_type": "stream",
     "text": [
      "time : 1.5[s]\n"
     ]
    }
   ],
   "source": [
    "start = time.time()\n",
    "sklearn2 = MLPClassifier(batch_size=5, hidden_layer_sizes=(15,10), random_state=1).fit(X_train2, y_train2)\n",
    "sklearn2.fit(X_train2, y_train2)\n",
    "print(\"time : {:,.1f}[s]\".format(time.time() - start))"
   ]
  },
  {
   "cell_type": "code",
   "execution_count": 43,
   "metadata": {},
   "outputs": [
    {
     "data": {
      "text/plain": [
       "array([ True,  True,  True,  True,  True,  True,  True,  True,  True,\n",
       "        True,  True,  True,  True,  True,  True,  True,  True,  True,\n",
       "        True,  True,  True,  True,  True,  True,  True])"
      ]
     },
     "execution_count": 43,
     "metadata": {},
     "output_type": "execute_result"
    }
   ],
   "source": [
    "scratch2.predict(X_test2) == sklearn2.predict(X_test2)"
   ]
  },
  {
   "cell_type": "markdown",
   "metadata": {},
   "source": [
    "- sklearnと予測値が同値であるので、正しくscratchできているように思われる"
   ]
  },
  {
   "cell_type": "markdown",
   "metadata": {},
   "source": [
    "### 【問題8】（アドバンス課題）誤分類の確認\n",
    "誤分類した画像はどのようなものだったかを確認してください。推定値を用意し、以下のコードを実行してください。\n",
    "\n",
    "**《コード》**"
   ]
  },
  {
   "cell_type": "code",
   "execution_count": 44,
   "metadata": {},
   "outputs": [],
   "source": [
    "def miss_class_imshow(y_pred, y_val, X_val, num, n_columns = 6):\n",
    "    \"\"\"\n",
    "    誤分類結果を並べて表示する。画像の上の表示は「推定結果/正解」である。\n",
    "\n",
    "    Parameters:\n",
    "    ----------\n",
    "    y_pred : 推定値のndarray (n_samples,)\n",
    "    y_val : 検証データの正解ラベル(n_samples,)\n",
    "    X_val : 検証データの特徴量（n_samples, n_features)\n",
    "    num : 表示する数\n",
    "    n_columns = 10 : 表示する列数\n",
    "    \"\"\"\n",
    "    import numpy as np\n",
    "    import matplotlib.pyplot as plt\n",
    "    true_false = y_pred==y_val\n",
    "    false_list = np.where(true_false==False)[0].astype(np.int)\n",
    "    if false_list.shape[0] < num:\n",
    "        num = false_list.shape[0]\n",
    "    fig = plt.figure(figsize=(16, (num-1//n_columns + 1)*(16 / n_columns)))\n",
    "    fig.subplots_adjust(left=0, right=0.8,  bottom=0, top=0.8, hspace=1, wspace=0.5)\n",
    "    for i in range(num):\n",
    "        ax = fig.add_subplot(num-1//n_columns + 1, n_columns, i + 1, xticks=[], yticks=[])\n",
    "        ax.set_title(\"pred:{} / ans:{}\".format(y_pred[false_list[i]],y_val[false_list[i]]))\n",
    "        ax.imshow(X_val.reshape(-1,28,28)[false_list[i]], cmap='gray')"
   ]
  },
  {
   "cell_type": "code",
   "execution_count": 45,
   "metadata": {},
   "outputs": [
    {
     "data": {
      "image/png": "[encoded data removed]",
      "text/plain": [
       "<Figure size 1152x7104 with 36 Axes>"
      ]
     },
     "metadata": {},
     "output_type": "display_data"
    }
   ],
   "source": [
    "miss_class_imshow(scratch_pred, y_test, X_test, num=36)"
   ]
  }
 ],
 "metadata": {
  "environment": {
   "name": "common-cpu.m55",
   "type": "gcloud",
   "uri": "gcr.io/deeplearning-platform-release/base-cpu:m55"
  },
  "kernelspec": {
   "display_name": "Python 3",
   "language": "python",
   "name": "python3"
  },
  "language_info": {
   "codemirror_mode": {
    "name": "ipython",
    "version": 3
   },
   "file_extension": ".py",
   "mimetype": "text/x-python",
   "name": "python",
   "nbconvert_exporter": "python",
   "pygments_lexer": "ipython3",
   "version": "3.7.6"
  },
  "toc": {
   "base_numbering": 1,
   "nav_menu": {},
   "number_sections": false,
   "sideBar": true,
   "skip_h1_title": true,
   "title_cell": "Table of Contents",
   "title_sidebar": "Contents",
   "toc_cell": false,
   "toc_position": {
    "height": "calc(100% - 180px)",
    "left": "10px",
    "top": "150px",
    "width": "143.594px"
   },
   "toc_section_display": true,
   "toc_window_display": false
  },
  "varInspector": {
   "cols": {
    "lenName": 16,
    "lenType": 16,
    "lenVar": 40
   },
   "kernels_config": {
    "python": {
     "delete_cmd_postfix": "",
     "delete_cmd_prefix": "del ",
     "library": "var_list.py",
     "varRefreshCmd": "print(var_dic_list())"
    },
    "r": {
     "delete_cmd_postfix": ") ",
     "delete_cmd_prefix": "rm(",
     "library": "var_list.r",
     "varRefreshCmd": "cat(var_dic_list()) "
    }
   },
   "types_to_exclude": [
    "module",
    "function",
    "builtin_function_or_method",
    "instance",
    "_Feature"
   ],
   "window_display": false
  }
 },
 "nbformat": 4,
 "nbformat_minor": 4
}
