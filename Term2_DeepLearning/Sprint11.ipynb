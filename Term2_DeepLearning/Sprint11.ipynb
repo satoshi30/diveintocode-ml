{
 "cells": [
  {
   "cell_type": "markdown",
   "metadata": {},
   "source": [
    "# Sprint 深層学習スクラッチ 畳み込みニューラルネットワーク1"
   ]
  },
  {
   "cell_type": "code",
   "execution_count": 1,
   "metadata": {},
   "outputs": [],
   "source": [
    "import numpy as np\n",
    "from copy import deepcopy\n",
    "import matplotlib.pyplot as plt\n",
    "%matplotlib inline\n",
    "from tqdm import tqdm\n",
    "from functools import lru_cache"
   ]
  },
  {
   "cell_type": "markdown",
   "metadata": {},
   "source": [
    "## 1.このSprintについて\n",
    "### Sprintの目的\n",
    "- スクラッチを通してCNNの基礎を理解する\n",
    "\n",
    "### どのように学ぶか\n",
    "スクラッチで1次元用畳み込みニューラルネットワークを実装した後、学習と検証を行なっていきます。"
   ]
  },
  {
   "cell_type": "markdown",
   "metadata": {},
   "source": [
    "## 2.1次元の畳み込みニューラルネットワークスクラッチ\n",
    "\n",
    "**畳み込みニューラルネットワーク（CNN）** のクラスをスクラッチで作成していきます。NumPyなど最低限のライブラリのみを使いアルゴリズムを実装していきます。\n",
    "\n",
    "このSprintでは1次元の **畳み込み層** を作成し、畳み込みの基礎を理解することを目指します。次のSprintでは2次元畳み込み層とプーリング層を作成することで、一般的に画像に対して利用されるCNNを完成させます。\n",
    "\n",
    "クラスの名前はScratch1dCNNClassifierとしてください。クラスの構造などは前のSprintで作成したScratchDeepNeuralNetrowkClassifierを参考にしてください。"
   ]
  },
  {
   "cell_type": "markdown",
   "metadata": {},
   "source": [
    "### 1次元畳み込み層とは\n",
    "CNNでは画像に対しての2次元畳み込み層が定番ですが、ここでは理解しやすくするためにまずは1次元畳み込み層を実装します。1次元畳み込みは実用上は自然言語や波形データなどの 系列データ で使われることが多いです。\n",
    "\n",
    "畳み込みは任意の次元に対して考えることができ、立体データに対しての3次元畳み込みまではフレームワークで一般的に用意されています。\n",
    "\n",
    "### データセットの用意\n",
    "検証には引き続きMNISTデータセットを使用します。1次元畳み込みでは全結合のニューラルネットワークと同様に平滑化されたものを入力します。"
   ]
  },
  {
   "cell_type": "code",
   "execution_count": 2,
   "metadata": {},
   "outputs": [
    {
     "name": "stdout",
     "output_type": "stream",
     "text": [
      "1.0\n",
      "0.0\n"
     ]
    }
   ],
   "source": [
    "# MNISTデータ　ロード\n",
    "from tensorflow.keras.datasets import mnist\n",
    "(X_train, y_train), (X_test, y_test) = mnist.load_data()\n",
    "# 平滑化\n",
    "X_train = X_train.reshape(-1, 784)\n",
    "X_test = X_test.reshape(-1, 784)\n",
    "# 前処理\n",
    "X_train = X_train.astype(np.float)\n",
    "X_test = X_test.astype(np.float)\n",
    "X_train /= 255\n",
    "X_test /= 255\n",
    "print(X_train.max()) # 1.0\n",
    "print(X_train.min()) # 0.0"
   ]
  },
  {
   "cell_type": "markdown",
   "metadata": {},
   "source": [
    "### 【問題1】チャンネル数を1に限定した1次元畳み込み層クラスの作成\n",
    "チャンネル数を1に限定した1次元畳み込み層のクラスSimpleConv1dを作成してください。基本構造は前のSprintで作成した全結合層のFCクラスと同じになります。なお、重みの初期化に関するクラスは必要に応じて作り変えてください。Xavierの初期値などを使う点は全結合層と同様です。\n",
    "\n",
    "ここでは **パディング** は考えず、**ストライド** も1に固定します。また、複数のデータを同時に処理することも考えなくて良く、バッチサイズは1のみに対応してください。この部分の拡張はアドバンス課題とします。\n",
    "\n",
    "フォワードプロパゲーションの数式は以下のようになります。\n",
    "$$\n",
    "a_i = \\sum_{s=0}^{F-1}x_{(i+s)}w_s+b\n",
    "$$\n",
    "\n",
    "$a_i$  : 出力される配列のi番目の値\n",
    "\n",
    "$F$ : フィルタのサイズ\n",
    "\n",
    "$x_(i+s)$ : 入力の配列の(i+s)番目の値\n",
    "\n",
    "$w_s$ : 重みの配列のs番目の値\n",
    "\n",
    "$b$ : バイアス項\n",
    "\n",
    "全てスカラーです。\n",
    "\n",
    "次に更新式です。ここがAdaGradなどに置き換えられる点は全結合層と同様です。\n",
    "\n",
    "$\\alpha$ : 学習率\n",
    "\n",
    "$\\frac{\\partial L}{\\partial w_s}$ : $w_s$ に関する損失 $L$ の勾配\n",
    "\n",
    "$\\frac{\\partial L}{\\partial b}$ : $b$ に関する損失 $L$ の勾配\n",
    "\n",
    "勾配 $\\frac{\\partial L}{\\partial w_s}$ や $\\frac{\\partial L}{\\partial b}$ を求めるためのバックプロパゲーションの数式が以下です。\n",
    "\n",
    "$$\n",
    "\\frac{\\partial L}{\\partial w_s} = \\sum_{i=0}^{N_{out}-1} \\frac{\\partial L}{\\partial a_i}x_{(i+s)}\\\\\n",
    "\\frac{\\partial L}{\\partial b} = \\sum_{i=0}^{N_{out}-1} \\frac{\\partial L}{\\partial a_i}\n",
    "$$\n",
    "\n",
    "$\\frac{\\partial L}{\\partial a_i}$ : 勾配の配列のi番目の値\n",
    "\n",
    "$N_{out}$ : 出力のサイズ\n",
    "\n",
    "前の層に流す誤差の数式は以下です。\n",
    "\n",
    "$$\n",
    "\\frac{\\partial L}{\\partial x_j} = \\sum_{s=0}^{F-1} \\frac{\\partial L}{\\partial a_{(j-s)}}w_s\n",
    "$$\n",
    "\n",
    "$\\frac{\\partial L}{\\partial x_j}$ : 前の層に流す誤差の配列のj番目の値\n",
    "\n",
    "ただし、 $j-s<0$ または $j-s>N_{out}-1$ のとき $\\frac{\\partial L}{\\partial a_{(j-s)}} =0$ です。\n",
    "\n",
    "全結合層との大きな違いは、重みが複数の特徴量に対して共有されていることです。この場合は共有されている分の誤差を全て足すことで勾配を求めます。計算グラフ上での分岐はバックプロパゲーションの際に誤差の足し算をすれば良いことになります。"
   ]
  },
  {
   "cell_type": "code",
   "execution_count": 3,
   "metadata": {},
   "outputs": [],
   "source": [
    "class SimpleConv1d:\n",
    "    \"\"\"\n",
    "    チャンネル数を1に限定した1次元畳み込み層\n",
    "    Parameters\n",
    "    ----------\n",
    "    initializer : 初期化方法のインスタンス\n",
    "    optimizer : 最適化手法のインスタンス\n",
    "    input_channels : int\n",
    "      入力のチャンネル数\n",
    "    filter _sizes : int\n",
    "      フィルタのサイズ\n",
    "    stride_sizes : int\n",
    "      スライドのサイズ\n",
    "    output_channels : int\n",
    "      出力のチャンネル数\n",
    "    \"\"\"\n",
    "    def __init__(self, input_channels, filter_sizes, initializer, optimizer):\n",
    "        self.input_channels = input_channels\n",
    "        self.filter_sizes = filter_sizes\n",
    "        self.optimizer = optimizer\n",
    "        # 初期化\n",
    "        if initializer is None:\n",
    "            self.W = np.array([3, 5, 7])\n",
    "            self.B = np.array([1])\n",
    "    \n",
    "    def forward(self, X):\n",
    "        \"\"\"\n",
    "        フォワード\n",
    "        Parameters\n",
    "        ----------\n",
    "        X : 次の形のndarray, shape (input_channels, n_features)\n",
    "            入力\n",
    "        Returns\n",
    "        ----------\n",
    "        A : 次の形のndarray, shape (output_channels, filter_sizes-1)\n",
    "            出力\n",
    "        \"\"\"\n",
    "        input_nums = X.shape[0]\n",
    "        out_nums = input_nums-self.filter_sizes+1\n",
    "        A = np.zeros(out_nums)\n",
    "        for i in range(out_nums):\n",
    "            A[i] = np.dot(X[i:i+self.filter_sizes], self.W)\n",
    "        return A + self.B\n",
    "    \n",
    "    def backward(self, dA, X):\n",
    "        \"\"\"\n",
    "        バックワード\n",
    "        Parameters\n",
    "        ----------\n",
    "        dA : 次の形のndarray, shape (batch_size, n_nodes2)\n",
    "            後ろから流れてきた勾配\n",
    "        Z : 次の形のndarray, shape (batch_size, n_nodes1)\n",
    "            一層前の活性化関数の出力結果\n",
    "        Returns\n",
    "        ----------\n",
    "        dZ : 次の形のndarray, shape (batch_size, n_nodes1)\n",
    "            前に流す勾配\n",
    "        \"\"\"\n",
    "        \n",
    "        #　前の層に流す誤差の計算\n",
    "        dX = np.zeros(X.shape[0])\n",
    "        out_nums = dA.shape[0]\n",
    "        for i in range(out_nums):\n",
    "            calc = self.W * dA[i]\n",
    "            dX[i:i+self.filter_sizes] += calc\n",
    "        print(dX.shape, dX)\n",
    "        \n",
    "        # 更新\n",
    "        self = self.optimizer.update(self, dA, X)\n",
    "        return dX"
   ]
  },
  {
   "cell_type": "markdown",
   "metadata": {},
   "source": [
    "- optimizer_class"
   ]
  },
  {
   "cell_type": "code",
   "execution_count": 4,
   "metadata": {},
   "outputs": [],
   "source": [
    "class SGD_simple:\n",
    "    \"\"\"\n",
    "    確率的勾配降下法\n",
    "    Parameters\n",
    "    ----------\n",
    "    lr : 学習率\n",
    "    \"\"\"\n",
    "    def __init__(self, lr=0.1):\n",
    "        self.lr = lr\n",
    "    def update(self, layer, dA, X):\n",
    "        \"\"\"\n",
    "        ある層の重みやバイアスの更新\n",
    "        Parameters\n",
    "        ----------\n",
    "        layer : 更新前の層のインスタンス\n",
    "        dA : 後ろから流れてきた勾配\n",
    "        \"\"\"\n",
    "        # 各勾配の計算\n",
    "        dB = np.sum(dA)\n",
    "        print(dB.shape, dB)\n",
    "        \n",
    "        out_nums = dA.shape[0]\n",
    "        dW = np.zeros(layer.filter_sizes)\n",
    "        for i in range(layer.filter_sizes):\n",
    "            dW[i] = np.dot(dA, X[i:i+out_nums])\n",
    "        print(dW.shape, dW)\n",
    "            \n",
    "        # バイアス、重みの更新\n",
    "        layer.B = layer.B - dB * self.lr\n",
    "        layer.W = layer.W - dW * self.lr"
   ]
  },
  {
   "cell_type": "markdown",
   "metadata": {},
   "source": [
    "### 【問題2】1次元畳み込み後の出力サイズの計算\n",
    "畳み込みを行うと特徴量の数が変化します。どのように変化するかは以下の数式から求められます。パディングやストライドも含めています。この計算を行う関数を作成してください。\n",
    "$$\n",
    "N_{out} =  \\frac{N_{in}+2P-F}{S} + 1\\\\\n",
    "$$\n",
    "\n",
    "$N_{out}$ : 出力のサイズ（特徴量の数）\n",
    "\n",
    "$N_{in}$ : 入力のサイズ（特徴量の数）\n",
    "\n",
    "$P$ : ある方向へのパディングの数\n",
    "\n",
    "$F$ : フィルタのサイズ\n",
    "\n",
    "$S$ : ストライドのサイズ"
   ]
  },
  {
   "cell_type": "code",
   "execution_count": 5,
   "metadata": {},
   "outputs": [],
   "source": [
    "def calc_output_nums(input_nums, pad_nums, filter_sizes, stride_sizes):\n",
    "    output_nums = (input_nums + 2*pad_nums - filter_sizes) // stride_sizes + 1\n",
    "    return output_nums"
   ]
  },
  {
   "cell_type": "markdown",
   "metadata": {},
   "source": [
    "### 【問題3】小さな配列での1次元畳み込み層の実験\n",
    "次に示す小さな配列でフォワードプロパゲーションとバックプロパゲーションが正しく行えているか確認してください。\n",
    "\n",
    "入力x、重みw、バイアスbを次のようにします。"
   ]
  },
  {
   "cell_type": "code",
   "execution_count": 6,
   "metadata": {},
   "outputs": [],
   "source": [
    "# x = np.array([1,2,3,4])\n",
    "# w = np.array([3, 5, 7])\n",
    "# b = np.array([1])"
   ]
  },
  {
   "cell_type": "code",
   "execution_count": 7,
   "metadata": {},
   "outputs": [],
   "source": [
    "initializer=None\n",
    "optimizer=SGD_simple()\n",
    "input_channels =1\n",
    "filter_sizes=3\n",
    "simple_conv1d = SimpleConv1d(input_channels, filter_sizes, initializer, optimizer)"
   ]
  },
  {
   "cell_type": "code",
   "execution_count": 8,
   "metadata": {},
   "outputs": [
    {
     "data": {
      "text/plain": [
       "(array([3, 5, 7]), array([1]))"
      ]
     },
     "execution_count": 8,
     "metadata": {},
     "output_type": "execute_result"
    }
   ],
   "source": [
    "simple_conv1d.W, simple_conv1d.B"
   ]
  },
  {
   "cell_type": "markdown",
   "metadata": {},
   "source": [
    "フォワードプロパゲーションをすると出力は次のようになります。"
   ]
  },
  {
   "cell_type": "code",
   "execution_count": 9,
   "metadata": {},
   "outputs": [],
   "source": [
    "# a = np.array([35, 50])"
   ]
  },
  {
   "cell_type": "code",
   "execution_count": 10,
   "metadata": {},
   "outputs": [
    {
     "data": {
      "text/plain": [
       "array([35., 50.])"
      ]
     },
     "execution_count": 10,
     "metadata": {},
     "output_type": "execute_result"
    }
   ],
   "source": [
    "# フォワードプロぱゲーション\n",
    "X = np.array([1, 2, 3, 4])\n",
    "simple_conv1d.forward(X)"
   ]
  },
  {
   "cell_type": "markdown",
   "metadata": {},
   "source": [
    "次にバックプロパゲーションを考えます。誤差は次のようであったとします。"
   ]
  },
  {
   "cell_type": "code",
   "execution_count": 11,
   "metadata": {},
   "outputs": [],
   "source": [
    "# delta_a = np.array([10, 20])"
   ]
  },
  {
   "cell_type": "markdown",
   "metadata": {},
   "source": [
    "バックプロパゲーションをすると次のような値になります。"
   ]
  },
  {
   "cell_type": "code",
   "execution_count": 12,
   "metadata": {},
   "outputs": [],
   "source": [
    "# delta_b = np.array([30])\n",
    "# delta_w = np.array([50, 80, 110])\n",
    "# delta_x = np.array([30, 110, 170, 140])"
   ]
  },
  {
   "cell_type": "code",
   "execution_count": 13,
   "metadata": {},
   "outputs": [
    {
     "name": "stdout",
     "output_type": "stream",
     "text": [
      "(4,) [ 30. 110. 170. 140.]\n",
      "() 30\n",
      "(3,) [ 50.  80. 110.]\n"
     ]
    },
    {
     "data": {
      "text/plain": [
       "array([ 30., 110., 170., 140.])"
      ]
     },
     "execution_count": 13,
     "metadata": {},
     "output_type": "execute_result"
    }
   ],
   "source": [
    "# バックプロパゲーション \n",
    "dA = np.array([10, 20])\n",
    "simple_conv1d.backward(dA, X)"
   ]
  },
  {
   "cell_type": "markdown",
   "metadata": {},
   "source": [
    "### 実装上の工夫\n",
    "畳み込みを実装する場合は、まずはfor文を重ねていく形で構いません。しかし、できるだけ計算は効率化させたいため、以下の式を一度に計算する方法を考えることにします。\n",
    "$$\n",
    "a_i = \\sum_{s=0}^{F-1}x_{(i+s)}w_s+b\n",
    "$$\n",
    "バイアス項は単純な足し算のため、重みの部分を見ます。\n",
    "$$\n",
    "\\sum_{s=0}^{F-1}x_{(i+s)}w_s\n",
    "$$\n",
    "これは、xの一部を取り出した配列とwの配列の内積です。具体的な状況を考えると、以下のようなコードで計算できます。この例では流れを分かりやすくするために、各要素同士でアダマール積を計算してから合計を計算しています。これは結果的に内積と同様です。"
   ]
  },
  {
   "cell_type": "code",
   "execution_count": 14,
   "metadata": {},
   "outputs": [],
   "source": [
    "# x = np.array([1, 2, 3, 4])\n",
    "# w = np.array([3, 5, 7])\n",
    "# a = np.empty((2, 3))\n",
    "# indexes0 = np.array([0, 1, 2]).astype(np.int)\n",
    "# indexes1 = np.array([1, 2, 3]).astype(np.int)\n",
    "# a[0] = x[indexes0]*w # x[indexes0]は([1, 2, 3])である\n",
    "# a[1] = x[indexes1]*w # x[indexes1]は([2, 3, 4])である\n",
    "# a = a.sum(axis=1) # array([34., 49.,])"
   ]
  },
  {
   "cell_type": "markdown",
   "metadata": {},
   "source": [
    "ndarrayは配列を使ったインデックス指定ができることを利用した方法です。\n",
    "\n",
    "また、二次元配列を使えば一次元配列から二次元配列が取り出せます。"
   ]
  },
  {
   "cell_type": "code",
   "execution_count": 15,
   "metadata": {},
   "outputs": [],
   "source": [
    "# x = np.array([1, 2, 3, 4])\n",
    "# indexes = np.array([[0, 1, 2], [1, 2, 3]]).astype(np.int)\n",
    "# print(x[indexes]) # ([[1, 2, 3], [2, 3, 4]])"
   ]
  },
  {
   "cell_type": "markdown",
   "metadata": {},
   "source": [
    "このこととブロードキャストなどをうまく組み合わせることで、一度にまとめて計算することも可能です。\n",
    "\n",
    "畳み込みの計算方法に正解はないので、自分なりに効率化していってください。\n",
    "\n",
    "**《参考》**\n",
    "\n",
    "以下のページのInteger array indexingの部分がこの方法についての記述です。\n",
    "\n",
    "[Indexing — NumPy v1.17 Manual](https://docs.scipy.org/doc/numpy/reference/arrays.indexing.html)"
   ]
  },
  {
   "cell_type": "markdown",
   "metadata": {},
   "source": [
    "### 【問題4】チャンネル数を限定しない1次元畳み込み層クラスの作成\n",
    "チャンネル数を1に限定しない1次元畳み込み層のクラスConv1dを作成してください。"
   ]
  },
  {
   "cell_type": "markdown",
   "metadata": {},
   "source": [
    "例えば以下のようなx, w, bがあった場合は、"
   ]
  },
  {
   "cell_type": "code",
   "execution_count": 16,
   "metadata": {},
   "outputs": [],
   "source": [
    "# x = np.array([[1, 2, 3, 4], [2, 3, 4, 5]]) # shape(2, 4)で、（入力チャンネル数、特徴量数）である。\n",
    "# w = np.ones((3, 2, 3)) # 例の簡略化のため全て1とする。(出力チャンネル数、入力チャンネル数、フィルタサイズ)である。\n",
    "# b = np.array([1, 2, 3]) # （出力チャンネル数）"
   ]
  },
  {
   "cell_type": "markdown",
   "metadata": {},
   "source": [
    "出力は次のようになります。"
   ]
  },
  {
   "cell_type": "code",
   "execution_count": 17,
   "metadata": {},
   "outputs": [],
   "source": [
    "# a = np.array([[16, 22], [17, 23], [18, 24]]) # shape(3, 2)で、（出力チャンネル数、特徴量数）である。"
   ]
  },
  {
   "cell_type": "markdown",
   "metadata": {},
   "source": [
    "入力が2チャンネル、出力が3チャンネルの例です。計算グラフを書いた上で、バックプロパゲーションも手計算で考えてみましょう。計算グラフの中には和と積しか登場しないので、微分を新たに考える必要はありません。"
   ]
  },
  {
   "cell_type": "markdown",
   "metadata": {},
   "source": [
    "**《補足》**\n",
    "\n",
    "チャンネル数を加える場合、配列をどういう順番にするかという問題があります。`(バッチサイズ、チャンネル数、特徴量数)`または`(バッチサイズ、特徴量数、チャンネル数)`が一般的で、ライブラリによって順番は異なっています。（切り替えて使用できるものもあります）\n",
    "\n",
    "今回のスクラッチでは自身の実装上どちらが効率的かを考えて選んでください。上記の例ではバッチサイズは考えておらず、`(チャンネル数、特徴量数)`です。"
   ]
  },
  {
   "cell_type": "markdown",
   "metadata": {},
   "source": [
    "- 以下作成ではバッチサイズを考慮して(バッチサイズ、チャンネル数、特徴量数)で実装"
   ]
  },
  {
   "cell_type": "code",
   "execution_count": 18,
   "metadata": {},
   "outputs": [],
   "source": [
    "class Conv1d:\n",
    "    \"\"\"\n",
    "    チャンネル数を限定しない1次元畳み込み層\n",
    "    Parameters\n",
    "    ----------\n",
    "    initializer : 初期化方法のインスタンス\n",
    "    optimizer : 最適化手法のインスタンス\n",
    "    input_channels : int\n",
    "      入力のチャンネル数\n",
    "    output_channels : int\n",
    "      出力のチャンネル数\n",
    "    filter _sizes : int\n",
    "      フィルタのサイズ\n",
    "    stride_sizes : int\n",
    "      スライドのサイズ\n",
    "    padding : int　or 'SAME' or 'VALID'\n",
    "      ある方向へのパディングする数\n",
    "    \"\"\"\n",
    "    \n",
    "    def __init__(self, input_channels, output_channels, filter_sizes, stride_sizes, padding, initializer, optimizer):\n",
    "        self.input_channels = input_channels\n",
    "        self.output_channels = output_channels\n",
    "        self.filter_sizes = filter_sizes\n",
    "        self.stride_sizes = stride_sizes\n",
    "        self.padding = padding\n",
    "        self.optimizer = optimizer\n",
    "        # initializerのメソッドを使い、self.Wとself.Bを初期化する\n",
    "        if initializer is None:\n",
    "            self.W = np.ones((self.output_channels, self.input_channels, self.filter_sizes))\n",
    "            self.B = np.arange(1, self.output_channels+1)\n",
    "        \n",
    "        # self.W = initializer.W(input_channels, output_channels, strides)\n",
    "        # self.B = initializer.B(output_channels)\n",
    "    \n",
    "    def zero_padding_1d(self, X):\n",
    "        if self.padding == 'SAME':\n",
    "            input_nums = X.shape[-1]\n",
    "            self.pad_nums = int(np.ceil((self.stride_sizes * (input_nums-1) - input_nums + self.filter_sizes) / 2))\n",
    "        elif self.padding == 'VALID':\n",
    "            self.pad_nums = 0\n",
    "        else:\n",
    "            self.pad_nums = self.padding\n",
    "        pad_width = [(0, 0) for _ in range(X.ndim-1)] + [(self.pad_nums, self.pad_nums)]\n",
    "        return np.pad(X, pad_width, 'constant')\n",
    "    \n",
    "#     def calc_output_nums(input_nums, pad_nums, filter_sizes, stride_sizes):\n",
    "#         output_nums = (input_nums + 2*pad_nums - filter_sizes) // stride_sizes + 1\n",
    "#         return output_nums\n",
    "\n",
    "    def calc_output_nums(self, input_nums):\n",
    "        output_nums = (input_nums + 2*self.pad_nums - self.filter_sizes) // self.stride_sizes + 1\n",
    "        return output_nums\n",
    "    \n",
    "    def forward(self, X):\n",
    "        \"\"\"\n",
    "        フォワード\n",
    "        Parameters\n",
    "        ----------\n",
    "        X : 次の形のndarray, shape (batch_size, input_channels, input_nums)\n",
    "            入力\n",
    "        Returns\n",
    "        ----------\n",
    "        A : 次の形のndarray, shape (batch_size, output_channels, output_nums)\n",
    "            出力\n",
    "        \"\"\"\n",
    "        # print('フォワードプロパゲーション')\n",
    "        self.input_nums = X.shape[-1]\n",
    "        \n",
    "        # パディングの処理\n",
    "        X = self.zero_padding_1d(X)\n",
    "        \n",
    "        # 出力する特徴量数を計算\n",
    "        output_nums = self.calc_output_nums(input_nums)\n",
    "        # output_nums = self.calc_output_nums(input_nums, self.pad_nums, self.filter_sizes, self.stride_sizes)\n",
    "\n",
    "        # 畳み込みで計算するインデックスを計算\n",
    "        indexes = np.array([[i for i in range(j * self.stride_sizes , self.filter_sizes + j * self.stride_sizes)] for j in range(output_nums)])\n",
    "        \n",
    "        # 畳み込みを実施\n",
    "        # input_channels, filter_sizesの軸に沿ってtensordot\n",
    "        calc = np.tensordot(X[..., indexes], self.W, axes=([1, 3], [1, 2]))\n",
    "        A = calc.transpose(0, 2, 1) + self.B[:, np.newaxis]\n",
    "        \n",
    "        return A\n",
    "    \n",
    "    def backward(self, dA, X):\n",
    "        \"\"\"\n",
    "        バックワード\n",
    "        Parameters\n",
    "        ----------\n",
    "        dA : 次の形のndarray, shape (self.output_channels, output_nums)\n",
    "            後ろから流れてきた勾配\n",
    "        X : 次の形のndarray, shape (self.batch_size, self.input_channles, input_nums)\n",
    "            入力データ\n",
    "        Returns\n",
    "        ----------\n",
    "        dZ : 次の形のndarray, shape (batch_size, n_nodes1)\n",
    "            前に流す勾配\n",
    "        \"\"\"\n",
    "        # print('バックプロパゲーション ')\n",
    "        # dZを計算\n",
    "        # 2はinput_channels, 4はfilter_sizes + N_out - 1    \n",
    "        batch_size = X.shape[0]\n",
    "        N_out = dA.shape[-1]\n",
    "        # N_in = self.stride_sizes * (N_out-1) - 2*self.pad_nums + self.filter_sizes\n",
    "        dX = np.zeros((batch_size, self.input_channels, max(self.filter_sizes+N_out-1, self.input_nums)))\n",
    "        \n",
    "        calc = np.tensordot(dA, self.W, axes=([1], [0]))\n",
    "        # 2はN_out\n",
    "        for i in range(N_out):\n",
    "            dX[..., i:i+self.filter_sizes] += calc[:, i]\n",
    "        dX = dX[..., 0:self.input_nums]\n",
    "        # 更新\n",
    "        self = self.optimizer.update(self, dA, X)\n",
    "        return dX"
   ]
  },
  {
   "cell_type": "markdown",
   "metadata": {},
   "source": [
    "- optimizer"
   ]
  },
  {
   "cell_type": "code",
   "execution_count": 19,
   "metadata": {},
   "outputs": [],
   "source": [
    "class SGD:\n",
    "    \"\"\"\n",
    "    確率的勾配降下法\n",
    "    Parameters\n",
    "    ----------\n",
    "    lr : 学習率\n",
    "    \"\"\"\n",
    "    def __init__(self, lr=0.001):\n",
    "        self.lr = lr\n",
    "    def update(self, layer, dA, X):\n",
    "        \"\"\"\n",
    "        ある層の重みやバイアスの更新\n",
    "        Parameters\n",
    "        ----------\n",
    "        layer : 更新前の層のインスタンス\n",
    "        dA : 次の形のndarray, shape (self.batch_size, self.output_channels, output_nums)\n",
    "            後ろから流れてきた勾配\n",
    "        X : 次の形のndarray, shape (self.batch_size, self.input_channles, input_nums)\n",
    "            入力データ\n",
    "        \"\"\"\n",
    "        # 各勾配の計算\n",
    "        # dAのbatch_size, N_outの軸に沿って合計する\n",
    "        axis = dA.ndim-1\n",
    "        dB = dA.sum(axis=axis).sum(axis=0)\n",
    "        print('dB', dB.shape, dB)\n",
    "        \n",
    "        # 3　はfilter_size, 2は出力のサイズ(N_out)\n",
    "        output_nums = dA.shape[-1]\n",
    "        \n",
    "        # パディングの処理\n",
    "        X = layer.zero_padding_1d(X)\n",
    "        \n",
    "        # 計算するためのインデックスを取得\n",
    "        indexes = np.array([[i for i in range(j, layer.stride_sizes * output_nums + j, layer.stride_sizes)] for j in range(layer.filter_sizes)])        \n",
    "        \n",
    "        # dW　の計算\n",
    "        dW = np.tensordot(dA, X[..., indexes], axes=([0, 2], [0, 3]))\n",
    "        print('dW', dW.shape, dW)\n",
    "\n",
    "        # バイアス、重みの更新\n",
    "        layer.B = layer.B - dB * self.lr\n",
    "        layer.W = layer.W - dW * self.lr"
   ]
  },
  {
   "cell_type": "code",
   "execution_count": 20,
   "metadata": {},
   "outputs": [],
   "source": [
    "input_channels = 2\n",
    "output_channels = 3\n",
    "filter_sizes = 3\n",
    "stride_sizes = 1\n",
    "padding = 0\n",
    "initializer = None \n",
    "optimizer = SGD()\n",
    "conv1d = Conv1d(input_channels, output_channels, filter_sizes, stride_sizes, padding, initializer, optimizer)"
   ]
  },
  {
   "cell_type": "markdown",
   "metadata": {},
   "source": [
    "- 初期化した重みの確認"
   ]
  },
  {
   "cell_type": "code",
   "execution_count": 21,
   "metadata": {},
   "outputs": [
    {
     "data": {
      "text/plain": [
       "(array([[[1., 1., 1.],\n",
       "         [1., 1., 1.]],\n",
       " \n",
       "        [[1., 1., 1.],\n",
       "         [1., 1., 1.]],\n",
       " \n",
       "        [[1., 1., 1.],\n",
       "         [1., 1., 1.]]]),\n",
       " array([1, 2, 3]))"
      ]
     },
     "execution_count": 21,
     "metadata": {},
     "output_type": "execute_result"
    }
   ],
   "source": [
    "# インスタンス変数を呼び出す\n",
    "conv1d.W, conv1d.B"
   ]
  },
  {
   "cell_type": "markdown",
   "metadata": {},
   "source": [
    "#### フォワードプロパゲーション\n",
    "\n",
    "$a_i = \\sum_{s=0}^{F-1}x_{(i+s)}w_s+b$"
   ]
  },
  {
   "cell_type": "code",
   "execution_count": 22,
   "metadata": {},
   "outputs": [
    {
     "data": {
      "text/plain": [
       "(1, 2, 4)"
      ]
     },
     "execution_count": 22,
     "metadata": {},
     "output_type": "execute_result"
    }
   ],
   "source": [
    "X = np.array([[[1, 2, 3, 4], [2, 3, 4, 5]]])\n",
    "# X = np.arange(32).reshape(batch_size, input_channels, 4)\n",
    "local_X = deepcopy(X)\n",
    "X.shape #　batch_size, input_channels, n_features"
   ]
  },
  {
   "cell_type": "markdown",
   "metadata": {},
   "source": [
    "- 出力数の計算"
   ]
  },
  {
   "cell_type": "code",
   "execution_count": 23,
   "metadata": {},
   "outputs": [],
   "source": [
    "input_nums = X.shape[-1]"
   ]
  },
  {
   "cell_type": "code",
   "execution_count": 24,
   "metadata": {},
   "outputs": [
    {
     "data": {
      "text/plain": [
       "2"
      ]
     },
     "execution_count": 24,
     "metadata": {},
     "output_type": "execute_result"
    }
   ],
   "source": [
    "# 問題２で作成した関数を呼び出す\n",
    "N_out = calc_output_nums(input_nums=input_nums, pad_nums=padding, filter_sizes=filter_sizes, stride_sizes=stride_sizes)\n",
    "N_out"
   ]
  },
  {
   "cell_type": "markdown",
   "metadata": {},
   "source": [
    "- 畳み込み計算するインデックスの取得し、最後の軸に沿ってXにインデックスを代入"
   ]
  },
  {
   "cell_type": "code",
   "execution_count": 25,
   "metadata": {},
   "outputs": [
    {
     "data": {
      "text/plain": [
       "array([[0, 1, 2],\n",
       "       [1, 2, 3]])"
      ]
     },
     "execution_count": 25,
     "metadata": {},
     "output_type": "execute_result"
    }
   ],
   "source": [
    "indexes = np.array([[i for i in range(j, filter_sizes+j)] for j in range(N_out)])\n",
    "indexes"
   ]
  },
  {
   "cell_type": "code",
   "execution_count": 26,
   "metadata": {},
   "outputs": [
    {
     "name": "stdout",
     "output_type": "stream",
     "text": [
      "[[[[1 2 3]\n",
      "   [2 3 4]]\n",
      "\n",
      "  [[2 3 4]\n",
      "   [3 4 5]]]]\n",
      "(1, 2, 2, 3)\n",
      "(batch_size, input_channels, N_out, filter_sizes)\n"
     ]
    }
   ],
   "source": [
    "print(local_X[...,indexes])\n",
    "print(local_X[...,indexes].shape)\n",
    "print('(batch_size, input_channels, N_out, filter_sizes)')"
   ]
  },
  {
   "cell_type": "markdown",
   "metadata": {},
   "source": [
    "- 畳み込み計算の実行"
   ]
  },
  {
   "cell_type": "code",
   "execution_count": 27,
   "metadata": {},
   "outputs": [
    {
     "name": "stdout",
     "output_type": "stream",
     "text": [
      "(3, 2, 3)\n",
      "(output_channels, input_channels, filter_sizes)\n"
     ]
    }
   ],
   "source": [
    "print(conv1d.W.shape)\n",
    "print('(output_channels, input_channels, filter_sizes)')"
   ]
  },
  {
   "cell_type": "code",
   "execution_count": 28,
   "metadata": {},
   "outputs": [
    {
     "name": "stdout",
     "output_type": "stream",
     "text": [
      "[[[15. 15. 15.]\n",
      "  [21. 21. 21.]]]\n",
      "(1, 2, 3)\n",
      "(batch_size, N_out, output_channels, )\n"
     ]
    }
   ],
   "source": [
    "# input_channels, filter_sizesの軸に沿ってtensordot\n",
    "calc = np.tensordot(local_X[..., indexes], conv1d.W, axes=([1, 3], [1, 2]))\n",
    "print(calc)\n",
    "print(calc.shape)\n",
    "print('(batch_size, N_out, output_channels, )')"
   ]
  },
  {
   "cell_type": "markdown",
   "metadata": {},
   "source": [
    "- shapeが合うように転置して、バイアスを足す"
   ]
  },
  {
   "cell_type": "code",
   "execution_count": 29,
   "metadata": {},
   "outputs": [
    {
     "name": "stdout",
     "output_type": "stream",
     "text": [
      "[[[16. 22.]\n",
      "  [17. 23.]\n",
      "  [18. 24.]]]\n",
      "(1, 3, 2)\n",
      "(batch_size, output_channels, N_out)\n"
     ]
    }
   ],
   "source": [
    "A = calc.transpose(0, 2, 1) + conv1d.B[:, np.newaxis]\n",
    "print(A)\n",
    "print(A.shape)\n",
    "print('(batch_size, output_channels, N_out)')"
   ]
  },
  {
   "cell_type": "code",
   "execution_count": 30,
   "metadata": {},
   "outputs": [],
   "source": [
    "# input_channels, filter_sizesの軸に沿ってtensordot\n",
    "calc = np.tensordot(local_X[..., indexes], conv1d.W, axes=([1, 3], [1, 2]))\n",
    "A = calc.transpose(0, 2, 1) + conv1d.B[:, np.newaxis]"
   ]
  },
  {
   "cell_type": "markdown",
   "metadata": {},
   "source": [
    "- 上記処理をクラスへ追加し、クラスオブジェクトで実行確認"
   ]
  },
  {
   "cell_type": "code",
   "execution_count": 31,
   "metadata": {},
   "outputs": [
    {
     "data": {
      "text/plain": [
       "array([[[16., 22.],\n",
       "        [17., 23.],\n",
       "        [18., 24.]]])"
      ]
     },
     "execution_count": 31,
     "metadata": {},
     "output_type": "execute_result"
    }
   ],
   "source": [
    "# クラスオブジェクトで実行確認\n",
    "A = conv1d.forward(X)\n",
    "A"
   ]
  },
  {
   "cell_type": "markdown",
   "metadata": {},
   "source": [
    "#### バックプロパゲーション "
   ]
  },
  {
   "cell_type": "markdown",
   "metadata": {},
   "source": [
    "- dAはとりあえず上記で計算したAを使う"
   ]
  },
  {
   "cell_type": "code",
   "execution_count": 32,
   "metadata": {},
   "outputs": [
    {
     "name": "stdout",
     "output_type": "stream",
     "text": [
      "[[[16. 22.]\n",
      "  [17. 23.]\n",
      "  [18. 24.]]]\n",
      "(1, 3, 2)\n",
      "(batch_size, output_channels, N_out)\n"
     ]
    }
   ],
   "source": [
    "dA = A\n",
    "print(dA)\n",
    "print(dA.shape)\n",
    "print('(batch_size, output_channels, N_out)')"
   ]
  },
  {
   "cell_type": "markdown",
   "metadata": {},
   "source": [
    "- dBを計算\n",
    "\n",
    "$\\frac{\\partial L}{\\partial b} = \\sum_{i=0}^{N_{out}-1} \\frac{\\partial L}{\\partial a_i}$"
   ]
  },
  {
   "cell_type": "code",
   "execution_count": 33,
   "metadata": {},
   "outputs": [
    {
     "name": "stdout",
     "output_type": "stream",
     "text": [
      "[38. 40. 42.]\n",
      "(3,)\n",
      "(output_channels, )\n"
     ]
    }
   ],
   "source": [
    "# dAのbatch_size, N_outの軸に沿って合計する\n",
    "axis = dA.ndim-1\n",
    "dB = dA.sum(axis=axis).sum(axis=0)\n",
    "print(dB)\n",
    "print(dB.shape)\n",
    "print('(output_channels, )')"
   ]
  },
  {
   "cell_type": "markdown",
   "metadata": {},
   "source": [
    "- dWを計算\n",
    "\n",
    "$\\frac{\\partial L}{\\partial w_s} = \\sum_{i=0}^{N_{out}-1} \\frac{\\partial L}{\\partial a_i}x_{(i+s)}\\$"
   ]
  },
  {
   "cell_type": "code",
   "execution_count": 34,
   "metadata": {},
   "outputs": [
    {
     "data": {
      "text/plain": [
       "(array([[[1, 2, 3, 4],\n",
       "         [2, 3, 4, 5]]]),\n",
       " (1, 2, 4))"
      ]
     },
     "execution_count": 34,
     "metadata": {},
     "output_type": "execute_result"
    }
   ],
   "source": [
    "local_X, local_X.shape"
   ]
  },
  {
   "cell_type": "code",
   "execution_count": 35,
   "metadata": {},
   "outputs": [
    {
     "name": "stdout",
     "output_type": "stream",
     "text": [
      "[[0 1]\n",
      " [1 2]\n",
      " [2 3]]\n",
      "(3, 2)\n",
      "(filter_sizes, N_out)\n"
     ]
    }
   ],
   "source": [
    "# 計算するためのインデックスを取得\n",
    "indexes = np.array([[i for i in range(j, N_out+j)] for j in range(filter_sizes)])\n",
    "print(indexes)\n",
    "print(indexes.shape)\n",
    "print('(filter_sizes, N_out)')"
   ]
  },
  {
   "cell_type": "code",
   "execution_count": 36,
   "metadata": {},
   "outputs": [
    {
     "name": "stdout",
     "output_type": "stream",
     "text": [
      "[[[[1 2]\n",
      "   [2 3]\n",
      "   [3 4]]\n",
      "\n",
      "  [[2 3]\n",
      "   [3 4]\n",
      "   [4 5]]]]\n"
     ]
    }
   ],
   "source": [
    "# 計算するためのインデックスを取得\n",
    "indexes = np.array([[i for i in range(j, N_out+j)] for j in range(filter_sizes)])\n",
    "# indexをXの最後の軸に代入\n",
    "print(local_X[..., indexes])\n",
    "# dW　の計算\n",
    "dW = np.tensordot(dA, local_X[..., indexes], axes=([0, 2], [0, 3]))"
   ]
  },
  {
   "cell_type": "code",
   "execution_count": 37,
   "metadata": {},
   "outputs": [
    {
     "name": "stdout",
     "output_type": "stream",
     "text": [
      "[[[[1 2]\n",
      "   [2 3]\n",
      "   [3 4]]\n",
      "\n",
      "  [[2 3]\n",
      "   [3 4]\n",
      "   [4 5]]]]\n",
      "(1, 2, 3, 2)\n",
      "(batch_size, input_channels, filter_sizes, N_out, )\n"
     ]
    }
   ],
   "source": [
    "# indexをXの最後の軸に代入\n",
    "print(local_X[..., indexes])\n",
    "print((local_X[..., indexes]).shape)\n",
    "print('(batch_size, input_channels, filter_sizes, N_out, )')"
   ]
  },
  {
   "cell_type": "code",
   "execution_count": 38,
   "metadata": {},
   "outputs": [
    {
     "name": "stdout",
     "output_type": "stream",
     "text": [
      "[[[ 60.  98. 136.]\n",
      "  [ 98. 136. 174.]]\n",
      "\n",
      " [[ 63. 103. 143.]\n",
      "  [103. 143. 183.]]\n",
      "\n",
      " [[ 66. 108. 150.]\n",
      "  [108. 150. 192.]]]\n",
      "(3, 2, 3)\n",
      "(output_channels, input_channels, filter_sizes)\n"
     ]
    }
   ],
   "source": [
    "# dW　の計算\n",
    "dW = np.tensordot(dA, local_X[..., indexes], axes=([0, 2], [0, 3]))\n",
    "print(dW)\n",
    "print(dW.shape)\n",
    "print('(output_channels, input_channels, filter_sizes)')"
   ]
  },
  {
   "cell_type": "markdown",
   "metadata": {},
   "source": [
    "- dXを計算\n",
    "\n",
    "$\\frac{\\partial L}{\\partial x_j} = \\sum_{s=0}^{F-1} \\frac{\\partial L}{\\partial a_{(j-s)}}w_s$"
   ]
  },
  {
   "cell_type": "code",
   "execution_count": 39,
   "metadata": {},
   "outputs": [
    {
     "name": "stdout",
     "output_type": "stream",
     "text": [
      "[[[ 0  1  2]\n",
      "  [ 3  4  5]]\n",
      "\n",
      " [[ 6  7  8]\n",
      "  [ 9 10 11]]\n",
      "\n",
      " [[12 13 14]\n",
      "  [15 16 17]]]\n",
      "(3, 2, 3)\n",
      "output_channels, input_channels, filter_sizes\n"
     ]
    }
   ],
   "source": [
    "# filtersは適当なW\n",
    "filters = np.arange(output_channels*input_channels*filter_sizes).reshape(output_channels, input_channels, filter_sizes)\n",
    "print(filters)\n",
    "print(filters.shape)\n",
    "print('output_channels, input_channels, filter_sizes')"
   ]
  },
  {
   "cell_type": "code",
   "execution_count": 40,
   "metadata": {},
   "outputs": [
    {
     "name": "stdout",
     "output_type": "stream",
     "text": [
      "[[[16. 22.]\n",
      "  [17. 23.]\n",
      "  [18. 24.]]]\n",
      "(1, 3, 2)\n",
      "(batch_size, output_channels, N_out)\n"
     ]
    }
   ],
   "source": [
    "print(dA)\n",
    "print(dA.shape)\n",
    "print('(batch_size, output_channels, N_out)')"
   ]
  },
  {
   "cell_type": "code",
   "execution_count": 41,
   "metadata": {
    "scrolled": true
   },
   "outputs": [],
   "source": [
    "# filters.T, filters.T.shape"
   ]
  },
  {
   "cell_type": "code",
   "execution_count": 42,
   "metadata": {},
   "outputs": [
    {
     "name": "stdout",
     "output_type": "stream",
     "text": [
      "[[[[318. 369. 420.]\n",
      "   [471. 522. 573.]]\n",
      "\n",
      "  [[426. 495. 564.]\n",
      "   [633. 702. 771.]]]]\n",
      "(1, 2, 2, 3)\n",
      "(batch_size, N_out, input_channels, filter_sizes)\n"
     ]
    }
   ],
   "source": [
    "calc = np.tensordot(dA, filters, axes=([1], [0]))\n",
    "print(calc)\n",
    "print(calc.shape)\n",
    "print('(batch_size, N_out, input_channels, filter_sizes)')"
   ]
  },
  {
   "cell_type": "code",
   "execution_count": 43,
   "metadata": {},
   "outputs": [
    {
     "data": {
      "text/plain": [
       "4"
      ]
     },
     "execution_count": 43,
     "metadata": {},
     "output_type": "execute_result"
    }
   ],
   "source": [
    "N_in = stride_sizes * (N_out-1) - 2*padding + filter_sizes\n",
    "N_in"
   ]
  },
  {
   "cell_type": "code",
   "execution_count": 44,
   "metadata": {},
   "outputs": [
    {
     "data": {
      "text/plain": [
       "(array([[[ 318.,  795.,  915.,  564.],\n",
       "         [ 471., 1155., 1275.,  771.]]]),\n",
       " (1, 2, 4))"
      ]
     },
     "execution_count": 44,
     "metadata": {},
     "output_type": "execute_result"
    }
   ],
   "source": [
    "# 2はinput_channels, 4はfilter_sizes + N_out - 1\n",
    "batch_size = local_X.shape[0]\n",
    "dX = np.zeros((batch_size, input_channels, filter_sizes+N_out-1))\n",
    "\n",
    "# calc = np.dot(filters.T, dA).T\n",
    "calc = np.tensordot(dA, filters, axes=([1], [0]))\n",
    "# 2はN_out\n",
    "for i in range(N_out):\n",
    "    dX[..., i:i+filter_sizes] += calc[:, i]\n",
    "dX = dX[..., 0:N_in]\n",
    "dX, dX.shape"
   ]
  },
  {
   "cell_type": "code",
   "execution_count": 45,
   "metadata": {},
   "outputs": [
    {
     "data": {
      "text/plain": [
       "(array([[[ 51., 120., 120.,  69.],\n",
       "         [ 51., 120., 120.,  69.]]]),\n",
       " (1, 2, 4))"
      ]
     },
     "execution_count": 45,
     "metadata": {},
     "output_type": "execute_result"
    }
   ],
   "source": [
    "# すべて１のWで再度dXを計算\n",
    "# 2はinput_channels, 4はfilter_sizes + N_out - 1\n",
    "batch_size = local_X.shape[0]\n",
    "dX = np.zeros((batch_size, input_channels, filter_sizes+N_out-1))\n",
    "\n",
    "# calc = np.dot(conv1d.W.T, dA).T\n",
    "calc = np.tensordot(dA, conv1d.W, axes=([1], [0]))\n",
    "# 2はN_out\n",
    "for i in range(N_out):\n",
    "    dX[..., i:i+filter_sizes] += calc[:, i]\n",
    "dX = dX[..., 0:N_in]\n",
    "dX, dX.shape"
   ]
  },
  {
   "cell_type": "markdown",
   "metadata": {},
   "source": [
    "- 上記処理をクラスへ追加し、クラスオブジェクトで実行確認"
   ]
  },
  {
   "cell_type": "code",
   "execution_count": 46,
   "metadata": {
    "scrolled": false
   },
   "outputs": [
    {
     "name": "stdout",
     "output_type": "stream",
     "text": [
      "dB (3,) [38. 40. 42.]\n",
      "dW (3, 2, 3) [[[ 60.  98. 136.]\n",
      "  [ 98. 136. 174.]]\n",
      "\n",
      " [[ 63. 103. 143.]\n",
      "  [103. 143. 183.]]\n",
      "\n",
      " [[ 66. 108. 150.]\n",
      "  [108. 150. 192.]]]\n"
     ]
    },
    {
     "data": {
      "text/plain": [
       "array([[[ 51., 120., 120.,  69.],\n",
       "        [ 51., 120., 120.,  69.]]])"
      ]
     },
     "execution_count": 46,
     "metadata": {},
     "output_type": "execute_result"
    }
   ],
   "source": [
    "conv1d.backward(dA, X)"
   ]
  },
  {
   "cell_type": "markdown",
   "metadata": {},
   "source": [
    "### 【問題5】（アドバンス課題）パディングの実装\n",
    "\n",
    "畳み込み層にパディングの機能を加えてください。1次元配列の場合、前後にn個特徴量を増やせるようにしてください。\n",
    "\n",
    "最も単純なパディングは全て0で埋める **ゼロパディング** であり、CNNでは一般的です。他に端の値を繰り返す方法などもあります。\n",
    "\n",
    "フレームワークによっては、元の入力のサイズを保つようにという指定をすることができます。この機能も持たせておくと便利です。なお、NumPyにはパディングの関数が存在します。\n",
    "\n",
    "[numpy.pad — NumPy v1.17 Manual](https://docs.scipy.org/doc/numpy/reference/generated/numpy.pad.html)"
   ]
  },
  {
   "cell_type": "markdown",
   "metadata": {},
   "source": [
    "- パディングの処理"
   ]
  },
  {
   "cell_type": "code",
   "execution_count": 47,
   "metadata": {},
   "outputs": [],
   "source": [
    "def zero_padding_1d(X, padding):\n",
    "    if padding == 'SAME':\n",
    "        input_nums = X.shape[-1]\n",
    "        pad_nums = int(np.ceil((stride_sizes * (input_nums-1) - input_nums + filter_sizes) / 2))\n",
    "    elif padding == 'VALID':\n",
    "        pad_nums = 0\n",
    "    else:\n",
    "        pad_nums = padding\n",
    "    pad_width = [(0, 0) for _ in range(X.ndim-1)] + [(pad_nums, pad_nums)]\n",
    "    return np.pad(X, pad_width, 'constant')"
   ]
  },
  {
   "cell_type": "code",
   "execution_count": 48,
   "metadata": {
    "scrolled": true
   },
   "outputs": [
    {
     "data": {
      "text/plain": [
       "array([[[0, 1, 2, 3, 4, 0],\n",
       "        [0, 2, 3, 4, 5, 0]]])"
      ]
     },
     "execution_count": 48,
     "metadata": {},
     "output_type": "execute_result"
    }
   ],
   "source": [
    "zero_padding_1d(X, padding='SAME')"
   ]
  },
  {
   "cell_type": "code",
   "execution_count": 49,
   "metadata": {},
   "outputs": [
    {
     "data": {
      "text/plain": [
       "array([[[1, 2, 3, 4],\n",
       "        [2, 3, 4, 5]]])"
      ]
     },
     "execution_count": 49,
     "metadata": {},
     "output_type": "execute_result"
    }
   ],
   "source": [
    "zero_padding_1d(X, padding='VALID')"
   ]
  },
  {
   "cell_type": "code",
   "execution_count": 50,
   "metadata": {},
   "outputs": [
    {
     "data": {
      "text/plain": [
       "array([[[0, 0, 1, 2, 3, 4, 0, 0],\n",
       "        [0, 0, 2, 3, 4, 5, 0, 0]]])"
      ]
     },
     "execution_count": 50,
     "metadata": {},
     "output_type": "execute_result"
    }
   ],
   "source": [
    "zero_padding_1d(X, padding=2)"
   ]
  },
  {
   "cell_type": "markdown",
   "metadata": {},
   "source": [
    "- 上のクラスにパディング処理を追加して、フォワードプロパゲーション、バックプロパゲーションを実行"
   ]
  },
  {
   "cell_type": "code",
   "execution_count": 51,
   "metadata": {},
   "outputs": [],
   "source": [
    "input_channels = 2\n",
    "output_channels = 3\n",
    "filter_sizes = 3\n",
    "stride_sizes = 1\n",
    "padding = 'SAME'\n",
    "initializer = None \n",
    "optimizer = SGD()\n",
    "conv1d = Conv1d(input_channels, output_channels, filter_sizes, stride_sizes, padding, initializer, optimizer)"
   ]
  },
  {
   "cell_type": "code",
   "execution_count": 52,
   "metadata": {},
   "outputs": [
    {
     "data": {
      "text/plain": [
       "array([[[ 9., 16., 22., 17.],\n",
       "        [10., 17., 23., 18.],\n",
       "        [11., 18., 24., 19.]]])"
      ]
     },
     "execution_count": 52,
     "metadata": {},
     "output_type": "execute_result"
    }
   ],
   "source": [
    "A = conv1d.forward(X)\n",
    "A"
   ]
  },
  {
   "cell_type": "code",
   "execution_count": 53,
   "metadata": {},
   "outputs": [
    {
     "data": {
      "text/plain": [
       "4"
      ]
     },
     "execution_count": 53,
     "metadata": {},
     "output_type": "execute_result"
    }
   ],
   "source": [
    "calc_output_nums(input_nums=4, pad_nums=1, filter_sizes=3, stride_sizes=1)"
   ]
  },
  {
   "cell_type": "code",
   "execution_count": 54,
   "metadata": {},
   "outputs": [
    {
     "name": "stdout",
     "output_type": "stream",
     "text": [
      "dB (3,) [64. 68. 72.]\n",
      "dW (3, 2, 3) [[[111. 175. 154.]\n",
      "  [166. 239. 201.]]\n",
      "\n",
      " [[117. 185. 163.]\n",
      "  [175. 253. 213.]]\n",
      "\n",
      " [[123. 195. 172.]\n",
      "  [184. 267. 225.]]]\n"
     ]
    },
    {
     "data": {
      "text/plain": [
       "array([[[ 30.,  81., 150., 174.],\n",
       "        [ 30.,  81., 150., 174.]]])"
      ]
     },
     "execution_count": 54,
     "metadata": {},
     "output_type": "execute_result"
    }
   ],
   "source": [
    "dA = A\n",
    "conv1d.backward(dA, X)"
   ]
  },
  {
   "cell_type": "markdown",
   "metadata": {},
   "source": [
    "### 【問題6】（アドバンス課題）ミニバッチへの対応\n",
    "ここまでの課題はバッチサイズ1で良いとしてきました。しかし、実際は全結合層同様にミニバッチ学習が行われます。Conv1dクラスを複数のデータが同時に計算できるように変更してください。"
   ]
  },
  {
   "cell_type": "markdown",
   "metadata": {},
   "source": [
    "- 上のクラスにバッチ数を変更できる処理を追加して、フォワードプロパゲーション、バックプロパゲーションを実行"
   ]
  },
  {
   "cell_type": "code",
   "execution_count": 55,
   "metadata": {},
   "outputs": [],
   "source": [
    "# batch_size = 5\n",
    "input_channels = 2\n",
    "output_channels = 3\n",
    "filter_sizes = 3\n",
    "stride_sizes = 1\n",
    "padding = 0\n",
    "initializer = None \n",
    "optimizer = SGD()\n",
    "conv1d = Conv1d(input_channels, output_channels, filter_sizes, stride_sizes, padding, initializer, optimizer)"
   ]
  },
  {
   "cell_type": "code",
   "execution_count": 56,
   "metadata": {},
   "outputs": [],
   "source": [
    "batch5_X = np.arange(5*2*4).reshape(5, 2, 4)"
   ]
  },
  {
   "cell_type": "code",
   "execution_count": 57,
   "metadata": {},
   "outputs": [
    {
     "data": {
      "text/plain": [
       "(array([[[ 19.,  25.],\n",
       "         [ 20.,  26.],\n",
       "         [ 21.,  27.]],\n",
       " \n",
       "        [[ 67.,  73.],\n",
       "         [ 68.,  74.],\n",
       "         [ 69.,  75.]],\n",
       " \n",
       "        [[115., 121.],\n",
       "         [116., 122.],\n",
       "         [117., 123.]],\n",
       " \n",
       "        [[163., 169.],\n",
       "         [164., 170.],\n",
       "         [165., 171.]],\n",
       " \n",
       "        [[211., 217.],\n",
       "         [212., 218.],\n",
       "         [213., 219.]]]),\n",
       " (5, 3, 2))"
      ]
     },
     "execution_count": 57,
     "metadata": {},
     "output_type": "execute_result"
    }
   ],
   "source": [
    "A = conv1d.forward(batch5_X)\n",
    "A, A.shape"
   ]
  },
  {
   "cell_type": "code",
   "execution_count": 58,
   "metadata": {
    "scrolled": true
   },
   "outputs": [
    {
     "name": "stdout",
     "output_type": "stream",
     "text": [
      "dB (3,) [1180. 1190. 1200.]\n",
      "dW (3, 2, 3) [[[27165. 28345. 29525.]\n",
      "  [31885. 33065. 34245.]]\n",
      "\n",
      " [[27330. 28520. 29710.]\n",
      "  [32090. 33280. 34470.]]\n",
      "\n",
      " [[27495. 28695. 29895.]\n",
      "  [32295. 33495. 34695.]]]\n"
     ]
    },
    {
     "data": {
      "text/plain": [
       "array([[[  60.,  138.,  138.,   78.],\n",
       "        [  60.,  138.,  138.,   78.]],\n",
       "\n",
       "       [[ 204.,  426.,  426.,  222.],\n",
       "        [ 204.,  426.,  426.,  222.]],\n",
       "\n",
       "       [[ 348.,  714.,  714.,  366.],\n",
       "        [ 348.,  714.,  714.,  366.]],\n",
       "\n",
       "       [[ 492., 1002., 1002.,  510.],\n",
       "        [ 492., 1002., 1002.,  510.]],\n",
       "\n",
       "       [[ 636., 1290., 1290.,  654.],\n",
       "        [ 636., 1290., 1290.,  654.]]])"
      ]
     },
     "execution_count": 58,
     "metadata": {},
     "output_type": "execute_result"
    }
   ],
   "source": [
    "dA = A\n",
    "conv1d.backward(dA, batch5_X)"
   ]
  },
  {
   "cell_type": "markdown",
   "metadata": {},
   "source": [
    "### 【問題7】（アドバンス課題）任意のストライド数\n",
    "ストライドは1限定の実装をしてきましたが、任意のストライド数に対応できるようにしてください。"
   ]
  },
  {
   "cell_type": "markdown",
   "metadata": {},
   "source": [
    "- 上記実装にて、フォワードプロパゲーション、バックプロパゲーションを行う際にインデックスを参照してきたが、そのインデックスの取得の仕方に任意のストライド数を加味してインデックスを取得できるように実装を変更"
   ]
  },
  {
   "cell_type": "markdown",
   "metadata": {},
   "source": [
    "#### フォワードプロパゲーション"
   ]
  },
  {
   "cell_type": "markdown",
   "metadata": {},
   "source": [
    "- 変更前"
   ]
  },
  {
   "cell_type": "code",
   "execution_count": 59,
   "metadata": {},
   "outputs": [],
   "source": [
    "# indexes = np.array([[i for i in range(j, filter_sizes+j)] for j in range(N_out)])"
   ]
  },
  {
   "cell_type": "markdown",
   "metadata": {},
   "source": [
    "- 変更後"
   ]
  },
  {
   "cell_type": "code",
   "execution_count": 60,
   "metadata": {},
   "outputs": [],
   "source": [
    "# indexes = np.array([[i for i in range(j * stride_sizes, filter_sizes+(j * stride_sizes))] for j in range(N_out)])"
   ]
  },
  {
   "cell_type": "markdown",
   "metadata": {},
   "source": [
    "#### バックプロパゲーション"
   ]
  },
  {
   "cell_type": "markdown",
   "metadata": {},
   "source": [
    "- 変更前"
   ]
  },
  {
   "cell_type": "code",
   "execution_count": 61,
   "metadata": {},
   "outputs": [],
   "source": [
    "# indexes = np.array([[i for i in range(j, N_out+j)] for j in range(filter_sizes)])"
   ]
  },
  {
   "cell_type": "markdown",
   "metadata": {},
   "source": [
    "- 変更後"
   ]
  },
  {
   "cell_type": "code",
   "execution_count": 62,
   "metadata": {},
   "outputs": [],
   "source": [
    "# indexes = np.array([[i for i in range(j, stride_sizes　*　N_out　+　j, stride_sizes)] for j in range(filter_sizes)])"
   ]
  },
  {
   "cell_type": "markdown",
   "metadata": {},
   "source": [
    "- 上のクラスにストライド数を変更に対応する処理を追加して、フォワードプロパゲーション、バックプロパゲーションを実行"
   ]
  },
  {
   "cell_type": "code",
   "execution_count": 63,
   "metadata": {},
   "outputs": [],
   "source": [
    "input_channels = 2\n",
    "output_channels = 3\n",
    "filter_sizes = 3\n",
    "stride_sizes = 2\n",
    "padding = 0\n",
    "initializer = None \n",
    "optimizer = SGD()\n",
    "conv1d = Conv1d(input_channels, output_channels, filter_sizes, stride_sizes, padding, initializer, optimizer)"
   ]
  },
  {
   "cell_type": "code",
   "execution_count": 64,
   "metadata": {},
   "outputs": [],
   "source": [
    "X = np.array([[[1, 2, 3, 4], [2, 3, 4, 5]]])"
   ]
  },
  {
   "cell_type": "code",
   "execution_count": 65,
   "metadata": {},
   "outputs": [
    {
     "data": {
      "text/plain": [
       "array([[[16.],\n",
       "        [17.],\n",
       "        [18.]]])"
      ]
     },
     "execution_count": 65,
     "metadata": {},
     "output_type": "execute_result"
    }
   ],
   "source": [
    "A = conv1d.forward(X)\n",
    "A"
   ]
  },
  {
   "cell_type": "code",
   "execution_count": 66,
   "metadata": {
    "scrolled": true
   },
   "outputs": [
    {
     "name": "stdout",
     "output_type": "stream",
     "text": [
      "dB (3,) [16. 17. 18.]\n",
      "dW (3, 2, 3) [[[16. 32. 48.]\n",
      "  [32. 48. 64.]]\n",
      "\n",
      " [[17. 34. 51.]\n",
      "  [34. 51. 68.]]\n",
      "\n",
      " [[18. 36. 54.]\n",
      "  [36. 54. 72.]]]\n"
     ]
    },
    {
     "data": {
      "text/plain": [
       "array([[[51., 51., 51.,  0.],\n",
       "        [51., 51., 51.,  0.]]])"
      ]
     },
     "execution_count": 66,
     "metadata": {},
     "output_type": "execute_result"
    }
   ],
   "source": [
    "dA = A\n",
    "conv1d.backward(dA, X)"
   ]
  },
  {
   "cell_type": "markdown",
   "metadata": {},
   "source": [
    "## 3.検証\n",
    "### 【問題8】学習と推定\n",
    "これまで使ってきたニューラルネットワークの全結合層の一部をConv1dに置き換えてMNISTを学習・推定し、Accuracyを計算してください。\n",
    "\n",
    "出力層だけは全結合層をそのまま使ってください。ただし、チャンネルが複数ある状態では全結合層への入力は行えません。その段階でのチャンネルは1になるようにするか、 **平滑化** を行なってください。\n",
    "\n",
    "画像に対しての1次元畳み込みは実用上は行わないことのため、精度は問いません。"
   ]
  },
  {
   "cell_type": "markdown",
   "metadata": {},
   "source": [
    "- ミニバッチを取得するイテレータ"
   ]
  },
  {
   "cell_type": "code",
   "execution_count": 67,
   "metadata": {},
   "outputs": [],
   "source": [
    "class GetMiniBatch:\n",
    "    \"\"\"\n",
    "    ミニバッチを取得するイテレータ\n",
    "\n",
    "    Parameters\n",
    "    ----------\n",
    "    X : 次の形のndarray, shape (n_samples, n_features)\n",
    "      訓練データ\n",
    "    y : 次の形のndarray, shape (n_samples, 1)\n",
    "      正解値\n",
    "    batch_size : int\n",
    "      バッチサイズ\n",
    "    seed : int\n",
    "      NumPyの乱数のシード\n",
    "    \"\"\"\n",
    "    def __init__(self, X, y, batch_size=20, seed=0):\n",
    "        self.batch_size = batch_size\n",
    "        np.random.seed(seed)\n",
    "        shuffle_index = np.random.permutation(np.arange(X.shape[0]))\n",
    "        self._X = X[shuffle_index]\n",
    "        self._y = y[shuffle_index]\n",
    "        self._stop = np.ceil(X.shape[0]/self.batch_size).astype(np.int)\n",
    "    def __len__(self):\n",
    "        return self._stop\n",
    "    def __getitem__(self,item):\n",
    "        p0 = item*self.batch_size\n",
    "        p1 = item*self.batch_size + self.batch_size\n",
    "        return self._X[p0:p1], self._y[p0:p1]        \n",
    "    def __iter__(self):\n",
    "        self._counter = 0\n",
    "        return self\n",
    "    def __next__(self):\n",
    "        if self._counter >= self._stop:\n",
    "            raise StopIteration()\n",
    "        p0 = self._counter*self.batch_size\n",
    "        p1 = self._counter*self.batch_size + self.batch_size\n",
    "        self._counter += 1\n",
    "        return self._X[p0:p1], self._y[p0:p1]"
   ]
  },
  {
   "cell_type": "markdown",
   "metadata": {},
   "source": [
    "- Activation"
   ]
  },
  {
   "cell_type": "code",
   "execution_count": 68,
   "metadata": {},
   "outputs": [],
   "source": [
    "class Sigmoid():\n",
    "    def forward(self, A):\n",
    "        self.A = A\n",
    "        Z = 1.0 / (1.0 + np.exp(-self.A))\n",
    "        return Z\n",
    "    def backward(self, dZ):\n",
    "        # dZとアダマール計算する値\n",
    "        tmp =  (1.0 - self.forward(self.A)) * self.forward(self.A)\n",
    "        dA = dZ * tmp\n",
    "        return dA\n",
    "\n",
    "class Tanh():\n",
    "    def forward(self, A):\n",
    "        self.A = A\n",
    "        Z = np.tanh(self.A)\n",
    "        return Z\n",
    "    \n",
    "    def backward(self, dZ):\n",
    "        # dZとアダマール計算する値\n",
    "        tmp = 1.0 - np.power(self.forward(self.A), 2)\n",
    "        dA = dZ * tmp\n",
    "        return dA\n",
    "\n",
    "class ReLU():\n",
    "    def forward(self, A):\n",
    "        self.A = A\n",
    "        Z = np.maximum(self.A, 0)\n",
    "        return Z\n",
    "    def backward(self, dZ):\n",
    "        # dZとアダマール計算する値\n",
    "        tmp = np.where(self.A > 0, 1, 0)\n",
    "        dA = dZ * tmp\n",
    "        return dA\n",
    "    \n",
    "class Softmax():\n",
    "    def forward(self, A):\n",
    "        self.A = A\n",
    "        # オーバーフローを防ぐ\n",
    "        self.A -= np.max(self.A)\n",
    "        Z = np.exp(self.A) / np.exp(self.A).sum(axis=1)[:, np.newaxis]\n",
    "        return Z\n",
    "\n",
    "    def _cross_entropy_error(self, Z, y_label_one_hot):\n",
    "        error = -(np.log(Z) * y_label_one_hot).sum(axis=1).mean()\n",
    "        return error\n",
    "\n",
    "    def backward(self, Z, y_label_one_hot):\n",
    "        # 交差エントロピー誤差の計算\n",
    "        loss = self._cross_entropy_error(Z, y_label_one_hot)\n",
    "        # dA　の計算\n",
    "        dA = Z - y_label_one_hot\n",
    "        # dA, loss\n",
    "        return dA, loss"
   ]
  },
  {
   "cell_type": "markdown",
   "metadata": {},
   "source": [
    "- 畳み込み層"
   ]
  },
  {
   "cell_type": "code",
   "execution_count": 69,
   "metadata": {},
   "outputs": [],
   "source": [
    "class Conv1d:\n",
    "    \"\"\"\n",
    "    チャンネル数を限定しない1次元畳み込み層\n",
    "    Parameters\n",
    "    ----------\n",
    "    initializer : 初期化方法のインスタンス\n",
    "    optimizer : 最適化手法のインスタンス\n",
    "    input_channels : int\n",
    "      入力のチャンネル数\n",
    "    output_channels : int\n",
    "      出力のチャンネル数\n",
    "    filter _sizes : int\n",
    "      フィルタのサイズ\n",
    "    stride_sizes : int\n",
    "      スライドのサイズ\n",
    "    padding : int　or 'SAME' or 'VALID'\n",
    "      ある方向へのパディングする数\n",
    "    \"\"\"\n",
    "    \n",
    "    def __init__(self, input_channels, output_channels, filter_sizes, stride_sizes, padding, initializer, optimizer, act_instance):\n",
    "        self.input_channels = input_channels\n",
    "        self.output_channels = output_channels\n",
    "        self.filter_sizes = filter_sizes\n",
    "        self.stride_sizes = stride_sizes\n",
    "        self.padding = padding\n",
    "        self.optimizer = optimizer\n",
    "        # 活性化関数のインスタンス\n",
    "        self.act_instance = act_instance\n",
    "        # initializerのメソッドを使い、self.Wとself.Bを初期化する\n",
    "        self.W = initializer.W(self.output_channels, self.input_channels, self.filter_sizes)\n",
    "        self.B = initializer.B(output_channels)\n",
    "        # optimizerがAdagradの時に使う\n",
    "        # self.H_W = np.ones((input_channels, output_channels, stride_sizes))\n",
    "        self.H_W = np.ones((self.output_channels, self.input_channels, self.filter_sizes))\n",
    "        self.H_B = np.ones(output_channels)\n",
    "    \n",
    "    def padding_nums(self, input_nums):\n",
    "        if self.padding == 'SAME':\n",
    "            pad_nums = int(np.ceil((self.stride_sizes * (input_nums-1) - input_nums + self.filter_sizes) / 2))\n",
    "        elif self.padding == 'VALID':\n",
    "            pad_nums = 0\n",
    "        else:\n",
    "            pad_nums = self.padding\n",
    "        return pad_nums\n",
    "    \n",
    "    def zero_padding_1d(self, X):\n",
    "        input_nums = X.shape[-1]\n",
    "        self.pad_nums = self.padding_nums(input_nums)\n",
    "\n",
    "        pad_width = [(0, 0) for _ in range(X.ndim-1)] + [(self.pad_nums, self.pad_nums)]\n",
    "        return np.pad(X, pad_width, 'constant')\n",
    "    \n",
    "    def calc_output_nums(self, input_nums, pad_nums, filter_sizes, stride_sizes):\n",
    "        output_nums = (input_nums + 2*pad_nums - filter_sizes) // stride_sizes + 1\n",
    "        return output_nums\n",
    "    \n",
    "    def forward(self, X):\n",
    "        \"\"\"\n",
    "        フォワード\n",
    "        Parameters\n",
    "        ----------\n",
    "        X : 次の形のndarray, shape (batch_size, input_channels, input_nums)\n",
    "            入力\n",
    "        Returns\n",
    "        ----------\n",
    "        A : 次の形のndarray, shape (batch_size, output_channels, output_nums)\n",
    "            出力\n",
    "        \"\"\"\n",
    "        self.X = X\n",
    "        # print('フォワードプロパゲーション')\n",
    "        self.batch_size, _, self.input_nums = X.shape\n",
    "        # パディングの処理\n",
    "        self.X = self.zero_padding_1d(X)\n",
    "        \n",
    "        # 出力する特徴量数を計算\n",
    "        output_nums = self.calc_output_nums(self.input_nums, self.pad_nums, self.filter_sizes, self.stride_sizes)\n",
    "\n",
    "        # 畳み込みで計算するインデックスを計算\n",
    "        indexes = np.array([[i for i in range(j * self.stride_sizes , self.filter_sizes + j * self.stride_sizes)] for j in range(output_nums)])\n",
    "        \n",
    "        # 畳み込みを実施\n",
    "        calc = np.tensordot(self.X[..., indexes], self.W, axes=([1, 3], [1, 2]))\n",
    "        A = calc.transpose(0, 2, 1) + self.B[:, np.newaxis]\n",
    "        return A\n",
    "    \n",
    "    def backward(self, dA):\n",
    "        \"\"\"\n",
    "        バックワード\n",
    "        Parameters\n",
    "        ----------\n",
    "        dA : 次の形のndarray, shape (self.output_channels, output_nums)\n",
    "            後ろから流れてきた勾配\n",
    "        X : 次の形のndarray, shape (self.batch_size, self.input_channles, input_nums)\n",
    "            入力データ\n",
    "        Returns\n",
    "        ----------\n",
    "        dZ : 次の形のndarray, shape (batch_size, n_nodes1)\n",
    "            前に流す勾配\n",
    "        \"\"\"\n",
    "        # print('バックプロパゲーション ')\n",
    "        # dZを計算   \n",
    "        # batch_size = X.shape[0]\n",
    "        N_out = dA.shape[-1]\n",
    "        # dX = np.zeros((self.batch_size, self.input_channels, self.filter_sizes+N_out-1))\n",
    "        dX = np.zeros((self.batch_size, self.input_channels, max(self.filter_sizes+N_out-1, self.input_nums)))\n",
    "        \n",
    "        calc = np.tensordot(dA, self.W, axes=([1], [0]))\n",
    "        # 2はN_out\n",
    "        for i in range(N_out):\n",
    "            dX[..., i:i+self.filter_sizes] += calc[:, i]\n",
    "        dX = dX[..., 0:self.input_nums]\n",
    "        \n",
    "        # 更新\n",
    "        self = self.optimizer.update_Conv1d(self, dA)\n",
    "        return dX"
   ]
  },
  {
   "cell_type": "markdown",
   "metadata": {},
   "source": [
    "- initializer"
   ]
  },
  {
   "cell_type": "code",
   "execution_count": 70,
   "metadata": {},
   "outputs": [],
   "source": [
    "class SimpleInitializer:\n",
    "    \"\"\"\n",
    "    ガウス分布によるシンプルな初期化\n",
    "    Parameters\n",
    "    ----------\n",
    "    sigma : float\n",
    "      ガウス分布の標準偏差\n",
    "    \"\"\"\n",
    "    def __init__(self, sigma=0.01):\n",
    "        self.sigma = sigma\n",
    "    def W(self, *parameters):\n",
    "        \"\"\"\n",
    "        重みの初期化\n",
    "        Parameters\n",
    "        ----------\n",
    "        Conv1d\n",
    "            output_channels : int 出力チャネル数\n",
    "            input_channels : int 入力チャネル数\n",
    "            filter_sizes : int フィルター数\n",
    "        Affine\n",
    "            n_nodes1 : int 前の層のノード数\n",
    "            n_nodes2 : int 後の層のノード数\n",
    "        Returns\n",
    "        ----------\n",
    "        W : shape(*parameters)\n",
    "        \"\"\"\n",
    "        W = self.sigma * np.random.randn(*parameters)\n",
    "        return W\n",
    "    def B(self, output_channels):\n",
    "        \"\"\"\n",
    "        バイアスの初期化\n",
    "        Parameters\n",
    "        ----------\n",
    "        Conv1d\n",
    "            output_channels : int 出力チャネル数\n",
    "        Affine\n",
    "            n_node2 : int 後の層のノード数\n",
    "        Returns\n",
    "        ----------\n",
    "        B :\n",
    "        \"\"\"\n",
    "        B = self.sigma * np.random.randn(output_channels)\n",
    "        return B"
   ]
  },
  {
   "cell_type": "code",
   "execution_count": 71,
   "metadata": {},
   "outputs": [],
   "source": [
    "class XavierInitializer:\n",
    "    \"\"\"\n",
    "    Xavierによる初期化\n",
    "    Parameters\n",
    "    ----------\n",
    "    前の層のノード数の逆数の平方根を標準偏差とする分布\n",
    "    \"\"\"\n",
    "    def W(self, *parameters):\n",
    "        \"\"\"\n",
    "        重みの初期化\n",
    "        Parameters\n",
    "        ----------\n",
    "        Conv1d\n",
    "            output_channels : int 出力チャネル数\n",
    "            input_channels : int 入力チャネル数\n",
    "            filter_sizes : int フィルター数\n",
    "        Affine\n",
    "            n_nodes1 : int 前の層のノード数\n",
    "            n_nodes2 : int 後の層のノード数\n",
    "        Returns\n",
    "        ----------\n",
    "        W : shape(*parameters)\n",
    "        \"\"\"\n",
    "        if len(parameters) == 3:\n",
    "            sigma = np.sqrt(1 / parameters[1])\n",
    "        else:\n",
    "            sigma = np.sqrt(1 / parameters[0])\n",
    "        W = sigma * np.random.randn(*parameters)\n",
    "        return W\n",
    "        \n",
    "    def B(self, output_channels):\n",
    "        \"\"\"\n",
    "        バイアスの初期化\n",
    "        Parameters\n",
    "        ----------\n",
    "        Conv1d\n",
    "            output_channels : int 出力チャネル数\n",
    "        Affine\n",
    "            n_node2 : int 後の層のノード数\n",
    "        Returns\n",
    "        ----------\n",
    "        B :\n",
    "        \"\"\"\n",
    "        B = np.zeros(output_channels)\n",
    "        return B"
   ]
  },
  {
   "cell_type": "code",
   "execution_count": 72,
   "metadata": {},
   "outputs": [],
   "source": [
    "class HeInitializer:\n",
    "    \"\"\"\n",
    "    Heによる初期化\n",
    "    Parameters\n",
    "    ----------\n",
    "    前の層のノード数の逆数を２倍した平方根を標準偏差とする分布\n",
    "    \"\"\"\n",
    "    def W(self, *parameters):\n",
    "        \"\"\"\n",
    "        重みの初期化\n",
    "        Parameters\n",
    "        ----------\n",
    "        Conv1d\n",
    "            output_channels : int 出力チャネル数\n",
    "            input_channels : int 入力チャネル数\n",
    "            filter_sizes : int フィルター数\n",
    "        Affine\n",
    "            n_nodes1 : int 前の層のノード数\n",
    "            n_nodes2 : int 後の層のノード数\n",
    "        Returns\n",
    "        ----------\n",
    "        W : shape(*parameters)\n",
    "        \"\"\"\n",
    "        if len(parameters) == 3:\n",
    "            sigma = np.sqrt(2 / parameters[1])\n",
    "        else:\n",
    "            sigma = np.sqrt(2 / parameters[0])\n",
    "        W = sigma * np.random.randn(*parameters)\n",
    "        return W\n",
    "        \n",
    "    def B(self, output_channels):\n",
    "        \"\"\"\n",
    "        バイアスの初期化\n",
    "        Parameters\n",
    "        ----------\n",
    "        Conv1d\n",
    "            output_channels : int 出力チャネル数\n",
    "        Affine\n",
    "            n_node2 : int 後の層のノード数\n",
    "        Returns\n",
    "        ----------\n",
    "        B :\n",
    "        \"\"\"\n",
    "        B = np.zeros(output_channels)\n",
    "        return B"
   ]
  },
  {
   "cell_type": "markdown",
   "metadata": {},
   "source": [
    "- optimizer"
   ]
  },
  {
   "cell_type": "code",
   "execution_count": 73,
   "metadata": {},
   "outputs": [],
   "source": [
    "class SGD:\n",
    "    \"\"\"\n",
    "    確率的勾配降下法\n",
    "    Parameters\n",
    "    ----------\n",
    "    lr : 学習率\n",
    "    \"\"\"\n",
    "    def __init__(self, lr=0.001):\n",
    "        self.lr = lr\n",
    "    def update_Conv1d(self, layer, dA):\n",
    "        \"\"\"\n",
    "        Conv1d層の重みやバイアスの更新\n",
    "        Parameters\n",
    "        ----------\n",
    "        layer : 更新前の層のインスタンス\n",
    "        dA : 次の形のndarray, shape (self.batch_size, self.output_channels, output_nums)\n",
    "            後ろから流れてきた勾配\n",
    "        \"\"\"\n",
    "        # 各勾配の計算\n",
    "        # dAのbatch_size, N_outの軸に沿って合計する\n",
    "        axis = dA.ndim-1\n",
    "        dB = dA.sum(axis=axis).sum(axis=0)\n",
    "        \n",
    "        output_nums = dA.shape[-1]\n",
    "        \n",
    "        # 計算するためのインデックスを取得\n",
    "        indexes = np.array([[i for i in range(j, layer.stride_sizes * output_nums + j, layer.stride_sizes)] for j in range(layer.filter_sizes)])        \n",
    "        \n",
    "        # dW　の計算\n",
    "        dW = np.tensordot(dA, layer.X[..., indexes], axes=([0, 2], [0, 3]))\n",
    "        \n",
    "        # バイアス、重みの更新\n",
    "        layer.B = layer.B - dB * self.lr\n",
    "        layer.W = layer.W - dW * self.lr\n",
    "\n",
    "    def update_FC(self, layer, dA):\n",
    "        \"\"\"\n",
    "        ある層の重みやバイアスの更新\n",
    "        Parameters\n",
    "        ----------\n",
    "        layer : 更新前の層のインスタンス\n",
    "        dA : 後ろから流れてきた勾配\n",
    "        \"\"\"\n",
    "        # バイアスの更新\n",
    "        dB = dA.sum(axis=0)\n",
    "        layer.B -= dB * self.lr\n",
    "        # 重みの更新\n",
    "        dW = np.dot(layer.X.T, dA)\n",
    "        layer.W -= dW * self.lr"
   ]
  },
  {
   "cell_type": "code",
   "execution_count": 74,
   "metadata": {},
   "outputs": [],
   "source": [
    "class AdaGrad:\n",
    "    \"\"\"\n",
    "    更新された分だけ、その重みに対する学習率を下げていく\n",
    "    Parameters\n",
    "    --------\n",
    "    lr : 学習率\n",
    "    \"\"\"\n",
    "    def __init__(self, lr=0.001):\n",
    "        self.lr = lr\n",
    "    def update_Conv1d(self, layer, dA):\n",
    "        \"\"\"\n",
    "        Conv1d層の重みやバイアスの更新\n",
    "        Parameters\n",
    "        ----------\n",
    "        layer : 更新前の層のインスタンス\n",
    "        dA : 次の形のndarray, shape (self.batch_size, self.output_channels, output_nums)\n",
    "            後ろから流れてきた勾配\n",
    "        X : 次の形のndarray, shape (self.batch_size, self.input_channles, input_nums)\n",
    "            入力データ\n",
    "        H_B, H_W : class_Conv1dで初期値1で作成\n",
    "        \"\"\"\n",
    "        # 各勾配の計算\n",
    "        # dAのbatch_size, N_outの軸に沿って合計する\n",
    "        axis = dA.ndim-1\n",
    "        dB = dA.sum(axis=axis).sum(axis=0)\n",
    "        layer.H_B += np.power(dB, 2)\n",
    "        \n",
    "        output_nums = dA.shape[-1]\n",
    "        \n",
    "        # 計算するためのインデックスを取得\n",
    "        indexes = np.array([[i for i in range(j, layer.stride_sizes * output_nums + j, layer.stride_sizes)] for j in range(layer.filter_sizes)])        \n",
    "        \n",
    "        # dW　の計算\n",
    "        dW = np.tensordot(dA, layer.X[..., indexes], axes=([0, 2], [0, 3]))\n",
    "        layer.H_W += np.power(dW, 2)\n",
    "        \n",
    "        # バイアス、重みの更新\n",
    "        layer.B = layer.B - dB * self.lr / np.sqrt(layer.H_B)\n",
    "        layer.W = layer.W - dW * self.lr / np.sqrt(layer.H_W)\n",
    "\n",
    "    def update_FC(self, layer, dA):\n",
    "        \"\"\"\n",
    "        ある層の重みやバイアスの更新\n",
    "        Parameters\n",
    "        ----------\n",
    "        layer : 更新前の層のインスタンス\n",
    "        dA : 後ろから流れてきた勾配\n",
    "        H_B, H_W : class_FCで初期値1で作成\n",
    "        \"\"\"\n",
    "        # バイアスの更新\n",
    "        dB = dA.sum(axis=0)\n",
    "        layer.H_B += np.power(dB, 2)\n",
    "        layer.B -= dB * self.lr / np.sqrt(layer.H_B)\n",
    "        \n",
    "        # 重みの更新\n",
    "        dW = np.dot(layer.X.T, dA)\n",
    "        layer.H_W += np.power(dW, 2)\n",
    "        layer.W -= dW * self.lr / np.sqrt(layer.H_W)"
   ]
  },
  {
   "cell_type": "markdown",
   "metadata": {},
   "source": [
    "- 平滑化"
   ]
  },
  {
   "cell_type": "code",
   "execution_count": 75,
   "metadata": {},
   "outputs": [],
   "source": [
    "class Flatten:\n",
    "    \"\"\"\n",
    "    平滑化する処理\n",
    "    forwardのshape\n",
    "        self.forward(X) X: (batch_size, input_channels, output_nums)\n",
    "        return flat_X : (batch_size, input_channels * output_nums)\n",
    "    backwardのshape\n",
    "        self.backward(dX) dX: (batch_size, input_channels * output_nums)\n",
    "        return original_dX : (batch_size, input_channels, output_nums)\n",
    "    \"\"\"\n",
    "    def __init__(self):\n",
    "        self.shape = None\n",
    "    def forward(self, X):\n",
    "        self.shape = X.shape\n",
    "        flat_X = X.reshape(self.shape[0], -1)\n",
    "        return flat_X\n",
    "    def backward(self, dX):\n",
    "        original_dX = dX.reshape(self.shape)\n",
    "        return original_dX"
   ]
  },
  {
   "cell_type": "markdown",
   "metadata": {},
   "source": [
    "- 全結合層"
   ]
  },
  {
   "cell_type": "code",
   "execution_count": 76,
   "metadata": {},
   "outputs": [],
   "source": [
    "class FC:\n",
    "    \"\"\"\n",
    "    ノード数n_nodes1からn_nodes2への全結合層\n",
    "    Parameters\n",
    "    ----------\n",
    "    n_nodes1 : int\n",
    "      前の層のノード数\n",
    "    n_nodes2 : int\n",
    "      後の層のノード数\n",
    "    initializer : 初期化方法のインスタンス\n",
    "    optimizer : 最適化手法のインスタンス\n",
    "    \"\"\"\n",
    "    def __init__(self, n_nodes1, n_nodes2, initializer, optimizer, act_instance):\n",
    "        self.optimizer = optimizer\n",
    "        # 活性化関数のインスタンス\n",
    "        self.act_instance = act_instance\n",
    "        # 初期化\n",
    "        # initializerのメソッドを使い、self.Wとself.Bを初期化する\n",
    "        self.W = initializer.W(n_nodes1, n_nodes2)\n",
    "        self.B = initializer.B(n_nodes2)\n",
    "        # optimazer がadagradの際に使用する\n",
    "        self.H_W = np.ones((n_nodes1, n_nodes2))\n",
    "        self.H_B = np.ones(n_nodes2)\n",
    "\n",
    "    def forward(self, X):\n",
    "        \"\"\"\n",
    "        フォワード\n",
    "        Parameters\n",
    "        ----------\n",
    "        X : 次の形のndarray, shape (batch_size, n_nodes1)\n",
    "            入力\n",
    "        Returns\n",
    "        ----------\n",
    "        A : 次の形のndarray, shape (batch_size, n_nodes2)\n",
    "            出力\n",
    "        \"\"\"\n",
    "        self.X = X\n",
    "        A = np.dot(self.X, self.W) + self.B\n",
    "        return A\n",
    "    def backward(self, dA):\n",
    "        \"\"\"\n",
    "        バックワード\n",
    "        Parameters\n",
    "        ----------\n",
    "        dA : 次の形のndarray, shape (batch_size, n_nodes2)\n",
    "            後ろから流れてきた勾配\n",
    "        Z : 次の形のndarray, shape (batch_size, n_nodes1)\n",
    "            一層前の活性化関数の出力結果\n",
    "        Returns\n",
    "        ----------\n",
    "        dZ : 次の形のndarray, shape (batch_size, n_nodes1)\n",
    "            前に流す勾配\n",
    "        \"\"\"\n",
    "        # dZを計算\n",
    "        dZ = np.dot(dA, self.W.T)\n",
    "        # 更新\n",
    "        self = self.optimizer.update_FC(self, dA)\n",
    "        return dZ"
   ]
  },
  {
   "cell_type": "markdown",
   "metadata": {},
   "source": [
    "- 1次元の畳み込みニューラルネットワーク分類器"
   ]
  },
  {
   "cell_type": "code",
   "execution_count": 77,
   "metadata": {},
   "outputs": [],
   "source": [
    "class ScratchCNN1dNeuralNetworkClassifier():\n",
    "    \"\"\"\n",
    "    多層な1次元の畳み込みニューラルネットワーク分類器\n",
    "    Parameters\n",
    "    ----------\n",
    "    Attributes\n",
    "    -----\n",
    "    \"\"\"\n",
    "    def __init__(self,  hidden_layer_sizes=[400, 200], verbose=False, random_state=None, activation='relu', epoch=20, batch_size=20, lr=10e-3, initialize=None, sigma=None, optimize='adagrad',filter_sizes=[3, 3], stride_sizes=[1, 1], padding=['SAME', 'VALID']):\n",
    "        self.verbose = verbose\n",
    "        # 乱数の設定\n",
    "        self.random_state = random_state\n",
    "        # 活性化関数の名前　'sigmoid', 'tanh', 'relu'\n",
    "        self.activation = activation\n",
    "        # epochの回数\n",
    "        self.epoch = epoch\n",
    "        # バッチサイズ\n",
    "        self.batch_size = batch_size\n",
    "        # 学習率\n",
    "        self.lr = lr\n",
    "        # 全結合層のノード数のタプル\n",
    "        self.hidden_layer_sizes = hidden_layer_sizes\n",
    "        # 乱数の設定\n",
    "        self.random_state = random_state\n",
    "        # 初期値の設定方法 'gauss', 'xavier', 'he'\n",
    "        self.initialize = initialize\n",
    "        # 初期値をガウス分布で定める際の標準偏差\n",
    "        self.sigma = sigma\n",
    "        # 最適化手法 'sgd', 'adagrad'\n",
    "        self.optimize = optimize\n",
    "        \n",
    "        # 一次元の畳み込み層　以下変数のサイズで畳み込みを行う層が決まる\n",
    "        self.filter_sizes = filter_sizes\n",
    "        self.stride_sizes = stride_sizes\n",
    "        self.padding = padding\n",
    "        \n",
    "        # 出力クラス数\n",
    "        self.n_output = None\n",
    "        # 出力カテゴリの配列\n",
    "        self.categories_ = None\n",
    "        # 重みの情報リスト\n",
    "        # self.coefs_ = None\n",
    "        # self.intercepts_ = None\n",
    "        # epoch毎に損失を記録\n",
    "        self.losses = np.zeros(self.epoch)\n",
    "        self.val_losses = None\n",
    "        # fitの時にvalデータがあるフラグ\n",
    "        self.val_flag = None\n",
    "\n",
    "    def fit(self, X_train, y_train, X_val=None, y_val=None):\n",
    "        \"\"\"\n",
    "        ニューラルネットワーク分類器を学習する。\n",
    "        \n",
    "        Parameters\n",
    "        ----------\n",
    "        X_train : 次の形のndarray, shape (n_samples, input_channels, n_features)\n",
    "            訓練データの特徴量\n",
    "        y_train : 次の形のndarray, shape (n_samples, )\n",
    "            訓練データの正解値\n",
    "        X_val : 次の形のndarray, shape (n_samples, input_channels, n_features)\n",
    "            検証データの特徴量\n",
    "        y_val : 次の形のndarray, shape (n_samples, )\n",
    "            検証データの正解値\n",
    "        \"\"\"\n",
    "        # random_stateが設定されている場合はseed設定\n",
    "        if type(self.random_state) == int:\n",
    "            np.random.seed(self.random_state)\n",
    "        # 特徴量データがinput_channels１で, ndimが２の時、input_channelsの次元を追加\n",
    "        if X_train.ndim == 2:\n",
    "            X_train = X_train[:, np.newaxis]\n",
    "        if X_val.ndim == 2:\n",
    "            X_val = X_val[:, np.newaxis]\n",
    "        \n",
    "        # 変数情報\n",
    "        self.n_samples, input_channels, self.n_features = X_train.shape\n",
    "        # valデータの確認\n",
    "        if type(X_val) == np.ndarray and type(y_val) == np.ndarray:\n",
    "            if X_val.shape == (y_val.shape[0], input_channels, self.n_features):\n",
    "                self.val_flag = True\n",
    "                self.val_losses = np.zeros(self.epoch)\n",
    "        \n",
    "        # 目的変数をone_hot_encoding\n",
    "        from sklearn.preprocessing import OneHotEncoder\n",
    "        enc = OneHotEncoder(handle_unknown='ignore', sparse=False)\n",
    "        y_train_one_hot = enc.fit_transform(y_train[:, np.newaxis])\n",
    "        if self.val_flag:\n",
    "            y_val_one_hot = enc.transform(y_val[:, np.newaxis])\n",
    "        \n",
    "        # 出力カテゴリの配列\n",
    "        self.categories_ = enc.categories_[0]\n",
    "        # 出力クラス数を特定\n",
    "        self.n_output = len(self.categories_)\n",
    "        \n",
    "        \n",
    "        # 畳み込み層のインスタンス作成\n",
    "        input_nums = self.n_features\n",
    "        self.conv1d_lst = []\n",
    "        for filter_sizes, stride_sizes, padding in zip(self.filter_sizes, self.stride_sizes, self.padding):\n",
    "            # 活性化関数のインスタンス\n",
    "            if self.activation == 'relu':\n",
    "                act_instance = ReLU()\n",
    "            elif self.activation == 'sigmoid':\n",
    "                act_instance = Sigmoid()\n",
    "            elif self.activation == 'tanh':\n",
    "                act_instance = Tanh()\n",
    "            else:\n",
    "                print('not proper activation name')\n",
    "                \n",
    "            # 初期化のインスタンス作成\n",
    "            # initializeで指定がない時、sigmoid, tanhではxavier, reluではhe\n",
    "            if self.initialize is None:\n",
    "                if self.activation == 'relu':\n",
    "                    self.initialize = 'he'\n",
    "                elif self.activation == 'sigmoid' or self.activation == 'tanh':\n",
    "                    self.initialize = 'xavier'\n",
    "            # self.initializeに応じてinitializerのインスタンスを作成\n",
    "            if self.initialize == 'he':\n",
    "                initializer = HeInitializer()\n",
    "            elif self.initialize == 'xavier':\n",
    "                initializer = XavierInitializer()\n",
    "            elif self.initialize == 'gauss':\n",
    "                if self.sigma is None:\n",
    "                    self.sigma = 0.01\n",
    "                    initializer = SimpleInitializer(self.sigma)\n",
    "            # 最適化のインスタンス作成\n",
    "            if self.optimize == 'adagrad':\n",
    "                optimizer = AdaGrad(self.lr)\n",
    "            elif self.optimize == 'sgd':\n",
    "                optimizer = SGD(self.lr) \n",
    "            \n",
    "            conv1d = Conv1d(input_channels=input_channels, output_channels=input_channels,\n",
    "                            filter_sizes=filter_sizes, stride_sizes=stride_sizes, padding=padding,\n",
    "                            initializer=initializer, optimizer=optimizer, act_instance=act_instance)\n",
    "            \n",
    "            self.conv1d_lst.append(conv1d)\n",
    "            \n",
    "            # 畳み込み層後の出力サイズを計算\n",
    "            pad_nums = conv1d.padding_nums(input_nums)\n",
    "            output_nums = conv1d.calc_output_nums(input_nums, pad_nums, filter_sizes, stride_sizes)\n",
    "            input_nums = output_nums\n",
    "        fc_input_features = input_nums * conv1d.output_channels\n",
    "                \n",
    "        # 全結合層のインスタンス作成\n",
    "        self.fc_lst = []\n",
    "        for n_nodes in self.hidden_layer_sizes:\n",
    "            # 活性化関数のインスタンス\n",
    "            if self.activation == 'relu':\n",
    "                act_instance = ReLU()\n",
    "            elif self.activation == 'sigmoid':\n",
    "                act_instance = Sigmoid()\n",
    "            elif self.activation == 'tanh':\n",
    "                act_instance = Tanh()\n",
    "            else:\n",
    "                print('not proper activation name')\n",
    "                \n",
    "            # 初期化のインスタンス作成\n",
    "            # initializeで指定がない時、sigmoid, tanhではxavier, reluではhe\n",
    "            if self.initialize is None:\n",
    "                if self.activation == 'relu':\n",
    "                    self.initialize = 'he'\n",
    "                elif self.activation == 'sigmoid' or self.activation == 'tanh':\n",
    "                    self.initialize = 'xavier'\n",
    "            # self.initializeに応じてinitializerのインスタンスを作成\n",
    "            if self.initialize == 'he':\n",
    "                initializer = HeInitializer()\n",
    "            elif self.initialize == 'xavier':\n",
    "                initializer = XavierInitializer()\n",
    "            elif self.initialize == 'gauss':\n",
    "                if self.sigma is None:\n",
    "                    self.sigma = 0.01\n",
    "                    initializer = SimpleInitializer(self.sigma)\n",
    "            # 最適化のインスタンス作成\n",
    "            if self.optimize == 'adagrad':\n",
    "                optimizer = AdaGrad(self.lr)\n",
    "            elif self.optimize == 'sgd':\n",
    "                optimizer = SGD(self.lr) \n",
    "            \n",
    "            fc = FC(n_nodes1=fc_input_features, n_nodes2=n_nodes,\n",
    "                    initializer=initializer, optimizer=optimizer, act_instance=act_instance)\n",
    "            self.fc_lst.append(fc)\n",
    "            fc_input_features = n_nodes\n",
    "            \n",
    "            # 最終出力層のインスタンス\n",
    "            self.last_layer = FC(n_nodes1=fc_input_features, n_nodes2=self.n_output,\n",
    "                            initializer=HeInitializer(), optimizer=SGD(),\n",
    "                            act_instance=Softmax())\n",
    "\n",
    "            \n",
    "        # 各層のインスタンス内で変数が書き換えられるので、valから計算する\n",
    "        # epoch　でループ\n",
    "        for n_epoch in tqdm(range(self.epoch)):\n",
    "            # 各々のバッチの損失の記録\n",
    "            if self.val_flag:\n",
    "                batches_val_losses = np.zeros(int(np.ceil(self.n_samples / self.batch_size)), dtype=np.float64)\n",
    "            batches_losses = np.zeros(int(np.ceil(self.n_samples / self.batch_size)), dtype=np.float64)\n",
    "                        \n",
    "            # バッチを取り出し、バッチでループ\n",
    "            get_mini_batch = GetMiniBatch(X_train, y_train_one_hot, batch_size=self.batch_size)\n",
    "            for mini_X_train, mini_y_train in get_mini_batch:\n",
    "                \n",
    "                # forward propagation\n",
    "                if self.val_flag:\n",
    "                    Z_val = X_val\n",
    "                    for i in range(len(self.conv1d_lst)):\n",
    "                        A_val = self.conv1d_lst[i].forward(Z_val)\n",
    "                        Z_val = self.conv1d_lst[i].act_instance.forward(A_val)\n",
    "                    \n",
    "                    # 畳み込み層が終わったら平滑化\n",
    "                    flat_val = Flatten()\n",
    "                    Z_val = flat_val.forward(Z_val)\n",
    "                \n",
    "                    # 全結合層をループ\n",
    "                    for i in range(len(self.fc_lst)):\n",
    "                        A_val = self.fc_lst[i].forward(Z_val)\n",
    "                        Z_val = self.fc_lst[i].act_instance.forward(A_val)\n",
    "                \n",
    "                    # 最後の出力層\n",
    "                    A_val = self.last_layer.forward(Z_val)\n",
    "                    Z_val = self.last_layer.act_instance.forward(A_val)\n",
    "                    \n",
    "                    # SoftMaxback_propagation, 損失記録\n",
    "                    _, batches_val_losses[get_mini_batch._counter - 1] = self.last_layer.act_instance.backward(Z_val, y_val_one_hot)\n",
    "                \n",
    "                # train_data\n",
    "                Z = mini_X_train\n",
    "                for i in range(len(self.conv1d_lst)):\n",
    "                    A = self.conv1d_lst[i].forward(Z)\n",
    "                    Z = self.conv1d_lst[i].act_instance.forward(A)\n",
    "                    \n",
    "                # 畳み込み層が終わったら平滑化\n",
    "                flat = Flatten()\n",
    "                Z = flat.forward(Z)\n",
    "                \n",
    "                # 全結合層をループ\n",
    "                for i in range(len(self.fc_lst)):\n",
    "                    A = self.fc_lst[i].forward(Z)\n",
    "                    Z = self.fc_lst[i].act_instance.forward(A)\n",
    "                \n",
    "                # 最後の出力層\n",
    "                A = self.last_layer.forward(Z)\n",
    "                Z = self.last_layer.act_instance.forward(A)\n",
    "                    \n",
    "                # SoftMaxback_propagation, 損失記録\n",
    "                dA, batches_losses[get_mini_batch._counter - 1] = self.last_layer.act_instance.backward(Z, mini_y_train)\n",
    "                \n",
    "                # back propagation\n",
    "                dZ = self.last_layer.backward(dA)\n",
    "                \n",
    "                # fcを逆順で取り出す\n",
    "                for i in range(len(self.fc_lst)):\n",
    "                    dA = self.fc_lst[-(i+1)].act_instance.backward(dZ)\n",
    "                    dZ = self.fc_lst[-(i+1)].backward(dA)\n",
    "                \n",
    "                # flattenのback\n",
    "                dZ = flat.backward(dZ)\n",
    "                \n",
    "                # conv1dを逆順で取り出す\n",
    "                for i in range(len(self.conv1d_lst)):\n",
    "                    dA = self.conv1d_lst[-(i+1)].act_instance.backward(dZ)\n",
    "                    dZ = self.conv1d_lst[-(i+1)].backward(dA)\n",
    "  \n",
    "            #　バッチのループが終わったら損失を合計し、記録\n",
    "            self.losses[n_epoch] = batches_losses.sum()\n",
    "            if self.val_flag:\n",
    "                self.val_losses[n_epoch] = batches_val_losses.sum()\n",
    "        \n",
    "            #verboseをTrueにした際は学習過程などを出力する\n",
    "            if self.verbose is True:\n",
    "                print('epoch : {} finished'.format(n_epoch))\n",
    "                print('train_loss : {}'.format(self.losses[n_epoch]))\n",
    "                if self.val_flag:\n",
    "                    print('val_loss : {}'.format(self.val_losses[n_epoch]))\n",
    "        \n",
    "    def predict(self, X):\n",
    "        \"\"\"\n",
    "        ニューラルネットワーク分類器を使い推定する。\n",
    "\n",
    "        Parameters\n",
    "        ----------\n",
    "        X : 次の形のndarray, shape (n_samples, n_features)\n",
    "            サンプル\n",
    "\n",
    "        Returns\n",
    "        -------\n",
    "            次の形のndarray, shape (n_samples, 1)\n",
    "            推定結果\n",
    "        \"\"\"\n",
    "        # 特徴量データがinput_channels１で, ndimが２の時、input_channelsの次元を追加\n",
    "        if X.ndim == 2:\n",
    "            X = X[:, np.newaxis]\n",
    "        \n",
    "        # 活性化関数の出力結果をpredで管理\n",
    "        pred = X\n",
    "\n",
    "        # 各層をループ\n",
    "        for conv1d in self.conv1d_lst:\n",
    "            A = conv1d.forward(pred)\n",
    "            pred = conv1d.act_instance.forward(A)\n",
    "        \n",
    "        # 平滑化\n",
    "        pred = Flatten().forward(pred)\n",
    "        \n",
    "        # 全結合層\n",
    "        for fc in self.fc_lst:\n",
    "            A = fc.forward(pred)\n",
    "            pred = fc.act_instance.forward(A)\n",
    "        \n",
    "        # 最終出力層\n",
    "        A = self.last_layer.forward(pred)\n",
    "        pred = self.last_layer.act_instance.forward(A)\n",
    "        \n",
    "        # 列、横方向に最大のインデックスを取得し、出力カテゴリのself.categories_の値を返す\n",
    "        return self.categories_[np.argmax(pred, axis=1)]"
   ]
  },
  {
   "cell_type": "markdown",
   "metadata": {},
   "source": [
    "- 検証結果をアウトプットする関数"
   ]
  },
  {
   "cell_type": "code",
   "execution_count": 78,
   "metadata": {},
   "outputs": [],
   "source": [
    "# 設定しているパラメーターの表示\n",
    "def display_params(clf):\n",
    "    parameters = deepcopy(vars(clf))\n",
    "    delete_params = ['verbose', 'n_output', 'categories_', 'coefs_', 'intercepts_', 'losses', 'val_losses', 'val_flag', 'n_samples', 'n_features', 'act', 'last_act']\n",
    "    for params in delete_params:\n",
    "        del parameters[params]\n",
    "    print('Paremeters : ')\n",
    "    print(parameters)\n",
    "    return parameters"
   ]
  },
  {
   "cell_type": "code",
   "execution_count": 79,
   "metadata": {},
   "outputs": [],
   "source": [
    "# Accuracy_scoreの計算\n",
    "from sklearn.metrics import accuracy_score\n",
    "def acc_score(X_test, y_test, clf):\n",
    "    score = accuracy_score(y_test, clf.predict(X_test))\n",
    "    print('Accuracy_score : {}'.format(score))\n",
    "    return score"
   ]
  },
  {
   "cell_type": "code",
   "execution_count": 80,
   "metadata": {},
   "outputs": [],
   "source": [
    "import matplotlib.pyplot as plt\n",
    "%matplotlib inline\n",
    "# 損失関数のプロット\n",
    "def loss_plot(clf):\n",
    "    plt.plot(range(clf.epoch), clf.losses, label='train_loss')\n",
    "    if clf.val_flag:\n",
    "        plt.plot(range(clf.epoch), clf.val_losses, label='val_loss')\n",
    "    plt.xlabel('n_epoch')\n",
    "    plt.title('model_loss')\n",
    "    plt.legend()\n",
    "    plt.show()"
   ]
  },
  {
   "cell_type": "code",
   "execution_count": 81,
   "metadata": {},
   "outputs": [],
   "source": [
    "# MNISTデータの誤分類結果を表示する\n",
    "def miss_class_imshow(y_pred, y_val, X_val, num, n_columns = 6):\n",
    "    \"\"\"\n",
    "    誤分類結果を並べて表示する。画像の上の表示は「推定結果/正解」である。\n",
    "\n",
    "    Parameters:\n",
    "    ----------\n",
    "    y_pred : 推定値のndarray (n_samples,)\n",
    "    y_val : 検証データの正解ラベル(n_samples,)\n",
    "    X_val : 検証データの特徴量（n_samples, n_features)\n",
    "    num : 表示する数\n",
    "    n_columns : 表示する列数\n",
    "    \"\"\"\n",
    "    import matplotlib.pyplot as plt\n",
    "    true_false = y_pred==y_val\n",
    "    false_list = np.where(true_false==False)[0].astype(np.int)\n",
    "    if false_list.shape[0] < num:\n",
    "        num = false_list.shape[0]\n",
    "    fig = plt.figure(figsize=(16, (num-1//n_columns + 1)*(16 / n_columns)))\n",
    "    fig.subplots_adjust(left=0, right=0.8,  bottom=0, top=0.8, hspace=1, wspace=0.5)\n",
    "    for i in range(num):\n",
    "        ax = fig.add_subplot(num-1//n_columns + 1, n_columns, i + 1, xticks=[], yticks=[])\n",
    "        ax.set_title(\"pred:{} / ans:{}\".format(y_pred[false_list[i]],y_val[false_list[i]]))\n",
    "        ax.imshow(X_val.reshape(-1,28,28)[false_list[i]], cmap='gray')"
   ]
  },
  {
   "cell_type": "markdown",
   "metadata": {},
   "source": [
    "- まずは小さなデータで検証してみる"
   ]
  },
  {
   "cell_type": "code",
   "execution_count": 82,
   "metadata": {},
   "outputs": [],
   "source": [
    "from sklearn.datasets import make_classification\n",
    "from sklearn.model_selection import train_test_split\n",
    "X, y = make_classification(n_samples=1000, random_state=1)\n",
    "X_train2, X_test2, y_train2, y_test2 = train_test_split(X, y, stratify=y,random_state=1)"
   ]
  },
  {
   "cell_type": "code",
   "execution_count": 83,
   "metadata": {},
   "outputs": [],
   "source": [
    "from sklearn.preprocessing import MinMaxScaler\n",
    "scaler = MinMaxScaler(feature_range=(0, 1))\n",
    "X_train2 = scaler.fit_transform(X_train2)\n",
    "X_test2 = scaler.transform(X_test2)"
   ]
  },
  {
   "cell_type": "code",
   "execution_count": 84,
   "metadata": {},
   "outputs": [
    {
     "name": "stderr",
     "output_type": "stream",
     "text": [
      "100%|██████████| 10/10 [00:01<00:00,  5.83it/s]\n"
     ]
    }
   ],
   "source": [
    "parameters = {'hidden_layer_sizes':[400, 200],\n",
    "              'verbose':False,\n",
    "              'random_state':0,\n",
    "              'activation':'sigmoid',\n",
    "              'epoch':10, \n",
    "              'batch_size':20, \n",
    "              'lr':10e-3,\n",
    "              'initialize':'he',\n",
    "              'optimize':'sgd',\n",
    "              'filter_sizes':[3, 3],\n",
    "              'stride_sizes':[1, 1],\n",
    "              'padding':['SAME', 'VALID']}\n",
    "cnn1d = ScratchCNN1dNeuralNetworkClassifier(**parameters)\n",
    "cnn1d.fit(X_train2, y_train2, X_test2, y_test2)"
   ]
  },
  {
   "cell_type": "code",
   "execution_count": 85,
   "metadata": {
    "scrolled": false
   },
   "outputs": [
    {
     "name": "stdout",
     "output_type": "stream",
     "text": [
      "Accuracy_score : 0.5\n"
     ]
    },
    {
     "data": {
      "image/png": "[encoded data removed]",
      "text/plain": [
       "<Figure size 432x288 with 1 Axes>"
      ]
     },
     "metadata": {
      "needs_background": "light"
     },
     "output_type": "display_data"
    }
   ],
   "source": [
    "acc = acc_score(X_test2, y_test2, cnn1d)\n",
    "loss_plot(cnn1d)"
   ]
  },
  {
   "cell_type": "code",
   "execution_count": 86,
   "metadata": {},
   "outputs": [
    {
     "name": "stderr",
     "output_type": "stream",
     "text": [
      "100%|██████████| 20/20 [41:42<00:00, 125.12s/it]\n"
     ]
    }
   ],
   "source": [
    "parameters = {'hidden_layer_sizes':[400, 200],\n",
    "              'verbose':False,\n",
    "              'random_state':0,\n",
    "              'activation':'sigmoid',\n",
    "              'epoch':20, \n",
    "              'batch_size':1000, \n",
    "              'lr':10e-3,\n",
    "              'initialize':'he',\n",
    "              'optimize':'sgd',\n",
    "              'filter_sizes':[9],\n",
    "              'stride_sizes':[1],\n",
    "              'padding':[0]}\n",
    "cnn1d = ScratchCNN1dNeuralNetworkClassifier(**parameters)\n",
    "cnn1d.fit(X_train, y_train, X_test, y_test)"
   ]
  },
  {
   "cell_type": "code",
   "execution_count": 87,
   "metadata": {},
   "outputs": [
    {
     "name": "stdout",
     "output_type": "stream",
     "text": [
      "Accuracy_score : 0.9788\n"
     ]
    },
    {
     "data": {
      "image/png": "[encoded data removed]",
      "text/plain": [
       "<Figure size 432x288 with 1 Axes>"
      ]
     },
     "metadata": {
      "needs_background": "light"
     },
     "output_type": "display_data"
    }
   ],
   "source": [
    "acc = acc_score(X_test, y_test, cnn1d)\n",
    "loss_plot(cnn1d)"
   ]
  },
  {
   "cell_type": "code",
   "execution_count": 88,
   "metadata": {},
   "outputs": [
    {
     "data": {
      "image/png": "[encoded data removed]",
      "text/plain": [
       "<Figure size 1152x7104 with 36 Axes>"
      ]
     },
     "metadata": {},
     "output_type": "display_data"
    }
   ],
   "source": [
    "miss_class_imshow(cnn1d.predict(X_test), y_test, X_test, 36, n_columns = 6)"
   ]
  }
 ],
 "metadata": {
  "kernelspec": {
   "display_name": "Python 3",
   "language": "python",
   "name": "python3"
  },
  "language_info": {
   "codemirror_mode": {
    "name": "ipython",
    "version": 3
   },
   "file_extension": ".py",
   "mimetype": "text/x-python",
   "name": "python",
   "nbconvert_exporter": "python",
   "pygments_lexer": "ipython3",
   "version": "3.7.6"
  },
  "toc": {
   "base_numbering": 1,
   "nav_menu": {},
   "number_sections": false,
   "sideBar": true,
   "skip_h1_title": false,
   "title_cell": "Table of Contents",
   "title_sidebar": "Contents",
   "toc_cell": false,
   "toc_position": {
    "height": "calc(100% - 180px)",
    "left": "10px",
    "top": "150px",
    "width": "144px"
   },
   "toc_section_display": true,
   "toc_window_display": false
  },
  "varInspector": {
   "cols": {
    "lenName": 16,
    "lenType": 16,
    "lenVar": 40
   },
   "kernels_config": {
    "python": {
     "delete_cmd_postfix": "",
     "delete_cmd_prefix": "del ",
     "library": "var_list.py",
     "varRefreshCmd": "print(var_dic_list())"
    },
    "r": {
     "delete_cmd_postfix": ") ",
     "delete_cmd_prefix": "rm(",
     "library": "var_list.r",
     "varRefreshCmd": "cat(var_dic_list()) "
    }
   },
   "types_to_exclude": [
    "module",
    "function",
    "builtin_function_or_method",
    "instance",
    "_Feature"
   ],
   "window_display": false
  }
 },
 "nbformat": 4,
 "nbformat_minor": 4
}
