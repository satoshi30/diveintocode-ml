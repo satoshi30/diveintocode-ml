{
 "cells": [
  {
   "cell_type": "markdown",
   "metadata": {},
   "source": [
    "# Sprint 論文読解入門"
   ]
  },
  {
   "cell_type": "markdown",
   "metadata": {},
   "source": [
    "## 1.このSprintについて\n",
    "\n",
    "### Sprintの目的\n",
    "- 機械学習分野の論文から有益な情報を引き出せるようにする\n",
    "- これまで扱ってきた領域の論文から新たな知識を得る\n",
    "\n",
    "### どのように学ぶか\n",
    "ある論文に対しての問題に答えていくことで、読むポイントを学んでいきます。"
   ]
  },
  {
   "cell_type": "markdown",
   "metadata": {},
   "source": [
    "## 2.論文読解\n",
    "\n",
    "以下の論文を読み問題に答えてください。CNNを使った物体検出（Object Detection）の代表的な研究です。\n",
    "\n",
    "[8]Ren, S., He, K., Girshick, R., Sun, J.: Faster r-cnn: Towards real-time object detection with region proposal networks. In: Advances in neural information processing systems. (2015) 91–99\n",
    "\n",
    "[https://arxiv.org/pdf/1506.01497.pdf](https://arxiv.org/pdf/1506.01497.pdf)"
   ]
  },
  {
   "cell_type": "markdown",
   "metadata": {},
   "source": [
    "### 問題\n",
    "それぞれについてJupyter Notebookにマークダウン形式で記述してください。"
   ]
  },
  {
   "cell_type": "markdown",
   "metadata": {},
   "source": [
    "### 条件\n",
    "- 答える際は論文のどの部分からそれが分かるかを書く。\n",
    "- 必要に応じて先行研究（引用されている論文）も探しにいく。最低2つは他の論文を利用して回答すること。\n",
    "- 論文の紹介記事を見ても良い。ただし、答えは論文内に根拠を探すこと。"
   ]
  },
  {
   "cell_type": "markdown",
   "metadata": {},
   "source": [
    "### (1) 物体検出の分野にはどういった手法が存在したか。\n",
    "\n",
    "Abstract及び、Introductionより\n",
    "\n",
    "- 物体検出分野の近年の進歩は、region propoxal methods and R-CNNs　の成功によっている。\n",
    "- そして、以下のSPPnet, Fast R-CNNにより計算コストの削減につながった\n",
    "- しかし、resion proposalがボトルネックになっている現場がある（Selective Searchという手法が使われていた）\n",
    "\n",
    "- SPPnet [1]\n",
    "    - Reference [1]\n",
    "        - K. He, X. Zhang, S. Ren, and J. Sun, “Spatial pyramid pooling in deep convolutional networks for visual recognition,” in European Conference on Computer Vision (ECCV), 2014. [原著論文](https://arxiv.org/pdf/1406.4729v4.pdf)\n",
    "    - [Microsoft Research Asiaが公開しているスライド](http://image-net.org/challenges/LSVRC/2014/slides/sppnet_ilsvrc2014.pdf)\n",
    "    - ピラミッド型のプーリング層を通すことにより、入力サイズの異なる画像に対しても決まったサイズの出力を得ることができる。従来のプーリング手法と比較しても精度向上に繋がる\n",
    "    \n",
    "- Fast R-CNN[2]\n",
    "    - Reference 　[2] \n",
    "        - R. Girshick, “Fast R-CNN,” in IEEE International Conference on Computer Vision (ICCV), 2015. [原著論文](https://arxiv.org/pdf/1504.08083.pdf)"
   ]
  },
  {
   "cell_type": "markdown",
   "metadata": {},
   "source": [
    "### (2) Fasterとあるが、どういった仕組みで高速化したのか。\n",
    "\n",
    "Introduction P1の右半分より\n",
    "\n",
    "- Fast R-CNNのようなregion-based detectorsで使われるconvolutional feature mapsをregion proposals（物体検出前の領域候補を示すとき）でも利用することで、計算がシェア可能になり、計算速度を速めることが可能になった。\n",
    "- Region Proposal Networkの構築"
   ]
  },
  {
   "cell_type": "markdown",
   "metadata": {},
   "source": [
    "### (3) One-Stageの手法とTwo-Stageの手法はどう違うのか。\n",
    "\n",
    "4.1 Experiments on PASCAL VOC　の　One-Stage Detection vs. Two-Stage Proposal + Detection.より\n",
    "\n",
    "- One-Stage手法は、領域特定と物体のカテゴリ特定を同時に行う手法であるが、Tow-Stage手法は領域特定と物体のカテゴリ特定が分離されている手法"
   ]
  },
  {
   "cell_type": "markdown",
   "metadata": {},
   "source": [
    "### (4) RPNとは何か。\n",
    "\n",
    "3.1 Region Proposal Networksの冒頭より\n",
    "\n",
    "- RPNは、inputとしてあらゆるサイズの画像を受け取り、矩形の物体候補画像をスコアとともにoutputするもの"
   ]
  },
  {
   "cell_type": "markdown",
   "metadata": {},
   "source": [
    "### (5) RoIプーリングとは何か。\n",
    "\n",
    "3.2 Sharing Features for RPN and Fast R-CNNの文中より、RoI Pooling　は　Reference[2]の論文[Fast R-CNN](https://arxiv.org/pdf/1504.08083.pdf)から引用されていることがわかる\n",
    "\n",
    "Fast R-CNN 2.1. The RoI pooling layer　より\n",
    "- RoI pooling　は、　max poolingを使用して、H\\timesWの固定範囲の小さなfeature mapに変換する（H, Wは独立したパラメーター）\n",
    "- h×w 提案領域に対して、H×Wグリッドに分割し、それぞれ分割された領域内でを最大プーリングをする\n",
    "\n",
    "イメージ図 [物体検出についての歴史まとめ(1)](https://qiita.com/mshinoda88/items/9770ee671ea27f2c81a9)\n",
    "\n",
    "<img src=\"https://qiita-user-contents.imgix.net/https%3A%2F%2Fqiita-image-store.s3.amazonaws.com%2F0%2F199265%2F6af0ded3-29b2-7035-d935-440a0232b6ae.gif?ixlib=rb-1.2.2&auto=format&gif-q=60&q=75&w=1400&fit=max&s=3e4399813d86f64fb03a18ecb11e4cc7\" width=\"400\" height=\"400\" />"
   ]
  },
  {
   "cell_type": "markdown",
   "metadata": {},
   "source": [
    "### (6) Anchorのサイズはどうするのが適切か。\n",
    "\n",
    "4.1 Experiments on PASCAL VOC > Sensitivities to Hyper-Parameters.より\n",
    "- Tabel8の実験結果から、3scales もしくは3aspect ratios　を使うことで指標値が高くなっているので、複数サイズのAnchorを使うことが効果的なsolutionであることが示されている"
   ]
  },
  {
   "cell_type": "markdown",
   "metadata": {},
   "source": [
    "### (7) 何というデータセットを使い、先行研究に比べどういった指標値が得られているか。\n",
    "\n",
    "4.1 Experiments on PASCAL VOC　4.2 Experments on MS COCO　より\n",
    "- データセット : PASCAL VOC 2007\n",
    "    - SS(SelectiveSearch)のmAP(meanAveragePrecision) : 58.7%, EB(EdgeBoxes)のmAP : 58.6%と比較して、RPNを使用して mAP : 59.9%へ改善\n",
    "- また、PASCAL VOC 2012, MSCOCOのデータセットを用いて様々なパターンを検証\n",
    "- Table6, Table7より、従来手法のSSと比較して、mAPが改善していることがわかる\n",
    "\n",
    "- Table5より、従来手法のSSと比較してもrunnningタイムが大幅に早くなり、fpsが0.5fpsから、5fps, 17fpsに改善していることがわかる"
   ]
  },
  {
   "cell_type": "markdown",
   "metadata": {},
   "source": [
    "### (8) （アドバンス課題）Faster R-CNNよりも新しい物体検出の論文では、Faster R-CNNがどう引用されているか。\n",
    "\n",
    "[You Only Look Once: Unified, Real-Time Object Detection 2016](https://arxiv.org/pdf/1506.02640.pdf)\n",
    "- *Other Fast Detectors* Fast and Faster R-CNN focus on speeding up the R-CNN framework by sharing computation and using neural networks to propose regions instead of Selective Search. While they offer speed and accuracy improvements over R-CNN, both still fall short of real-time performance.\n",
    "- FastR-CNN, FasterR-CNNはニューラルネットワークを使って領域提案をし、R-CNNの計算をシェアすることにより、speedとaccuracyを改善させたが、リアルタイムでのパフォーマンスにはまだ足りていないと紹介されている"
   ]
  },
  {
   "cell_type": "markdown",
   "metadata": {},
   "source": [
    "### 参考とした資料\n",
    "\n",
    "- [Faster R-CNNにおけるRPNの世界一分かりやすい解説](https://medium.com/lsc-psd/faster-r-cnn%E3%81%AB%E3%81%8A%E3%81%91%E3%82%8Brpn%E3%81%AE%E4%B8%96%E7%95%8C%E4%B8%80%E5%88%86%E3%81%8B%E3%82%8A%E3%82%84%E3%81%99%E3%81%84%E8%A7%A3%E8%AA%AC-dfc0c293cb69)\n",
    "\n",
    "- [最新のRegion CNN(R-CNN)を用いた物体検出入門 -物体検出とは? R-CNN, Fast R-CNN, Faster R-CNN, Mask R-CNN-](https://qiita.com/arutema47/items/8ff629a1516f7fd485f9)\n",
    "\n",
    "- [物体検出についての歴史まとめ(1)](https://qiita.com/mshinoda88/items/9770ee671ea27f2c81a9)\n",
    "- [物体検出についての歴史まとめ(2)](https://qiita.com/mshinoda88/items/c7e0967923e3ed47fee5)"
   ]
  }
 ],
 "metadata": {
  "kernelspec": {
   "display_name": "Environment (conda_anaconda3-2020.02)",
   "language": "python",
   "name": "conda_anaconda3-2020.02"
  },
  "language_info": {
   "codemirror_mode": {
    "name": "ipython",
    "version": 3
   },
   "file_extension": ".py",
   "mimetype": "text/x-python",
   "name": "python",
   "nbconvert_exporter": "python",
   "pygments_lexer": "ipython3",
   "version": "3.7.6"
  },
  "toc": {
   "base_numbering": 1,
   "nav_menu": {},
   "number_sections": false,
   "sideBar": true,
   "skip_h1_title": false,
   "title_cell": "Table of Contents",
   "title_sidebar": "Contents",
   "toc_cell": false,
   "toc_position": {},
   "toc_section_display": true,
   "toc_window_display": false
  },
  "varInspector": {
   "cols": {
    "lenName": 16,
    "lenType": 16,
    "lenVar": 40
   },
   "kernels_config": {
    "python": {
     "delete_cmd_postfix": "",
     "delete_cmd_prefix": "del ",
     "library": "var_list.py",
     "varRefreshCmd": "print(var_dic_list())"
    },
    "r": {
     "delete_cmd_postfix": ") ",
     "delete_cmd_prefix": "rm(",
     "library": "var_list.r",
     "varRefreshCmd": "cat(var_dic_list()) "
    }
   },
   "types_to_exclude": [
    "module",
    "function",
    "builtin_function_or_method",
    "instance",
    "_Feature"
   ],
   "window_display": false
  }
 },
 "nbformat": 4,
 "nbformat_minor": 4
}
