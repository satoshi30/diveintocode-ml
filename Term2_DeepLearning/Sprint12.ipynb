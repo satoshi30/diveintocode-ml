{
 "cells": [
  {
   "cell_type": "markdown",
   "metadata": {},
   "source": [
    "# Sprint 深層学習スクラッチ 畳み込みニューラルネットワーク2"
   ]
  },
  {
   "cell_type": "code",
   "execution_count": 1,
   "metadata": {},
   "outputs": [],
   "source": [
    "import numpy as np\n",
    "from copy import deepcopy\n",
    "import matplotlib.pyplot as plt\n",
    "%matplotlib inline\n",
    "from tqdm import tqdm"
   ]
  },
  {
   "cell_type": "markdown",
   "metadata": {},
   "source": [
    "## 1.このSprintについて\n",
    "\n",
    "### Sprintの目的\n",
    "スクラッチを通してCNNの基礎を理解する\n",
    "\n",
    "### どのように学ぶか\n",
    "スクラッチで2次元用畳み込みニューラルネットワークを実装した後、学習と検証を行なっていきます。"
   ]
  },
  {
   "cell_type": "markdown",
   "metadata": {},
   "source": [
    "## 2.2次元の畳み込みニューラルネットワークスクラッチ\n",
    "\n",
    "2次元に対応した畳み込みニューラルネットワーク（CNN）のクラスをスクラッチで作成していきます。NumPyなど最低限のライブラリのみを使いアルゴリズムを実装していきます。\n",
    "\n",
    "プーリング層なども作成することで、CNNの基本形を完成させます。クラスの名前はScratch2dCNNClassifierとしてください。\n",
    "\n",
    "### データセットの用意\n",
    "引き続きMNISTデータセットを使用します。2次元畳み込み層へは、28×28の状態で入力します。\n",
    "\n",
    "今回は白黒画像ですからチャンネルは1つしかありませんが、チャンネル方向の軸は用意しておく必要があります。\n",
    "\n",
    "`(n_samples, n_channels, height, width)`の`NCHW`または`(n_samples, height, width, n_channels)`の`NHWC`どちらかの形にしてください。"
   ]
  },
  {
   "cell_type": "markdown",
   "metadata": {},
   "source": [
    "### 【問題1】2次元畳み込み層の作成\n",
    "1次元畳み込み層のクラスConv1dを発展させ、2次元畳み込み層のクラスConv2dを作成してください。\n",
    "\n",
    "フォワードプロパゲーションの数式は以下のようになります。\n",
    "$$\n",
    "a_{i,j,m} = \\sum_{k=0}^{K-1}\\sum_{s=0}^{F_{h}-1}\\sum_{t=0}^{F_{w}-1}x_{(i+s),(j+t),k}w_{s,t,k,m}+b_{m}\n",
    "$$\n",
    "\n",
    "$a_{i,j,m}$ : 出力される配列のi行j列、mチャンネルの値\n",
    "\n",
    "$i$ : 配列の行方向のインデックス\n",
    "\n",
    "$j$ : 配列の列方向のインデックス\n",
    "\n",
    "$m$ : 出力チャンネルのインデックス\n",
    "\n",
    "$K$ : 入力チャンネル数\n",
    "\n",
    "$F_{h}, F_{w}$ : 高さ方向（h）と幅方向（w）のフィルタのサイズ\n",
    "\n",
    "$x_{(i+s),(j+t),k}$ : 入力の配列の(i+s)行(j+t)列、kチャンネルの値\n",
    "\n",
    "$w_{s,t,k,m}$ : 重みの配列のs行t列目。kチャンネルの入力に対して、mチャンネルへ出力する重み\n",
    "\n",
    "$b_m$ : mチャンネルへの出力のバイアス項\n",
    "\n",
    "全てスカラーです。\n"
   ]
  },
  {
   "cell_type": "markdown",
   "metadata": {},
   "source": [
    "次に更新式です。1次元畳み込み層や全結合層と同じ形です。\n",
    "$$\n",
    "w_{s,t,k,m}^{\\prime} = w_{s,t,k,m} - \\alpha \\frac{\\partial L}{\\partial w_{s,t,k,m}} \\\\\n",
    "b_{m}^{\\prime} = b_{m} - \\alpha \\frac{\\partial L}{\\partial b_{m}}\n",
    "$$\n",
    "$\\alpha$ : 学習率\n",
    "\n",
    "$\\frac{\\partial L}{\\partial w_{s,t,k,m}}$ : $w_{s,t,k,m}$ に関する損失 $L$ の勾配\n",
    "\n",
    "$\\frac{\\partial L}{\\partial b_{m}}$ : $b_{m}$ に関する損失 $L$ の勾配"
   ]
  },
  {
   "cell_type": "markdown",
   "metadata": {},
   "source": [
    "勾配 $\\frac{\\partial L}{\\partial w_{s,t,k,m}}$ や $\\frac{\\partial L}{\\partial b_{m}}$ を求めるためのバックプロパゲーションの数式が以下である。\n",
    "$$\n",
    "\\frac{\\partial L}{\\partial w_{s,t,k,m}} = \\sum_{i=0}^{N_{out,h}-1}\\sum_{j=0}^{N_{out,w}-1} \\frac{\\partial L}{\\partial a_{i,j,m}}x_{(i+s)(j+t),k}\\\\\n",
    "\\frac{\\partial L}{\\partial b_{m}} = \\sum_{i=0}^{N_{out,h}-1}\\sum_{j=0}^{N_{out,w}-1}\\frac{\\partial L}{\\partial a_{i,j,m}}\n",
    "$$\n",
    "\n",
    "$\\frac{\\partial L}{\\partial a_i}$ : 勾配の配列のi行j列、mチャンネルの値\n",
    "\n",
    "$N_{out,h},N_{out,w}$ : 高さ方向（h）と幅方向（w）の出力のサイズ"
   ]
  },
  {
   "cell_type": "markdown",
   "metadata": {},
   "source": [
    "前の層に流す誤差の数式は以下です。\n",
    "$$\n",
    "\\frac{\\partial L}{\\partial x_{i,j,k}} = \\sum_{m=0}^{M-1}\\sum_{s=0}^{F_{h}-1}\\sum_{t=0}^{F_{w}-1} \\frac{\\partial L}{\\partial a_{(i-s),(j-t),m}}w_{s,t,k,m}\n",
    "$$\n",
    "\n",
    "$\\frac{\\partial L}{\\partial x_{i,j,k}}$ : 前の層に流す誤差の配列のi列j行、kチャンネルの値\n",
    "\n",
    "$M$ : 出力チャンネル数\n",
    "\n",
    "ただし、 $i-s<0$ または $i-s>N_{out,h}-1$ または $j-t<0$ または $j-t>N_{out,w}-1$ のとき $\\frac{\\partial L}{\\partial a_{(i-s),(j-t),m}} =0$ です。"
   ]
  },
  {
   "cell_type": "markdown",
   "metadata": {},
   "source": [
    "### 【問題2】2次元畳み込み後の出力サイズ\n",
    "畳み込みを行うと特徴マップのサイズが変化します。どのように変化するかは以下の数式から求められます。この計算を行う関数を作成してください。\n",
    "$$\n",
    "N_{h,out} =  \\frac{N_{h,in}+2P_{h}-F_{h}}{S_{h}} + 1\\\\\n",
    "N_{w,out} =  \\frac{N_{w,in}+2P_{w}-F_{w}}{S_{w}} + 1\n",
    "$$\n",
    "$N_{out}$ : 出力のサイズ（特徴量の数）\n",
    "\n",
    "$N_{in}$ : 入力のサイズ（特徴量の数）\n",
    "\n",
    "$P$ : ある方向へのパディングの数\n",
    "\n",
    "$F$ : フィルタのサイズ\n",
    "\n",
    "$S$ : ストライドのサイズ\n",
    "\n",
    "$h$ が高さ方向、 $w$ が幅方向である"
   ]
  },
  {
   "cell_type": "code",
   "execution_count": 2,
   "metadata": {},
   "outputs": [],
   "source": [
    "def calc_output_nums(input_nums, pad_nums, filter_sizes, stride_sizes):\n",
    "    output_nums_h = (input_nums[0] + 2*pad_nums[0]- filter_sizes[0]) // stride_sizes[0] + 1\n",
    "    output_nums_w = (input_nums[1] + 2*pad_nums[1] - filter_sizes[1]) // stride_sizes[1] + 1\n",
    "    return output_nums_h, output_nums_w"
   ]
  },
  {
   "cell_type": "markdown",
   "metadata": {},
   "source": [
    "#### class Conv2d"
   ]
  },
  {
   "cell_type": "code",
   "execution_count": 3,
   "metadata": {},
   "outputs": [],
   "source": [
    "class Conv2d:\n",
    "    \"\"\"\n",
    "    チャンネル数を限定しない2次元畳み込み層\n",
    "    Parameters\n",
    "    ----------\n",
    "    initializer : 初期化方法のインスタンス\n",
    "    optimizer : 最適化手法のインスタンス\n",
    "    input_channels : int\n",
    "      入力のチャンネル数\n",
    "    output_channels : int\n",
    "      出力のチャンネル数\n",
    "    filter _sizes : tuple\n",
    "      フィルタのサイズ (F_h, F_w)\n",
    "    stride_sizes : tuple\n",
    "      スライドのサイズ (S_h, S_w)\n",
    "    padding : str or int\n",
    "      パディングの指示\n",
    "    pad_nums : tuple\n",
    "      ある方向へのパディングする数(P_h, P_w)\n",
    "    \"\"\"\n",
    "    \n",
    "    def __init__(self, input_channels, output_channels, filter_sizes, stride_sizes, padding, initializer, optimizer, act_instance=None):\n",
    "        self.input_channels = input_channels\n",
    "        self.output_channels = output_channels\n",
    "        self.filter_sizes = filter_sizes\n",
    "        self.stride_sizes = stride_sizes\n",
    "        self.padding = padding\n",
    "        self.pad_nums = None #　paddingが呼び出されると計算される\n",
    "        self.optimizer = optimizer\n",
    "        # 活性化関数のインスタンス\n",
    "        self.act_instance = act_instance\n",
    "        # initializerのメソッドを使い、self.Wとself.Bを初期化する\n",
    "        self.W = initializer.W(self.output_channels, self.input_channels, *self.filter_sizes)\n",
    "        self.B = initializer.B(self.output_channels)\n",
    "        \n",
    "        # optimizerがAdagradの時に使う\n",
    "        self.H_W = np.ones((self.output_channels, self.input_channels, *self.filter_sizes))\n",
    "        self.H_B = np.ones(output_channels)\n",
    "        \n",
    "        \n",
    "    def padding_nums(self, input_nums):\n",
    "        if self.padding == 'SAME':\n",
    "            pad_nums_h = int(np.ceil((self.stride_sizes[0] * (input_nums[0]-1) - input_nums[0] + self.filter_sizes[0]) / 2))\n",
    "            pad_nums_w = int(np.ceil((self.stride_sizes[1] * (input_nums[1]-1) - input_nums[1] + self.filter_sizes[1]) / 2))\n",
    "        elif self.padding == 'VALID':\n",
    "            pad_nums_h, pad_nums_w = 0, 0\n",
    "        else:\n",
    "            pad_nums_h, pad_nums_w = self.padding\n",
    "        return pad_nums_h, pad_nums_w\n",
    "\n",
    "    def zero_padding_2d(self, X):\n",
    "        input_nums = X.shape[-2:]\n",
    "        self.pad_nums = self.padding_nums(input_nums)\n",
    "        \n",
    "        pad_width = [(0, 0) for _ in range(X.ndim-2)] + [(self.pad_nums[0], self.pad_nums[0])] + [(self.pad_nums[1], self.pad_nums[1])]\n",
    "        return np.pad(X, pad_width, 'constant')\n",
    "    \n",
    "    def calc_output_nums(self, input_nums, pad_nums, filter_sizes, stride_sizes):\n",
    "        output_nums_h = (input_nums[0] + 2*pad_nums[0]- filter_sizes[0]) // stride_sizes[0] + 1\n",
    "        output_nums_w = (input_nums[1] + 2*pad_nums[1] - filter_sizes[1]) // stride_sizes[1] + 1\n",
    "        return output_nums_h, output_nums_w\n",
    "    \n",
    "    def forward(self, X):\n",
    "        \"\"\"\n",
    "        フォワード\n",
    "        Parameters\n",
    "        ----------\n",
    "        X : 次の形のndarray, shape (batch_size, input_channels, Nh_in, Nw_in)\n",
    "            入力\n",
    "        Returns\n",
    "        ----------\n",
    "        A : 次の形のndarray, shape (batch_size, output_channels, output_nums)\n",
    "            出力\n",
    "        \"\"\"\n",
    "        self.X = X\n",
    "        self.batch_size, _, *self.input_nums = X.shape\n",
    "\n",
    "        # パディングの処理、Xにゼロを追加する\n",
    "        self.X = self.zero_padding_2d(X)\n",
    "        \n",
    "        # 出力する特徴量数を計算\n",
    "        Nh_out, Nw_out = self.calc_output_nums(self.input_nums, self.pad_nums, self.filter_sizes, self.stride_sizes)\n",
    "        \n",
    "        # 畳み込みで計算するインデックスを計算\n",
    "        h_indexes = np.array([[i for i in range(j * self.stride_sizes[0], self.filter_sizes[0]+(j * self.stride_sizes[0]))] for j in range(Nh_out)])\n",
    "        w_indexes = np.array([[i for i in range(j * self.stride_sizes[1], self.filter_sizes[1]+(j * self.stride_sizes[1]))] for j in range(Nw_out)])        \n",
    "        \n",
    "        # 畳み込みを実施\n",
    "        calc = np.tensordot(self.X[..., h_indexes, :][..., w_indexes], self.W, axes=([1, 3, 5], [1, 2, 3]))\n",
    "        A = calc.transpose(0, 3, 1, 2) + self.B.reshape(1, -1, 1, 1)\n",
    "        return A\n",
    "    \n",
    "    \n",
    "    def backward(self, dA):\n",
    "        \"\"\"\n",
    "        バックワード\n",
    "        Parameters\n",
    "        ----------\n",
    "        dA : 次の形のndarray, shape (self.output_channels, Nh_out, Nw_out)\n",
    "            後ろから流れてきた勾配\n",
    "        self.X : 次の形のndarray, shape (batch_size, self.input_channles, Nh_in, Nw_in)\n",
    "            入力データ\n",
    "        Returns\n",
    "        ----------\n",
    "        dX : 次の形のndarray, shape (batch_size, self.input_channles, Nh_in, Nw_in)\n",
    "            前に流す勾配\n",
    "        \"\"\"\n",
    "        # print('バックプロパゲーション ')\n",
    "        Nh_out, Nw_out = dA.shape[-2:]\n",
    "        \n",
    "        calc = np.tensordot(dA, self.W, axes=([1], [0]))\n",
    "        \n",
    "        # ゼロのdXの箱を作る\n",
    "        dX = np.zeros((self.batch_size, self.input_channels, \n",
    "                       max(self.filter_sizes[0]+Nh_out-1, self.input_nums[0]),\n",
    "                       max(self.filter_sizes[1]+Nw_out-1, self.input_nums[1])))\n",
    "        \n",
    "        for i in range(Nh_out):\n",
    "            for j in range(Nw_out):\n",
    "                dX[..., i:i+self.filter_sizes[0], j:j+self.filter_sizes[1]] += calc[:, i, j]\n",
    "                \n",
    "        # inputのサイズに合わせる\n",
    "        dX = dX[..., 0:self.input_nums[0], 0:self.input_nums[1]]\n",
    "        \n",
    "        # 更新\n",
    "        self = self.optimizer.update_Conv2d(self, dA)\n",
    "        return dX"
   ]
  },
  {
   "cell_type": "markdown",
   "metadata": {},
   "source": [
    "#### class Initializer"
   ]
  },
  {
   "cell_type": "code",
   "execution_count": 4,
   "metadata": {},
   "outputs": [],
   "source": [
    "class SimpleInitializer:\n",
    "    \"\"\"\n",
    "    ガウス分布によるシンプルな初期化\n",
    "    Parameters\n",
    "    ----------\n",
    "    sigma : float\n",
    "      ガウス分布の標準偏差\n",
    "    \"\"\"\n",
    "    def __init__(self, sigma=0.01):\n",
    "        self.sigma = sigma\n",
    "    def W(self, *parameters):\n",
    "        \"\"\"\n",
    "        重みの初期化\n",
    "        Parameters\n",
    "        ----------\n",
    "        Conv2d\n",
    "            output_channels : int 出力チャネル数\n",
    "            input_channels : int 入力チャネル数\n",
    "            filter_sizes : tuple フィルター数\n",
    "                filter_sizes_h, filter_sizes_w\n",
    "        Conv1d\n",
    "            output_channels : int 出力チャネル数\n",
    "            input_channels : int 入力チャネル数\n",
    "            filter_sizes : int フィルター数\n",
    "        Affine\n",
    "            n_nodes1 : int 前の層のノード数\n",
    "            n_nodes2 : int 後の層のノード数\n",
    "        Returns\n",
    "        ----------\n",
    "        W : shape(*parameters)\n",
    "        \"\"\"\n",
    "        W = self.sigma * np.random.randn(*parameters)\n",
    "        return W\n",
    "    def B(self, output_channels):\n",
    "        \"\"\"\n",
    "        バイアスの初期化\n",
    "        Parameters\n",
    "        ----------\n",
    "        Conv2d\n",
    "            output_channels : int 出力チャネル数\n",
    "        Conv1d\n",
    "            output_channels : int 出力チャネル数\n",
    "        Affine\n",
    "            n_node2 : int 後の層のノード数\n",
    "        Returns\n",
    "        ----------\n",
    "        B :\n",
    "        \"\"\"\n",
    "        B = self.sigma * np.random.randn(output_channels)\n",
    "        return B"
   ]
  },
  {
   "cell_type": "code",
   "execution_count": 5,
   "metadata": {},
   "outputs": [],
   "source": [
    "class XavierInitializer:\n",
    "    \"\"\"\n",
    "    Xavierによる初期化\n",
    "    Parameters\n",
    "    ----------\n",
    "    前の層のノード数の逆数の平方根を標準偏差とする分布\n",
    "    \"\"\"\n",
    "    def W(self, *parameters):\n",
    "        \"\"\"\n",
    "        重みの初期化\n",
    "        Parameters\n",
    "        ----------\n",
    "        Conv2d\n",
    "            output_channels : int 出力チャネル数\n",
    "            input_channels : int 入力チャネル数\n",
    "            filter_sizes : tuple フィルター数\n",
    "                filter_sizes_h, filter_sizes_w\n",
    "        Conv1d\n",
    "            output_channels : int 出力チャネル数\n",
    "            input_channels : int 入力チャネル数\n",
    "            filter_sizes : int フィルター数\n",
    "        Affine\n",
    "            n_nodes1 : int 前の層のノード数\n",
    "            n_nodes2 : int 後の層のノード数\n",
    "        Returns\n",
    "        ----------\n",
    "        W : shape(*parameters)\n",
    "        \"\"\"\n",
    "        if len(parameters) == 2:\n",
    "            sigma = np.sqrt(1 / parameters[0])\n",
    "        else:\n",
    "            sigma = np.sqrt(1 / parameters[1])\n",
    "        W = sigma * np.random.randn(*parameters)\n",
    "        return W\n",
    "        \n",
    "    def B(self, output_channels):\n",
    "        \"\"\"\n",
    "        バイアスの初期化\n",
    "        Parameters\n",
    "        ----------\n",
    "        Conv2d\n",
    "            output_channels : int 出力チャネル数\n",
    "        Conv1d\n",
    "            output_channels : int 出力チャネル数\n",
    "        Affine\n",
    "            n_node2 : int 後の層のノード数\n",
    "        Returns\n",
    "        ----------\n",
    "        B :\n",
    "        \"\"\"\n",
    "        B = np.zeros(output_channels)\n",
    "        return B"
   ]
  },
  {
   "cell_type": "code",
   "execution_count": 6,
   "metadata": {},
   "outputs": [],
   "source": [
    "class HeInitializer:\n",
    "    \"\"\"\n",
    "    Heによる初期化\n",
    "    Parameters\n",
    "    ----------\n",
    "    前の層のノード数の逆数を２倍した平方根を標準偏差とする分布\n",
    "    \"\"\"\n",
    "    def W(self, *parameters):\n",
    "        \"\"\"\n",
    "        重みの初期化\n",
    "        Parameters\n",
    "        ----------\n",
    "        Conv2d\n",
    "            output_channels : int 出力チャネル数\n",
    "            input_channels : int 入力チャネル数\n",
    "            filter_sizes : tuple フィルター数\n",
    "                filter_sizes_h, filter_sizes_w\n",
    "        Conv1d\n",
    "            output_channels : int 出力チャネル数\n",
    "            input_channels : int 入力チャネル数\n",
    "            filter_sizes : int フィルター数\n",
    "        Affine\n",
    "            n_nodes1 : int 前の層のノード数\n",
    "            n_nodes2 : int 後の層のノード数\n",
    "        Returns\n",
    "        ----------\n",
    "        W : shape(*parameters)\n",
    "        \"\"\"\n",
    "        if len(parameters) == 2:\n",
    "            sigma = np.sqrt(2 / parameters[0])\n",
    "        else:\n",
    "            sigma = np.sqrt(2 / parameters[1])\n",
    "        W = sigma * np.random.randn(*parameters)\n",
    "        return W\n",
    "        \n",
    "    def B(self, output_channels):\n",
    "        \"\"\"\n",
    "        バイアスの初期化\n",
    "        Parameters\n",
    "        ----------\n",
    "        Conv2d\n",
    "            output_channels : int 出力チャネル数\n",
    "        Conv1d\n",
    "            output_channels : int 出力チャネル数\n",
    "        Affine\n",
    "            n_node2 : int 後の層のノード数\n",
    "        Returns\n",
    "        ----------\n",
    "        B :\n",
    "        \"\"\"\n",
    "        B = np.zeros(output_channels)\n",
    "        return B"
   ]
  },
  {
   "cell_type": "markdown",
   "metadata": {},
   "source": [
    "#### class Optimizer"
   ]
  },
  {
   "cell_type": "code",
   "execution_count": 7,
   "metadata": {},
   "outputs": [],
   "source": [
    "class SGD:\n",
    "    \"\"\"\n",
    "    確率的勾配降下法\n",
    "    Parameters\n",
    "    ----------\n",
    "    lr : 学習率\n",
    "    \"\"\"\n",
    "    def __init__(self, lr=0.001):\n",
    "        self.lr = lr\n",
    "    def update_Conv2d(self, layer, dA):\n",
    "        \"\"\"\n",
    "        Conv2d層の重みやバイアスの更新\n",
    "        Parameters\n",
    "        ----------\n",
    "        layer : 更新前の層のインスタンス\n",
    "        dA : 次の形のndarray, shape (batch_size, layer.output_channels, Nh_out, Nw_out)\n",
    "            後ろから流れてきた勾配\n",
    "        \"\"\"\n",
    "        # dAのbatch_size, N_outの軸に沿って合計する\n",
    "        dB = dA.sum(axis=3).sum(axis=2).sum(axis=0)\n",
    "        \n",
    "        Nh_out, Nw_out = dA.shape[-2:]\n",
    "        \n",
    "        # インデックス取得\n",
    "        h_indexes = np.array([[i for i in range(j, layer.stride_sizes[0] * Nh_out + j, layer.stride_sizes[0])] for j in range(layer.filter_sizes[0])])\n",
    "        w_indexes = np.array([[i for i in range(j, layer.stride_sizes[1] * Nw_out + j, layer.stride_sizes[1])] for j in range(layer.filter_sizes[1])])\n",
    "        \n",
    "        extract_X = layer.X[..., h_indexes, :][..., w_indexes]\n",
    "        dW = np.tensordot(dA, extract_X, axes=([0, 2, 3], [0, 3, 5]))\n",
    "\n",
    "        # バイアス、重みの更新\n",
    "        layer.B = layer.B - dB * self.lr\n",
    "        layer.W = layer.W - dW * self.lr\n",
    "        # print('dB: {}'.format(dB.shape))\n",
    "        # print('dW: {}'.format(dW.shape))\n",
    "        \n",
    "    def update_Conv1d(self, layer, dA):\n",
    "        \"\"\"\n",
    "        Conv1d層の重みやバイアスの更新\n",
    "        Parameters\n",
    "        ----------\n",
    "        layer : 更新前の層のインスタンス\n",
    "        dA : 次の形のndarray, shape (self.batch_size, self.output_channels, output_nums)\n",
    "            後ろから流れてきた勾配\n",
    "        \"\"\"\n",
    "        # 各勾配の計算\n",
    "        # dAのbatch_size, N_outの軸に沿って合計する\n",
    "        axis = dA.ndim-1\n",
    "        dB = dA.sum(axis=axis).sum(axis=0)\n",
    "        \n",
    "        output_nums = dA.shape[-1]\n",
    "        \n",
    "        # 計算するためのインデックスを取得\n",
    "        indexes = np.array([[i for i in range(j, layer.stride_sizes * output_nums + j, layer.stride_sizes)] for j in range(layer.filter_sizes)])        \n",
    "        \n",
    "        # dW　の計算\n",
    "        dW = np.tensordot(dA, layer.X[..., indexes], axes=([0, 2], [0, 3]))\n",
    "        \n",
    "        # バイアス、重みの更新\n",
    "        layer.B = layer.B - dB * self.lr\n",
    "        layer.W = layer.W - dW * self.lr\n",
    "\n",
    "    def update_FC(self, layer, dA):\n",
    "        \"\"\"\n",
    "        ある層の重みやバイアスの更新\n",
    "        Parameters\n",
    "        ----------\n",
    "        layer : 更新前の層のインスタンス\n",
    "        dA : 後ろから流れてきた勾配\n",
    "        \"\"\"\n",
    "        # バイアスの更新\n",
    "        dB = dA.sum(axis=0)\n",
    "        layer.B -= dB * self.lr\n",
    "        # 重みの更新\n",
    "        dW = np.dot(layer.X.T, dA)\n",
    "        layer.W -= dW * self.lr"
   ]
  },
  {
   "cell_type": "code",
   "execution_count": 8,
   "metadata": {},
   "outputs": [],
   "source": [
    "class AdaGrad:\n",
    "    \"\"\"\n",
    "    更新された分だけ、その重みに対する学習率を下げていく\n",
    "    Parameters\n",
    "    --------\n",
    "    lr : 学習率\n",
    "    \"\"\"\n",
    "    def __init__(self, lr=0.001):\n",
    "        self.lr = lr\n",
    "    \n",
    "    def update_Conv2d(self, layer, dA):\n",
    "        \"\"\"\n",
    "        Conv2d層の重みやバイアスの更新\n",
    "        Parameters\n",
    "        ----------\n",
    "        layer : 更新前の層のインスタンス\n",
    "        dA : 次の形のndarray, shape (batch_size, layer.output_channels, Nh_out, Nw_out)\n",
    "            後ろから流れてきた勾配\n",
    "        \"\"\"\n",
    "        # dAのbatch_size, N_outの軸に沿って合計する\n",
    "        dB = dA.sum(axis=3).sum(axis=2).sum(axis=0)\n",
    "        layer.H_B += np.power(dB, 2)\n",
    "        \n",
    "        Nh_out, Nw_out = dA.shape[-2:]\n",
    "        \n",
    "        # インデックス取得\n",
    "        h_indexes = np.array([[i for i in range(j, layer.stride_sizes[0] * Nh_out + j, layer.stride_sizes[0])] for j in range(layer.filter_sizes[0])])\n",
    "        w_indexes = np.array([[i for i in range(j, layer.stride_sizes[1] * Nw_out + j, layer.stride_sizes[1])] for j in range(layer.filter_sizes[1])])\n",
    "        \n",
    "        extract_X = layer.X[..., h_indexes, :][..., w_indexes]\n",
    "        dW = np.tensordot(dA, extract_X, axes=([0, 2, 3], [0, 3, 5]))\n",
    "        layer.H_W += np.power(dW, 2)\n",
    "\n",
    "        # バイアス、重みの更新\n",
    "        layer.B = layer.B - dB * self.lr / np.sqrt(layer.H_B)\n",
    "        layer.W = layer.W - dW * self.lr / np.sqrt(layer.H_W)\n",
    "        # print('dB: {}'.format(dB.shape))\n",
    "        # print('dW: {}'.format(dW.shape))\n",
    "    \n",
    "    def update_Conv1d(self, layer, dA):\n",
    "        \"\"\"\n",
    "        Conv1d層の重みやバイアスの更新\n",
    "        Parameters\n",
    "        ----------\n",
    "        layer : 更新前の層のインスタンス\n",
    "        dA : 次の形のndarray, shape (self.batch_size, self.output_channels, output_nums)\n",
    "            後ろから流れてきた勾配\n",
    "        X : 次の形のndarray, shape (self.batch_size, self.input_channles, input_nums)\n",
    "            入力データ\n",
    "        H_B, H_W : class_Conv1dで初期値1で作成\n",
    "        \"\"\"\n",
    "        # 各勾配の計算\n",
    "        # dAのbatch_size, N_outの軸に沿って合計する\n",
    "        axis = dA.ndim-1\n",
    "        dB = dA.sum(axis=axis).sum(axis=0)\n",
    "        layer.H_B += np.power(dB, 2)\n",
    "        \n",
    "        output_nums = dA.shape[-1]\n",
    "        \n",
    "        # 計算するためのインデックスを取得\n",
    "        indexes = np.array([[i for i in range(j, layer.stride_sizes * output_nums + j, layer.stride_sizes)] for j in range(layer.filter_sizes)])        \n",
    "        \n",
    "        # dW　の計算\n",
    "        dW = np.tensordot(dA, layer.X[..., indexes], axes=([0, 2], [0, 3]))\n",
    "        layer.H_W += np.power(dW, 2)\n",
    "        \n",
    "        # バイアス、重みの更新\n",
    "        layer.B = layer.B - dB * self.lr / np.sqrt(layer.H_B)\n",
    "        layer.W = layer.W - dW * self.lr / np.sqrt(layer.H_W)\n",
    "\n",
    "    def update_FC(self, layer, dA):\n",
    "        \"\"\"\n",
    "        ある層の重みやバイアスの更新\n",
    "        Parameters\n",
    "        ----------\n",
    "        layer : 更新前の層のインスタンス\n",
    "        dA : 後ろから流れてきた勾配\n",
    "        H_B, H_W : class_FCで初期値1で作成\n",
    "        \"\"\"\n",
    "        # バイアスの更新\n",
    "        dB = dA.sum(axis=0)\n",
    "        layer.H_B += np.power(dB, 2)\n",
    "        layer.B -= dB * self.lr / np.sqrt(layer.H_B)\n",
    "        \n",
    "        # 重みの更新\n",
    "        dW = np.dot(layer.X.T, dA)\n",
    "        layer.H_W += np.power(dW, 2)\n",
    "        layer.W -= dW * self.lr / np.sqrt(layer.H_W)"
   ]
  },
  {
   "cell_type": "markdown",
   "metadata": {},
   "source": [
    "- 試しに計算していくための初期値を設定"
   ]
  },
  {
   "cell_type": "code",
   "execution_count": 9,
   "metadata": {},
   "outputs": [],
   "source": [
    "input_channels = 1\n",
    "output_channels = 2\n",
    "filter_sizes = (2, 2)\n",
    "stride_sizes = (1, 1)\n",
    "padding = (0, 0)\n",
    "initializer = SimpleInitializer()\n",
    "optimizer = SGD()\n",
    "conv2d = Conv2d(input_channels, output_channels, filter_sizes, stride_sizes, padding, initializer, optimizer)"
   ]
  },
  {
   "cell_type": "code",
   "execution_count": 10,
   "metadata": {},
   "outputs": [],
   "source": [
    "batch_size = 2\n",
    "input_nums_h = 5\n",
    "input_nums_w = 5"
   ]
  },
  {
   "cell_type": "code",
   "execution_count": 11,
   "metadata": {},
   "outputs": [
    {
     "data": {
      "text/plain": [
       "(array([[[[ 0,  1,  2,  3,  4],\n",
       "          [ 5,  6,  7,  8,  9],\n",
       "          [10, 11, 12, 13, 14],\n",
       "          [15, 16, 17, 18, 19],\n",
       "          [20, 21, 22, 23, 24]]],\n",
       " \n",
       " \n",
       "        [[[25, 26, 27, 28, 29],\n",
       "          [30, 31, 32, 33, 34],\n",
       "          [35, 36, 37, 38, 39],\n",
       "          [40, 41, 42, 43, 44],\n",
       "          [45, 46, 47, 48, 49]]]]),\n",
       " (2, 1, 5, 5))"
      ]
     },
     "execution_count": 11,
     "metadata": {},
     "output_type": "execute_result"
    }
   ],
   "source": [
    "parameters = batch_size, input_channels, input_nums_h, input_nums_w\n",
    "eX = np.arange(np.prod(parameters)).reshape(*parameters)\n",
    "eX, eX.shape"
   ]
  },
  {
   "cell_type": "markdown",
   "metadata": {},
   "source": [
    "- 初期化した重みの確認"
   ]
  },
  {
   "cell_type": "code",
   "execution_count": 12,
   "metadata": {},
   "outputs": [
    {
     "data": {
      "text/plain": [
       "(array([[[[-0.0004071 ,  0.00256137],\n",
       "          [-0.01091916, -0.01291126]]],\n",
       " \n",
       " \n",
       "        [[[ 0.0021517 ,  0.00583977],\n",
       "          [ 0.00606394, -0.01280037]]]]),\n",
       " (2, 1, 2, 2))"
      ]
     },
     "execution_count": 12,
     "metadata": {},
     "output_type": "execute_result"
    }
   ],
   "source": [
    "conv2d.W, conv2d.W.shape"
   ]
  },
  {
   "cell_type": "code",
   "execution_count": 13,
   "metadata": {},
   "outputs": [
    {
     "data": {
      "text/plain": [
       "(array([-0.00578355, -0.0004295 ]), (2,))"
      ]
     },
     "execution_count": 13,
     "metadata": {},
     "output_type": "execute_result"
    }
   ],
   "source": [
    "conv2d.B, conv2d.B.shape"
   ]
  },
  {
   "cell_type": "code",
   "execution_count": 14,
   "metadata": {},
   "outputs": [
    {
     "data": {
      "text/plain": [
       "(array([[[[ 2,  0],\n",
       "          [ 0, -1]]],\n",
       " \n",
       " \n",
       "        [[[-1,  2],\n",
       "          [-1,  0]]]]),\n",
       " (2, 1, 2, 2))"
      ]
     },
     "execution_count": 14,
     "metadata": {},
     "output_type": "execute_result"
    }
   ],
   "source": [
    "eW = np.array([[[2, 0], [0, -1]], [[-1, 2], [-1, 0]]]).reshape(output_channels, input_channels, *filter_sizes)\n",
    "eW, eW.shape"
   ]
  },
  {
   "cell_type": "markdown",
   "metadata": {},
   "source": [
    "##### フォワードプロパゲーション"
   ]
  },
  {
   "cell_type": "markdown",
   "metadata": {},
   "source": [
    "- 入力特徴量数の取得"
   ]
  },
  {
   "cell_type": "code",
   "execution_count": 15,
   "metadata": {
    "scrolled": true
   },
   "outputs": [
    {
     "data": {
      "text/plain": [
       "(5, 5)"
      ]
     },
     "execution_count": 15,
     "metadata": {},
     "output_type": "execute_result"
    }
   ],
   "source": [
    "input_nums = eX.shape[-2:]\n",
    "input_nums"
   ]
  },
  {
   "cell_type": "markdown",
   "metadata": {},
   "source": [
    "- パディングの処理"
   ]
  },
  {
   "cell_type": "code",
   "execution_count": 16,
   "metadata": {},
   "outputs": [],
   "source": [
    "def padding_nums(input_nums):\n",
    "    if padding == 'SAME':\n",
    "        pad_nums_h = int(np.ceil((stride_sizes[0] * (input_nums[0]-1) - input_nums[0] + filter_sizes[0]) / 2))\n",
    "        pad_nums_w = int(np.ceil((stride_sizes[1] * (input_nums[1]-1) - input_nums[1] + filter_sizes[1]) / 2))\n",
    "    elif padding == 'VALID':\n",
    "        pad_nums_h, pad_nums_w = 0, 0\n",
    "    else:\n",
    "        pad_nums_h, pad_nums_w = padding\n",
    "    return pad_nums_h, pad_nums_w"
   ]
  },
  {
   "cell_type": "code",
   "execution_count": 17,
   "metadata": {},
   "outputs": [
    {
     "data": {
      "text/plain": [
       "(0, 0)"
      ]
     },
     "execution_count": 17,
     "metadata": {},
     "output_type": "execute_result"
    }
   ],
   "source": [
    "pad_nums = padding_nums(input_nums)\n",
    "pad_nums"
   ]
  },
  {
   "cell_type": "code",
   "execution_count": 18,
   "metadata": {},
   "outputs": [],
   "source": [
    "def zero_padding_2d(X):\n",
    "    pad_width = [(0, 0) for _ in range(X.ndim-2)] + [(pad_nums[0], pad_nums[0])] + [(pad_nums[1], pad_nums[1])]\n",
    "    return np.pad(X, pad_width, 'constant')"
   ]
  },
  {
   "cell_type": "code",
   "execution_count": 19,
   "metadata": {},
   "outputs": [
    {
     "data": {
      "text/plain": [
       "(array([[[[ 0,  1,  2,  3,  4],\n",
       "          [ 5,  6,  7,  8,  9],\n",
       "          [10, 11, 12, 13, 14],\n",
       "          [15, 16, 17, 18, 19],\n",
       "          [20, 21, 22, 23, 24]]],\n",
       " \n",
       " \n",
       "        [[[25, 26, 27, 28, 29],\n",
       "          [30, 31, 32, 33, 34],\n",
       "          [35, 36, 37, 38, 39],\n",
       "          [40, 41, 42, 43, 44],\n",
       "          [45, 46, 47, 48, 49]]]]),\n",
       " (2, 1, 5, 5))"
      ]
     },
     "execution_count": 19,
     "metadata": {},
     "output_type": "execute_result"
    }
   ],
   "source": [
    "local_eX = zero_padding_2d(eX)\n",
    "local_eX, local_eX.shape"
   ]
  },
  {
   "cell_type": "markdown",
   "metadata": {},
   "source": [
    "- 出力数の計算"
   ]
  },
  {
   "cell_type": "code",
   "execution_count": 20,
   "metadata": {},
   "outputs": [
    {
     "data": {
      "text/plain": [
       "(4, 4)"
      ]
     },
     "execution_count": 20,
     "metadata": {},
     "output_type": "execute_result"
    }
   ],
   "source": [
    "Nh_out, Nw_out = calc_output_nums(input_nums=input_nums, pad_nums=pad_nums, filter_sizes=filter_sizes, stride_sizes=stride_sizes)\n",
    "Nh_out, Nw_out"
   ]
  },
  {
   "cell_type": "markdown",
   "metadata": {},
   "source": [
    "- 畳み込み計算するインデックスの取得"
   ]
  },
  {
   "cell_type": "code",
   "execution_count": 21,
   "metadata": {},
   "outputs": [],
   "source": [
    "h_indexes = np.array([[i for i in range(j * stride_sizes[0], filter_sizes[0]+(j * stride_sizes[0]))] for j in range(Nh_out)])\n",
    "w_indexes = np.array([[i for i in range(j * stride_sizes[1], filter_sizes[1]+(j * stride_sizes[1]))] for j in range(Nw_out)])"
   ]
  },
  {
   "cell_type": "code",
   "execution_count": 22,
   "metadata": {},
   "outputs": [
    {
     "data": {
      "text/plain": [
       "(array([[0, 1],\n",
       "        [1, 2],\n",
       "        [2, 3],\n",
       "        [3, 4]]),\n",
       " (4, 2))"
      ]
     },
     "execution_count": 22,
     "metadata": {},
     "output_type": "execute_result"
    }
   ],
   "source": [
    "h_indexes, h_indexes.shape #(output_nums_h, F_h)"
   ]
  },
  {
   "cell_type": "code",
   "execution_count": 23,
   "metadata": {},
   "outputs": [
    {
     "data": {
      "text/plain": [
       "(array([[0, 1],\n",
       "        [1, 2],\n",
       "        [2, 3],\n",
       "        [3, 4]]),\n",
       " (4, 2))"
      ]
     },
     "execution_count": 23,
     "metadata": {},
     "output_type": "execute_result"
    }
   ],
   "source": [
    "w_indexes, w_indexes.shape #(output_nums_w, F_w)"
   ]
  },
  {
   "cell_type": "markdown",
   "metadata": {},
   "source": [
    "- 軸に沿ってXにインデックスを代入\n",
    "- 行方向で取りたい"
   ]
  },
  {
   "cell_type": "code",
   "execution_count": 24,
   "metadata": {},
   "outputs": [
    {
     "data": {
      "text/plain": [
       "(array([[[[[ 0,  1,  2,  3,  4],\n",
       "           [ 5,  6,  7,  8,  9]],\n",
       " \n",
       "          [[ 5,  6,  7,  8,  9],\n",
       "           [10, 11, 12, 13, 14]],\n",
       " \n",
       "          [[10, 11, 12, 13, 14],\n",
       "           [15, 16, 17, 18, 19]],\n",
       " \n",
       "          [[15, 16, 17, 18, 19],\n",
       "           [20, 21, 22, 23, 24]]]],\n",
       " \n",
       " \n",
       " \n",
       "        [[[[25, 26, 27, 28, 29],\n",
       "           [30, 31, 32, 33, 34]],\n",
       " \n",
       "          [[30, 31, 32, 33, 34],\n",
       "           [35, 36, 37, 38, 39]],\n",
       " \n",
       "          [[35, 36, 37, 38, 39],\n",
       "           [40, 41, 42, 43, 44]],\n",
       " \n",
       "          [[40, 41, 42, 43, 44],\n",
       "           [45, 46, 47, 48, 49]]]]]),\n",
       " (2, 1, 4, 2, 5))"
      ]
     },
     "execution_count": 24,
     "metadata": {},
     "output_type": "execute_result"
    }
   ],
   "source": [
    "local_eX[..., h_indexes, :], local_eX[..., h_indexes, :].shape"
   ]
  },
  {
   "cell_type": "markdown",
   "metadata": {},
   "source": [
    "- 列方向で取りたい"
   ]
  },
  {
   "cell_type": "code",
   "execution_count": 25,
   "metadata": {},
   "outputs": [
    {
     "data": {
      "text/plain": [
       "(array([[[[[ 0,  1],\n",
       "           [ 1,  2],\n",
       "           [ 2,  3],\n",
       "           [ 3,  4]],\n",
       " \n",
       "          [[ 5,  6],\n",
       "           [ 6,  7],\n",
       "           [ 7,  8],\n",
       "           [ 8,  9]],\n",
       " \n",
       "          [[10, 11],\n",
       "           [11, 12],\n",
       "           [12, 13],\n",
       "           [13, 14]],\n",
       " \n",
       "          [[15, 16],\n",
       "           [16, 17],\n",
       "           [17, 18],\n",
       "           [18, 19]],\n",
       " \n",
       "          [[20, 21],\n",
       "           [21, 22],\n",
       "           [22, 23],\n",
       "           [23, 24]]]],\n",
       " \n",
       " \n",
       " \n",
       "        [[[[25, 26],\n",
       "           [26, 27],\n",
       "           [27, 28],\n",
       "           [28, 29]],\n",
       " \n",
       "          [[30, 31],\n",
       "           [31, 32],\n",
       "           [32, 33],\n",
       "           [33, 34]],\n",
       " \n",
       "          [[35, 36],\n",
       "           [36, 37],\n",
       "           [37, 38],\n",
       "           [38, 39]],\n",
       " \n",
       "          [[40, 41],\n",
       "           [41, 42],\n",
       "           [42, 43],\n",
       "           [43, 44]],\n",
       " \n",
       "          [[45, 46],\n",
       "           [46, 47],\n",
       "           [47, 48],\n",
       "           [48, 49]]]]]),\n",
       " (2, 1, 5, 4, 2))"
      ]
     },
     "execution_count": 25,
     "metadata": {},
     "output_type": "execute_result"
    }
   ],
   "source": [
    "local_eX[..., w_indexes], local_eX[..., w_indexes].shape"
   ]
  },
  {
   "cell_type": "markdown",
   "metadata": {},
   "source": [
    "- 行と列で合わせて代入"
   ]
  },
  {
   "cell_type": "code",
   "execution_count": 26,
   "metadata": {
    "scrolled": true
   },
   "outputs": [
    {
     "name": "stdout",
     "output_type": "stream",
     "text": [
      "[[[[[[ 0  1]\n",
      "     [ 1  2]\n",
      "     [ 2  3]\n",
      "     [ 3  4]]\n",
      "\n",
      "    [[ 5  6]\n",
      "     [ 6  7]\n",
      "     [ 7  8]\n",
      "     [ 8  9]]]\n",
      "\n",
      "\n",
      "   [[[ 5  6]\n",
      "     [ 6  7]\n",
      "     [ 7  8]\n",
      "     [ 8  9]]\n",
      "\n",
      "    [[10 11]\n",
      "     [11 12]\n",
      "     [12 13]\n",
      "     [13 14]]]\n",
      "\n",
      "\n",
      "   [[[10 11]\n",
      "     [11 12]\n",
      "     [12 13]\n",
      "     [13 14]]\n",
      "\n",
      "    [[15 16]\n",
      "     [16 17]\n",
      "     [17 18]\n",
      "     [18 19]]]\n",
      "\n",
      "\n",
      "   [[[15 16]\n",
      "     [16 17]\n",
      "     [17 18]\n",
      "     [18 19]]\n",
      "\n",
      "    [[20 21]\n",
      "     [21 22]\n",
      "     [22 23]\n",
      "     [23 24]]]]]\n",
      "\n",
      "\n",
      "\n",
      "\n",
      " [[[[[25 26]\n",
      "     [26 27]\n",
      "     [27 28]\n",
      "     [28 29]]\n",
      "\n",
      "    [[30 31]\n",
      "     [31 32]\n",
      "     [32 33]\n",
      "     [33 34]]]\n",
      "\n",
      "\n",
      "   [[[30 31]\n",
      "     [31 32]\n",
      "     [32 33]\n",
      "     [33 34]]\n",
      "\n",
      "    [[35 36]\n",
      "     [36 37]\n",
      "     [37 38]\n",
      "     [38 39]]]\n",
      "\n",
      "\n",
      "   [[[35 36]\n",
      "     [36 37]\n",
      "     [37 38]\n",
      "     [38 39]]\n",
      "\n",
      "    [[40 41]\n",
      "     [41 42]\n",
      "     [42 43]\n",
      "     [43 44]]]\n",
      "\n",
      "\n",
      "   [[[40 41]\n",
      "     [41 42]\n",
      "     [42 43]\n",
      "     [43 44]]\n",
      "\n",
      "    [[45 46]\n",
      "     [46 47]\n",
      "     [47 48]\n",
      "     [48 49]]]]]]\n",
      "(2, 1, 4, 2, 4, 2)\n",
      "(batch_size, input_channels, Nout_h, F_h, Nout_w, F_w)\n"
     ]
    }
   ],
   "source": [
    "print(local_eX[..., h_indexes, :][..., w_indexes])\n",
    "print(local_eX[..., h_indexes, :][..., w_indexes].shape)\n",
    "print('(batch_size, input_channels, Nout_h, F_h, Nout_w, F_w)')"
   ]
  },
  {
   "cell_type": "code",
   "execution_count": 27,
   "metadata": {},
   "outputs": [
    {
     "name": "stdout",
     "output_type": "stream",
     "text": [
      "[[[[ 2  0]\n",
      "   [ 0 -1]]]\n",
      "\n",
      "\n",
      " [[[-1  2]\n",
      "   [-1  0]]]]\n",
      "(2, 1, 2, 2)\n",
      "(output_channels, input_channels, F_h, F_w)\n"
     ]
    }
   ],
   "source": [
    "print(eW)\n",
    "print(eW.shape)\n",
    "print('(output_channels, input_channels, F_h, F_w)')"
   ]
  },
  {
   "cell_type": "markdown",
   "metadata": {},
   "source": [
    "- tensordotを行い、input_channels, F_h, F_wを消去"
   ]
  },
  {
   "cell_type": "code",
   "execution_count": 28,
   "metadata": {},
   "outputs": [
    {
     "name": "stdout",
     "output_type": "stream",
     "text": [
      "[[[[-6 -3]\n",
      "   [-5 -3]\n",
      "   [-4 -3]\n",
      "   [-3 -3]]\n",
      "\n",
      "  [[-1 -3]\n",
      "   [ 0 -3]\n",
      "   [ 1 -3]\n",
      "   [ 2 -3]]\n",
      "\n",
      "  [[ 4 -3]\n",
      "   [ 5 -3]\n",
      "   [ 6 -3]\n",
      "   [ 7 -3]]\n",
      "\n",
      "  [[ 9 -3]\n",
      "   [10 -3]\n",
      "   [11 -3]\n",
      "   [12 -3]]]\n",
      "\n",
      "\n",
      " [[[19 -3]\n",
      "   [20 -3]\n",
      "   [21 -3]\n",
      "   [22 -3]]\n",
      "\n",
      "  [[24 -3]\n",
      "   [25 -3]\n",
      "   [26 -3]\n",
      "   [27 -3]]\n",
      "\n",
      "  [[29 -3]\n",
      "   [30 -3]\n",
      "   [31 -3]\n",
      "   [32 -3]]\n",
      "\n",
      "  [[34 -3]\n",
      "   [35 -3]\n",
      "   [36 -3]\n",
      "   [37 -3]]]]\n",
      "(2, 4, 4, 2)\n",
      "(batch_size, Nout_h, Nout_w, output_channels)\n"
     ]
    }
   ],
   "source": [
    "calc = np.tensordot(local_eX[..., h_indexes, :][..., w_indexes], eW, axes=([1, 3, 5], [1, 2, 3]))\n",
    "print(calc)\n",
    "print(calc.shape)\n",
    "print('(batch_size, Nout_h, Nout_w, output_channels)')"
   ]
  },
  {
   "cell_type": "markdown",
   "metadata": {},
   "source": [
    "- 初期化した重みでローカルで計算したもの"
   ]
  },
  {
   "cell_type": "code",
   "execution_count": 29,
   "metadata": {},
   "outputs": [
    {
     "name": "stdout",
     "output_type": "stream",
     "text": [
      "[[[[-1.29501998e-01 -4.06427555e-02]\n",
      "   [-1.51178147e-01 -3.93877158e-02]\n",
      "   [-1.72854296e-01 -3.81326761e-02]\n",
      "   [-1.94530446e-01 -3.68776364e-02]]\n",
      "\n",
      "  [[-2.37882744e-01 -3.43675570e-02]\n",
      "   [-2.59558893e-01 -3.31125173e-02]\n",
      "   [-2.81235043e-01 -3.18574775e-02]\n",
      "   [-3.02911192e-01 -3.06024378e-02]]\n",
      "\n",
      "  [[-3.46263491e-01 -2.80923584e-02]\n",
      "   [-3.67939640e-01 -2.68373187e-02]\n",
      "   [-3.89615789e-01 -2.55822790e-02]\n",
      "   [-4.11291939e-01 -2.43272393e-02]]\n",
      "\n",
      "  [[-4.54644237e-01 -2.18171598e-02]\n",
      "   [-4.76320386e-01 -2.05621201e-02]\n",
      "   [-4.97996536e-01 -1.93070804e-02]\n",
      "   [-5.19672685e-01 -1.80520407e-02]]]\n",
      "\n",
      "\n",
      " [[[-6.71405730e-01 -9.26676268e-03]\n",
      "   [-6.93081879e-01 -8.01172296e-03]\n",
      "   [-7.14758029e-01 -6.75668325e-03]\n",
      "   [-7.36434178e-01 -5.50164353e-03]]\n",
      "\n",
      "  [[-7.79786477e-01 -2.99156411e-03]\n",
      "   [-8.01462626e-01 -1.73652439e-03]\n",
      "   [-8.23138775e-01 -4.81484676e-04]\n",
      "   [-8.44814925e-01  7.73555038e-04]]\n",
      "\n",
      "  [[-8.88167223e-01  3.28363447e-03]\n",
      "   [-9.09843372e-01  4.53867418e-03]\n",
      "   [-9.31519522e-01  5.79371390e-03]\n",
      "   [-9.53195671e-01  7.04875361e-03]]\n",
      "\n",
      "  [[-9.96547970e-01  9.55883304e-03]\n",
      "   [-1.01822412e+00  1.08138728e-02]\n",
      "   [-1.03990027e+00  1.20689125e-02]\n",
      "   [-1.06157642e+00  1.33239522e-02]]]]\n",
      "(2, 4, 4, 2)\n",
      "(batch_size, Nout_h, Nout_w, output_channels)\n"
     ]
    }
   ],
   "source": [
    "calc = np.tensordot(local_eX[..., h_indexes, :][..., w_indexes], conv2d.W, axes=([1, 3, 5], [1, 2, 3]))\n",
    "print(calc)\n",
    "print(calc.shape)\n",
    "print('(batch_size, Nout_h, Nout_w, output_channels)')"
   ]
  },
  {
   "cell_type": "markdown",
   "metadata": {},
   "source": [
    "- output_channelsの位置を変更するために転置をして、バイアスを足す"
   ]
  },
  {
   "cell_type": "code",
   "execution_count": 30,
   "metadata": {},
   "outputs": [
    {
     "name": "stdout",
     "output_type": "stream",
     "text": [
      "[[[[-1.35285549e-01 -1.56961698e-01 -1.78637848e-01 -2.00313997e-01]\n",
      "   [-2.43666296e-01 -2.65342445e-01 -2.87018594e-01 -3.08694744e-01]\n",
      "   [-3.52047042e-01 -3.73723191e-01 -3.95399341e-01 -4.17075490e-01]\n",
      "   [-4.60427789e-01 -4.82103938e-01 -5.03780087e-01 -5.25456237e-01]]\n",
      "\n",
      "  [[-4.10722540e-02 -3.98172143e-02 -3.85621745e-02 -3.73071348e-02]\n",
      "   [-3.47970554e-02 -3.35420157e-02 -3.22869760e-02 -3.10319362e-02]\n",
      "   [-2.85218568e-02 -2.72668171e-02 -2.60117774e-02 -2.47567377e-02]\n",
      "   [-2.22466582e-02 -2.09916185e-02 -1.97365788e-02 -1.84815391e-02]]]\n",
      "\n",
      "\n",
      " [[[-6.77189282e-01 -6.98865431e-01 -7.20541580e-01 -7.42217730e-01]\n",
      "   [-7.85570028e-01 -8.07246177e-01 -8.28922327e-01 -8.50598476e-01]\n",
      "   [-8.93950775e-01 -9.15626924e-01 -9.37303073e-01 -9.58979223e-01]\n",
      "   [-1.00233152e+00 -1.02400767e+00 -1.04568382e+00 -1.06735997e+00]]\n",
      "\n",
      "  [[-9.69626110e-03 -8.44122139e-03 -7.18618167e-03 -5.93114196e-03]\n",
      "   [-3.42106253e-03 -2.16602281e-03 -9.10983100e-04  3.44056614e-04]\n",
      "   [ 2.85413604e-03  4.10917576e-03  5.36421547e-03  6.61925519e-03]\n",
      "   [ 9.12933462e-03  1.03843743e-02  1.16394140e-02  1.28944538e-02]]]]\n",
      "(2, 2, 4, 4)\n",
      "(batch_size, output_channels, Nout_h, Nout_w)\n"
     ]
    }
   ],
   "source": [
    "A = calc.transpose(0, 3, 1, 2) + conv2d.B.reshape(1, -1, 1, 1)\n",
    "print(A)\n",
    "print(A.shape)\n",
    "print('(batch_size, output_channels, Nout_h, Nout_w)')"
   ]
  },
  {
   "cell_type": "markdown",
   "metadata": {},
   "source": [
    "- クラスに反映させクラス内で計算"
   ]
  },
  {
   "cell_type": "code",
   "execution_count": 31,
   "metadata": {},
   "outputs": [
    {
     "data": {
      "text/plain": [
       "(2, 2, 4, 4)"
      ]
     },
     "execution_count": 31,
     "metadata": {},
     "output_type": "execute_result"
    }
   ],
   "source": [
    "conv2d.forward(eX).shape"
   ]
  },
  {
   "cell_type": "markdown",
   "metadata": {},
   "source": [
    "##### バックプロパゲーション"
   ]
  },
  {
   "cell_type": "markdown",
   "metadata": {},
   "source": [
    "- dAはとりあえず上記で計算したものを使う"
   ]
  },
  {
   "cell_type": "code",
   "execution_count": 32,
   "metadata": {},
   "outputs": [
    {
     "name": "stdout",
     "output_type": "stream",
     "text": [
      "[[[[-6 -5 -4 -3]\n",
      "   [-1  0  1  2]\n",
      "   [ 4  5  6  7]\n",
      "   [ 9 10 11 12]]\n",
      "\n",
      "  [[-3 -3 -3 -3]\n",
      "   [-3 -3 -3 -3]\n",
      "   [-3 -3 -3 -3]\n",
      "   [-3 -3 -3 -3]]]\n",
      "\n",
      "\n",
      " [[[19 20 21 22]\n",
      "   [24 25 26 27]\n",
      "   [29 30 31 32]\n",
      "   [34 35 36 37]]\n",
      "\n",
      "  [[-3 -3 -3 -3]\n",
      "   [-3 -3 -3 -3]\n",
      "   [-3 -3 -3 -3]\n",
      "   [-3 -3 -3 -3]]]]\n",
      "(2, 2, 4, 4)\n",
      "(batch_size, output_channels, Nh_out, Nw_out)\n"
     ]
    }
   ],
   "source": [
    "dA = np.tensordot(local_eX[..., h_indexes, :][..., w_indexes], eW, axes=([1, 3, 5], [1, 2, 3])).transpose(0, 3, 1, 2)\n",
    "print(dA)\n",
    "print(dA.shape)\n",
    "print('(batch_size, output_channels, Nh_out, Nw_out)')"
   ]
  },
  {
   "cell_type": "markdown",
   "metadata": {},
   "source": [
    "- dBを計算"
   ]
  },
  {
   "cell_type": "markdown",
   "metadata": {},
   "source": [
    "$$\n",
    "\\frac{\\partial L}{\\partial b_{m}} = \\sum_{i=0}^{N_{out,h}-1}\\sum_{j=0}^{N_{out,w}-1}\\frac{\\partial L}{\\partial a_{i,j,m}}\n",
    "$$\n",
    "\n",
    "$\\frac{\\partial L}{\\partial a_i}$ : 勾配の配列のi行j列、mチャンネルの値\n",
    "\n",
    "$N_{out,h},N_{out,w}$ : 高さ方向（h）と幅方向（w）の出力のサイズ"
   ]
  },
  {
   "cell_type": "code",
   "execution_count": 33,
   "metadata": {},
   "outputs": [
    {
     "name": "stdout",
     "output_type": "stream",
     "text": [
      "[496 -96]\n",
      "(2,)\n",
      "(output_channels, )\n"
     ]
    }
   ],
   "source": [
    "# dAのbatch_size, Nout_h, Nout_wの軸に沿って合計する\n",
    "dB = dA.sum(axis=3).sum(axis=2).sum(axis=0)\n",
    "print(dB)\n",
    "print(dB.shape)\n",
    "print('(output_channels, )')"
   ]
  },
  {
   "cell_type": "markdown",
   "metadata": {},
   "source": [
    "- dWを計算"
   ]
  },
  {
   "cell_type": "markdown",
   "metadata": {},
   "source": [
    "$$\n",
    "\\frac{\\partial L}{\\partial w_{s,t,k,m}} = \\sum_{i=0}^{N_{out,h}-1}\\sum_{j=0}^{N_{out,w}-1} \\frac{\\partial L}{\\partial a_{i,j,m}}x_{(i+s)(j+t),k}\n",
    "$$\n",
    "\n",
    "$\\frac{\\partial L}{\\partial a_i}$ : 勾配の配列のi行j列、mチャンネルの値\n",
    "\n",
    "$N_{out,h},N_{out,w}$ : 高さ方向（h）と幅方向（w）の出力のサイズ"
   ]
  },
  {
   "cell_type": "markdown",
   "metadata": {},
   "source": [
    "- インデックスを取得してXを抽出"
   ]
  },
  {
   "cell_type": "code",
   "execution_count": 34,
   "metadata": {},
   "outputs": [
    {
     "data": {
      "text/plain": [
       "(array([[0, 1, 2, 3],\n",
       "        [1, 2, 3, 4]]),\n",
       " array([[0, 1, 2, 3],\n",
       "        [1, 2, 3, 4]]))"
      ]
     },
     "execution_count": 34,
     "metadata": {},
     "output_type": "execute_result"
    }
   ],
   "source": [
    "h_indexes = np.array([[i for i in range(j, stride_sizes[0] * Nh_out + j, stride_sizes[0])] for j in range(filter_sizes[0])])\n",
    "w_indexes = np.array([[i for i in range(j, stride_sizes[1] * Nw_out + j, stride_sizes[1])] for j in range(filter_sizes[1])])\n",
    "h_indexes, w_indexes"
   ]
  },
  {
   "cell_type": "code",
   "execution_count": 35,
   "metadata": {},
   "outputs": [
    {
     "name": "stdout",
     "output_type": "stream",
     "text": [
      "[[[[[[ 0  1  2  3]\n",
      "     [ 1  2  3  4]]\n",
      "\n",
      "    [[ 5  6  7  8]\n",
      "     [ 6  7  8  9]]\n",
      "\n",
      "    [[10 11 12 13]\n",
      "     [11 12 13 14]]\n",
      "\n",
      "    [[15 16 17 18]\n",
      "     [16 17 18 19]]]\n",
      "\n",
      "\n",
      "   [[[ 5  6  7  8]\n",
      "     [ 6  7  8  9]]\n",
      "\n",
      "    [[10 11 12 13]\n",
      "     [11 12 13 14]]\n",
      "\n",
      "    [[15 16 17 18]\n",
      "     [16 17 18 19]]\n",
      "\n",
      "    [[20 21 22 23]\n",
      "     [21 22 23 24]]]]]\n",
      "\n",
      "\n",
      "\n",
      "\n",
      " [[[[[25 26 27 28]\n",
      "     [26 27 28 29]]\n",
      "\n",
      "    [[30 31 32 33]\n",
      "     [31 32 33 34]]\n",
      "\n",
      "    [[35 36 37 38]\n",
      "     [36 37 38 39]]\n",
      "\n",
      "    [[40 41 42 43]\n",
      "     [41 42 43 44]]]\n",
      "\n",
      "\n",
      "   [[[30 31 32 33]\n",
      "     [31 32 33 34]]\n",
      "\n",
      "    [[35 36 37 38]\n",
      "     [36 37 38 39]]\n",
      "\n",
      "    [[40 41 42 43]\n",
      "     [41 42 43 44]]\n",
      "\n",
      "    [[45 46 47 48]\n",
      "     [46 47 48 49]]]]]]\n",
      "(2, 1, 2, 4, 2, 4)\n",
      "(batch_size, input_channels, F_h, Nh_out, F_w, Nw_out)\n"
     ]
    }
   ],
   "source": [
    "extract_X = local_eX[..., h_indexes, :][..., w_indexes]\n",
    "print(extract_X)\n",
    "print(extract_X.shape)\n",
    "print('(batch_size, input_channels, F_h, Nh_out, F_w, Nw_out)')"
   ]
  },
  {
   "cell_type": "markdown",
   "metadata": {},
   "source": [
    "- tensordotを行い、batch_size, Nh_out, Nw_outを消去してdWを計算"
   ]
  },
  {
   "cell_type": "code",
   "execution_count": 36,
   "metadata": {},
   "outputs": [
    {
     "name": "stdout",
     "output_type": "stream",
     "text": [
      "[[[[16704 17200]\n",
      "   [19184 19680]]]\n",
      "\n",
      "\n",
      " [[[-2064 -2160]\n",
      "   [-2544 -2640]]]]\n",
      "(2, 1, 2, 2)\n",
      "(output_channels, input_channels, F_h, F_w)\n"
     ]
    }
   ],
   "source": [
    "dW = np.tensordot(dA, extract_X, axes=([0, 2, 3], [0, 3, 5]))\n",
    "print(dW)\n",
    "print(dW.shape)\n",
    "print('(output_channels, input_channels, F_h, F_w)')"
   ]
  },
  {
   "cell_type": "markdown",
   "metadata": {},
   "source": [
    "- dXを計算"
   ]
  },
  {
   "cell_type": "markdown",
   "metadata": {},
   "source": [
    "$$\n",
    "\\frac{\\partial L}{\\partial x_{i,j,k}} = \\sum_{m=0}^{M-1}\\sum_{s=0}^{F_{h}-1}\\sum_{t=0}^{F_{w}-1} \\frac{\\partial L}{\\partial a_{(i-s),(j-t),m}}w_{s,t,k,m}\n",
    "$$\n",
    "$\\frac{\\partial L}{\\partial x_{i,j,k}}$ : 前の層に流す誤差の配列のi列j行、kチャンネルの値\n",
    "\n",
    "$M$ : 出力チャンネル数\n",
    "\n",
    "ただし、 $i-s<0$ または $i-s>N_{out,h}-1$ または $j-t<0$ または $j-t>N_{out,w}-1$ のとき $\\frac{\\partial L}{\\partial a_{(i-s),(j-t),m}} =0$ です。"
   ]
  },
  {
   "cell_type": "code",
   "execution_count": 37,
   "metadata": {},
   "outputs": [
    {
     "name": "stdout",
     "output_type": "stream",
     "text": [
      "(2, 2, 4, 4)\n",
      "(batch_size, output_channels, Nh_out, Nw_out)\n"
     ]
    }
   ],
   "source": [
    "print(dA.shape)\n",
    "print('(batch_size, output_channels, Nh_out, Nw_out)')"
   ]
  },
  {
   "cell_type": "code",
   "execution_count": 38,
   "metadata": {},
   "outputs": [
    {
     "name": "stdout",
     "output_type": "stream",
     "text": [
      "(2, 1, 2, 2)\n",
      "(output_channels, input_channels, F_h, F_w)\n"
     ]
    }
   ],
   "source": [
    "print(eW.shape)\n",
    "print('(output_channels, input_channels, F_h, F_w)')"
   ]
  },
  {
   "cell_type": "markdown",
   "metadata": {},
   "source": [
    "- tensordotを行い、output_channelsを消去"
   ]
  },
  {
   "cell_type": "code",
   "execution_count": 39,
   "metadata": {},
   "outputs": [
    {
     "name": "stdout",
     "output_type": "stream",
     "text": [
      "[[[[[[ -9  -6]\n",
      "     [  3   6]]]\n",
      "\n",
      "\n",
      "   [[[ -7  -6]\n",
      "     [  3   5]]]\n",
      "\n",
      "\n",
      "   [[[ -5  -6]\n",
      "     [  3   4]]]\n",
      "\n",
      "\n",
      "   [[[ -3  -6]\n",
      "     [  3   3]]]]\n",
      "\n",
      "\n",
      "\n",
      "  [[[[  1  -6]\n",
      "     [  3   1]]]\n",
      "\n",
      "\n",
      "   [[[  3  -6]\n",
      "     [  3   0]]]\n",
      "\n",
      "\n",
      "   [[[  5  -6]\n",
      "     [  3  -1]]]\n",
      "\n",
      "\n",
      "   [[[  7  -6]\n",
      "     [  3  -2]]]]\n",
      "\n",
      "\n",
      "\n",
      "  [[[[ 11  -6]\n",
      "     [  3  -4]]]\n",
      "\n",
      "\n",
      "   [[[ 13  -6]\n",
      "     [  3  -5]]]\n",
      "\n",
      "\n",
      "   [[[ 15  -6]\n",
      "     [  3  -6]]]\n",
      "\n",
      "\n",
      "   [[[ 17  -6]\n",
      "     [  3  -7]]]]\n",
      "\n",
      "\n",
      "\n",
      "  [[[[ 21  -6]\n",
      "     [  3  -9]]]\n",
      "\n",
      "\n",
      "   [[[ 23  -6]\n",
      "     [  3 -10]]]\n",
      "\n",
      "\n",
      "   [[[ 25  -6]\n",
      "     [  3 -11]]]\n",
      "\n",
      "\n",
      "   [[[ 27  -6]\n",
      "     [  3 -12]]]]]\n",
      "\n",
      "\n",
      "\n",
      "\n",
      " [[[[[ 41  -6]\n",
      "     [  3 -19]]]\n",
      "\n",
      "\n",
      "   [[[ 43  -6]\n",
      "     [  3 -20]]]\n",
      "\n",
      "\n",
      "   [[[ 45  -6]\n",
      "     [  3 -21]]]\n",
      "\n",
      "\n",
      "   [[[ 47  -6]\n",
      "     [  3 -22]]]]\n",
      "\n",
      "\n",
      "\n",
      "  [[[[ 51  -6]\n",
      "     [  3 -24]]]\n",
      "\n",
      "\n",
      "   [[[ 53  -6]\n",
      "     [  3 -25]]]\n",
      "\n",
      "\n",
      "   [[[ 55  -6]\n",
      "     [  3 -26]]]\n",
      "\n",
      "\n",
      "   [[[ 57  -6]\n",
      "     [  3 -27]]]]\n",
      "\n",
      "\n",
      "\n",
      "  [[[[ 61  -6]\n",
      "     [  3 -29]]]\n",
      "\n",
      "\n",
      "   [[[ 63  -6]\n",
      "     [  3 -30]]]\n",
      "\n",
      "\n",
      "   [[[ 65  -6]\n",
      "     [  3 -31]]]\n",
      "\n",
      "\n",
      "   [[[ 67  -6]\n",
      "     [  3 -32]]]]\n",
      "\n",
      "\n",
      "\n",
      "  [[[[ 71  -6]\n",
      "     [  3 -34]]]\n",
      "\n",
      "\n",
      "   [[[ 73  -6]\n",
      "     [  3 -35]]]\n",
      "\n",
      "\n",
      "   [[[ 75  -6]\n",
      "     [  3 -36]]]\n",
      "\n",
      "\n",
      "   [[[ 77  -6]\n",
      "     [  3 -37]]]]]]\n",
      "(2, 4, 4, 1, 2, 2)\n",
      "(batch_size, Nh_out, Nw_out, input_channels, F_h, F_w)\n"
     ]
    }
   ],
   "source": [
    "calc = np.tensordot(dA, eW, axes=([1], [0]))\n",
    "print(calc)\n",
    "print(calc.shape)\n",
    "print('(batch_size, Nh_out, Nw_out, input_channels, F_h, F_w)')"
   ]
  },
  {
   "cell_type": "markdown",
   "metadata": {},
   "source": [
    "- Nh_out, Nw_outにそって順番に取り出し足していく"
   ]
  },
  {
   "cell_type": "code",
   "execution_count": 40,
   "metadata": {},
   "outputs": [
    {
     "data": {
      "text/plain": [
       "(2, 1, 5, 5)"
      ]
     },
     "execution_count": 40,
     "metadata": {},
     "output_type": "execute_result"
    }
   ],
   "source": [
    "# からのdXの箱を作る\n",
    "dX = np.zeros((batch_size, input_channels, filter_sizes[0]+Nh_out-1, filter_sizes[1]+Nw_out-1))\n",
    "dX.shape"
   ]
  },
  {
   "cell_type": "code",
   "execution_count": 41,
   "metadata": {},
   "outputs": [
    {
     "name": "stdout",
     "output_type": "stream",
     "text": [
      "[[[[ -9. -13. -11.  -9.  -6.]\n",
      "   [  4.   6.   7.   8.  -3.]\n",
      "   [ 14.  11.  12.  13.  -8.]\n",
      "   [ 24.  16.  17.  18. -13.]\n",
      "   [  3.  -6.  -7.  -8. -12.]]]\n",
      "\n",
      "\n",
      " [[[ 41.  37.  39.  41.  -6.]\n",
      "   [ 54.  31.  32.  33. -28.]\n",
      "   [ 64.  36.  37.  38. -33.]\n",
      "   [ 74.  41.  42.  43. -38.]\n",
      "   [  3. -31. -32. -33. -37.]]]]\n",
      "(2, 1, 5, 5)\n"
     ]
    }
   ],
   "source": [
    "for i in range(Nh_out):\n",
    "    for j in range(Nw_out):\n",
    "        dX[..., i:i+filter_sizes[0], j:j+filter_sizes[1]] += calc[:, i, j]\n",
    "print(dX)\n",
    "print(dX.shape)"
   ]
  },
  {
   "cell_type": "markdown",
   "metadata": {},
   "source": [
    "- 最後に入力時のサイズに合わせる"
   ]
  },
  {
   "cell_type": "code",
   "execution_count": 42,
   "metadata": {},
   "outputs": [
    {
     "name": "stdout",
     "output_type": "stream",
     "text": [
      "[[[[ -9. -13. -11.  -9.  -6.]\n",
      "   [  4.   6.   7.   8.  -3.]\n",
      "   [ 14.  11.  12.  13.  -8.]\n",
      "   [ 24.  16.  17.  18. -13.]\n",
      "   [  3.  -6.  -7.  -8. -12.]]]\n",
      "\n",
      "\n",
      " [[[ 41.  37.  39.  41.  -6.]\n",
      "   [ 54.  31.  32.  33. -28.]\n",
      "   [ 64.  36.  37.  38. -33.]\n",
      "   [ 74.  41.  42.  43. -38.]\n",
      "   [  3. -31. -32. -33. -37.]]]]\n",
      "(2, 1, 5, 5)\n"
     ]
    }
   ],
   "source": [
    "# inputのサイズに合わせる\n",
    "dX = dX[..., :input_nums[0], :input_nums[1]]\n",
    "print(dX)\n",
    "print(dX.shape)"
   ]
  },
  {
   "cell_type": "code",
   "execution_count": 43,
   "metadata": {
    "scrolled": true
   },
   "outputs": [
    {
     "data": {
      "text/plain": [
       "(2, 1, 5, 5)"
      ]
     },
     "execution_count": 43,
     "metadata": {},
     "output_type": "execute_result"
    }
   ],
   "source": [
    "conv2d.backward(dA).shape"
   ]
  },
  {
   "cell_type": "markdown",
   "metadata": {},
   "source": [
    "### 【問題3】最大プーリング層の作成\n",
    "\n",
    "最大プーリング層のクラスMaxPool2Dを作成してください。プーリング層は数式で表さない方が分かりやすい部分もありますが、数式で表すとフォワードプロパゲーションは以下のようになります。\n",
    "$$\n",
    "a_{i,j,k} = \\max_{(p,q)\\in P_{i,j}}x_{p,q,k}\n",
    "$$\n",
    "$P_{i,j}$ : i行j列への出力する場合の入力配列のインデックスの集合。 $S_{h}×S_{w}$ の範囲内の行（p）と列（q）\n",
    "\n",
    "$S_{h}, S_{w}$ : 高さ方向（h）と幅方向（w）のストライドのサイズ\n",
    "\n",
    "$(p,q)\\in P_{i,j}$ : $P_{i,j}$ に含まれる行（p）と列（q）のインデックス\n",
    "\n",
    "$a_{i,j,m}$ : 出力される配列のi行j列、kチャンネルの値\n",
    "\n",
    "$x_{p,q,k}$ : 入力の配列のp行q列、kチャンネルの値\n",
    "\n",
    "ある範囲の中でチャンネル方向の軸は残したまま最大値を計算することになります。\n",
    "\n",
    "バックプロパゲーションのためには、フォワードプロパゲーションのときの最大値のインデックス $(p,q)$ を保持しておく必要があります。フォワード時に最大値を持っていた箇所にそのままの誤差を流し、そこ以外には0を入れるためです。"
   ]
  },
  {
   "cell_type": "code",
   "execution_count": 44,
   "metadata": {},
   "outputs": [
    {
     "data": {
      "text/plain": [
       "array([[[[80, 84, 33, 81, 93],\n",
       "         [17, 36, 82, 69, 65],\n",
       "         [92, 39, 56, 52, 51],\n",
       "         [32, 31, 44, 78, 10],\n",
       "         [ 2, 73, 97, 62, 19]]],\n",
       "\n",
       "\n",
       "       [[[35, 94, 27, 46, 38],\n",
       "         [67, 99, 54, 95, 88],\n",
       "         [40, 48, 59, 23, 34],\n",
       "         [86, 53, 77, 15, 83],\n",
       "         [41, 45, 91, 26, 98]]]])"
      ]
     },
     "execution_count": 44,
     "metadata": {},
     "output_type": "execute_result"
    }
   ],
   "source": [
    "np.random.seed(1)\n",
    "x = np.random.choice(np.arange(100), 50, replace=False).reshape(2, 1, 5, 5)\n",
    "x"
   ]
  },
  {
   "cell_type": "markdown",
   "metadata": {},
   "source": [
    "##### フォワードプロパゲーション"
   ]
  },
  {
   "cell_type": "code",
   "execution_count": 45,
   "metadata": {},
   "outputs": [],
   "source": [
    "pooling_sizes=(2, 3)\n",
    "ph, pw = pooling_sizes"
   ]
  },
  {
   "cell_type": "code",
   "execution_count": 46,
   "metadata": {},
   "outputs": [
    {
     "data": {
      "text/plain": [
       "(5, 5)"
      ]
     },
     "execution_count": 46,
     "metadata": {},
     "output_type": "execute_result"
    }
   ],
   "source": [
    "Nh_in, Nw_in = x.shape[-2:]\n",
    "Nh_in, Nw_in"
   ]
  },
  {
   "cell_type": "markdown",
   "metadata": {},
   "source": [
    "- プーリング前処理"
   ]
  },
  {
   "cell_type": "code",
   "execution_count": 47,
   "metadata": {},
   "outputs": [],
   "source": [
    "# 端で追加しないいけない数を計算\n",
    "add_h = 0 if Nh_in % ph == 0 else ph - Nh_in % ph\n",
    "add_w = 0 if Nw_in % pw == 0 else pw - Nw_in % pw"
   ]
  },
  {
   "cell_type": "code",
   "execution_count": 48,
   "metadata": {},
   "outputs": [
    {
     "data": {
      "text/plain": [
       "(array([[0, 1],\n",
       "        [2, 3],\n",
       "        [4, 5]]),\n",
       " array([[0, 1, 2],\n",
       "        [3, 4, 5]]))"
      ]
     },
     "execution_count": 48,
     "metadata": {},
     "output_type": "execute_result"
    }
   ],
   "source": [
    "h_indexes = np.arange(Nh_in+add_h).reshape(-1, ph)\n",
    "w_indexes = np.arange(Nw_in+add_w).reshape(-1, pw)\n",
    "h_indexes, w_indexes"
   ]
  },
  {
   "cell_type": "code",
   "execution_count": 49,
   "metadata": {},
   "outputs": [
    {
     "data": {
      "text/plain": [
       "array([[[[                  80,                   84,\n",
       "                            33,                   81,\n",
       "                            93, -9223372036854775808],\n",
       "         [                  17,                   36,\n",
       "                            82,                   69,\n",
       "                            65, -9223372036854775808],\n",
       "         [                  92,                   39,\n",
       "                            56,                   52,\n",
       "                            51, -9223372036854775808],\n",
       "         [                  32,                   31,\n",
       "                            44,                   78,\n",
       "                            10, -9223372036854775808],\n",
       "         [                   2,                   73,\n",
       "                            97,                   62,\n",
       "                            19, -9223372036854775808],\n",
       "         [-9223372036854775808, -9223372036854775808,\n",
       "          -9223372036854775808, -9223372036854775808,\n",
       "          -9223372036854775808, -9223372036854775808]]],\n",
       "\n",
       "\n",
       "       [[[                  35,                   94,\n",
       "                            27,                   46,\n",
       "                            38, -9223372036854775808],\n",
       "         [                  67,                   99,\n",
       "                            54,                   95,\n",
       "                            88, -9223372036854775808],\n",
       "         [                  40,                   48,\n",
       "                            59,                   23,\n",
       "                            34, -9223372036854775808],\n",
       "         [                  86,                   53,\n",
       "                            77,                   15,\n",
       "                            83, -9223372036854775808],\n",
       "         [                  41,                   45,\n",
       "                            91,                   26,\n",
       "                            98, -9223372036854775808],\n",
       "         [-9223372036854775808, -9223372036854775808,\n",
       "          -9223372036854775808, -9223372036854775808,\n",
       "          -9223372036854775808, -9223372036854775808]]]])"
      ]
     },
     "execution_count": 49,
     "metadata": {},
     "output_type": "execute_result"
    }
   ],
   "source": [
    "# マイナス無限大でパディング\n",
    "pad_x = np.pad(x, pad_width=[(0, 0), (0, 0), (0, add_h), (0, add_w)], mode='constant', constant_values=-float('inf'))\n",
    "pad_x"
   ]
  },
  {
   "cell_type": "markdown",
   "metadata": {},
   "source": [
    "- インデックスをとって最大値でプーリング"
   ]
  },
  {
   "cell_type": "code",
   "execution_count": 50,
   "metadata": {},
   "outputs": [
    {
     "data": {
      "text/plain": [
       "(2, 1, 3, 2, 2, 3)"
      ]
     },
     "execution_count": 50,
     "metadata": {},
     "output_type": "execute_result"
    }
   ],
   "source": [
    "pad_x[:, :, h_indexes][..., w_indexes].shape"
   ]
  },
  {
   "cell_type": "code",
   "execution_count": 51,
   "metadata": {},
   "outputs": [
    {
     "data": {
      "text/plain": [
       "(array([[[[84, 93],\n",
       "          [92, 78],\n",
       "          [97, 62]]],\n",
       " \n",
       " \n",
       "        [[[99, 95],\n",
       "          [86, 83],\n",
       "          [91, 98]]]]),\n",
       " (2, 1, 3, 2))"
      ]
     },
     "execution_count": 51,
     "metadata": {},
     "output_type": "execute_result"
    }
   ],
   "source": [
    "pool_x = pad_x[:, :, h_indexes][..., w_indexes].max(axis=5).max(axis=3)\n",
    "pool_x, pool_x.shape"
   ]
  },
  {
   "cell_type": "markdown",
   "metadata": {},
   "source": [
    "- プーリングした値を保ちながら、再度元のサイズに拡張"
   ]
  },
  {
   "cell_type": "code",
   "execution_count": 52,
   "metadata": {},
   "outputs": [
    {
     "data": {
      "text/plain": [
       "array([[[[84, 84, 84, 93, 93, 93],\n",
       "         [84, 84, 84, 93, 93, 93],\n",
       "         [92, 92, 92, 78, 78, 78],\n",
       "         [92, 92, 92, 78, 78, 78],\n",
       "         [97, 97, 97, 62, 62, 62],\n",
       "         [97, 97, 97, 62, 62, 62]]],\n",
       "\n",
       "\n",
       "       [[[99, 99, 99, 95, 95, 95],\n",
       "         [99, 99, 99, 95, 95, 95],\n",
       "         [86, 86, 86, 83, 83, 83],\n",
       "         [86, 86, 86, 83, 83, 83],\n",
       "         [91, 91, 91, 98, 98, 98],\n",
       "         [91, 91, 91, 98, 98, 98]]]])"
      ]
     },
     "execution_count": 52,
     "metadata": {},
     "output_type": "execute_result"
    }
   ],
   "source": [
    "pool_x_back = np.repeat(np.repeat(pool_x, pw, axis=3), ph, axis=2)\n",
    "pool_x_back"
   ]
  },
  {
   "cell_type": "markdown",
   "metadata": {},
   "source": [
    "- プーリングする前の配列と、最大値が一致するセルを１で記録"
   ]
  },
  {
   "cell_type": "code",
   "execution_count": 53,
   "metadata": {},
   "outputs": [
    {
     "data": {
      "text/plain": [
       "array([[[[0, 1, 0, 0, 1, 0],\n",
       "         [0, 0, 0, 0, 0, 0],\n",
       "         [1, 0, 0, 0, 0, 0],\n",
       "         [0, 0, 0, 1, 0, 0],\n",
       "         [0, 0, 1, 1, 0, 0],\n",
       "         [0, 0, 0, 0, 0, 0]]],\n",
       "\n",
       "\n",
       "       [[[0, 0, 0, 0, 0, 0],\n",
       "         [0, 1, 0, 1, 0, 0],\n",
       "         [0, 0, 0, 0, 0, 0],\n",
       "         [1, 0, 0, 0, 1, 0],\n",
       "         [0, 0, 1, 0, 1, 0],\n",
       "         [0, 0, 0, 0, 0, 0]]]])"
      ]
     },
     "execution_count": 53,
     "metadata": {},
     "output_type": "execute_result"
    }
   ],
   "source": [
    "back_indexes = np.where(pad_x == pool_x_back,1,0)\n",
    "back_indexes"
   ]
  },
  {
   "cell_type": "markdown",
   "metadata": {},
   "source": [
    "##### バックプロパゲーション"
   ]
  },
  {
   "cell_type": "markdown",
   "metadata": {},
   "source": [
    "- 拡張した配列とアダマール積を取り、元の配列サイズを取得する"
   ]
  },
  {
   "cell_type": "code",
   "execution_count": 54,
   "metadata": {},
   "outputs": [
    {
     "data": {
      "text/plain": [
       "array([[[[ 0, 84,  0,  0, 93],\n",
       "         [ 0,  0,  0,  0,  0],\n",
       "         [92,  0,  0,  0,  0],\n",
       "         [ 0,  0,  0, 78,  0],\n",
       "         [ 0,  0, 97, 62,  0]]],\n",
       "\n",
       "\n",
       "       [[[ 0,  0,  0,  0,  0],\n",
       "         [ 0, 99,  0, 95,  0],\n",
       "         [ 0,  0,  0,  0,  0],\n",
       "         [86,  0,  0,  0, 83],\n",
       "         [ 0,  0, 91,  0, 98]]]])"
      ]
     },
     "execution_count": 54,
     "metadata": {},
     "output_type": "execute_result"
    }
   ],
   "source": [
    "calc = pool_x_back * back_indexes\n",
    "calc[..., :Nh_in, :Nw_in]"
   ]
  },
  {
   "cell_type": "markdown",
   "metadata": {},
   "source": [
    "#### class MaxPool2d"
   ]
  },
  {
   "cell_type": "code",
   "execution_count": 55,
   "metadata": {},
   "outputs": [],
   "source": [
    "class MaxPool2d:\n",
    "    \"\"\"\n",
    "    2次元の最大プーリング層\n",
    "    Parameters\n",
    "    ----------\n",
    "    pooling_sizes : tuple\n",
    "      プーリングのサイズ (P_h, P_w)\n",
    "    \"\"\"\n",
    "    \n",
    "    def __init__(self, pooling_sizes):\n",
    "        self.pooling_sizes = pooling_sizes\n",
    "    \n",
    "    def forward(self, X):\n",
    "        \"\"\"\n",
    "        フォワード\n",
    "        Parameters\n",
    "        ----------\n",
    "        X : 次の形のndarray, shape (batch_size, input_channels, Nh_in, Nw_in)\n",
    "            入力\n",
    "        Returns\n",
    "        ----------\n",
    "        A : 次の形のndarray, shape (batch_size, input_channels, プーリング後のサイズ)\n",
    "            出力\n",
    "        \"\"\"\n",
    "        # print('フォワードプロパゲーション')\n",
    "        # 入力からshapeを取得\n",
    "        batch_size, input_channels, self.Nh_in, self.Nw_in = X.shape\n",
    "        # プーリング前処理\n",
    "        # 端で追加しないいけない数を計算\n",
    "        add_h = 0 if self.Nh_in % self.pooling_sizes[0] == 0 else self.pooling_sizes[0] - self.Nh_in % self.pooling_sizes[0]\n",
    "        add_w = 0 if self.Nw_in % self.pooling_sizes[1] == 0 else self.pooling_sizes[1] - self.Nw_in % self.pooling_sizes[1]\n",
    "        # インデックスを取得\n",
    "        h_indexes = np.arange(self.Nh_in+add_h).reshape(-1, self.pooling_sizes[0])\n",
    "        w_indexes = np.arange(self.Nw_in+add_w).reshape(-1, self.pooling_sizes[1])\n",
    "    \n",
    "        # はみ出す部分をマイナス無限大でパディング\n",
    "        self.X = np.pad(X, pad_width=[(0, 0), (0, 0), (0, add_h), (0, add_w)], mode='constant', constant_values=-float('inf'))\n",
    "        # 最大値でプーリング\n",
    "        pooling_X = self.X[:, :, h_indexes][..., w_indexes].max(axis=5).max(axis=3)\n",
    "        # 最大値を保ち再度拡張\n",
    "        pool_back = np.repeat(np.repeat(pooling_X, self.pooling_sizes[1], axis=3), self.pooling_sizes[0], axis=2)\n",
    "        # プーリングする前（パディング後）の配列と一致する部分を記録\n",
    "        self.back_indexes = np.where(self.X == pool_back,1,0)\n",
    "        return pooling_X\n",
    "        \n",
    "    def backward(self, dA):\n",
    "        \"\"\"\n",
    "        バックワード\n",
    "        Parameters\n",
    "        ----------\n",
    "        dA : 次の形のndarray, shape (batch_size, input_channels, プーリング後のサイズ)\n",
    "            後ろから流れてきた勾配\n",
    "        self.X : 次の形のndarray, shape (batch_size, input_channels, Nh_in, Nw_in)\n",
    "        Returns\n",
    "        ----------\n",
    "        dX : 次の形のndarray, shape (batch_size, input_channels, Nh_in, Nw_in)\n",
    "            前に流す勾配\n",
    "        \"\"\"\n",
    "        # print('バックプロパゲーション ')\n",
    "        # 誤差を元のサイズに拡張\n",
    "        resize_dA = np.repeat(np.repeat(dA, self.pooling_sizes[1], axis=3), self.pooling_sizes[0], axis=2)\n",
    "        # プーリングした際に記録したインデックスをもとにアダマール積をとる\n",
    "        back_pooling = resize_dA * self.back_indexes\n",
    "        # 元のサイズに切り取り戻す\n",
    "        back_pooling = back_pooling[..., :self.Nh_in, :self.Nw_in]\n",
    "        return back_pooling"
   ]
  },
  {
   "cell_type": "code",
   "execution_count": 56,
   "metadata": {},
   "outputs": [],
   "source": [
    "max_pooling = MaxPool2d(pooling_sizes=(2, 4))"
   ]
  },
  {
   "cell_type": "code",
   "execution_count": 57,
   "metadata": {},
   "outputs": [
    {
     "data": {
      "text/plain": [
       "array([[[[84, 93],\n",
       "         [92, 51],\n",
       "         [97, 19]]],\n",
       "\n",
       "\n",
       "       [[[99, 88],\n",
       "         [86, 83],\n",
       "         [91, 98]]]])"
      ]
     },
     "execution_count": 57,
     "metadata": {},
     "output_type": "execute_result"
    }
   ],
   "source": [
    "A = max_pooling.forward(x)\n",
    "A"
   ]
  },
  {
   "cell_type": "code",
   "execution_count": 58,
   "metadata": {},
   "outputs": [
    {
     "data": {
      "text/plain": [
       "array([[[[ 0, 84,  0,  0, 93],\n",
       "         [ 0,  0,  0,  0,  0],\n",
       "         [92,  0,  0,  0, 51],\n",
       "         [ 0,  0,  0,  0,  0],\n",
       "         [ 0,  0, 97,  0, 19]]],\n",
       "\n",
       "\n",
       "       [[[ 0,  0,  0,  0,  0],\n",
       "         [ 0, 99,  0,  0, 88],\n",
       "         [ 0,  0,  0,  0,  0],\n",
       "         [86,  0,  0,  0, 83],\n",
       "         [ 0,  0, 91,  0, 98]]]])"
      ]
     },
     "execution_count": 58,
     "metadata": {},
     "output_type": "execute_result"
    }
   ],
   "source": [
    "dA = A\n",
    "max_pooling.backward(dA)"
   ]
  },
  {
   "cell_type": "markdown",
   "metadata": {},
   "source": [
    "### 【問題4】（アドバンス課題）平均プーリングの作成\n",
    "平均プーリング層のクラスAveragePool2Dを作成してください。\n",
    "\n",
    "範囲内の最大値ではなく、平均値を出力とするプーリング層です。\n",
    "\n",
    "画像認識関係では最大プーリング層が一般的で、平均プーリングはあまり使われません。"
   ]
  },
  {
   "cell_type": "markdown",
   "metadata": {},
   "source": [
    "#### class AveragePool2d"
   ]
  },
  {
   "cell_type": "code",
   "execution_count": 59,
   "metadata": {},
   "outputs": [],
   "source": [
    "class AveragePool2d:\n",
    "    \"\"\"\n",
    "    2次元の平均プーリング層\n",
    "    Parameters\n",
    "    ----------\n",
    "    pooling_sizes : tuple\n",
    "      プーリングのサイズ (P_h, P_w)\n",
    "    \"\"\"\n",
    "    \n",
    "    def __init__(self, pooling_sizes):\n",
    "        self.pooling_sizes = pooling_sizes\n",
    "    \n",
    "    def forward(self, X):\n",
    "        \"\"\"\n",
    "        フォワード\n",
    "        Parameters\n",
    "        ----------\n",
    "        X : 次の形のndarray, shape (batch_size, input_channels, Nh_in, Nw_in)\n",
    "            入力\n",
    "        Returns\n",
    "        ----------\n",
    "        A : 次の形のndarray, shape (batch_size, input_channels, プーリング後のサイズ)\n",
    "            出力\n",
    "        \"\"\"\n",
    "        # print('フォワードプロパゲーション')\n",
    "        # 入力からshapeを取得\n",
    "        batch_size, input_channels, self.Nh_in, self.Nw_in = X.shape\n",
    "        # プーリング前処理\n",
    "        # 端で追加しないいけない数を計算\n",
    "        add_h = 0 if self.Nh_in % self.pooling_sizes[0] == 0 else self.pooling_sizes[0] - self.Nh_in % self.pooling_sizes[0]\n",
    "        add_w = 0 if self.Nw_in % self.pooling_sizes[1] == 0 else self.pooling_sizes[1] - self.Nw_in % self.pooling_sizes[1]\n",
    "        # インデックスを取得\n",
    "        h_indexes = np.arange(self.Nh_in+add_h).reshape(-1, self.pooling_sizes[0])\n",
    "        w_indexes = np.arange(self.Nw_in+add_w).reshape(-1, self.pooling_sizes[1])\n",
    "    \n",
    "        # はみ出す部分を端の数値でパディング\n",
    "        self.X = np.pad(X, pad_width=[(0, 0), (0, 0), (0, add_h), (0, add_w)], mode='edge')\n",
    "\n",
    "        # 平均値でプーリング\n",
    "        pooling_X = self.X[:, :, h_indexes][..., w_indexes].mean(axis=5).mean(axis=3)\n",
    "\n",
    "#         # 最大値を保ち再度拡張\n",
    "#         pool_back = np.repeat(np.repeat(pooling_X, self.pooling_sizes[1], axis=3), self.pooling_sizes[0], axis=2)\n",
    "#         # プーリングする前（パディング後）の配列と一致する部分を記録\n",
    "#         self.back_indexes = np.where(self.X == pool_back,1,0)\n",
    "        return pooling_X\n",
    "        \n",
    "    \n",
    "    def backward(self, dA):\n",
    "        \"\"\"\n",
    "        バックワード\n",
    "        Parameters\n",
    "        ----------\n",
    "        dA : 次の形のndarray, shape (batch_size, input_channels, プーリング後のサイズ)\n",
    "            後ろから流れてきた勾配\n",
    "        self.X : 次の形のndarray, shape (batch_size, input_channels, Nh_in, Nw_in)\n",
    "        Returns\n",
    "        ----------\n",
    "        dX : 次の形のndarray, shape (batch_size, input_channels, Nh_in, Nw_in)\n",
    "            前に流す勾配\n",
    "        \"\"\"\n",
    "        # print('バックプロパゲーション ')\n",
    "        # 誤差を元のサイズに拡張\n",
    "        resize_dA = np.repeat(np.repeat(dA, self.pooling_sizes[1], axis=3), self.pooling_sizes[0], axis=2)\n",
    "        # プーリングサイズで割る\n",
    "        back_pooling = resize_dA / self.pooling_sizes[0] / self.pooling_sizes[1]\n",
    "        # 元のサイズに切り取り戻す\n",
    "        back_pooling = back_pooling[..., :self.Nh_in, :self.Nw_in]\n",
    "        return back_pooling"
   ]
  },
  {
   "cell_type": "code",
   "execution_count": 60,
   "metadata": {},
   "outputs": [
    {
     "data": {
      "text/plain": [
       "array([[[[55.33333333, 77.66666667],\n",
       "         [49.        , 42.        ],\n",
       "         [57.33333333, 33.33333333]]],\n",
       "\n",
       "\n",
       "       [[[62.66666667, 65.5       ],\n",
       "         [60.5       , 45.33333333],\n",
       "         [59.        , 74.        ]]]])"
      ]
     },
     "execution_count": 60,
     "metadata": {},
     "output_type": "execute_result"
    }
   ],
   "source": [
    "average_pooling = AveragePool2d(pooling_sizes=(2,3))\n",
    "A = average_pooling.forward(x)\n",
    "A"
   ]
  },
  {
   "cell_type": "code",
   "execution_count": 61,
   "metadata": {},
   "outputs": [
    {
     "data": {
      "text/plain": [
       "array([[[[ 9.22222222,  9.22222222,  9.22222222, 12.94444444,\n",
       "          12.94444444],\n",
       "         [ 9.22222222,  9.22222222,  9.22222222, 12.94444444,\n",
       "          12.94444444],\n",
       "         [ 8.16666667,  8.16666667,  8.16666667,  7.        ,\n",
       "           7.        ],\n",
       "         [ 8.16666667,  8.16666667,  8.16666667,  7.        ,\n",
       "           7.        ],\n",
       "         [ 9.55555556,  9.55555556,  9.55555556,  5.55555556,\n",
       "           5.55555556]]],\n",
       "\n",
       "\n",
       "       [[[10.44444444, 10.44444444, 10.44444444, 10.91666667,\n",
       "          10.91666667],\n",
       "         [10.44444444, 10.44444444, 10.44444444, 10.91666667,\n",
       "          10.91666667],\n",
       "         [10.08333333, 10.08333333, 10.08333333,  7.55555556,\n",
       "           7.55555556],\n",
       "         [10.08333333, 10.08333333, 10.08333333,  7.55555556,\n",
       "           7.55555556],\n",
       "         [ 9.83333333,  9.83333333,  9.83333333, 12.33333333,\n",
       "          12.33333333]]]])"
      ]
     },
     "execution_count": 61,
     "metadata": {},
     "output_type": "execute_result"
    }
   ],
   "source": [
    "dA = A\n",
    "average_pooling.backward(dA)"
   ]
  },
  {
   "cell_type": "markdown",
   "metadata": {},
   "source": [
    "### 【問題5】平滑化\n",
    "平滑化するためのFlattenクラスを作成してください。\n",
    "\n",
    "フォワードのときはチャンネル、高さ、幅の3次元を1次元にreshapeします。その値は記録しておき、バックワードのときに再びreshapeによって形を戻します。\n",
    "\n",
    "この平滑化のクラスを挟むことで出力前の全結合層に適した配列を作ることができます。"
   ]
  },
  {
   "cell_type": "markdown",
   "metadata": {},
   "source": [
    "#### class Flatten"
   ]
  },
  {
   "cell_type": "code",
   "execution_count": 62,
   "metadata": {},
   "outputs": [],
   "source": [
    "class Flatten:\n",
    "    \"\"\"\n",
    "    平滑化する処理\n",
    "    forwardのshape\n",
    "        self.forward(X) X: (batch_size, input_channels, output_nums)\n",
    "        return flat_X : (batch_size, input_channels * output_nums)\n",
    "    backwardのshape\n",
    "        self.backward(dX) dX: (batch_size, input_channels * output_nums)\n",
    "        return original_dX : (batch_size, input_channels, output_nums)\n",
    "    \"\"\"\n",
    "    def __init__(self):\n",
    "        self.shape = None\n",
    "    def forward(self, X):\n",
    "        self.shape = X.shape\n",
    "        flat_X = X.reshape(self.shape[0], -1)\n",
    "        return flat_X\n",
    "    def backward(self, dX):\n",
    "        original_dX = dX.reshape(self.shape)\n",
    "        return original_dX"
   ]
  },
  {
   "cell_type": "code",
   "execution_count": 63,
   "metadata": {},
   "outputs": [
    {
     "data": {
      "text/plain": [
       "array([[ 0,  1,  2,  3,  4,  5,  6,  7,  8,  9, 10, 11, 12, 13, 14, 15,\n",
       "        16, 17, 18, 19, 20, 21, 22, 23, 24],\n",
       "       [25, 26, 27, 28, 29, 30, 31, 32, 33, 34, 35, 36, 37, 38, 39, 40,\n",
       "        41, 42, 43, 44, 45, 46, 47, 48, 49]])"
      ]
     },
     "execution_count": 63,
     "metadata": {},
     "output_type": "execute_result"
    }
   ],
   "source": [
    "flat = Flatten()\n",
    "flat_eX = flat.forward(eX)\n",
    "flat_eX"
   ]
  },
  {
   "cell_type": "code",
   "execution_count": 64,
   "metadata": {},
   "outputs": [
    {
     "data": {
      "text/plain": [
       "array([[[[ 0,  1,  2,  3,  4],\n",
       "         [ 5,  6,  7,  8,  9],\n",
       "         [10, 11, 12, 13, 14],\n",
       "         [15, 16, 17, 18, 19],\n",
       "         [20, 21, 22, 23, 24]]],\n",
       "\n",
       "\n",
       "       [[[25, 26, 27, 28, 29],\n",
       "         [30, 31, 32, 33, 34],\n",
       "         [35, 36, 37, 38, 39],\n",
       "         [40, 41, 42, 43, 44],\n",
       "         [45, 46, 47, 48, 49]]]])"
      ]
     },
     "execution_count": 64,
     "metadata": {},
     "output_type": "execute_result"
    }
   ],
   "source": [
    "flat.backward(flat_eX)"
   ]
  },
  {
   "cell_type": "markdown",
   "metadata": {},
   "source": [
    "## 3.検証"
   ]
  },
  {
   "cell_type": "markdown",
   "metadata": {},
   "source": [
    "- 以前までの課題で作成していたclassを追加"
   ]
  },
  {
   "cell_type": "markdown",
   "metadata": {},
   "source": [
    "#### class GetMiniBatch"
   ]
  },
  {
   "cell_type": "code",
   "execution_count": 65,
   "metadata": {},
   "outputs": [],
   "source": [
    "class GetMiniBatch:\n",
    "    \"\"\"\n",
    "    ミニバッチを取得するイテレータ\n",
    "\n",
    "    Parameters\n",
    "    ----------\n",
    "    X : 次の形のndarray, shape (n_samples, n_features)\n",
    "      訓練データ\n",
    "    y : 次の形のndarray, shape (n_samples, 1)\n",
    "      正解値\n",
    "    batch_size : int\n",
    "      バッチサイズ\n",
    "    seed : int\n",
    "      NumPyの乱数のシード\n",
    "    \"\"\"\n",
    "    def __init__(self, X, y, batch_size=20, seed=0):\n",
    "        self.batch_size = batch_size\n",
    "        np.random.seed(seed)\n",
    "        shuffle_index = np.random.permutation(np.arange(X.shape[0]))\n",
    "        self._X = X[shuffle_index]\n",
    "        self._y = y[shuffle_index]\n",
    "        self._stop = np.ceil(X.shape[0]/self.batch_size).astype(np.int)\n",
    "    def __len__(self):\n",
    "        return self._stop\n",
    "    def __getitem__(self,item):\n",
    "        p0 = item*self.batch_size\n",
    "        p1 = item*self.batch_size + self.batch_size\n",
    "        return self._X[p0:p1], self._y[p0:p1]        \n",
    "    def __iter__(self):\n",
    "        self._counter = 0\n",
    "        return self\n",
    "    def __next__(self):\n",
    "        if self._counter >= self._stop:\n",
    "            raise StopIteration()\n",
    "        p0 = self._counter*self.batch_size\n",
    "        p1 = self._counter*self.batch_size + self.batch_size\n",
    "        self._counter += 1\n",
    "        return self._X[p0:p1], self._y[p0:p1]"
   ]
  },
  {
   "cell_type": "markdown",
   "metadata": {},
   "source": [
    "#### class Activation"
   ]
  },
  {
   "cell_type": "code",
   "execution_count": 66,
   "metadata": {},
   "outputs": [],
   "source": [
    "class Sigmoid():\n",
    "    def forward(self, A):\n",
    "        self.A = A\n",
    "        Z = 1.0 / (1.0 + np.exp(-self.A))\n",
    "        return Z\n",
    "    def backward(self, dZ):\n",
    "        # dZとアダマール計算する値\n",
    "        tmp =  (1.0 - self.forward(self.A)) * self.forward(self.A)\n",
    "        dA = dZ * tmp\n",
    "        return dA\n",
    "\n",
    "class Tanh():\n",
    "    def forward(self, A):\n",
    "        self.A = A\n",
    "        Z = np.tanh(self.A)\n",
    "        return Z\n",
    "    \n",
    "    def backward(self, dZ):\n",
    "        # dZとアダマール計算する値\n",
    "        tmp = 1.0 - np.power(self.forward(self.A), 2)\n",
    "        dA = dZ * tmp\n",
    "        return dA\n",
    "\n",
    "class ReLU():\n",
    "    def forward(self, A):\n",
    "        self.A = A\n",
    "        Z = np.maximum(self.A, 0)\n",
    "        return Z\n",
    "    def backward(self, dZ):\n",
    "        # dZとアダマール計算する値\n",
    "        tmp = np.where(self.A > 0, 1, 0)\n",
    "        dA = dZ * tmp\n",
    "        return dA\n",
    "    \n",
    "class Softmax():\n",
    "    def forward(self, A):\n",
    "        self.A = A\n",
    "        # オーバーフローを防ぐ\n",
    "        self.A -= np.max(self.A)\n",
    "        Z = np.exp(self.A) / np.exp(self.A).sum(axis=1)[:, np.newaxis]\n",
    "        return Z\n",
    "\n",
    "    def _cross_entropy_error(self, Z, y_label_one_hot):\n",
    "        # error = -(np.log(Z) * y_label_one_hot).sum(axis=1).mean()\n",
    "        error = -(np.log(Z + 10e-10) * y_label_one_hot).sum(axis=1).mean()\n",
    "        return error\n",
    "\n",
    "    def backward(self, Z, y_label_one_hot):\n",
    "        # 交差エントロピー誤差の計算\n",
    "        loss = self._cross_entropy_error(Z, y_label_one_hot)\n",
    "        # dA　の計算\n",
    "        dA = Z - y_label_one_hot\n",
    "        # dA, loss\n",
    "        return dA, loss"
   ]
  },
  {
   "cell_type": "markdown",
   "metadata": {},
   "source": [
    "#### class FC"
   ]
  },
  {
   "cell_type": "code",
   "execution_count": 67,
   "metadata": {},
   "outputs": [],
   "source": [
    "class FC:\n",
    "    \"\"\"\n",
    "    ノード数n_nodes1からn_nodes2への全結合層\n",
    "    Parameters\n",
    "    ----------\n",
    "    n_nodes1 : int\n",
    "      前の層のノード数\n",
    "    n_nodes2 : int\n",
    "      後の層のノード数\n",
    "    initializer : 初期化方法のインスタンス\n",
    "    optimizer : 最適化手法のインスタンス\n",
    "    \"\"\"\n",
    "    def __init__(self, n_nodes1, n_nodes2, initializer, optimizer, act_instance):\n",
    "        self.optimizer = optimizer\n",
    "        # 活性化関数のインスタンス\n",
    "        self.act_instance = act_instance\n",
    "        # 初期化\n",
    "        # initializerのメソッドを使い、self.Wとself.Bを初期化する\n",
    "        self.W = initializer.W(n_nodes1, n_nodes2)\n",
    "        self.B = initializer.B(n_nodes2)\n",
    "        # optimazer がadagradの際に使用する\n",
    "        self.H_W = np.ones((n_nodes1, n_nodes2))\n",
    "        self.H_B = np.ones(n_nodes2)\n",
    "\n",
    "    def forward(self, X):\n",
    "        \"\"\"\n",
    "        フォワード\n",
    "        Parameters\n",
    "        ----------\n",
    "        X : 次の形のndarray, shape (batch_size, n_nodes1)\n",
    "            入力\n",
    "        Returns\n",
    "        ----------\n",
    "        A : 次の形のndarray, shape (batch_size, n_nodes2)\n",
    "            出力\n",
    "        \"\"\"\n",
    "        self.X = X\n",
    "        A = np.dot(self.X, self.W) + self.B\n",
    "        return A\n",
    "    def backward(self, dA):\n",
    "        \"\"\"\n",
    "        バックワード\n",
    "        Parameters\n",
    "        ----------\n",
    "        dA : 次の形のndarray, shape (batch_size, n_nodes2)\n",
    "            後ろから流れてきた勾配\n",
    "        Z : 次の形のndarray, shape (batch_size, n_nodes1)\n",
    "            一層前の活性化関数の出力結果\n",
    "        Returns\n",
    "        ----------\n",
    "        dZ : 次の形のndarray, shape (batch_size, n_nodes1)\n",
    "            前に流す勾配\n",
    "        \"\"\"\n",
    "        # dZを計算\n",
    "        dZ = np.dot(dA, self.W.T)\n",
    "        # 更新\n",
    "        self = self.optimizer.update_FC(self, dA)\n",
    "        return dZ"
   ]
  },
  {
   "cell_type": "markdown",
   "metadata": {},
   "source": [
    "#### class NotPool2d"
   ]
  },
  {
   "cell_type": "code",
   "execution_count": 68,
   "metadata": {},
   "outputs": [],
   "source": [
    "class NotPool2d:\n",
    "    \"\"\"\n",
    "    プーリングを行わない\n",
    "    \"\"\"\n",
    "    \n",
    "    def forward(self, X):\n",
    "        \"\"\"\n",
    "        フォワード\n",
    "        Parameters\n",
    "        ----------\n",
    "        X : 次の形のndarray, shape (batch_size, input_channels, Nh_in, Nw_in)\n",
    "            入力\n",
    "        Returns\n",
    "        ----------\n",
    "        A : そのまま返す\n",
    "        \"\"\"        \n",
    "        return X\n",
    "        \n",
    "    \n",
    "    def backward(self, dA):\n",
    "        \"\"\"\n",
    "        バックワード\n",
    "        Parameters\n",
    "        ----------\n",
    "        dA : 次の形のndarray, shape (batch_size, input_channels, プーリング後のサイズ)\n",
    "            後ろから流れてきた勾配\n",
    "        ----------\n",
    "        dA : そのまま返す\n",
    "        \"\"\"\n",
    "        return dA"
   ]
  },
  {
   "cell_type": "markdown",
   "metadata": {},
   "source": [
    "#### class Scratch2dCNNClassifier"
   ]
  },
  {
   "cell_type": "code",
   "execution_count": 69,
   "metadata": {},
   "outputs": [],
   "source": [
    "class Scratch2dCNNClassifier():\n",
    "    \"\"\"\n",
    "    多層な2次元の畳み込みニューラルネットワーク分類器\n",
    "    Parameters\n",
    "    ----------\n",
    "    Attributes\n",
    "    -----\n",
    "    \"\"\"\n",
    "    def __init__(self,  output_channels=[1, 1], filter_sizes=[(3, 3), (3,3)], stride_sizes=[(1, 1), (1, 1)],\n",
    "                 padding=['SAME', 'VALID'], pooling = ['max', 'max'], pooling_sizes=[(2, 2), (2, 2)], \n",
    "                 conv_activation='relu', conv_initialize='he', conv_optimize='adagrad', conv_lr=10e-3,\n",
    "                 hidden_layer_sizes=[400, 200], fc_activation='relu', fc_initialize='he', fc_optimize='adagrad', fc_lr=10e-3, \n",
    "                verbose=False, random_state=None, epoch=20, batch_size=20, sigma=0.01):\n",
    "        # 二次元の畳み込み層　以下変数のサイズで畳み込みを行う層が決まる\n",
    "        self.output_channels = output_channels\n",
    "        self.filter_sizes = filter_sizes\n",
    "        self.stride_sizes = stride_sizes\n",
    "        self.padding = padding\n",
    "        # プーリングの指定　'max', 'average', 'None'\n",
    "        self.pooling = pooling\n",
    "        self.pooling_sizes = pooling_sizes\n",
    "        # 活性化関数の名前　'sigmoid', 'tanh', 'relu'\n",
    "        self.conv_activation = conv_activation\n",
    "        # 初期値の設定方法 'gauss', 'xavier', 'he'\n",
    "        self.conv_initialize = conv_initialize\n",
    "        # 最適化手法 'sgd', 'adagrad'\n",
    "        self.conv_optimize = conv_optimize\n",
    "        # 学習率\n",
    "        self.conv_lr = conv_lr\n",
    "\n",
    "        # 全結合層のノード数のタプル\n",
    "        self.hidden_layer_sizes = hidden_layer_sizes\n",
    "        # 活性化関数の名前　'sigmoid', 'tanh', 'relu'\n",
    "        self.fc_activation = fc_activation\n",
    "        # 初期値の設定方法 'gauss', 'xavier', 'he'\n",
    "        self.fc_initialize = fc_initialize\n",
    "        # 最適化手法 'sgd', 'adagrad'\n",
    "        self.fc_optimize = conv_optimize\n",
    "        # 学習率\n",
    "        self.fc_lr = fc_lr\n",
    "        \n",
    "        # 学習経過の出力\n",
    "        self.verbose = verbose\n",
    "        # 乱数の設定\n",
    "        self.random_state = random_state\n",
    "        # epochの回数\n",
    "        self.epoch = epoch\n",
    "        # バッチサイズ\n",
    "        self.batch_size = batch_size\n",
    "        # 初期値をガウス分布で定める際の標準偏差\n",
    "        self.sigma = sigma\n",
    "        \n",
    "        # 出力クラス数\n",
    "        self.n_output = None\n",
    "        # 出力カテゴリの配列\n",
    "        self.categories_ = None\n",
    "        # epoch毎に損失を記録\n",
    "        self.losses = np.zeros(self.epoch)\n",
    "        self.val_losses = None\n",
    "        # fitの時にvalデータがあるフラグ\n",
    "        self.val_flag = None\n",
    "\n",
    "    def fit(self, X_train, y_train, X_val=None, y_val=None):\n",
    "        \"\"\"\n",
    "        ニューラルネットワーク分類器を学習する。\n",
    "        \n",
    "        Parameters\n",
    "        ----------\n",
    "        X_train : 次の形のndarray, shape (n_samples, input_channels, n_h, n_w)\n",
    "            訓練データの特徴量\n",
    "        y_train : 次の形のndarray, shape (n_samples, )\n",
    "            訓練データの正解値\n",
    "        X_val : 次の形のndarray, shape (n_samples, input_channels, n_h, n_w)\n",
    "            検証データの特徴量\n",
    "        y_val : 次の形のndarray, shape (n_samples, )\n",
    "            検証データの正解値\n",
    "        \"\"\"\n",
    "        # random_stateが設定されている場合はseed設定\n",
    "        if type(self.random_state) == int:\n",
    "            np.random.seed(self.random_state)\n",
    "        \n",
    "        # 変数情報\n",
    "        self.n_samples, input_channels, self.n_h, self.n_w = X_train.shape\n",
    "        # valデータの確認\n",
    "        if type(X_val) == np.ndarray and type(y_val) == np.ndarray:\n",
    "            if X_val.shape == (y_val.shape[0], input_channels, self.n_h, self.n_w):\n",
    "                self.val_flag = True\n",
    "                self.val_losses = np.zeros(self.epoch)\n",
    "        \n",
    "        # 目的変数をone_hot_encoding\n",
    "        from sklearn.preprocessing import OneHotEncoder\n",
    "        enc = OneHotEncoder(handle_unknown='ignore', sparse=False)\n",
    "        y_train_one_hot = enc.fit_transform(y_train[:, np.newaxis])\n",
    "        if self.val_flag:\n",
    "            y_val_one_hot = enc.transform(y_val[:, np.newaxis])\n",
    "        \n",
    "        # 出力カテゴリの配列\n",
    "        self.categories_ = enc.categories_[0]\n",
    "        # 出力クラス数を特定\n",
    "        self.n_output = len(self.categories_)\n",
    "        \n",
    "        \n",
    "        # 畳み込み層のインスタンス作成\n",
    "        \n",
    "        # 活性化関数のインスタンス\n",
    "        if self.conv_activation == 'relu':\n",
    "            act_instance = ReLU()\n",
    "        elif self.conv_activation == 'sigmoid':\n",
    "            act_instance = Sigmoid()\n",
    "        elif self.conv_activation == 'tanh':\n",
    "            act_instance = Tanh()\n",
    "        else:\n",
    "            print('not proper activation name')\n",
    "        # 初期化のインスタンス作成\n",
    "        # initializeで指定がない時、sigmoid, tanhではxavier, reluではhe\n",
    "        if self.conv_initialize is None:\n",
    "            if self.conv_activation == 'relu':\n",
    "                self.conv_initialize = 'he'\n",
    "            elif self.conv_activation == 'sigmoid' or self.conv_activation == 'tanh':\n",
    "                self.conv_initialize = 'xavier'\n",
    "        # self.initializeに応じてinitializerのインスタンスを作成\n",
    "        if self.conv_initialize == 'he':\n",
    "            initializer = HeInitializer()\n",
    "        elif self.conv_initialize == 'xavier':\n",
    "            initializer = XavierInitializer()\n",
    "        elif self.conv_initialize == 'gauss':\n",
    "            initializer = SimpleInitializer(self.sigma)\n",
    "        # 最適化のインスタンス作成\n",
    "        if self.conv_optimize == 'adagrad':\n",
    "            optimizer = AdaGrad(self.conv_lr)\n",
    "        elif self.conv_optimize == 'sgd':\n",
    "            optimizer = SGD(self.conv_lr)\n",
    "        \n",
    "        input_nums = self.n_h, self.n_w\n",
    "        self.conv2d_lst = []\n",
    "        for output_channels, filter_sizes, stride_sizes, padding, pooling, pooling_sizes in zip(self.output_channels, self.filter_sizes, self.stride_sizes, self.padding, self.pooling, self.pooling_sizes):\n",
    "            conv2d = Conv2d(input_channels=input_channels, output_channels=output_channels,\n",
    "                           filter_sizes=filter_sizes, stride_sizes=stride_sizes, padding=padding,\n",
    "                           initializer=deepcopy(initializer), optimizer=deepcopy(optimizer),\n",
    "                           act_instance=deepcopy(act_instance))\n",
    "            #poolingのインスタンス作成\n",
    "            if pooling == 'max':\n",
    "                conv2d.pooling_instance = MaxPool2d(pooling_sizes)\n",
    "            elif pooling == 'average':\n",
    "                conv2d.pooling_instance = AveragePool2d(pooling_sizes)\n",
    "            elif pooling == None:\n",
    "                conv2d.pooling_instance = NotPool2d()\n",
    "            \n",
    "            self.conv2d_lst.append(conv2d)\n",
    "            input_channels = output_channels\n",
    "            \n",
    "            # 畳み込み層後、平滑後の出力サイズを計算\n",
    "            \n",
    "            pad_nums = conv2d.padding_nums(input_nums)\n",
    "            output_nums = conv2d.calc_output_nums(input_nums, pad_nums, filter_sizes, stride_sizes)\n",
    "            if pooling == None:\n",
    "                input_nums = output_nums\n",
    "            else:\n",
    "                output_h, output_w = output_nums\n",
    "                output_h = np.ceil(output_h / pooling_sizes[0]).astype(int)\n",
    "                output_w = np.ceil(output_w / pooling_sizes[1]).astype(int)\n",
    "                input_nums = output_h, output_w\n",
    "            \n",
    "        fc_input_features = input_nums[0] * input_nums[1] * conv2d.output_channels\n",
    "                \n",
    "        # 全結合層のインスタンス作成\n",
    "        \n",
    "        # 活性化関数のインスタンス\n",
    "        if self.fc_activation == 'relu':\n",
    "            act_instance = ReLU()\n",
    "        elif self.fc_activation == 'sigmoid':\n",
    "            act_instance = Sigmoid()\n",
    "        elif self.fc_activation == 'tanh':\n",
    "            act_instance = Tanh()\n",
    "        else:\n",
    "            print('not proper activation name')\n",
    "        # 初期化のインスタンス作成\n",
    "        # initializeで指定がない時、sigmoid, tanhではxavier, reluではhe\n",
    "        if self.fc_initialize is None:\n",
    "            if self.fc_activation == 'relu':\n",
    "                self.fc_initialize = 'he'\n",
    "            elif self.fc_activation == 'sigmoid' or self.fc_activation == 'tanh':\n",
    "                self.fc_initialize = 'xavier'\n",
    "        # self.initializeに応じてinitializerのインスタンスを作成\n",
    "        if self.fc_initialize == 'he':\n",
    "            initializer = HeInitializer()\n",
    "        elif self.fc_initialize == 'xavier':\n",
    "            initializer = XavierInitializer()\n",
    "        elif self.fc_initialize == 'gauss':\n",
    "            initializer = SimpleInitializer(self.sigma)\n",
    "        # 最適化のインスタンス作成\n",
    "        if self.fc_optimize == 'adagrad':\n",
    "            optimizer = AdaGrad(self.fc_lr)\n",
    "        elif self.fc_optimize == 'sgd':\n",
    "            optimizer = SGD(self.fc_lr)\n",
    "        \n",
    "        \n",
    "        self.fc_lst = []\n",
    "        for n_nodes in self.hidden_layer_sizes:\n",
    "            fc = FC(n_nodes1=fc_input_features, n_nodes2=n_nodes,\n",
    "                    initializer=deepcopy(initializer), optimizer=deepcopy(optimizer),\n",
    "                    act_instance=deepcopy(act_instance))\n",
    "            self.fc_lst.append(fc)\n",
    "            fc_input_features = n_nodes\n",
    "            \n",
    "            # 最終出力層のインスタンス\n",
    "            self.last_layer = FC(n_nodes1=fc_input_features, n_nodes2=self.n_output,\n",
    "                            initializer=HeInitializer(), optimizer=AdaGrad(self.fc_lr),\n",
    "                            act_instance=Softmax())\n",
    "            \n",
    "        # 各層のインスタンス内で変数が書き換えられるので、valから計算する\n",
    "        # epoch　でループ\n",
    "        for n_epoch in tqdm(range(self.epoch)):\n",
    "            # 各々のバッチの損失の記録\n",
    "            if self.val_flag:\n",
    "                batches_val_losses = np.zeros(int(np.ceil(self.n_samples / self.batch_size)), dtype=np.float64)\n",
    "            batches_losses = np.zeros(int(np.ceil(self.n_samples / self.batch_size)), dtype=np.float64)\n",
    "                        \n",
    "            # バッチを取り出し、バッチでループ\n",
    "            get_mini_batch = GetMiniBatch(X_train, y_train_one_hot, batch_size=self.batch_size)\n",
    "            for mini_X_train, mini_y_train in get_mini_batch:\n",
    "                \n",
    "                # forward propagation\n",
    "                if self.val_flag:\n",
    "                    Z_val = X_val\n",
    "                    for i in range(len(self.conv2d_lst)):\n",
    "                        A_val = self.conv2d_lst[i].forward(Z_val)\n",
    "                        Z_val = self.conv2d_lst[i].act_instance.forward(A_val)\n",
    "                        # pooling\n",
    "                        Z_val = self.conv2d_lst[i].pooling_instance.forward(Z_val)\n",
    "                    \n",
    "                    # 畳み込み層が終わったら平滑化\n",
    "                    flat_val = Flatten()\n",
    "                    Z_val = flat_val.forward(Z_val)\n",
    "                \n",
    "                    # 全結合層をループ\n",
    "                    for i in range(len(self.fc_lst)):\n",
    "                        A_val = self.fc_lst[i].forward(Z_val)\n",
    "                        Z_val = self.fc_lst[i].act_instance.forward(A_val)\n",
    "                \n",
    "                    # 最後の出力層\n",
    "                    A_val = self.last_layer.forward(Z_val)\n",
    "                    Z_val = self.last_layer.act_instance.forward(A_val)\n",
    "                    \n",
    "                    # SoftMaxback_propagation, 損失記録\n",
    "                    _, batches_val_losses[get_mini_batch._counter - 1] = self.last_layer.act_instance.backward(Z_val, y_val_one_hot)\n",
    "                \n",
    "                # train_data\n",
    "                Z = mini_X_train\n",
    "                for i in range(len(self.conv2d_lst)):\n",
    "                    A = self.conv2d_lst[i].forward(Z)\n",
    "                    Z = self.conv2d_lst[i].act_instance.forward(A)\n",
    "                    # pooling\n",
    "                    Z = self.conv2d_lst[i].pooling_instance.forward(Z)\n",
    "                    \n",
    "                # 畳み込み層が終わったら平滑化\n",
    "                flat = Flatten()\n",
    "                Z = flat.forward(Z)\n",
    "                \n",
    "                # 全結合層をループ\n",
    "                for i in range(len(self.fc_lst)):\n",
    "                    A = self.fc_lst[i].forward(Z)\n",
    "                    Z = self.fc_lst[i].act_instance.forward(A)\n",
    "                \n",
    "                # 最後の出力層\n",
    "                A = self.last_layer.forward(Z)\n",
    "                Z = self.last_layer.act_instance.forward(A)\n",
    "                    \n",
    "                # SoftMaxback_propagation, 損失記録\n",
    "                dA, batches_losses[get_mini_batch._counter - 1] = self.last_layer.act_instance.backward(Z, mini_y_train)\n",
    "                \n",
    "                # back propagation\n",
    "                dZ = self.last_layer.backward(dA)\n",
    "                \n",
    "                # fcを逆順で取り出す\n",
    "                for i in range(len(self.fc_lst)):\n",
    "                    dA = self.fc_lst[-(i+1)].act_instance.backward(dZ)\n",
    "                    dZ = self.fc_lst[-(i+1)].backward(dA)\n",
    "                \n",
    "                # flattenのback\n",
    "                dZ = flat.backward(dZ)\n",
    "                \n",
    "                # conv1dを逆順で取り出す\n",
    "                for i in range(len(self.conv2d_lst)):\n",
    "                    # pooling\n",
    "                    dZ = self.conv2d_lst[-(i+1)].pooling_instance.backward(dZ)\n",
    "                    dA = self.conv2d_lst[-(i+1)].act_instance.backward(dZ)\n",
    "                    dZ = self.conv2d_lst[-(i+1)].backward(dA)\n",
    "  \n",
    "            #　バッチのループが終わったら損失を合計し、記録\n",
    "            self.losses[n_epoch] = batches_losses.sum()\n",
    "            if self.val_flag:\n",
    "                self.val_losses[n_epoch] = batches_val_losses.sum()\n",
    "        \n",
    "            #verboseをTrueにした際は学習過程などを出力する\n",
    "            if self.verbose is True:\n",
    "                print('epoch : {} finished'.format(n_epoch))\n",
    "                print('train_loss : {}'.format(self.losses[n_epoch]))\n",
    "                if self.val_flag:\n",
    "                    print('val_loss : {}'.format(self.val_losses[n_epoch]))\n",
    "        \n",
    "    def predict(self, X):\n",
    "        \"\"\"\n",
    "        ニューラルネットワーク分類器を使い推定する。\n",
    "\n",
    "        Parameters\n",
    "        ----------\n",
    "        X : 次の形のndarray, shape (n_samples, input_channels, n_h, n_w)\n",
    "            サンプル\n",
    "\n",
    "        Returns\n",
    "        -------\n",
    "            次の形のndarray, shape (n_samples, 1)\n",
    "            推定結果\n",
    "        \"\"\"\n",
    "        # 活性化関数の出力結果をpredで管理\n",
    "        pred = X\n",
    "\n",
    "        # 各層をループ\n",
    "        for conv2d in self.conv2d_lst:\n",
    "            A = conv2d.forward(pred)\n",
    "            pred = conv2d.act_instance.forward(A)\n",
    "            # pooling\n",
    "            pred = conv2d.pooling_instance.forward(pred)\n",
    "        \n",
    "        # 平滑化\n",
    "        pred = Flatten().forward(pred)\n",
    "        \n",
    "        # 全結合層\n",
    "        for fc in self.fc_lst:\n",
    "            A = fc.forward(pred)\n",
    "            pred = fc.act_instance.forward(A)\n",
    "        \n",
    "        # 最終出力層\n",
    "        A = self.last_layer.forward(pred)\n",
    "        pred = self.last_layer.act_instance.forward(A)\n",
    "        \n",
    "        # 列、横方向に最大のインデックスを取得し、出力カテゴリのself.categories_の値を返す\n",
    "        return self.categories_[np.argmax(pred, axis=1)]"
   ]
  },
  {
   "cell_type": "markdown",
   "metadata": {},
   "source": [
    "- 検証結果をアウトプットする関数"
   ]
  },
  {
   "cell_type": "code",
   "execution_count": 70,
   "metadata": {},
   "outputs": [],
   "source": [
    "# Accuracy_scoreの計算\n",
    "from sklearn.metrics import accuracy_score\n",
    "def acc_score(X_test, y_test, clf):\n",
    "    score = accuracy_score(y_test, clf.predict(X_test))\n",
    "    print('Accuracy_score : {}'.format(score))\n",
    "    return score"
   ]
  },
  {
   "cell_type": "code",
   "execution_count": 71,
   "metadata": {},
   "outputs": [],
   "source": [
    "# 損失関数のプロット\n",
    "def loss_plot(clf):\n",
    "    plt.plot(range(clf.epoch), clf.losses, label='train_loss')\n",
    "    if clf.val_flag:\n",
    "        plt.plot(range(clf.epoch), clf.val_losses, label='val_loss')\n",
    "    plt.xlabel('n_epoch')\n",
    "    plt.title('model_loss')\n",
    "    plt.legend()\n",
    "    plt.show()"
   ]
  },
  {
   "cell_type": "code",
   "execution_count": 72,
   "metadata": {},
   "outputs": [],
   "source": [
    "# MNISTデータの誤分類結果を表示する\n",
    "def miss_class_imshow(y_pred, y_val, X_val, num, n_columns = 6):\n",
    "    \"\"\"\n",
    "    誤分類結果を並べて表示する。画像の上の表示は「推定結果/正解」である。\n",
    "\n",
    "    Parameters:\n",
    "    ----------\n",
    "    y_pred : 推定値のndarray (n_samples,)\n",
    "    y_val : 検証データの正解ラベル(n_samples,)\n",
    "    X_val : 検証データの特徴量（n_samples, n_features)\n",
    "    num : 表示する数\n",
    "    n_columns : 表示する列数\n",
    "    \"\"\"\n",
    "    true_false = y_pred==y_val\n",
    "    false_list = np.where(true_false==False)[0].astype(np.int)\n",
    "    if false_list.shape[0] < num:\n",
    "        num = false_list.shape[0]\n",
    "    fig = plt.figure(figsize=(16, (num-1//n_columns + 1)*(16 / n_columns)))\n",
    "    fig.subplots_adjust(left=0, right=0.8,  bottom=0, top=0.8, hspace=1, wspace=0.5)\n",
    "    for i in range(num):\n",
    "        ax = fig.add_subplot(num-1//n_columns + 1, n_columns, i + 1, xticks=[], yticks=[])\n",
    "        ax.set_title(\"pred:{} / ans:{}\".format(y_pred[false_list[i]],y_val[false_list[i]]))\n",
    "        ax.imshow(X_val.reshape(-1,28,28)[false_list[i]], cmap='gray')"
   ]
  },
  {
   "cell_type": "markdown",
   "metadata": {},
   "source": [
    "### 【問題6】学習と推定\n",
    "作成したConv2dを使用してMNISTを学習・推定し、Accuracyを計算してください。\n",
    "\n",
    "精度は低くともまずは動くことを目指してください。"
   ]
  },
  {
   "cell_type": "markdown",
   "metadata": {},
   "source": [
    "MNISTはデータサイズが大きいので、いったん[Optical Recognition of Handwritten Digits Data Set](https://archive.ics.uci.edu/ml/datasets/Optical+Recognition+of+Handwritten+Digits)のコピーである、[sklearn.datasets.load_digits](https://scikit-learn.org/stable/modules/generated/sklearn.datasets.load_digits.html#sklearn.datasets.load_digits)を使って、正しく動いているか検証してみましょう。"
   ]
  },
  {
   "cell_type": "code",
   "execution_count": 73,
   "metadata": {},
   "outputs": [
    {
     "name": "stdout",
     "output_type": "stream",
     "text": [
      "0\n"
     ]
    },
    {
     "data": {
      "image/png": "[encoded data removed]",
      "text/plain": [
       "<Figure size 432x288 with 1 Axes>"
      ]
     },
     "metadata": {
      "needs_background": "light"
     },
     "output_type": "display_data"
    },
    {
     "name": "stdout",
     "output_type": "stream",
     "text": [
      "1\n"
     ]
    },
    {
     "data": {
      "image/png": "[encoded data removed]",
      "text/plain": [
       "<Figure size 432x288 with 1 Axes>"
      ]
     },
     "metadata": {
      "needs_background": "light"
     },
     "output_type": "display_data"
    },
    {
     "name": "stdout",
     "output_type": "stream",
     "text": [
      "2\n"
     ]
    },
    {
     "data": {
      "image/png": "[encoded data removed]",
      "text/plain": [
       "<Figure size 432x288 with 1 Axes>"
      ]
     },
     "metadata": {
      "needs_background": "light"
     },
     "output_type": "display_data"
    }
   ],
   "source": [
    "from sklearn.model_selection import train_test_split\n",
    "from sklearn.datasets import load_digits\n",
    "X,y = load_digits(n_class=10, return_X_y=True)\n",
    "X = X.reshape((-1,8,8))\n",
    "for i in range(3):\n",
    "    print(y[i])\n",
    "    plt.imshow(X[i],\"gray\")\n",
    "    plt.show()"
   ]
  },
  {
   "cell_type": "markdown",
   "metadata": {},
   "source": [
    "標準化/正規化ももちろん必須なので、してあげましょう。\n",
    "\n",
    "モノクロ画像なので、チャンネル側がありませんが、reshapeして、チャンネル方向に拡張してください。"
   ]
  },
  {
   "cell_type": "code",
   "execution_count": 74,
   "metadata": {},
   "outputs": [
    {
     "data": {
      "text/plain": [
       "((1797, 1, 8, 8), (1797,))"
      ]
     },
     "execution_count": 74,
     "metadata": {},
     "output_type": "execute_result"
    }
   ],
   "source": [
    "X = X / X.max()\n",
    "X = X.reshape(-1, 1, 8, 8)\n",
    "X.shape, y.shape"
   ]
  },
  {
   "cell_type": "markdown",
   "metadata": {},
   "source": [
    "訓練データとテストデータに分ける"
   ]
  },
  {
   "cell_type": "code",
   "execution_count": 75,
   "metadata": {},
   "outputs": [],
   "source": [
    "X_train,X_test,y_train,y_test = train_test_split(X,y)"
   ]
  },
  {
   "cell_type": "code",
   "execution_count": 76,
   "metadata": {},
   "outputs": [
    {
     "name": "stderr",
     "output_type": "stream",
     "text": [
      "100%|██████████| 20/20 [00:27<00:00,  1.37s/it]\n"
     ]
    }
   ],
   "source": [
    "parameters = {'output_channels':[2, 2],\n",
    "              'filter_sizes':[(3, 3), (3,3)],\n",
    "              'stride_sizes':[(1, 1), (1, 1)],\n",
    "              'padding':['SAME', 'VALID'],\n",
    "              'pooling':[None, None],\n",
    "              'pooling_sizes':[None, None],\n",
    "              'conv_activation':'relu',\n",
    "              'conv_initialize':'he',\n",
    "              'conv_optimize':'adagrad',\n",
    "              'conv_lr':10e-3,\n",
    "              'hidden_layer_sizes':[400, 200],\n",
    "              'fc_activation':'relu',\n",
    "              'fc_initialize':'he',\n",
    "              'fc_optimize':'adagrad',\n",
    "              'fc_lr':10e-3,\n",
    "              'verbose':False,\n",
    "              'random_state':0,\n",
    "              'epoch':20,\n",
    "              'batch_size':20}\n",
    "cnn2d = Scratch2dCNNClassifier(**parameters)\n",
    "cnn2d.fit(X_train, y_train, X_test, y_test)"
   ]
  },
  {
   "cell_type": "code",
   "execution_count": 77,
   "metadata": {},
   "outputs": [
    {
     "name": "stdout",
     "output_type": "stream",
     "text": [
      "Accuracy_score : 0.9133333333333333\n"
     ]
    },
    {
     "data": {
      "image/png": "[encoded data removed]",
      "text/plain": [
       "<Figure size 432x288 with 1 Axes>"
      ]
     },
     "metadata": {
      "needs_background": "light"
     },
     "output_type": "display_data"
    }
   ],
   "source": [
    "acc_score(X_test, y_test, cnn2d)\n",
    "loss_plot(cnn2d)"
   ]
  },
  {
   "cell_type": "markdown",
   "metadata": {},
   "source": [
    "### 【問題7】（アドバンス課題）LeNet\n",
    "CNNで画像認識を行う際は、フィルタサイズや層の数などを１から考えるのではなく、有名な構造を利用することが一般的です。現在では実用的に使われることはありませんが、歴史的に重要なのは1998年の LeNet です。この構造を再現してMNISTに対して動かし、Accuracyを計算してください。\n",
    "\n",
    "[Y. LeCun, L. Bottou, Y. Bengio, and P. Haffner. Gradient-based learning applied to document recognition. Proceedings of the IEEE, 86(11):2278–2324, 1998.](http://yann.lecun.com/exdb/publis/pdf/lecun-98.pdf)\n",
    "\n",
    "![image](https://t.gyazo.com/teams/diveintocode/83358987a273743a589b9388dfdf59ac.png)\n",
    "\n",
    "※上記論文から引用\n",
    "\n",
    "サブサンプリングとは現在のプーリングに相当するものです。現代風に以下のように作ってみることにします。活性化関数も当時はシグモイド関数ですが、ReLUとします。\n",
    "\n",
    "1. 畳み込み層　出力チャンネル数6、フィルタサイズ5×5、ストライド1\n",
    "2. ReLU\n",
    "3. 最大プーリング\n",
    "4. 畳み込み層　出力チャンネル数16、フィルタサイズ5×5、ストライド1\n",
    "5. ReLU\n",
    "6. 最大プーリング\n",
    "7. 平滑化\n",
    "8. 全結合層　出力ノード数120\n",
    "9. ReLU\n",
    "10. 全結合層　出力ノード数84\n",
    "11. ReLU\n",
    "12. 全結合層　出力ノード数10\n",
    "13. ソフトマックス関数"
   ]
  },
  {
   "cell_type": "code",
   "execution_count": 78,
   "metadata": {},
   "outputs": [],
   "source": [
    "# MNISTデータ　ロード\n",
    "from tensorflow.keras.datasets import mnist\n",
    "(X_train, y_train), (X_test, y_test) = mnist.load_data()\n",
    "# input_channelsを追加\n",
    "X_train = X_train[:, np.newaxis]\n",
    "X_test = X_test[:, np.newaxis]\n",
    "# 前処理\n",
    "X_train = X_train.astype(np.float)\n",
    "X_test = X_test.astype(np.float)\n",
    "X_train /= 255\n",
    "X_test /= 255"
   ]
  },
  {
   "cell_type": "code",
   "execution_count": 79,
   "metadata": {},
   "outputs": [
    {
     "data": {
      "text/plain": [
       "\"\\nparameters = {'output_channels':[6, 16],\\n              'filter_sizes':[(5, 5), (5, 5)],\\n              'stride_sizes':[(1, 1), (1, 1)],\\n              'padding':['SAME', 'SAME'],\\n              'pooling':['max', 'max'],\\n              'pooling_sizes':[(3, 3), (3, 3)],\\n              'conv_activation':'relu',\\n              'conv_initialize':'he',\\n              'conv_optimize':'adagrad',\\n              'conv_lr':10e-3,\\n              'hidden_layer_sizes':[120, 84],\\n              'fc_activation':'relu',\\n              'fc_initialize':'he',\\n              'fc_optimize':'adagrad',\\n              'fc_lr':10e-3,\\n              'verbose':False,\\n              'random_state':0,\\n              'epoch':20,\\n              'batch_size':1000}\\nlanet = Scratch2dCNNClassifier(**parameters)\\nlanet.fit(X_train, y_train, X_test, y_test)\\n# scratchした学習器を保存\\nimport pickle\\nwith open('Scratch_CNN_LeNet_clf_Sprint12', 'wb') as f:\\n    pickle.dump(lanet, f)\\n\""
      ]
     },
     "execution_count": 79,
     "metadata": {},
     "output_type": "execute_result"
    }
   ],
   "source": [
    "\"\"\"\n",
    "parameters = {'output_channels':[6, 16],\n",
    "              'filter_sizes':[(5, 5), (5, 5)],\n",
    "              'stride_sizes':[(1, 1), (1, 1)],\n",
    "              'padding':['SAME', 'SAME'],\n",
    "              'pooling':['max', 'max'],\n",
    "              'pooling_sizes':[(3, 3), (3, 3)],\n",
    "              'conv_activation':'relu',\n",
    "              'conv_initialize':'he',\n",
    "              'conv_optimize':'adagrad',\n",
    "              'conv_lr':10e-3,\n",
    "              'hidden_layer_sizes':[120, 84],\n",
    "              'fc_activation':'relu',\n",
    "              'fc_initialize':'he',\n",
    "              'fc_optimize':'adagrad',\n",
    "              'fc_lr':10e-3,\n",
    "              'verbose':False,\n",
    "              'random_state':0,\n",
    "              'epoch':20,\n",
    "              'batch_size':1000}\n",
    "lanet = Scratch2dCNNClassifier(**parameters)\n",
    "lanet.fit(X_train, y_train, X_test, y_test)\n",
    "# scratchした学習器を保存\n",
    "import pickle\n",
    "with open('Scratch_CNN_LeNet_clf_Sprint12', 'wb') as f:\n",
    "    pickle.dump(lanet, f)\n",
    "\"\"\""
   ]
  },
  {
   "cell_type": "code",
   "execution_count": 80,
   "metadata": {},
   "outputs": [],
   "source": [
    "# 学習器を呼び出す\n",
    "import pickle\n",
    "with open('Scratch_CNN_LeNet_clf_Sprint12', 'rb') as f:\n",
    "    saved_scratch_lanet = pickle.load(f)"
   ]
  },
  {
   "cell_type": "code",
   "execution_count": 81,
   "metadata": {},
   "outputs": [
    {
     "name": "stdout",
     "output_type": "stream",
     "text": [
      "Accuracy_score : 0.9477\n"
     ]
    },
    {
     "data": {
      "image/png": "[encoded data removed]",
      "text/plain": [
       "<Figure size 432x288 with 1 Axes>"
      ]
     },
     "metadata": {
      "needs_background": "light"
     },
     "output_type": "display_data"
    }
   ],
   "source": [
    "acc_score(X_test, y_test, saved_scratch_lanet)\n",
    "loss_plot(saved_scratch_lanet)"
   ]
  },
  {
   "cell_type": "code",
   "execution_count": 82,
   "metadata": {},
   "outputs": [
    {
     "data": {
      "image/png": "[encoded data removed]",
      "text/plain": [
       "<Figure size 1152x7104 with 36 Axes>"
      ]
     },
     "metadata": {},
     "output_type": "display_data"
    }
   ],
   "source": [
    "y_pred = saved_scratch_lanet.predict(X_test)\n",
    "miss_class_imshow(y_pred, y_test, X_test, num=36, n_columns = 6)"
   ]
  },
  {
   "cell_type": "markdown",
   "metadata": {},
   "source": [
    "### 【問題8】（アドバンス課題）有名な画像認識モデルの調査\n",
    "\n",
    "CNNの代表的な構造としてははAlexNet(2012)、VGG16(2014)などがあります。こういったものはフレームワークで既に用意されていることも多いです。\n",
    "\n",
    "どういったものがあるか簡単に調べてまとめてください。名前だけでも見ておくと良いでしょう。\n",
    "\n",
    "*《参考》*\n",
    "\n",
    "[Applications - Keras Documentation](https://keras.io/ja/applications/)"
   ]
  },
  {
   "cell_type": "markdown",
   "metadata": {},
   "source": [
    "*以下記事に多くのフレームワークが紹介されている*\n",
    "- [ILSVRC2017_overview](http://image-net.org/challenges/talks_2017/ILSVRC2017_overview.pdf)\n",
    "\n",
    "- [畳み込みニューラルネットワークの最新研究動向 (〜2017)](https://qiita.com/yu4u/items/7e93c454c9410c4b5427)\n",
    "\n",
    "- [畳み込みニューラルネットワークの高精度化と高速化](https://www.slideshare.net/ren4yu/ss-145689425)\n",
    "\n",
    "![image](https://qiita-user-contents.imgix.net/https%3A%2F%2Fqiita-image-store.s3.amazonaws.com%2F0%2F139809%2F49368c48-fcda-f2db-47d6-963bdf993bcf.png?ixlib=rb-1.2.2&auto=format&gif-q=60&q=75&w=1400&fit=max&s=8ae0087a02077c8eb9d1733e13f16b92)"
   ]
  },
  {
   "cell_type": "markdown",
   "metadata": {},
   "source": [
    "### 【問題9】出力サイズとパラメータ数の計算\n",
    "\n",
    "CNNモデルを構築する際には、全結合層に入力する段階で特徴量がいくつになっているかを事前に計算する必要があります。\n",
    "\n",
    "また、巨大なモデルを扱うようになると、メモリや計算速度の関係でパラメータ数の計算は必須になってきます。フレームワークでは各層のパラメータ数を表示させることが可能ですが、意味を理解していなくては適切な調整が行えません。\n",
    "\n",
    "以下の3つの畳み込み層の出力サイズとパラメータ数を計算してください。パラメータ数についてはバイアス項も考えてください。"
   ]
  },
  {
   "cell_type": "markdown",
   "metadata": {},
   "source": [
    "1.\n",
    "- 入力サイズ : 144×144, 3チャンネル\n",
    "- フィルタサイズ : 3×3, 6チャンネル\n",
    "- ストライド : 1\n",
    "- パディング : なし"
   ]
  },
  {
   "cell_type": "code",
   "execution_count": 83,
   "metadata": {},
   "outputs": [],
   "source": [
    "# 畳み込み層\n",
    "input_h, input_w, input_channels = 144, 144, 3\n",
    "F_h, F_w, output_channels = 3, 3, 6\n",
    "stride_h, stride_w = 1, 1\n",
    "padding_h, padding_w = 0, 0 "
   ]
  },
  {
   "cell_type": "code",
   "execution_count": 84,
   "metadata": {},
   "outputs": [
    {
     "name": "stdout",
     "output_type": "stream",
     "text": [
      "出力サイズ : 120984\n"
     ]
    }
   ],
   "source": [
    "output_h = (input_h + 2*padding_h - F_h) // stride_h + 1\n",
    "output_w = (input_w + 2*padding_w - F_w) // stride_w + 1\n",
    "output_size = output_h * output_w * output_channels\n",
    "print('出力サイズ : {}'.format(output_size))"
   ]
  },
  {
   "cell_type": "code",
   "execution_count": 85,
   "metadata": {},
   "outputs": [
    {
     "name": "stdout",
     "output_type": "stream",
     "text": [
      "パラメーター数 : 168\n"
     ]
    }
   ],
   "source": [
    "parameters = input_channels * F_h * F_w * output_channels + output_channels\n",
    "print('パラメーター数 : {}'.format(parameters))"
   ]
  },
  {
   "cell_type": "markdown",
   "metadata": {},
   "source": [
    "2.\n",
    "- 入力サイズ : 60×60, 24チャンネル\n",
    "- フィルタサイズ : 3×3, 48チャンネル\n",
    "- ストライド　: 1\n",
    "- パディング : なし"
   ]
  },
  {
   "cell_type": "code",
   "execution_count": 86,
   "metadata": {},
   "outputs": [],
   "source": [
    "# 畳み込み層\n",
    "input_h, input_w, input_channels = 60, 60, 24\n",
    "F_h, F_w, output_channels = 3, 3, 48\n",
    "stride_h, stride_w = 1, 1\n",
    "padding_h, padding_w = 0, 0 "
   ]
  },
  {
   "cell_type": "code",
   "execution_count": 87,
   "metadata": {},
   "outputs": [
    {
     "name": "stdout",
     "output_type": "stream",
     "text": [
      "出力サイズ : 161472\n"
     ]
    }
   ],
   "source": [
    "output_h = (input_h + 2*padding_h - F_h) // stride_h + 1\n",
    "output_w = (input_w + 2*padding_w - F_w) // stride_w + 1\n",
    "output_size = output_h * output_w * output_channels\n",
    "print('出力サイズ : {}'.format(output_size))"
   ]
  },
  {
   "cell_type": "code",
   "execution_count": 88,
   "metadata": {},
   "outputs": [
    {
     "name": "stdout",
     "output_type": "stream",
     "text": [
      "パラメーター数 : 10416\n"
     ]
    }
   ],
   "source": [
    "parameters = input_channels * F_h * F_w * output_channels + output_channels\n",
    "print('パラメーター数 : {}'.format(parameters))"
   ]
  },
  {
   "cell_type": "markdown",
   "metadata": {},
   "source": [
    "3.\n",
    "- 入力サイズ : 20×20, 10チャンネル\n",
    "- フィルタサイズ: 3×3, 20チャンネル\n",
    "- ストライド : 2\n",
    "- パディング : なし\n",
    "\n",
    "＊最後の例は丁度良く畳み込みをすることができない場合です。フレームワークでは余ったピクセルを見ないという処理が行われることがあるので、その場合を考えて計算してください。端が欠けてしまうので、こういった設定は好ましくないという例です。"
   ]
  },
  {
   "cell_type": "code",
   "execution_count": 89,
   "metadata": {},
   "outputs": [],
   "source": [
    "# 畳み込み層\n",
    "input_h, input_w, input_channels = 20, 20, 10\n",
    "F_h, F_w, output_channels = 3, 3, 20\n",
    "stride_h, stride_w = 2, 2\n",
    "padding_h, padding_w = 0, 0 "
   ]
  },
  {
   "cell_type": "code",
   "execution_count": 90,
   "metadata": {},
   "outputs": [
    {
     "name": "stdout",
     "output_type": "stream",
     "text": [
      "出力サイズ : 1620\n"
     ]
    }
   ],
   "source": [
    "output_h = (input_h + 2*padding_h - F_h) // stride_h + 1\n",
    "output_w = (input_w + 2*padding_w - F_w) // stride_w + 1\n",
    "output_size = output_h * output_w * output_channels\n",
    "print('出力サイズ : {}'.format(output_size))"
   ]
  },
  {
   "cell_type": "code",
   "execution_count": 91,
   "metadata": {},
   "outputs": [
    {
     "name": "stdout",
     "output_type": "stream",
     "text": [
      "パラメーター数 : 1820\n"
     ]
    }
   ],
   "source": [
    "parameters = input_channels * F_h * F_w * output_channels + output_channels\n",
    "print('パラメーター数 : {}'.format(parameters))"
   ]
  },
  {
   "cell_type": "markdown",
   "metadata": {},
   "source": [
    "### 【問題10】（アドバンス課題）フィルタサイズに関する調査\n",
    "\n",
    "畳み込み層にはフィルタサイズというハイパーパラメータがありますが、2次元畳み込み層において現在では3×3と1×1の使用が大半です。以下のそれぞれを調べたり、自分なりに考えて説明してください。"
   ]
  },
  {
   "cell_type": "markdown",
   "metadata": {},
   "source": [
    "- 7×7などの大きめのものではなく、3×3のフィルタが一般的に使われる理由\n",
    "    - 5×5のフィルタと3×3のフィルタを２回通す場合では、出力されるサイズは同じであるが、パラメーター数は25:18であり、小さいフィルタを複数通した方が計算の効率化につながる"
   ]
  },
  {
   "cell_type": "markdown",
   "metadata": {},
   "source": [
    "- 高さや幅方向を持たない1×1のフィルタの効果\n",
    "    - 前の層のチャンネルより少ないチャンネルで1×1のフィルタを通すことにより、パラメーター数を削減できるので、計算能力が低い環境等でもモデルを動かせるようになる"
   ]
  },
  {
   "cell_type": "markdown",
   "metadata": {},
   "source": [
    "- その他\n",
    "    - フィルタは周辺ピクセルとの関係性を調べる調べるために用いられる。フィルタが偶数だと中心ピクセルが定まらなくなってしまうため、基本的にはいつも奇数である"
   ]
  }
 ],
 "metadata": {
  "kernelspec": {
   "display_name": "Python 3",
   "language": "python",
   "name": "python3"
  },
  "language_info": {
   "codemirror_mode": {
    "name": "ipython",
    "version": 3
   },
   "file_extension": ".py",
   "mimetype": "text/x-python",
   "name": "python",
   "nbconvert_exporter": "python",
   "pygments_lexer": "ipython3",
   "version": "3.7.6"
  },
  "toc": {
   "base_numbering": 1,
   "nav_menu": {},
   "number_sections": false,
   "sideBar": true,
   "skip_h1_title": false,
   "title_cell": "Table of Contents",
   "title_sidebar": "Contents",
   "toc_cell": false,
   "toc_position": {},
   "toc_section_display": true,
   "toc_window_display": true
  },
  "varInspector": {
   "cols": {
    "lenName": 16,
    "lenType": 16,
    "lenVar": 40
   },
   "kernels_config": {
    "python": {
     "delete_cmd_postfix": "",
     "delete_cmd_prefix": "del ",
     "library": "var_list.py",
     "varRefreshCmd": "print(var_dic_list())"
    },
    "r": {
     "delete_cmd_postfix": ") ",
     "delete_cmd_prefix": "rm(",
     "library": "var_list.r",
     "varRefreshCmd": "cat(var_dic_list()) "
    }
   },
   "types_to_exclude": [
    "module",
    "function",
    "builtin_function_or_method",
    "instance",
    "_Feature"
   ],
   "window_display": false
  }
 },
 "nbformat": 4,
 "nbformat_minor": 4
}
