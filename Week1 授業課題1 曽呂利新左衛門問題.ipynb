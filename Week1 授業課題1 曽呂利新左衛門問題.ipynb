{
 "cells": [
  {
   "cell_type": "markdown",
   "metadata": {},
   "source": [
    "「Pythonを使ってみよう」の問題で扱った紙を折ると月に届く話に似たものとして、曽呂利新左衛門の逸話があります。これを題材にプログラミングを進めます。\n",
    "\n",
    "\n",
    "    秀吉から褒美を下される際、何を希望するか尋ねられた新左衛門は、今日は米1粒、翌日には倍の2粒、その翌日には更に倍の4粒と、日ごとに倍の量の米を100日間もらう事を希望した。米粒なら大した事はないと思った秀吉は簡単に承諾したが、日ごとに倍ずつ増やして行くと100日後には膨大な量になる事に途中で気づき、他の褒美に変えてもらった。"
   ]
  },
  {
   "cell_type": "markdown",
   "metadata": {},
   "source": [
    "## 【問題1】100日目の米粒の数\n",
    "100日目には合計で米粒をいくつもらっているのかを計算するコードを作成し、答えを出力してください。また、1日目から100日目までの「その日にもらう米の数」と「その日までに累計で貰う米の数」の推移を折れ線グラフで表現してください。（縦軸が米の数、横軸が日数）"
   ]
  },
  {
   "cell_type": "code",
   "execution_count": 1,
   "metadata": {},
   "outputs": [
    {
     "name": "stdout",
     "output_type": "stream",
     "text": [
      "100日目には、3.17e+29粒もらう\n"
     ]
    }
   ],
   "source": [
    "day = 100\n",
    "grains_num_lst = [2**(i-1) for i in range(day)]\n",
    "print('{}日目には、{:.2e}粒もらう'.format(day, grains_num_lst[-1]))"
   ]
  },
  {
   "cell_type": "code",
   "execution_count": 2,
   "metadata": {},
   "outputs": [
    {
     "name": "stdout",
     "output_type": "stream",
     "text": [
      "100日目には、3.17e+29粒もらう\n",
      "100日目には、累計6.34e+29粒もらう\n"
     ]
    }
   ],
   "source": [
    "grains_accum_lst = []\n",
    "for i in range(day):\n",
    "    grains_accum = sum(grains_num_lst[:i+1])\n",
    "    grains_accum_lst.append(grains_accum)\n",
    "\n",
    "print('{}日目には、{:.2e}粒もらう'.format(day, grains_num_lst[-1]))\n",
    "print('{}日目には、累計{:.2e}粒もらう'.format(day, grains_accum_lst[-1]))"
   ]
  },
  {
   "cell_type": "code",
   "execution_count": 3,
   "metadata": {},
   "outputs": [
    {
     "data": {
      "image/png": "[encoded data removed]",
      "text/plain": [
       "<Figure size 432x288 with 1 Axes>"
      ]
     },
     "metadata": {
      "needs_background": "light"
     },
     "output_type": "display_data"
    }
   ],
   "source": [
    "import matplotlib.pyplot as plt\n",
    "%matplotlib inline\n",
    "\n",
    "plt.plot(grains_num_lst, label='number')\n",
    "plt.plot(grains_accum_lst, label='accumulation')\n",
    "plt.title('grains')\n",
    "plt.xlabel('days')\n",
    "plt.legend();"
   ]
  },
  {
   "cell_type": "markdown",
   "metadata": {},
   "source": [
    "## 【問題2】100日目以外の米粒の数\n",
    "この逸話は30日だったり81日だったりと日数が曖昧です。どの話にも対応できるように日数を引数とした 関数 を作成しましょう。関数を作成した上で、コースを受講する日数の間でいくつ米粒をもらえるかを答えてください。前の問題同様に折れ線グラフも出力してください。\n",
    "\n",
    "\n",
    "以下の雛形には関数としての枠組みだけではなく、引数や返り値についてのコメントも記載してあります。参考にして、自分なりにも分かりやすくコメントを書き換えてください。\n",
    "\n"
   ]
  },
  {
   "cell_type": "markdown",
   "metadata": {},
   "source": [
    "'''\n",
    "def compute_sorori_shinzaemon(day=100):\n",
    "    \"\"\"\n",
    "    曽呂利新左衛門の米の逸話を検証する関数。日にちごとの米の粒の数を計算する。\n",
    "\n",
    "    Parameteres\n",
    "    --------------\n",
    "    day: int\n",
    "        米を貰う日数 (default : 100)\n",
    "\n",
    "    Returns\n",
    "    --------------\n",
    "    list_n_grains : list\n",
    "        ある日に貰う米の数のリスト（リストの長さはdayに等しくなる）\n",
    "    list_total_grains : list\n",
    "        ある日までに累計で貰う米の数のリスト（リストの長さはdayに等しくなる）\n",
    "    \"\"\"\n",
    "    # ここにコードを書く。passは何もしないことを意味する命令である。\n",
    "    pass\n",
    "    return list_n_grains, list_total_grains\n",
    "list_n_grains, list_total_grains = compute_sorori_shinzaemon(day=10)\n",
    "'''"
   ]
  },
  {
   "cell_type": "code",
   "execution_count": 4,
   "metadata": {},
   "outputs": [],
   "source": [
    "def coupute_sorori_shinzaemon(day):\n",
    "    list_n_grains = [2**(i-1) for i in range(day)]\n",
    "    list_total_grains = [sum(list_n_grains[:i+1]) for i in range(day)]\n",
    "    print('コースを受講する{}日間で、累計{:.2e}粒もらう'.format(day, list_total_grains[-1]))\n",
    "    return list_n_grains, list_total_grains"
   ]
  },
  {
   "cell_type": "code",
   "execution_count": 5,
   "metadata": {},
   "outputs": [
    {
     "name": "stdout",
     "output_type": "stream",
     "text": [
      "コースを受講する120日間で、累計6.65e+35粒もらう\n"
     ]
    }
   ],
   "source": [
    "day = 120 #4ヶ月間\n",
    "list_n_grains, list_total_grains = coupute_sorori_shinzaemon(day)"
   ]
  },
  {
   "cell_type": "code",
   "execution_count": 6,
   "metadata": {},
   "outputs": [
    {
     "data": {
      "image/png": "[encoded data removed]",
      "text/plain": [
       "<Figure size 432x288 with 1 Axes>"
      ]
     },
     "metadata": {
      "needs_background": "light"
     },
     "output_type": "display_data"
    }
   ],
   "source": [
    "import matplotlib.pyplot as plt\n",
    "%matplotlib inline\n",
    "plt.plot(list_n_grains, label='list_n_grains')\n",
    "plt.plot(list_total_grains, label='list_total_grains')\n",
    "plt.xlabel('days')\n",
    "plt.ylabel('grains')\n",
    "plt.legend();"
   ]
  },
  {
   "cell_type": "markdown",
   "metadata": {},
   "source": [
    "## 【問題3】何人が何日生活できる米か\n",
    "この米があれば何人が何日生活できるか計算する関数を作成してください。コースを受講する期間に貰える米粒で、このクラスにいる人数であれば、何日間生活できるかを出力してみましょう。\n",
    "\n",
    "関数の最低限の入力は 米粒の数(int) と 人数(int) 、出力は 生活できる日数(int) です。関数名やコメントなどは分かりやすく考えて作成してください。\n",
    "\n",
    "ここでは1日に必要な米粒の数は提示しません。自分なりに調べて、計算式に落とし込んでください。どう調べ、何を根拠にしたかもコメントを残しておいてください。"
   ]
  },
  {
   "cell_type": "code",
   "execution_count": 7,
   "metadata": {},
   "outputs": [],
   "source": [
    "classmates = 13\n",
    "grains_num = list_total_grains[-1]\n",
    "\n",
    "def survival_time(classmates, grains_num):\n",
    "    needed_kcal = 2200          #成人男性の1日に必要なエネルギー量\n",
    "    rice_kcal_per_cup = 570  #1合あたりのエネルギー量\n",
    "    grains_per_cup = 6500    #1合あたりの米粒\n",
    "    \n",
    "    needed_grains_per_day = needed_kcal // rice_kcal_per_cup * grains_per_cup * classmates  #１日に必要な米粒\n",
    "    print(needed_grains_per_day)\n",
    "    survival_time = int(grains_num // needed_grains_per_day)\n",
    "    print(survival_time)\n",
    "    print('{}日間でもらえる累計{:.2e}粒の米粒で、{}人が、{:.2e}日間生活できる'.format(day, grains_num, classmates, survival_time))"
   ]
  },
  {
   "cell_type": "code",
   "execution_count": 8,
   "metadata": {},
   "outputs": [
    {
     "name": "stdout",
     "output_type": "stream",
     "text": [
      "253500\n",
      "2621751470976165592071141326848\n",
      "120日間でもらえる累計6.65e+35粒の米粒で、13人が、2.62e+30日間生活できる\n"
     ]
    }
   ],
   "source": [
    "survival_time(classmates, grains_num)"
   ]
  },
  {
   "cell_type": "code",
   "execution_count": null,
   "metadata": {},
   "outputs": [],
   "source": []
  }
 ],
 "metadata": {
  "kernelspec": {
   "display_name": "Python 3",
   "language": "python",
   "name": "python3"
  },
  "language_info": {
   "codemirror_mode": {
    "name": "ipython",
    "version": 3
   },
   "file_extension": ".py",
   "mimetype": "text/x-python",
   "name": "python",
   "nbconvert_exporter": "python",
   "pygments_lexer": "ipython3",
   "version": "3.7.4"
  }
 },
 "nbformat": 4,
 "nbformat_minor": 2
}
