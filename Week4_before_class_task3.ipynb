{
 "cells": [
  {
   "cell_type": "markdown",
   "metadata": {},
   "source": [
    "# Week4 授業前課題3 オブジェクト指向の活用"
   ]
  },
  {
   "cell_type": "markdown",
   "metadata": {},
   "source": [
    "## オブジェクト思考\n",
    "これまでの課題では触れてきませんでしたが、`StandardScaler`や`LinearRegression`のような **クラス** と呼ばれるものがPythonなどのプログラム言語では利用できます。\n",
    "\n",
    "クラスの構文は、オブジェクト指向と呼ばれる考え方を利用したプログラミングの基本的な道具になります。\n",
    "\n",
    "この課題ではこれまでに既に登場していたクラスを例に、クラスを活用することでどのようなことができるのかを見て学んでいきます。そして課題の後半では`StandardScaler`のクラスをスクラッチで自作します。"
   ]
  },
  {
   "cell_type": "markdown",
   "metadata": {},
   "source": [
    "## scikit-learnの標準化クラス\n",
    "\n",
    "scikit-learnに用意されている標準化を行うためのクラス`StandardScaler`を例に見ていきます。サンプルコードを用意しましたので、これを利用しながら理解していきます。\n",
    "\n",
    "[sklearn.preprocessing.StandardScaler — scikit-learn 0.21.3 documentation](http://scikit-learn.org/stable/modules/generated/sklearn.preprocessing.StandardScaler.html)\n",
    "\n",
    "**《サンプルコード》**\n",
    "```\n",
    "import numpy as np\n",
    "from sklearn.preprocessing import StandardScaler\n",
    "from sklearn.datasets import load_iris\n",
    "data = load_iris()\n",
    "X = data.data[:10]\n",
    "scaler = StandardScaler()\n",
    "scaler.fit(X)\n",
    "print(\"平均 :\", scaler.mean_)\n",
    "print(\"分散 :\", scaler.var_)\n",
    "X_std = scaler.transform(X)\n",
    "```\n",
    "### インスタンス化\n",
    "クラスを使う際はまず以下のようなコードを書きますが、これを **インスタンス化** と呼びます。\n",
    "\n",
    "`scaler = StandardScaler()`\n",
    "\n",
    "StandardScalerというクラスオブジェクトから、scalerと名前をつけたインスタンスオブジェクトが作られました。\n",
    "\n",
    "**《クラスの命名法》**\n",
    "\n",
    "Pythonではクラス名は頭文字が大文字、他は小文字という命名法がPEP8により定められています。単語間にアンダースコアは入れません。これを **CapWords** 方式と呼びます。\n",
    "\n",
    "[はじめに — pep8-ja 1.0 ドキュメント クラスの名前](https://pep8-ja.readthedocs.io/ja/latest/#id31)\n",
    "\n",
    "こういった形式のものはクラスだと判断することができます。\n",
    "\n",
    "**《インスタンスは複数作れる》**\n",
    "\n",
    "あるクラスオブジェクトからは複数のインスタンスオブジェクトを作成することが可能です。\n",
    "```\n",
    "scaler0 = StandardScaler()\n",
    "scaler1 = StandardScaler()\n",
    "scaler2 = StandardScaler()\n",
    "```"
   ]
  },
  {
   "cell_type": "markdown",
   "metadata": {},
   "source": [
    "## 【問題1】これまで利用してきたクラスの列挙\n",
    "クラスを使う際はインスタンス化を行うことと、クラスの命名法がわかりました。この情報を元に、これまでの課題で利用してきたコードの中でどのようなクラスがあったかを答えてください。\n",
    "\n",
    "Pandas、matplotlib、scikit-learnからそれぞれ1つ以上見つけてください。"
   ]
  },
  {
   "cell_type": "markdown",
   "metadata": {},
   "source": [
    "- Pandas\n",
    "    - DataFrame, Series\n",
    "- matplotlib\n",
    "    - figure, axes, legend, tight_layout\n",
    "- scikit-learn\n",
    "    - sklearn.preprocessing\n",
    "        - StandardScaler\n",
    "    - sklearn.linear_model\n",
    "        - LogisticRegression, LinearRegression\n",
    "    - sklearn.tree\n",
    "        - DecisionTreeClassifier, DecisionTreeRegressor\n",
    "    - sklearn.ensemble\n",
    "        - RandomForestClassifier, RandomForestRegressor\n",
    "    - sklearn.svm\n",
    "        - SVC, SVR\n",
    "    - sklearn.neighbors\n",
    "        - KNeighborsClassifier"
   ]
  },
  {
   "cell_type": "markdown",
   "metadata": {},
   "source": [
    "### メソッド\n",
    "インスタンス化を行った後には、`scaler.fit(X)`のような メソッド の実行ができます。`StandardScaler`の`fit`メソッドは後でスケーリングに使われる平均と標準偏差を計算する機能があります。\n",
    "\n",
    "### インスタンス変数（アトリビュート）\n",
    "`fit`メソッドにより平均と標準偏差が計算されましたが、見た目には変化があるわけではありません。しかし、scalerインスタンスの内部では計算結果が保存されています。こういったインスタンスの中で値を保存するものを **インスタンス変数** や **アトリビュート（属性）** と呼びます。ここで平均が`scaler.mean_`、標準偏差の2乗した値である分散が`scaler.var_`に保存されています。\n",
    "\n",
    "以下のようにprint文で出力させることができます。\n",
    "```\n",
    "print(\"平均 : {}\".format(scaler.mean_)) # 平均 : [4.86 3.31 1.45 0.22]\n",
    "print(\"分散 : {}\".format(scaler.var_)) # 分散 : [0.0764 0.0849 0.0105 0.0056]\n",
    "```\n",
    "\n",
    "**《メソッドとインスタンス変数の命名法》**\n",
    "\n",
    "メソッドやインスタンス変数の命名は関数と同様に、全て小文字で行います。単語をつなぐときにはアンダースコアを入れます。\n",
    "\n",
    "[はじめに — pep8-ja 1.0 ドキュメント メソッド名とインスタンス変数](https://pep8-ja.readthedocs.io/ja/latest/#id37)"
   ]
  },
  {
   "cell_type": "markdown",
   "metadata": {},
   "source": [
    "## 【問題2】これまで利用してきたメソッドやインスタンス変数の列挙\n",
    "\n",
    "これまでの課題で利用してきたコードの中でどのようなメソッドやインスタンス変数があったかを答えてください。\n",
    "\n",
    "最低でもそれぞれ5つ以上答えてください。"
   ]
  },
  {
   "cell_type": "markdown",
   "metadata": {},
   "source": [
    "- pandas.DataFrame\n",
    "     - インスタンス変数\n",
    "         - columns, dtypes, iloc, index, loc, shape, size\n",
    "     - メソッド\n",
    "         - describe, head, tail, info, query\n",
    "- numpy.ndarray\n",
    "    - インスタンス変数\n",
    "        - ndim, shape, dtype, size\n",
    "    - メソッド\n",
    "        - reshape, sum, max, min"
   ]
  },
  {
   "cell_type": "markdown",
   "metadata": {},
   "source": [
    "**《ndarrayやstrもインスタンス》**\n",
    "\n",
    "ドットをつけるというと、NumPyのndarrayに対して`ndarray.shape`や`ndarray.sum()`のような使い方は何度も利用してきたかと思います。これは、ndarrayもインスタンスオブジェクトであり、`shape`はインスタンス変数、`sum`はメソッドだったということです。\n",
    "\n",
    "Pythonのコードに登場するデータはどれもインスタンスオブジェクトであり、listやstrもメソッドを持ちます。\n",
    "\n",
    "（例）\n",
    "\n",
    "[5. データ構造 — Python 3.7.4 ドキュメント 5.1. リスト型についてもう少し](https://docs.python.jp/3/tutorial/datastructures.html#more-on-lists)\n",
    "```\n",
    "l = ['a']\n",
    "l.append('b') # listのappendメソッド\n",
    "```\n",
    "[4. 組み込み型 — Python 3.7.4 ドキュメント 文字列メソッド](https://docs.python.jp/3/library/stdtypes.html#string-methods)\n",
    "```\n",
    "s = 'Hello, World!'\n",
    "s.find('W') # strのfindメソッド\n",
    "```"
   ]
  },
  {
   "cell_type": "markdown",
   "metadata": {},
   "source": [
    "### インスタンス変数をメソッドが利用\n",
    "\n",
    "最終的に以下のようにして標準化を行います。\n",
    "\n",
    "`X_std = scaler.transform(X)`\n",
    "\n",
    "これは`fit`メソッドで計算したことでインスタンス変数`mean_`や`var_`に保存されていた値を使い、Xを変換したということです。\n",
    "\n",
    "このようにクラスには複数のメソッドやインスタンス変数が存在し、これらを組み合わせていろいろな機能を実現します。"
   ]
  },
  {
   "cell_type": "markdown",
   "metadata": {},
   "source": [
    "## 【問題3】標準化クラスをスクラッチで作成\n",
    "\n",
    "理解をより深めるため、`StandardScaler`をスクラッチで作成しましょう。scikit-learnは使わず、NumPyなどを活用して標準化の計算を記述します。具体的には`fit`メソッドと`transform`メソッドを作ります。\n",
    "\n",
    "今回は雛形を用意しました。クラスの作成方法は関数に近いです。メソッドはクラスの中にさらにインデントを一段下げて記述します。\n",
    "\n",
    "インスタンス変数を作成する際は`self.mean_`のように`self`を付けます。クラスの外から`scaler.mean_`と書いていたscalerの部分が自分自身を表すselfになっています。"
   ]
  },
  {
   "cell_type": "code",
   "execution_count": 1,
   "metadata": {},
   "outputs": [],
   "source": [
    "class ScratchStandardScaler():\n",
    "    \"\"\"\n",
    "    標準化のためのクラス\n",
    "\n",
    "    Attributes\n",
    "    ----------\n",
    "    mean_ : 次の形のndarray, shape(n_features,)\n",
    "        平均\n",
    "    var_ : 次の形のndarray, shape(n_features,)\n",
    "        分散\n",
    "    \"\"\"\n",
    "    def fit(self, X):\n",
    "        \"\"\"\n",
    "        標準化のために平均と標準偏差を計算する。\n",
    "\n",
    "        Parameters\n",
    "        ----------\n",
    "        X : 次の形のndarray, shape (n_samples, n_features)\n",
    "            訓練データ\n",
    "        \"\"\"\n",
    "        self.mean_ = np.mean(X, axis=0)\n",
    "        self.var_ = np.var(X, axis=0)\n",
    "    def transform(self, X):\n",
    "        \"\"\"\n",
    "        fitで求めた値を使い標準化を行う。\n",
    "\n",
    "        Parameters\n",
    "        ----------\n",
    "        X : 次の形のndarray, shape (n_samples, n_features)\n",
    "            特徴量\n",
    "\n",
    "        Returns\n",
    "        ----------\n",
    "        X_scaled : 次の形のndarray, shape (n_samples, n_features)\n",
    "            標準化された特緒量\n",
    "        \"\"\"\n",
    "        X_scaled = (X - self.mean_) / np.sqrt(self.var_)\n",
    "        return X_scaled"
   ]
  },
  {
   "cell_type": "code",
   "execution_count": 2,
   "metadata": {},
   "outputs": [
    {
     "name": "stdout",
     "output_type": "stream",
     "text": [
      "平均 : [4.86 3.31 1.45 0.22]\n",
      "分散 : [0.0764 0.0849 0.0105 0.0056]\n",
      "[[ 0.86828953  0.65207831 -0.48795004 -0.26726124]\n",
      " [ 0.14471492 -1.06391725 -0.48795004 -0.26726124]\n",
      " [-0.57885968 -0.37751902 -1.46385011 -0.26726124]\n",
      " [-0.94064699 -0.72071813  0.48795004 -0.26726124]\n",
      " [ 0.50650222  0.99527742 -0.48795004 -0.26726124]\n",
      " [ 1.95365143  2.02487476  2.43975018  2.40535118]\n",
      " [-0.94064699  0.3088792  -0.48795004  1.06904497]\n",
      " [ 0.50650222  0.3088792   0.48795004 -0.26726124]\n",
      " [-1.66422159 -1.40711636 -0.48795004 -0.26726124]\n",
      " [ 0.14471492 -0.72071813  0.48795004 -1.60356745]]\n"
     ]
    }
   ],
   "source": [
    "import numpy as np\n",
    "from sklearn.datasets import load_iris\n",
    "data = load_iris()\n",
    "X = data.data[:10]\n",
    "scratch_scaler = ScratchStandardScaler()\n",
    "scratch_scaler.fit(X)\n",
    "print(\"平均 : {}\".format(scratch_scaler.mean_))\n",
    "print(\"分散 : {}\".format(scratch_scaler.var_))\n",
    "X_std = scratch_scaler.transform(X)\n",
    "print(X_std)"
   ]
  },
  {
   "cell_type": "code",
   "execution_count": 3,
   "metadata": {},
   "outputs": [
    {
     "name": "stdout",
     "output_type": "stream",
     "text": [
      "平均 : [4.86 3.31 1.45 0.22]\n",
      "分散 : [0.0764 0.0849 0.0105 0.0056]\n",
      "[[ 0.86828953  0.65207831 -0.48795004 -0.26726124]\n",
      " [ 0.14471492 -1.06391725 -0.48795004 -0.26726124]\n",
      " [-0.57885968 -0.37751902 -1.46385011 -0.26726124]\n",
      " [-0.94064699 -0.72071813  0.48795004 -0.26726124]\n",
      " [ 0.50650222  0.99527742 -0.48795004 -0.26726124]\n",
      " [ 1.95365143  2.02487476  2.43975018  2.40535118]\n",
      " [-0.94064699  0.3088792  -0.48795004  1.06904497]\n",
      " [ 0.50650222  0.3088792   0.48795004 -0.26726124]\n",
      " [-1.66422159 -1.40711636 -0.48795004 -0.26726124]\n",
      " [ 0.14471492 -0.72071813  0.48795004 -1.60356745]]\n"
     ]
    }
   ],
   "source": [
    "# StandardScalerクラスで確認\n",
    "from sklearn.preprocessing import StandardScaler\n",
    "scaler = StandardScaler()\n",
    "scaler.fit(X)\n",
    "print(\"平均 : {}\".format(scaler.mean_))\n",
    "print(\"分散 : {}\".format(scaler.var_))\n",
    "X_std2 = scaler.transform(X)\n",
    "print(X_std2)"
   ]
  },
  {
   "attachments": {},
   "cell_type": "markdown",
   "metadata": {},
   "source": [
    "### ライブラリのソースコードを確認\n",
    "scikit-learnの場合は公式ドキュメントの右上にソースコードへのリンクがあります。\n",
    "\n",
    "![Image from Gyazo](https://t.gyazo.com/teams/diveintocode/1b50849db6c38abe423d20fb5de7a8df.png)\n",
    "[[source]](https://github.com/scikit-learn/scikit-learn/blob/7389dba/sklearn/preprocessing/data.py#L480)\n",
    "\n",
    "どのようなコードになっていたかを確認してみましょう。（問題3に取り組んだ後に見ることを推奨します）スクラッチで作成したものよりも全体的にコードが長いのではないかと思います。`inverse_transform`メソッドのように作成しなかったものもありますが、それだけではありません。例えば以下のように、warning文が記述されているなどします。\n",
    "```\n",
    "if not isinstance(y, string_types) or y != 'deprecated':\n",
    "    warnings.warn(\"The parameter y on transform() is \"\n",
    "                  \"deprecated since 0.19 and will be removed in 0.21\",\n",
    "                  DeprecationWarning)\n",
    "```\n",
    "しかし、特に今注目したいのは次の特殊メソッドについてです。"
   ]
  },
  {
   "cell_type": "markdown",
   "metadata": {},
   "source": [
    "### 特殊メソッド\n",
    "ソースコードの中に含まれる、まだ説明していない重要な部分が以下です。\n",
    "\n",
    "このような`__init__`というメソッドは、どのクラスにも共通して置かれる コンストラクタ と呼ばれるメソッドです。\n",
    "```\n",
    "def __init__(self, copy=True, with_mean=True, with_std=True):\n",
    "    self.with_mean = with_mean\n",
    "    self.with_std = with_std\n",
    "    self.copy = copy\n",
    "```\n",
    "今回のスクラッチでは`copy`、`with_mean`、`with_std`などのパラメータを省略しましたが、このようにインスタンス化の際にパラメータを指定して保存しておくということはよくある使い方です。\n",
    "\n",
    "コンストラクタの動作を確認するためのサンプルコードを用意しました。コンストラクタは、インスタンス化が行われる時に自動的に実行されるという働きがあります。こういった特殊な動作をするメソッドを、 **特殊メソッド** と呼びます。\n",
    "\n",
    "**《サンプルコード》**"
   ]
  },
  {
   "cell_type": "code",
   "execution_count": 4,
   "metadata": {},
   "outputs": [
    {
     "name": "stdout",
     "output_type": "stream",
     "text": [
      "初期値5が設定されました\n",
      "value : 5\n",
      "value : 8\n"
     ]
    }
   ],
   "source": [
    "class ExampleClass():\n",
    "    \"\"\"\n",
    "    説明用の簡単なクラス\n",
    "\n",
    "    Parameters\n",
    "    ----------\n",
    "    value : float or int\n",
    "        初期値\n",
    "\n",
    "    Attributes\n",
    "    ----------\n",
    "    value : float or int\n",
    "        計算結果\n",
    "    \"\"\"\n",
    "    def __init__(self, value):\n",
    "        self.value = value\n",
    "        print(\"初期値{}が設定されました\".format(self.value))\n",
    "    def add(self, value2):\n",
    "        \"\"\"\n",
    "        受け取った引数をself.valueに加える\n",
    "        \"\"\"\n",
    "        self.value += value2\n",
    "example = ExampleClass(5)\n",
    "print(\"value : {}\".format(example.value))\n",
    "example.add(3)\n",
    "print(\"value : {}\".format(example.value))"
   ]
  },
  {
   "cell_type": "markdown",
   "metadata": {},
   "source": [
    "## 【問題4】 四則演算を行うクラスの作成\n",
    "上記ExampleClassは足し算のメソッドを持っていますが、これに引き算、掛け算、割り算のメソッドを加えてください。\n",
    "\n",
    "コンストラクタに入力されたvalueが文字列や配列など数値以外だった場合にはエラーを出すようにしてください。\n",
    "\n",
    "クラス名や説明文も適切に書き換えてください。"
   ]
  },
  {
   "cell_type": "code",
   "execution_count": 7,
   "metadata": {},
   "outputs": [
    {
     "name": "stdout",
     "output_type": "stream",
     "text": [
      "初期値1が設定されました\n",
      "値は3です\n",
      "値は0です\n",
      "値は0です\n",
      "0以外の数値を入力して下さい\n"
     ]
    }
   ],
   "source": [
    "class ArithmeticClass():\n",
    "    \"\"\"\n",
    "    Parameters\n",
    "    ----------\n",
    "    value : float or int\n",
    "        初期値\n",
    "\n",
    "    Attributes\n",
    "    ----------\n",
    "    value : float or int\n",
    "        計算結果\n",
    "    \"\"\"\n",
    "    def __init__(self, value):\n",
    "        if type(value) == int or type(value) == float:\n",
    "            self.value = value\n",
    "            print(\"初期値{}が設定されました\".format(self.value))\n",
    "        else:\n",
    "            print('数値を入力してください')\n",
    "    def add(self, value2):\n",
    "        \"\"\"\n",
    "        足し算\n",
    "        \"\"\"\n",
    "        if type(value2) == int or type(value2) == float:\n",
    "            try:\n",
    "                self.value += value2\n",
    "                print('値は{}です'.format(self.value))\n",
    "            except:\n",
    "                pass\n",
    "        else:\n",
    "            print('数値を入力して下さい')\n",
    "    def sub(self, value2):\n",
    "        \"\"\"\n",
    "        引き算\n",
    "        \"\"\"\n",
    "        if type(value2) == int or type(value2) == float:\n",
    "            try:\n",
    "                self.value -= value2\n",
    "                print('値は{}です'.format(self.value))\n",
    "            except:\n",
    "                pass\n",
    "        else:\n",
    "            print('数値を入力して下さい') \n",
    "    def mul(self, value2):\n",
    "        \"\"\"\n",
    "        掛け算\n",
    "        \"\"\"\n",
    "        if type(value2) == int or type(value2) == float:\n",
    "            try:\n",
    "                self.value *= value2\n",
    "                print('値は{}です'.format(self.value))\n",
    "            except:\n",
    "                pass\n",
    "        else:\n",
    "            print('数値を入力して下さい')\n",
    "    def div(self, value2):\n",
    "        \"\"\"\n",
    "        割り算\n",
    "        \"\"\"\n",
    "        if type(value2) == int or type(value2) == float:\n",
    "            try:\n",
    "                if self.value % value2:\n",
    "                    self.value /= value2\n",
    "                else:\n",
    "                    self.value //= value2\n",
    "                print('値は{}です'.format(self.value))\n",
    "            except:\n",
    "                print('0以外の数値を入力して下さい')\n",
    "        else:\n",
    "            print('数値を入力して下さい')\n",
    "arithmetic = ArithmeticClass(1)\n",
    "arithmetic.add(2)\n",
    "arithmetic.sub(3)\n",
    "arithmetic.mul(4)\n",
    "arithmetic.div(0)"
   ]
  },
  {
   "cell_type": "code",
   "execution_count": null,
   "metadata": {},
   "outputs": [],
   "source": []
  }
 ],
 "metadata": {
  "kernelspec": {
   "display_name": "Python 3",
   "language": "python",
   "name": "python3"
  },
  "language_info": {
   "codemirror_mode": {
    "name": "ipython",
    "version": 3
   },
   "file_extension": ".py",
   "mimetype": "text/x-python",
   "name": "python",
   "nbconvert_exporter": "python",
   "pygments_lexer": "ipython3",
   "version": "3.7.4"
  }
 },
 "nbformat": 4,
 "nbformat_minor": 2
}
