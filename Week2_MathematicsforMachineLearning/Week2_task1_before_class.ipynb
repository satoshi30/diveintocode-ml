{
 "cells": [
  {
   "cell_type": "markdown",
   "metadata": {},
   "source": [
    "# Week2_授業前課題1_小麦とチェス盤問題"
   ]
  },
  {
   "cell_type": "markdown",
   "metadata": {},
   "source": [
    "## 小麦とチェス盤問題\n",
    "\n",
    "曽呂利新左衛門の米の逸話に似たものとして、小麦とチェス盤の話があります。これを題材に多次元配列を扱うための数値計算ライブラリ NumPy の使い方に慣れていきます。\n",
    "\n",
    "\n",
    "> If a chessboard were to have wheat placed upon each square such that one grain were placed on the first square, two on the second, four on the third, and so on (doubling the number of grains on each subsequent square), how many grains of wheat would be on the chessboard at the finish?\n",
    "\n",
    "\n",
    "Wheat and chessboard problem - Wikipedia（最終閲覧日：2019年5月31日）\n",
    "\n",
    "\n",
    "8×8マスのチェス盤の上に、小麦の粒を1, 2, 4と順番に置いていくと最終的な小麦の数はどのようになるかという問題です。"
   ]
  },
  {
   "cell_type": "markdown",
   "metadata": {},
   "source": [
    " ## 少ないマスで考える\n",
    " \n",
    " まずは4マスの板に小麦の粒を並べていくことを考えます。配列（リスト）の1つの要素を1つのマスに見立てています。\n",
    "\n",
    "\n",
    "Pythonのリストとfor文を使い次のように作ることができます。\n",
    "\n",
    "\n",
    "《サンプルコード》\n",
    "\n",
    "    n_squares = 4\n",
    "    small_board_list = [1]\n",
    "    for _ in range(n_squares - 1):\n",
    "        small_board_list.append(2*small_board_list[-1])\n",
    "    print(\"4マスの板に小麦を並べる（リスト）：{}\".format(small_board_list))\n",
    "\n",
    "このリストにnp.array()を使うことで、ndarrayを作成することができます。\n",
    "\n",
    "    import numpy as np\n",
    "    small_board_ndarray = np.array(small_board_list)\n",
    "    print(\"4マスの板に小麦を並べる（ndarray）：{}\".format(small_board_ndarray))"
   ]
  },
  {
   "cell_type": "markdown",
   "metadata": {},
   "source": [
    "## 【問題1】2×2マスのチェス盤の小麦の数\n",
    "2×2マスのチェス盤をndarrayによって表現し、各マスの小麦の数を計算してください。左上のマスに小麦を1つ置いた後、その右が2つ、左下が4つ、右下が8つという風に進みます。\n",
    "\n",
    "サンプルコードで作成したndarrayのshapeの変形を行ってください。"
   ]
  },
  {
   "cell_type": "code",
   "execution_count": 1,
   "metadata": {},
   "outputs": [
    {
     "name": "stdout",
     "output_type": "stream",
     "text": [
      "2×2マスの板に小麦を並べる（リスト）：[1, 2, 4, 8]\n",
      "2×2マスの板に小麦を並べる（ndarray）：[[1 2]\n",
      " [4 8]]\n"
     ]
    }
   ],
   "source": [
    "n_squares = 4  # 2×2\n",
    "small_board_list = [1]\n",
    "for _ in range(n_squares - 1):\n",
    "    small_board_list.append(2*small_board_list[-1])\n",
    "print(\"2×2マスの板に小麦を並べる（リスト）：{}\".format(small_board_list))\n",
    "\n",
    "import numpy as np\n",
    "small_board_ndarray = np.array(small_board_list).reshape(2, 2)\n",
    "print(\"2×2マスの板に小麦を並べる（ndarray）：{}\".format(small_board_ndarray))"
   ]
  },
  {
   "cell_type": "markdown",
   "metadata": {},
   "source": [
    "## 【問題2】n×mマスへの拡張\n",
    "n×mマスのチェス盤の小麦の数を記したndarrayを返す関数を作成してください。そして、この関数を使い8×8マスのチェス盤の小麦の数を求めてください。"
   ]
  },
  {
   "cell_type": "code",
   "execution_count": 2,
   "metadata": {},
   "outputs": [],
   "source": [
    "def chess_board(n, m):\n",
    "    n_squares = n * m\n",
    "    chess_board_list = [1]\n",
    "    for _ in range(n_squares - 1):\n",
    "        chess_board_list.append(2*chess_board_list[-1])\n",
    "    \n",
    "    import numpy as np\n",
    "    chess_board_ndarray = np.array(chess_board_list).reshape(n, m)\n",
    "    return chess_board_ndarray"
   ]
  },
  {
   "cell_type": "code",
   "execution_count": 3,
   "metadata": {},
   "outputs": [
    {
     "name": "stdout",
     "output_type": "stream",
     "text": [
      "1行1列目の小麦の数：1.0\n",
      "1行2列目の小麦の数：2.0\n",
      "1行3列目の小麦の数：4.0\n",
      "1行4列目の小麦の数：8.0\n",
      "1行5列目の小麦の数：16.0\n",
      "1行6列目の小麦の数：32.0\n",
      "1行7列目の小麦の数：64.0\n",
      "1行8列目の小麦の数：128.0\n",
      "2行1列目の小麦の数：256.0\n",
      "2行2列目の小麦の数：512.0\n",
      "2行3列目の小麦の数：1024.0\n",
      "2行4列目の小麦の数：2048.0\n",
      "2行5列目の小麦の数：4096.0\n",
      "2行6列目の小麦の数：8192.0\n",
      "2行7列目の小麦の数：16384.0\n",
      "2行8列目の小麦の数：32768.0\n",
      "3行1列目の小麦の数：65536.0\n",
      "3行2列目の小麦の数：131072.0\n",
      "3行3列目の小麦の数：262144.0\n",
      "3行4列目の小麦の数：524288.0\n",
      "3行5列目の小麦の数：1048576.0\n",
      "3行6列目の小麦の数：2097152.0\n",
      "3行7列目の小麦の数：4194304.0\n",
      "3行8列目の小麦の数：8388608.0\n",
      "4行1列目の小麦の数：16777216.0\n",
      "4行2列目の小麦の数：33554432.0\n",
      "4行3列目の小麦の数：67108864.0\n",
      "4行4列目の小麦の数：134217728.0\n",
      "4行5列目の小麦の数：268435456.0\n",
      "4行6列目の小麦の数：536870912.0\n",
      "4行7列目の小麦の数：1073741824.0\n",
      "4行8列目の小麦の数：2147483648.0\n",
      "5行1列目の小麦の数：4294967296.0\n",
      "5行2列目の小麦の数：8589934592.0\n",
      "5行3列目の小麦の数：17179869184.0\n",
      "5行4列目の小麦の数：34359738368.0\n",
      "5行5列目の小麦の数：68719476736.0\n",
      "5行6列目の小麦の数：137438953472.0\n",
      "5行7列目の小麦の数：274877906944.0\n",
      "5行8列目の小麦の数：549755813888.0\n",
      "6行1列目の小麦の数：1099511627776.0\n",
      "6行2列目の小麦の数：2199023255552.0\n",
      "6行3列目の小麦の数：4398046511104.0\n",
      "6行4列目の小麦の数：8796093022208.0\n",
      "6行5列目の小麦の数：17592186044416.0\n",
      "6行6列目の小麦の数：35184372088832.0\n",
      "6行7列目の小麦の数：70368744177664.0\n",
      "6行8列目の小麦の数：140737488355328.0\n",
      "7行1列目の小麦の数：281474976710656.0\n",
      "7行2列目の小麦の数：562949953421312.0\n",
      "7行3列目の小麦の数：1125899906842624.0\n",
      "7行4列目の小麦の数：2251799813685248.0\n",
      "7行5列目の小麦の数：4503599627370496.0\n",
      "7行6列目の小麦の数：9007199254740992.0\n",
      "7行7列目の小麦の数：1.8014398509481984e+16\n",
      "7行8列目の小麦の数：3.602879701896397e+16\n",
      "8行1列目の小麦の数：7.205759403792794e+16\n",
      "8行2列目の小麦の数：1.4411518807585587e+17\n",
      "8行3列目の小麦の数：2.8823037615171174e+17\n",
      "8行4列目の小麦の数：5.764607523034235e+17\n",
      "8行5列目の小麦の数：1.152921504606847e+18\n",
      "8行6列目の小麦の数：2.305843009213694e+18\n",
      "8行7列目の小麦の数：4.611686018427388e+18\n",
      "8行8列目の小麦の数：9.223372036854776e+18\n"
     ]
    }
   ],
   "source": [
    "n, m = 8, 8\n",
    "chess_board_ndarray = chess_board(n, m)\n",
    "for i in range(n):\n",
    "    for j in range(m):\n",
    "        print('{}行{}列目の小麦の数：{}'.format(i+1, j+1, chess_board_ndarray[i, j]))"
   ]
  },
  {
   "cell_type": "markdown",
   "metadata": {},
   "source": [
    "## 【問題3】小麦の数の合計\n",
    "8×8マスのチェス盤の小麦の数の合計を求めてください。また、各列の平均を求め、それを棒グラフで可視化してください。\n",
    "\n",
    "棒グラフはサンプルコードを用意しています。\n",
    "\n",
    "《棒グラフのサンプルコード》\n",
    "\n",
    "    import matplotlib.pyplot as plt\n",
    "    %matplotlib inline\n",
    "    plt.xlabel(\"column\")\n",
    "    plt.ylabel(\"number\")\n",
    "    plt.title(\"number in each column\")\n",
    "    plt.bar(np.arange(1,4), np.array([1, 2, 3]))\n",
    "    plt.show()"
   ]
  },
  {
   "cell_type": "code",
   "execution_count": 4,
   "metadata": {},
   "outputs": [
    {
     "name": "stdout",
     "output_type": "stream",
     "text": [
      "8×8マスのチェス盤の小麦の数の合計：1.84e+19\n"
     ]
    }
   ],
   "source": [
    "total_num = np.sum(chess_board_ndarray)\n",
    "print('{}×{}マスのチェス盤の小麦の数の合計：{:.2e}'.format(n, m, total_num))"
   ]
  },
  {
   "cell_type": "code",
   "execution_count": 5,
   "metadata": {},
   "outputs": [
    {
     "data": {
      "text/plain": [
       "array([9.04252160e+15, 1.80850432e+16, 3.61700864e+16, 7.23401728e+16,\n",
       "       1.44680346e+17, 2.89360691e+17, 5.78721383e+17, 1.15744277e+18])"
      ]
     },
     "execution_count": 5,
     "metadata": {},
     "output_type": "execute_result"
    }
   ],
   "source": [
    "mean_value_in_each_column = np.mean(chess_board_ndarray, axis=0)\n",
    "mean_value_in_each_column"
   ]
  },
  {
   "cell_type": "code",
   "execution_count": 6,
   "metadata": {},
   "outputs": [
    {
     "data": {
      "image/png": "[encoded data removed]",
      "text/plain": [
       "<Figure size 432x288 with 1 Axes>"
      ]
     },
     "metadata": {
      "needs_background": "light"
     },
     "output_type": "display_data"
    }
   ],
   "source": [
    "import matplotlib.pyplot as plt\n",
    "%matplotlib inline\n",
    "plt.xlabel('column')\n",
    "plt.ylabel('mean_value')\n",
    "plt.title('mean_value_in_each_column')\n",
    "plt.bar(np.arange(1, m+1), mean_value_in_each_column)\n",
    "plt.show();"
   ]
  },
  {
   "cell_type": "markdown",
   "metadata": {},
   "source": [
    "## 【問題4】小麦の数のヒートマップ\n",
    "8×8マスのチェス盤の小麦の数をヒートマップとして可視化してください。\n",
    "\n",
    "ヒートマップはサンプルコードを用意しています。\n",
    "\n",
    "《ヒートマップのサンプルコード》\n",
    "\n",
    "4行2列の配列のヒートマップです。値が小さいところが紫、大きいところが黄色になっています。\n",
    "\n",
    "    plt.xlabel(\"column\")\n",
    "    plt.ylabel(\"row\")\n",
    "    plt.title(\"heatmap\")\n",
    "    plt.pcolor(np.array([0, 1, 3, 5, 7, 9, 11, 13]).reshape(4, 2))\n",
    "    plt.show()"
   ]
  },
  {
   "cell_type": "code",
   "execution_count": 7,
   "metadata": {},
   "outputs": [
    {
     "data": {
      "image/png": "[encoded data removed]",
      "text/plain": [
       "<Figure size 432x288 with 1 Axes>"
      ]
     },
     "metadata": {
      "needs_background": "light"
     },
     "output_type": "display_data"
    }
   ],
   "source": [
    "plt.xlabel(\"column\")\n",
    "plt.ylabel(\"row\")\n",
    "plt.title(\"heatmap\")\n",
    "plt.pcolor(chess_board_ndarray)\n",
    "plt.show()"
   ]
  },
  {
   "cell_type": "markdown",
   "metadata": {},
   "source": [
    "## 【問題5】後半は前半の何倍か\n",
    "チェス盤の後半にある小麦の数は前半にある小麦の数の何倍かを求めてください。前半とは配列の0から3行目、後半は4から7行目です。"
   ]
  },
  {
   "cell_type": "code",
   "execution_count": 8,
   "metadata": {},
   "outputs": [
    {
     "name": "stdout",
     "output_type": "stream",
     "text": [
      "チェス盤の後半にある小麦の数は前半にある小麦の数4294967296.0倍\n"
     ]
    }
   ],
   "source": [
    "half = n // 2\n",
    "first_half_sum = np.sum(chess_board_ndarray[:half])\n",
    "second_half_sum = np.sum(chess_board_ndarray[half:])\n",
    "print('チェス盤の後半にある小麦の数は前半にある小麦の数{}倍'.format(second_half_sum // first_half_sum))"
   ]
  },
  {
   "cell_type": "markdown",
   "metadata": {},
   "source": [
    "## 他の計算方法\n",
    "\n",
    "はじめのサンプルコードではPythonのリストとfor文を使っていましたが、他の方法も考えられます。\n",
    "\n",
    "ndarrayのnp.append()とfor文を使うと次のように作ることができます。\n",
    "\n",
    "《サンプルコード（np.append()）》\n",
    "\n",
    "    n_squares = 4\n",
    "    small_board_ndarray = np.array([1])\n",
    "    for _ in range(n_squares - 1):\n",
    "        small_board_ndarray = np.append(small_board_ndarray, 2*small_board_ndarray[-1])\n",
    "    print(\"4マスの板に小麦を並べる（ndarray）：{}\".format(small_board_ndarray))\n",
    "\n",
    "\n",
    "ブロードキャストを活用することで、次のようにも作ることができます。\n",
    "\n",
    "《サンプルコード（ブロードキャスト）》\n",
    "\n",
    "    n_squares = 4\n",
    "    indices_of_squares = np.arange(n_squares)\n",
    "    small_board_ndarray = 2**indices_of_squares\n",
    "    print(\"4マスの板に小麦を並べる（ndarray）：{}\".format(small_board_ndarray))\n",
    "\n",
    "\n",
    "## ndarrayの型\n",
    "なお、これらの方法で64マスの小麦の数を調べたい場合、型の問題が出てきます。\n",
    "\n",
    "    n_squares = 64\n",
    "    board_ndarray = np.array([1])\n",
    "    for _ in range(n_squares - 1):\n",
    "        board_ndarray = np.append(board_ndarray, 2*board_ndarray[-1])\n",
    "    print(\"最後のマスの小麦の数：{}\".format(board_ndarray[-1])) # -9223372036854775808\n",
    "\n",
    "\n",
    "最後の64マス目が-9223372036854775808と負の数になり明らかに間違っています。このndarrayの型を見ると、次のように int64 です。\n",
    "\n",
    "    print(board_ndarray.dtype) # int64\n",
    "\n",
    "int64は64ビットの整数型で、-9,223,372,036,854,775,808 ~ 9,223,372,036,854,775,807 の範囲の整数値しか扱えないことを示しています。この値は -2の64乗から2の64乗-1 です。そのため、2の64乗になる64マス目の値が範囲外となり、負の値として出てきてしまっているのです。\n",
    "\n",
    "\n",
    "Pythonの整数型（int）にはこのような制限がありませんが、ndarrayは高速な計算が行える反面、こういった制約があり、型で扱える範囲を意識しておく必要があります。\n",
    "\n",
    "\n",
    "今回は正の値しか利用しないため、 uint64 を使用することで解決します。 0 ~ 18,446,744,073,709,551,615 を扱うことができます。astypeメソッドを使うことで型を変換できるので、累乗の計算前にこれを使いndarrayをuint64型にしておきます。\n",
    "\n",
    "    n_squares = 64\n",
    "    indices_of_squares = np.arange(n_squares).astype(np.uint64)\n",
    "    board_ndarray = 2**indices_of_squares\n",
    "    print(\"最後のマスの小麦の数：{}\".format(board_ndarray[-1])) # 9223372036854775808\n",
    "\n",
    "これで正しく計算ができました。"
   ]
  },
  {
   "cell_type": "markdown",
   "metadata": {},
   "source": [
    "## 【問題6】他の計算方法によるn×mマスへの拡張\n",
    "問題2と同様の「n×mマスのチェス盤の小麦の数を記したndarrayを返す関数」を、np.append()を使ったものと、ブロードキャストを使ったもので新たに作成してください。\n",
    "\n",
    "それらの関数を使い8×8マスのチェス盤の小麦の数を再び求めてください。"
   ]
  },
  {
   "cell_type": "code",
   "execution_count": 9,
   "metadata": {},
   "outputs": [],
   "source": [
    "def chess_board_append(n, m):\n",
    "    import numpy as np\n",
    "    n_squares = n * m\n",
    "    small_board_ndarray = np.array([1]).astype(np.uint64)\n",
    "    for _ in range(n_squares - 1):\n",
    "        small_board_ndarray = np.append(small_board_ndarray, 2*small_board_ndarray[-1])\n",
    "    chess_board_ndarray = small_board_ndarray.reshape(n, m)\n",
    "    return chess_board_ndarray"
   ]
  },
  {
   "cell_type": "code",
   "execution_count": 10,
   "metadata": {},
   "outputs": [
    {
     "name": "stdout",
     "output_type": "stream",
     "text": [
      "1行1列目の小麦の数：1.0\n",
      "1行2列目の小麦の数：2.0\n",
      "1行3列目の小麦の数：4.0\n",
      "1行4列目の小麦の数：8.0\n",
      "1行5列目の小麦の数：16.0\n",
      "1行6列目の小麦の数：32.0\n",
      "1行7列目の小麦の数：64.0\n",
      "1行8列目の小麦の数：128.0\n",
      "2行1列目の小麦の数：256.0\n",
      "2行2列目の小麦の数：512.0\n",
      "2行3列目の小麦の数：1024.0\n",
      "2行4列目の小麦の数：2048.0\n",
      "2行5列目の小麦の数：4096.0\n",
      "2行6列目の小麦の数：8192.0\n",
      "2行7列目の小麦の数：16384.0\n",
      "2行8列目の小麦の数：32768.0\n",
      "3行1列目の小麦の数：65536.0\n",
      "3行2列目の小麦の数：131072.0\n",
      "3行3列目の小麦の数：262144.0\n",
      "3行4列目の小麦の数：524288.0\n",
      "3行5列目の小麦の数：1048576.0\n",
      "3行6列目の小麦の数：2097152.0\n",
      "3行7列目の小麦の数：4194304.0\n",
      "3行8列目の小麦の数：8388608.0\n",
      "4行1列目の小麦の数：16777216.0\n",
      "4行2列目の小麦の数：33554432.0\n",
      "4行3列目の小麦の数：67108864.0\n",
      "4行4列目の小麦の数：134217728.0\n",
      "4行5列目の小麦の数：268435456.0\n",
      "4行6列目の小麦の数：536870912.0\n",
      "4行7列目の小麦の数：1073741824.0\n",
      "4行8列目の小麦の数：2147483648.0\n",
      "5行1列目の小麦の数：4294967296.0\n",
      "5行2列目の小麦の数：8589934592.0\n",
      "5行3列目の小麦の数：17179869184.0\n",
      "5行4列目の小麦の数：34359738368.0\n",
      "5行5列目の小麦の数：68719476736.0\n",
      "5行6列目の小麦の数：137438953472.0\n",
      "5行7列目の小麦の数：274877906944.0\n",
      "5行8列目の小麦の数：549755813888.0\n",
      "6行1列目の小麦の数：1099511627776.0\n",
      "6行2列目の小麦の数：2199023255552.0\n",
      "6行3列目の小麦の数：4398046511104.0\n",
      "6行4列目の小麦の数：8796093022208.0\n",
      "6行5列目の小麦の数：17592186044416.0\n",
      "6行6列目の小麦の数：35184372088832.0\n",
      "6行7列目の小麦の数：70368744177664.0\n",
      "6行8列目の小麦の数：140737488355328.0\n",
      "7行1列目の小麦の数：281474976710656.0\n",
      "7行2列目の小麦の数：562949953421312.0\n",
      "7行3列目の小麦の数：1125899906842624.0\n",
      "7行4列目の小麦の数：2251799813685248.0\n",
      "7行5列目の小麦の数：4503599627370496.0\n",
      "7行6列目の小麦の数：9007199254740992.0\n",
      "7行7列目の小麦の数：1.8014398509481984e+16\n",
      "7行8列目の小麦の数：3.602879701896397e+16\n",
      "8行1列目の小麦の数：7.205759403792794e+16\n",
      "8行2列目の小麦の数：1.4411518807585587e+17\n",
      "8行3列目の小麦の数：2.8823037615171174e+17\n",
      "8行4列目の小麦の数：5.764607523034235e+17\n",
      "8行5列目の小麦の数：1.152921504606847e+18\n",
      "8行6列目の小麦の数：2.305843009213694e+18\n",
      "8行7列目の小麦の数：4.611686018427388e+18\n",
      "8行8列目の小麦の数：9.223372036854776e+18\n"
     ]
    }
   ],
   "source": [
    "chess_board_append_ndarray = chess_board_append(n, m)\n",
    "for i in range(n):\n",
    "    for j in range(m):\n",
    "        print('{}行{}列目の小麦の数：{}'.format(i+1, j+1, chess_board_append_ndarray[i, j]))"
   ]
  },
  {
   "cell_type": "code",
   "execution_count": 11,
   "metadata": {},
   "outputs": [],
   "source": [
    "def chess_board_broadcast(n, m):\n",
    "    n_squares = n * m\n",
    "    indices_of_squares = np.arange(n_squares).astype(np.uint64)\n",
    "    small_board_ndarray = 2**indices_of_squares\n",
    "    chess_board_ndarray = small_board_ndarray.reshape(n, m)\n",
    "    return chess_board_ndarray"
   ]
  },
  {
   "cell_type": "code",
   "execution_count": 12,
   "metadata": {},
   "outputs": [
    {
     "name": "stdout",
     "output_type": "stream",
     "text": [
      "1行1列目の小麦の数：1\n",
      "1行2列目の小麦の数：2\n",
      "1行3列目の小麦の数：4\n",
      "1行4列目の小麦の数：8\n",
      "1行5列目の小麦の数：16\n",
      "1行6列目の小麦の数：32\n",
      "1行7列目の小麦の数：64\n",
      "1行8列目の小麦の数：128\n",
      "2行1列目の小麦の数：256\n",
      "2行2列目の小麦の数：512\n",
      "2行3列目の小麦の数：1024\n",
      "2行4列目の小麦の数：2048\n",
      "2行5列目の小麦の数：4096\n",
      "2行6列目の小麦の数：8192\n",
      "2行7列目の小麦の数：16384\n",
      "2行8列目の小麦の数：32768\n",
      "3行1列目の小麦の数：65536\n",
      "3行2列目の小麦の数：131072\n",
      "3行3列目の小麦の数：262144\n",
      "3行4列目の小麦の数：524288\n",
      "3行5列目の小麦の数：1048576\n",
      "3行6列目の小麦の数：2097152\n",
      "3行7列目の小麦の数：4194304\n",
      "3行8列目の小麦の数：8388608\n",
      "4行1列目の小麦の数：16777216\n",
      "4行2列目の小麦の数：33554432\n",
      "4行3列目の小麦の数：67108864\n",
      "4行4列目の小麦の数：134217728\n",
      "4行5列目の小麦の数：268435456\n",
      "4行6列目の小麦の数：536870912\n",
      "4行7列目の小麦の数：1073741824\n",
      "4行8列目の小麦の数：2147483648\n",
      "5行1列目の小麦の数：4294967296\n",
      "5行2列目の小麦の数：8589934592\n",
      "5行3列目の小麦の数：17179869184\n",
      "5行4列目の小麦の数：34359738368\n",
      "5行5列目の小麦の数：68719476736\n",
      "5行6列目の小麦の数：137438953472\n",
      "5行7列目の小麦の数：274877906944\n",
      "5行8列目の小麦の数：549755813888\n",
      "6行1列目の小麦の数：1099511627776\n",
      "6行2列目の小麦の数：2199023255552\n",
      "6行3列目の小麦の数：4398046511104\n",
      "6行4列目の小麦の数：8796093022208\n",
      "6行5列目の小麦の数：17592186044416\n",
      "6行6列目の小麦の数：35184372088832\n",
      "6行7列目の小麦の数：70368744177664\n",
      "6行8列目の小麦の数：140737488355328\n",
      "7行1列目の小麦の数：281474976710656\n",
      "7行2列目の小麦の数：562949953421312\n",
      "7行3列目の小麦の数：1125899906842624\n",
      "7行4列目の小麦の数：2251799813685248\n",
      "7行5列目の小麦の数：4503599627370496\n",
      "7行6列目の小麦の数：9007199254740992\n",
      "7行7列目の小麦の数：18014398509481984\n",
      "7行8列目の小麦の数：36028797018963968\n",
      "8行1列目の小麦の数：72057594037927936\n",
      "8行2列目の小麦の数：144115188075855872\n",
      "8行3列目の小麦の数：288230376151711744\n",
      "8行4列目の小麦の数：576460752303423488\n",
      "8行5列目の小麦の数：1152921504606846976\n",
      "8行6列目の小麦の数：2305843009213693952\n",
      "8行7列目の小麦の数：4611686018427387904\n",
      "8行8列目の小麦の数：9223372036854775808\n"
     ]
    }
   ],
   "source": [
    "chess_board_broadcast_ndarray = chess_board_broadcast(n, m)\n",
    "for i in range(n):\n",
    "    for j in range(m):\n",
    "        print('{}行{}列目の小麦の数：{}'.format(i+1, j+1, chess_board_broadcast_ndarray[i, j]))"
   ]
  },
  {
   "cell_type": "markdown",
   "metadata": {},
   "source": [
    "## 【問題7】計算時間の比較\n",
    "3種類の方法を見てきました。それぞれの計算時間をJupyter Notebookの%%timeitを用いて計測し、比較と考察を行ってください。\n",
    "\n",
    "%%timeitはセル内のコードを複数回実行し、その平均実行時間を出力する働きをします。\n",
    "\n",
    "《%%timeitの例》\n",
    "\n",
    "    %%timeit\n",
    "    a = np.array([1, 2, 3])\n",
    "    b = np.array([1, 2, 3])\n",
    "    c = a + b"
   ]
  },
  {
   "cell_type": "code",
   "execution_count": 13,
   "metadata": {},
   "outputs": [
    {
     "name": "stdout",
     "output_type": "stream",
     "text": [
      "14 µs ± 176 ns per loop (mean ± std. dev. of 7 runs, 100000 loops each)\n"
     ]
    }
   ],
   "source": [
    "%%timeit\n",
    "chess_board(n, m)"
   ]
  },
  {
   "cell_type": "code",
   "execution_count": 14,
   "metadata": {},
   "outputs": [
    {
     "name": "stdout",
     "output_type": "stream",
     "text": [
      "393 µs ± 12.7 µs per loop (mean ± std. dev. of 7 runs, 1000 loops each)\n"
     ]
    }
   ],
   "source": [
    "%%timeit\n",
    "chess_board_append(n, m)"
   ]
  },
  {
   "cell_type": "code",
   "execution_count": 15,
   "metadata": {},
   "outputs": [
    {
     "name": "stdout",
     "output_type": "stream",
     "text": [
      "3.2 µs ± 62.9 ns per loop (mean ± std. dev. of 7 runs, 100000 loops each)\n"
     ]
    }
   ],
   "source": [
    "%%timeit\n",
    "chess_board_broadcast(n, m)"
   ]
  },
  {
   "cell_type": "markdown",
   "metadata": {},
   "source": [
    "`ブロードキャストを活用した方が計算時間は圧倒的に速い`<br>\n",
    "`numpy.append は　list.append　より計算時間がかかるため、appendを使用する際は list を作成したのちに ndarray に直した方が良い`"
   ]
  },
  {
   "cell_type": "code",
   "execution_count": null,
   "metadata": {},
   "outputs": [],
   "source": []
  }
 ],
 "metadata": {
  "kernelspec": {
   "display_name": "Python 3",
   "language": "python",
   "name": "python3"
  },
  "language_info": {
   "codemirror_mode": {
    "name": "ipython",
    "version": 3
   },
   "file_extension": ".py",
   "mimetype": "text/x-python",
   "name": "python",
   "nbconvert_exporter": "python",
   "pygments_lexer": "ipython3",
   "version": "3.7.4"
  }
 },
 "nbformat": 4,
 "nbformat_minor": 2
}
