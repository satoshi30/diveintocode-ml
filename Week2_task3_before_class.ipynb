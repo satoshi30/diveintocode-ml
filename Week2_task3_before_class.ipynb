{
 "cells": [
  {
   "cell_type": "markdown",
   "metadata": {},
   "source": [
    "# Weel2_授業前課題3_行列積のスクラッチ"
   ]
  },
  {
   "cell_type": "markdown",
   "metadata": {},
   "source": [
    "以下のような行列A、Bを考えます。\n",
    "\n",
    "\n",
    "$$\n",
    "    \\boldsymbol{A}=\n",
    "        \\left[\\begin{matrix}\n",
    "            -1 & 2 & 3 \\\\\n",
    "            4 & -5 & 6 \\\\\n",
    "            7 & 8 & -9\n",
    "        \\end{matrix}\\right] \\quad\n",
    "    ,\n",
    "    \\boldsymbol{B}=\n",
    "        \\left[\\begin{matrix}\n",
    "            0 & 2 & 1 \\\\\n",
    "            0 & 2 & -8 \\\\\n",
    "            2 & 9 & -1\n",
    "        \\end{matrix}\\right] \\quad\n",
    "$$\n",
    "\n",
    "\n",
    "NumPyで表すと次のようになります。\n",
    "\n",
    "    import numpy as np\n",
    "    a_ndarray = np.array([[-1, 2, 3], [4, -5, 6], [7, 8, -9]])\n",
    "    b_ndarray = np.array([[0, 2, 1], [0, 2, -8], [2, 9, -1]])"
   ]
  },
  {
   "cell_type": "markdown",
   "metadata": {},
   "source": [
    "## 【問題1】行列積を手計算する\n",
    "AとBの行列積を手計算で解いてください。\n",
    "\n",
    "計算過程もマークダウンテキストを用いて説明してください。"
   ]
  },
  {
   "cell_type": "markdown",
   "metadata": {},
   "source": [
    "$\n",
    "    \\boldsymbol{A}=\n",
    "        \\left(\\begin{matrix}\n",
    "            a_{11} & a_{12} & a_{13} \\\\\n",
    "            a_{21} & a_{22} & a_{23} \\\\\n",
    "            a_{31} & a_{32} & a_{33}\n",
    "        \\end{matrix}\\right) \\quad\n",
    "    \\boldsymbol{B}=\n",
    "        \\left(\\begin{matrix}\n",
    "            b_{11} & b_{12} & b_{13} \\\\\n",
    "            b_{21} & b_{22} & b_{23} \\\\\n",
    "            b_{31} & b_{32} & b_{33}\n",
    "        \\end{matrix}\\right) \\quad\n",
    "    \\boldsymbol{A} \\times \\boldsymbol{B}=\n",
    "        \\left(\\begin{matrix}\n",
    "            c_{11} & c_{12} & c_{13} \\\\\n",
    "            c_{21} & c_{22} & c_{23} \\\\\n",
    "            c_{31} & c_{32} & c_{33}\n",
    "        \\end{matrix}\\right) \\quad\n",
    "$"
   ]
  },
  {
   "cell_type": "markdown",
   "metadata": {},
   "source": [
    "$c_{11}=a_{11} \\times b_{11} + a_{12} \\times b_{21} + a_{13} \\times b_{31}$\n",
    "<br>\n",
    "$c_{12}=a_{11} \\times b_{12} + a_{12} \\times b_{22} + a_{13} \\times b_{32}$\n",
    "<br>\n",
    "$c_{13}=a_{11} \\times b_{13} + a_{12} \\times b_{23} + a_{13} \\times b_{33}$\n",
    "<br>\n",
    "$c_{21}=a_{21} \\times b_{11} + a_{22} \\times b_{21} + a_{23} \\times b_{31}$\n",
    "<br>\n",
    "$c_{22}=a_{21} \\times b_{12} + a_{22} \\times b_{22} + a_{23} \\times b_{32}$\n",
    "<br>\n",
    "$c_{23}=a_{21} \\times b_{13} + a_{22} \\times b_{23} + a_{23} \\times b_{33}$\n",
    "<br>\n",
    "$c_{31}=a_{31} \\times b_{11} + a_{32} \\times b_{21} + a_{33} \\times b_{31}$\n",
    "<br>\n",
    "$c_{32}=a_{31} \\times b_{12} + a_{32} \\times b_{22} + a_{33} \\times b_{32}$\n",
    "<br>\n",
    "$c_{33}=a_{31} \\times b_{13} + a_{32} \\times b_{23} + a_{33} \\times b_{33}$"
   ]
  },
  {
   "cell_type": "markdown",
   "metadata": {},
   "source": [
    "$\n",
    "    \\boldsymbol{A} \\times \\boldsymbol{B}=\n",
    "        \\left(\\begin{matrix}\n",
    "            6 & 29 & -20 \\\\\n",
    "            12 & 52 & 38 \\\\\n",
    "            -18 & -51 & -48\n",
    "        \\end{matrix}\\right) \\quad\n",
    "$"
   ]
  },
  {
   "cell_type": "markdown",
   "metadata": {},
   "source": [
    "## 【問題2】NumPyの関数による計算\n",
    "この行列積はNumPyのnp.matmul()やnp.dot()、または@演算子を使うことで簡単に計算できます。\n",
    "\n",
    "これらを使い行列積を計算してください。\n",
    "\n",
    "> numpy.matmul — NumPy v1.16 Manual\n",
    "\n",
    "> numpy.dot — NumPy v1.16 Manual\n",
    "\n",
    "《3種類の違い》\n",
    "\n",
    "np.matmul()とnp.dot()は3次元以上の配列で挙動が変わります。@演算子はnp.matmul()と同じ働きをします。\n",
    "\n",
    "今回のような2次元配列の行列積ではnp.matmul()や@演算子が公式に推奨されています。以下はnp.dot()の説明からの引用です。\n",
    "\n",
    "> If both a and b are 2-D arrays, it is matrix multiplication, but using matmul or a @ b is preferred."
   ]
  },
  {
   "cell_type": "code",
   "execution_count": 1,
   "metadata": {},
   "outputs": [
    {
     "data": {
      "text/plain": [
       "array([[  6,  29, -20],\n",
       "       [ 12,  52,  38],\n",
       "       [-18, -51, -48]])"
      ]
     },
     "execution_count": 1,
     "metadata": {},
     "output_type": "execute_result"
    }
   ],
   "source": [
    "import numpy as np\n",
    "a_ndarray = np.array([[-1, 2, 3], [4, -5, 6], [7, 8, -9]])\n",
    "b_ndarray = np.array([[0, 2, 1], [0, 2, -8], [2, 9, -1]])\n",
    "a_ndarray @ b_ndarray"
   ]
  },
  {
   "cell_type": "code",
   "execution_count": 2,
   "metadata": {},
   "outputs": [
    {
     "data": {
      "text/plain": [
       "array([[  6,  29, -20],\n",
       "       [ 12,  52,  38],\n",
       "       [-18, -51, -48]])"
      ]
     },
     "execution_count": 2,
     "metadata": {},
     "output_type": "execute_result"
    }
   ],
   "source": [
    "np.matmul(a_ndarray, b_ndarray)"
   ]
  },
  {
   "cell_type": "code",
   "execution_count": 3,
   "metadata": {},
   "outputs": [
    {
     "data": {
      "text/plain": [
       "array([[  6,  29, -20],\n",
       "       [ 12,  52,  38],\n",
       "       [-18, -51, -48]])"
      ]
     },
     "execution_count": 3,
     "metadata": {},
     "output_type": "execute_result"
    }
   ],
   "source": [
    "np.dot(a_ndarray, b_ndarray)"
   ]
  },
  {
   "cell_type": "markdown",
   "metadata": {},
   "source": [
    "## 【問題3】ある要素の計算を実装\n",
    "手計算をする際はまず行列Aの0行目と行列Bの0列目に注目し、以下の計算を行ったかと思います。\n",
    "\n",
    "1.行列Aの(0,0)の要素 $a_{0,0}$ と行列Bの(0,0)の要素 $b_{0,0}$ を掛け合わせる\n",
    "<br>\n",
    "2.行列Aの(0,1)の要素 $a_{0,1}$ と行列Bの(1,0)の要素 $b_{1,0}$ を掛け合わせる\n",
    "<br>\n",
    "行列Aの(0,2)の要素 $a_{0,2}$ と行列Bの(2,0)の要素 $b_{2,0}$ を掛け合わせる\n",
    "<br>\n",
    "\n",
    "それらの値を全て足し合わせる\n",
    "\n",
    "数式で表すと\n",
    "$$\n",
    "\\sum_{k=0}^{2} a_{0,k}b_{k,0}\n",
    "$$\n",
    "です。\n",
    "\n",
    "この計算をnp.matmul()やnp.dot()、または@演算子を使わずに行うコードを書いてください。"
   ]
  },
  {
   "cell_type": "code",
   "execution_count": 4,
   "metadata": {},
   "outputs": [
    {
     "data": {
      "text/plain": [
       "array([[  6,  29, -20],\n",
       "       [ 12,  52,  38],\n",
       "       [-18, -51, -48]])"
      ]
     },
     "execution_count": 4,
     "metadata": {},
     "output_type": "execute_result"
    }
   ],
   "source": [
    "matrix_lst = []\n",
    "for i in range(3):\n",
    "    a_row = a_ndarray[i, :]\n",
    "    for j in range(3):\n",
    "        b_column = b_ndarray[:, j]\n",
    "        num = 0\n",
    "        for a, b in zip(a_row, b_column):\n",
    "            num += a * b\n",
    "        matrix_lst.append(num)\n",
    "np.array(matrix_lst).reshape(3, 3)"
   ]
  },
  {
   "cell_type": "markdown",
   "metadata": {},
   "source": [
    "## 【問題4】行列積を行う関数の作成\n",
    "\n",
    "問題3のコードを拡張し、行列積のスクラッチ実装を完成させてください。行列AとBを引数に受け取り、行列積を返す関数としてください。\n",
    "\n",
    "行列積を計算する場合は、問題3の計算を異なる行や列に対して繰り返していくことになります。\n",
    "\n",
    "\n",
    "計算結果である $3 \\times 3$ の行列Cの各要素 $c_{i,j}$  は数式で表すと次のようになります。\n",
    "$$\n",
    "c_{i,j}=\\sum_{k=0}^{2} a_{i,k}b_{k,j}\n",
    "$$"
   ]
  },
  {
   "cell_type": "code",
   "execution_count": 5,
   "metadata": {},
   "outputs": [],
   "source": [
    "def matrix_product(a_matrix, b_matrix):\n",
    "    rows = a_matrix.shape[0]\n",
    "    columns = b_matrix.shape[1]\n",
    "    matrix_lst = []\n",
    "    for i in range(rows):\n",
    "        a_row = a_matrix[i, :]\n",
    "        for j in range(columns):\n",
    "            b_column = b_matrix[:, j]\n",
    "            num = 0\n",
    "            for a, b in zip(a_row, b_column):\n",
    "                num += a * b\n",
    "            matrix_lst.append(num)\n",
    "    matrix_product = np.array(matrix_lst).reshape(rows, columns)\n",
    "    return matrix_product"
   ]
  },
  {
   "cell_type": "code",
   "execution_count": 6,
   "metadata": {},
   "outputs": [
    {
     "data": {
      "text/plain": [
       "array([[  6,  29, -20],\n",
       "       [ 12,  52,  38],\n",
       "       [-18, -51, -48]])"
      ]
     },
     "execution_count": 6,
     "metadata": {},
     "output_type": "execute_result"
    }
   ],
   "source": [
    "matrix_product(a_ndarray, b_ndarray)"
   ]
  },
  {
   "cell_type": "markdown",
   "metadata": {},
   "source": [
    "次に以下のような例を考えます。\n",
    "\n",
    "$$\n",
    "    \\boldsymbol{D}=\n",
    "        \\left[\\begin{matrix}\n",
    "            -1 & 2 & 3 \\\\\n",
    "            4 & -5 & 6\n",
    "        \\end{matrix}\\right] \\quad\n",
    "    ,\n",
    "    \\boldsymbol{E}=\n",
    "        \\left[\\begin{matrix}\n",
    "            -9 & 8 & 7 \\\\\n",
    "            6 & -5 & 4\n",
    "        \\end{matrix}\\right] \\quad\n",
    "$$\n",
    "\n",
    "\n",
    "    d_ndarray_ = np.array([[-1, 2, 3], [4, -5, 6]])\n",
    "    e_ndarray = np.array([[-9, 8, 7], [6, -5, 4]])\n",
    "\n",
    "行列積DEはDの列数とEの行数が等しい場合に定義されていますから、この例では計算ができません。"
   ]
  },
  {
   "cell_type": "markdown",
   "metadata": {},
   "source": [
    "## 【問題5】計算が定義されない入力を判定する\n",
    "問題4で作成した関数は、実装方法によってはこのDとEの配列を入力しても動いてしまう可能性があります。この場合、不適切な計算が行われることになります。また、途中でエラーになる場合でも、なぜエラーになったかが直接的には分かりづらいメッセージが表示されます。\n",
    "\n",
    "if文などによってこれを防ぎ、入力される形に問題があることをprint()を使い表示するコードを書き加えてください。"
   ]
  },
  {
   "cell_type": "code",
   "execution_count": 7,
   "metadata": {},
   "outputs": [],
   "source": [
    "d_ndarray = np.array([[-1, 2, 3], [4, -5, 6]])\n",
    "e_ndarray = np.array([[-9, 8, 7], [6, -5, 4]])"
   ]
  },
  {
   "cell_type": "code",
   "execution_count": 8,
   "metadata": {},
   "outputs": [],
   "source": [
    "# エラー表示するように修正\n",
    "def matrix_product(a_matrix, b_matrix):\n",
    "    a_rows, a_columns = a_matrix.shape\n",
    "    b_rows, b_columns = b_matrix.shape\n",
    "    if a_columns != b_rows:\n",
    "        return print('第一引数の列数と第二引数の行数が一致していないため、計算できません')\n",
    "    matrix_lst = []\n",
    "    for i in range(a_rows):\n",
    "        a_row = a_matrix[i, :]\n",
    "        for j in range(b_columns):\n",
    "            b_column = b_matrix[:, j]\n",
    "            num = 0\n",
    "            for a, b in zip(a_row, b_column):\n",
    "                num += a * b\n",
    "            matrix_lst.append(num)\n",
    "    matrix_product = np.array(matrix_lst).reshape(a_rows, b_columns)\n",
    "    return matrix_product"
   ]
  },
  {
   "cell_type": "code",
   "execution_count": 9,
   "metadata": {},
   "outputs": [
    {
     "name": "stdout",
     "output_type": "stream",
     "text": [
      "第一引数の列数と第二引数の行数が一致していないため、計算できません\n"
     ]
    }
   ],
   "source": [
    "matrix_product(d_ndarray, e_ndarray)"
   ]
  },
  {
   "cell_type": "markdown",
   "metadata": {},
   "source": [
    "## 【問題6】転置\n",
    "片方の行列を転置することで、行列積が計算できるようになります。\n",
    "\n",
    "np.transpose()や.Tアトリビュートを用いて転置し、行列積を計算してください。\n",
    "\n",
    "> numpy.transpose — NumPy v1.16 Manual\n",
    "\n",
    "> numpy.ndarray.T — NumPy v1.16 Manual"
   ]
  },
  {
   "cell_type": "code",
   "execution_count": 10,
   "metadata": {},
   "outputs": [
    {
     "data": {
      "text/plain": [
       "array([[ 33, -28,   9],\n",
       "       [-48,  41,  -6],\n",
       "       [  9,  -6,  45]])"
      ]
     },
     "execution_count": 10,
     "metadata": {},
     "output_type": "execute_result"
    }
   ],
   "source": [
    "matrix_product(d_ndarray.T, e_ndarray)"
   ]
  },
  {
   "cell_type": "code",
   "execution_count": 11,
   "metadata": {},
   "outputs": [
    {
     "data": {
      "text/plain": [
       "array([[ 46,  -4],\n",
       "       [-34,  73]])"
      ]
     },
     "execution_count": 11,
     "metadata": {},
     "output_type": "execute_result"
    }
   ],
   "source": [
    "matrix_product(d_ndarray, e_ndarray.T)"
   ]
  },
  {
   "cell_type": "code",
   "execution_count": null,
   "metadata": {},
   "outputs": [],
   "source": []
  }
 ],
 "metadata": {
  "kernelspec": {
   "display_name": "Python 3",
   "language": "python",
   "name": "python3"
  },
  "language_info": {
   "codemirror_mode": {
    "name": "ipython",
    "version": 3
   },
   "file_extension": ".py",
   "mimetype": "text/x-python",
   "name": "python",
   "nbconvert_exporter": "python",
   "pygments_lexer": "ipython3",
   "version": "3.7.4"
  }
 },
 "nbformat": 4,
 "nbformat_minor": 2
}
