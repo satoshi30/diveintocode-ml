{
 "cells": [
  {
   "cell_type": "code",
   "execution_count": null,
   "metadata": {
    "colab": {
     "base_uri": "https://localhost:8080/",
     "height": 666
    },
    "colab_type": "code",
    "executionInfo": {
     "elapsed": 54013,
     "status": "ok",
     "timestamp": 1592791585917,
     "user": {
      "displayName": "冨永修司",
      "photoUrl": "",
      "userId": "03180776926989276683"
     },
     "user_tz": -540
    },
    "id": "zYwQjWfFKpPC",
    "outputId": "d51ebba6-8176-4487-e3ca-3774df363c0e"
   },
   "outputs": [
    {
     "name": "stdout",
     "output_type": "stream",
     "text": [
      "Collecting tensorflow==1.5.0\n",
      "\u001b[?25l  Downloading https://files.pythonhosted.org/packages/04/79/a37d0b373757b4d283c674a64127bd8864d69f881c639b1ee5953e2d9301/tensorflow-1.5.0-cp36-cp36m-manylinux1_x86_64.whl (44.4MB)\n",
      "\u001b[K     |████████████████████████████████| 44.4MB 69kB/s \n",
      "\u001b[?25hRequirement already satisfied: wheel>=0.26 in /usr/local/lib/python3.6/dist-packages (from tensorflow==1.5.0) (0.34.2)\n",
      "Requirement already satisfied: six>=1.10.0 in /usr/local/lib/python3.6/dist-packages (from tensorflow==1.5.0) (1.12.0)\n",
      "Requirement already satisfied: absl-py>=0.1.6 in /usr/local/lib/python3.6/dist-packages (from tensorflow==1.5.0) (0.9.0)\n",
      "Requirement already satisfied: numpy>=1.12.1 in /usr/local/lib/python3.6/dist-packages (from tensorflow==1.5.0) (1.18.5)\n",
      "Collecting tensorflow-tensorboard<1.6.0,>=1.5.0\n",
      "\u001b[?25l  Downloading https://files.pythonhosted.org/packages/cc/fa/91c06952517b4f1bc075545b062a4112e30cebe558a6b962816cb33efa27/tensorflow_tensorboard-1.5.1-py3-none-any.whl (3.0MB)\n",
      "\u001b[K     |████████████████████████████████| 3.0MB 44.4MB/s \n",
      "\u001b[?25hRequirement already satisfied: protobuf>=3.4.0 in /usr/local/lib/python3.6/dist-packages (from tensorflow==1.5.0) (3.10.0)\n",
      "Collecting html5lib==0.9999999\n",
      "\u001b[?25l  Downloading https://files.pythonhosted.org/packages/ae/ae/bcb60402c60932b32dfaf19bb53870b29eda2cd17551ba5639219fb5ebf9/html5lib-0.9999999.tar.gz (889kB)\n",
      "\u001b[K     |████████████████████████████████| 890kB 36.3MB/s \n",
      "\u001b[?25hCollecting bleach==1.5.0\n",
      "  Downloading https://files.pythonhosted.org/packages/33/70/86c5fec937ea4964184d4d6c4f0b9551564f821e1c3575907639036d9b90/bleach-1.5.0-py2.py3-none-any.whl\n",
      "Requirement already satisfied: werkzeug>=0.11.10 in /usr/local/lib/python3.6/dist-packages (from tensorflow-tensorboard<1.6.0,>=1.5.0->tensorflow==1.5.0) (1.0.1)\n",
      "Requirement already satisfied: markdown>=2.6.8 in /usr/local/lib/python3.6/dist-packages (from tensorflow-tensorboard<1.6.0,>=1.5.0->tensorflow==1.5.0) (3.2.2)\n",
      "Requirement already satisfied: setuptools in /usr/local/lib/python3.6/dist-packages (from protobuf>=3.4.0->tensorflow==1.5.0) (47.3.1)\n",
      "Requirement already satisfied: importlib-metadata; python_version < \"3.8\" in /usr/local/lib/python3.6/dist-packages (from markdown>=2.6.8->tensorflow-tensorboard<1.6.0,>=1.5.0->tensorflow==1.5.0) (1.6.1)\n",
      "Requirement already satisfied: zipp>=0.5 in /usr/local/lib/python3.6/dist-packages (from importlib-metadata; python_version < \"3.8\"->markdown>=2.6.8->tensorflow-tensorboard<1.6.0,>=1.5.0->tensorflow==1.5.0) (3.1.0)\n",
      "Building wheels for collected packages: html5lib\n",
      "  Building wheel for html5lib (setup.py) ... \u001b[?25l\u001b[?25hdone\n",
      "  Created wheel for html5lib: filename=html5lib-0.9999999-cp36-none-any.whl size=107220 sha256=df42976f1baa27c5125da39600cf380222722404029a2f74057d885a3603cba6\n",
      "  Stored in directory: /root/.cache/pip/wheels/50/ae/f9/d2b189788efcf61d1ee0e36045476735c838898eef1cad6e29\n",
      "Successfully built html5lib\n",
      "Installing collected packages: html5lib, bleach, tensorflow-tensorboard, tensorflow\n",
      "  Found existing installation: html5lib 1.0.1\n",
      "    Uninstalling html5lib-1.0.1:\n",
      "      Successfully uninstalled html5lib-1.0.1\n",
      "  Found existing installation: bleach 3.1.5\n",
      "    Uninstalling bleach-3.1.5:\n",
      "      Successfully uninstalled bleach-3.1.5\n",
      "  Found existing installation: tensorflow 2.2.0\n",
      "    Uninstalling tensorflow-2.2.0:\n",
      "      Successfully uninstalled tensorflow-2.2.0\n",
      "Successfully installed bleach-1.5.0 html5lib-0.9999999 tensorflow-1.5.0 tensorflow-tensorboard-1.5.1\n"
     ]
    }
   ],
   "source": [
    "!pip install tensorflow==1.5.0"
   ]
  },
  {
   "cell_type": "code",
   "execution_count": null,
   "metadata": {
    "colab": {
     "base_uri": "https://localhost:8080/",
     "height": 241
    },
    "colab_type": "code",
    "executionInfo": {
     "elapsed": 2071,
     "status": "ok",
     "timestamp": 1592791596542,
     "user": {
      "displayName": "冨永修司",
      "photoUrl": "",
      "userId": "03180776926989276683"
     },
     "user_tz": -540
    },
    "id": "Wdn9jTnIrHW7",
    "outputId": "949f4f15-44a2-4e26-a087-4ede7cbba879"
   },
   "outputs": [
    {
     "name": "stderr",
     "output_type": "stream",
     "text": [
      "/usr/local/lib/python3.6/dist-packages/tensorflow/python/framework/dtypes.py:493: FutureWarning: Passing (type, 1) or '1type' as a synonym of type is deprecated; in a future version of numpy, it will be understood as (type, (1,)) / '(1,)type'.\n",
      "  _np_qint8 = np.dtype([(\"qint8\", np.int8, 1)])\n",
      "/usr/local/lib/python3.6/dist-packages/tensorflow/python/framework/dtypes.py:494: FutureWarning: Passing (type, 1) or '1type' as a synonym of type is deprecated; in a future version of numpy, it will be understood as (type, (1,)) / '(1,)type'.\n",
      "  _np_quint8 = np.dtype([(\"quint8\", np.uint8, 1)])\n",
      "/usr/local/lib/python3.6/dist-packages/tensorflow/python/framework/dtypes.py:495: FutureWarning: Passing (type, 1) or '1type' as a synonym of type is deprecated; in a future version of numpy, it will be understood as (type, (1,)) / '(1,)type'.\n",
      "  _np_qint16 = np.dtype([(\"qint16\", np.int16, 1)])\n",
      "/usr/local/lib/python3.6/dist-packages/tensorflow/python/framework/dtypes.py:496: FutureWarning: Passing (type, 1) or '1type' as a synonym of type is deprecated; in a future version of numpy, it will be understood as (type, (1,)) / '(1,)type'.\n",
      "  _np_quint16 = np.dtype([(\"quint16\", np.uint16, 1)])\n",
      "/usr/local/lib/python3.6/dist-packages/tensorflow/python/framework/dtypes.py:497: FutureWarning: Passing (type, 1) or '1type' as a synonym of type is deprecated; in a future version of numpy, it will be understood as (type, (1,)) / '(1,)type'.\n",
      "  _np_qint32 = np.dtype([(\"qint32\", np.int32, 1)])\n",
      "/usr/local/lib/python3.6/dist-packages/tensorflow/python/framework/dtypes.py:502: FutureWarning: Passing (type, 1) or '1type' as a synonym of type is deprecated; in a future version of numpy, it will be understood as (type, (1,)) / '(1,)type'.\n",
      "  np_resource = np.dtype([(\"resource\", np.ubyte, 1)])\n"
     ]
    }
   ],
   "source": [
    "import tensorflow"
   ]
  },
  {
   "cell_type": "code",
   "execution_count": null,
   "metadata": {
    "colab": {
     "base_uri": "https://localhost:8080/",
     "height": 34
    },
    "colab_type": "code",
    "executionInfo": {
     "elapsed": 1306,
     "status": "ok",
     "timestamp": 1592791600917,
     "user": {
      "displayName": "冨永修司",
      "photoUrl": "",
      "userId": "03180776926989276683"
     },
     "user_tz": -540
    },
    "id": "AuSdSYe4rN9o",
    "outputId": "0d34ceab-02fe-42e8-aa29-4768f385873c"
   },
   "outputs": [
    {
     "data": {
      "text/plain": [
       "'1.5.0'"
      ]
     },
     "execution_count": 3,
     "metadata": {
      "tags": []
     },
     "output_type": "execute_result"
    }
   ],
   "source": [
    "tensorflow.__version__"
   ]
  },
  {
   "cell_type": "code",
   "execution_count": null,
   "metadata": {
    "colab": {
     "base_uri": "https://localhost:8080/",
     "height": 204
    },
    "colab_type": "code",
    "executionInfo": {
     "elapsed": 4005,
     "status": "ok",
     "timestamp": 1592791608994,
     "user": {
      "displayName": "冨永修司",
      "photoUrl": "",
      "userId": "03180776926989276683"
     },
     "user_tz": -540
    },
    "id": "5Zo958VcYK7D",
    "outputId": "aaa4800f-1c9a-4ecf-d9ac-86afab36ae17"
   },
   "outputs": [
    {
     "name": "stdout",
     "output_type": "stream",
     "text": [
      "Requirement already satisfied: kaggle in /usr/local/lib/python3.6/dist-packages (1.5.6)\n",
      "Requirement already satisfied: tqdm in /usr/local/lib/python3.6/dist-packages (from kaggle) (4.41.1)\n",
      "Requirement already satisfied: urllib3<1.25,>=1.21.1 in /usr/local/lib/python3.6/dist-packages (from kaggle) (1.24.3)\n",
      "Requirement already satisfied: certifi in /usr/local/lib/python3.6/dist-packages (from kaggle) (2020.4.5.2)\n",
      "Requirement already satisfied: python-dateutil in /usr/local/lib/python3.6/dist-packages (from kaggle) (2.8.1)\n",
      "Requirement already satisfied: requests in /usr/local/lib/python3.6/dist-packages (from kaggle) (2.23.0)\n",
      "Requirement already satisfied: python-slugify in /usr/local/lib/python3.6/dist-packages (from kaggle) (4.0.0)\n",
      "Requirement already satisfied: six>=1.10 in /usr/local/lib/python3.6/dist-packages (from kaggle) (1.12.0)\n",
      "Requirement already satisfied: idna<3,>=2.5 in /usr/local/lib/python3.6/dist-packages (from requests->kaggle) (2.9)\n",
      "Requirement already satisfied: chardet<4,>=3.0.2 in /usr/local/lib/python3.6/dist-packages (from requests->kaggle) (3.0.4)\n",
      "Requirement already satisfied: text-unidecode>=1.3 in /usr/local/lib/python3.6/dist-packages (from python-slugify->kaggle) (1.3)\n"
     ]
    }
   ],
   "source": [
    "!pip install kaggle"
   ]
  },
  {
   "cell_type": "code",
   "execution_count": null,
   "metadata": {
    "colab": {
     "base_uri": "https://localhost:8080/",
     "height": 122
    },
    "colab_type": "code",
    "executionInfo": {
     "elapsed": 54018,
     "status": "ok",
     "timestamp": 1592791725798,
     "user": {
      "displayName": "冨永修司",
      "photoUrl": "",
      "userId": "03180776926989276683"
     },
     "user_tz": -540
    },
    "id": "NmusYUjgX5Rf",
    "outputId": "7cc39a7f-67f3-45bf-b03f-3ec4f82abd87"
   },
   "outputs": [
    {
     "name": "stdout",
     "output_type": "stream",
     "text": [
      "Go to this URL in a browser: https://accounts.google.com/o/oauth2/auth?client_id=947318989803-6bn6qk8qdgf4n4g3pfee6491hc0brc4i.apps.googleusercontent.com&redirect_uri=urn%3aietf%3awg%3aoauth%3a2.0%3aoob&response_type=code&scope=email%20https%3a%2f%2fwww.googleapis.com%2fauth%2fdocs.test%20https%3a%2f%2fwww.googleapis.com%2fauth%2fdrive%20https%3a%2f%2fwww.googleapis.com%2fauth%2fdrive.photos.readonly%20https%3a%2f%2fwww.googleapis.com%2fauth%2fpeopleapi.readonly\n",
      "\n",
      "Enter your authorization code:\n",
      "··········\n",
      "Mounted at /content/drive/\n"
     ]
    }
   ],
   "source": [
    "# 自分のマイドライブにマウントする\n",
    "\n",
    "from google.colab import drive\n",
    "drive.mount('/content/drive/')"
   ]
  },
  {
   "cell_type": "code",
   "execution_count": null,
   "metadata": {
    "colab": {},
    "colab_type": "code",
    "id": "Lz94s0BqX50p"
   },
   "outputs": [],
   "source": [
    "mkdir .kaggle"
   ]
  },
  {
   "cell_type": "code",
   "execution_count": null,
   "metadata": {
    "colab": {
     "base_uri": "https://localhost:8080/",
     "height": 34
    },
    "colab_type": "code",
    "executionInfo": {
     "elapsed": 2916,
     "status": "ok",
     "timestamp": 1592791797478,
     "user": {
      "displayName": "冨永修司",
      "photoUrl": "",
      "userId": "03180776926989276683"
     },
     "user_tz": -540
    },
    "id": "QOb2_xktYC8f",
    "outputId": "d34b1e37-1060-4290-835f-ef26879b78d0"
   },
   "outputs": [
    {
     "name": "stdout",
     "output_type": "stream",
     "text": [
      "\u001b[0m\u001b[01;34m.\u001b[0m/  \u001b[01;34m..\u001b[0m/  \u001b[01;34m.config\u001b[0m/  \u001b[01;34mdrive\u001b[0m/  \u001b[01;34m.kaggle\u001b[0m/  \u001b[01;34msample_data\u001b[0m/\n"
     ]
    }
   ],
   "source": [
    "ls -a"
   ]
  },
  {
   "cell_type": "code",
   "execution_count": null,
   "metadata": {
    "colab": {
     "base_uri": "https://localhost:8080/",
     "height": 34
    },
    "colab_type": "code",
    "id": "8oXwgTW8Ctl8",
    "outputId": "657a7e7b-6401-4a69-f7e4-bf6bb718ff0f"
   },
   "outputs": [
    {
     "name": "stdout",
     "output_type": "stream",
     "text": [
      "/content/drive/My Drive\n"
     ]
    }
   ],
   "source": [
    "#cd drive/\"My Drive\""
   ]
  },
  {
   "cell_type": "code",
   "execution_count": null,
   "metadata": {
    "colab": {},
    "colab_type": "code",
    "id": "UbrlwyoYayv7"
   },
   "outputs": [],
   "source": [
    "# https://www.kaggle.com/　へアクセスし、ログイン後に右上のプロフィール画像をクリック、さらに\"My Account\"をクリックする\n",
    "# このサイトの「API」項目にある\"Create New API Token\"をクリックすると、kaggle.jsonファイルが自動的にダウンロードされる\n",
    "# ローカルで、kaggle.json（ダウンロードフォルダにあるはず）をエディターで開く。\n",
    "# このセルの以下のコードにある token = {'username':'***','key':'***'} における「***」部分を、\n",
    "# ダウンロードしたkaggle.jsonを参照して書き換え、このセルを実行する\n",
    "\n",
    "import json\n",
    "\n",
    "token = {\"username\":\"shuji0001\",\"key\":\"92d16def6d9d410b99f01d60b1c4990c\"}\n",
    "with open('/content/.kaggle/kaggle.json', 'w') as file:\n",
    "    json.dump(token, file)"
   ]
  },
  {
   "cell_type": "code",
   "execution_count": null,
   "metadata": {
    "colab": {},
    "colab_type": "code",
    "id": "fGVfODKNc2ua"
   },
   "outputs": [],
   "source": []
  },
  {
   "cell_type": "code",
   "execution_count": null,
   "metadata": {
    "colab": {},
    "colab_type": "code",
    "id": "c0YHd6LcbSJn"
   },
   "outputs": [],
   "source": [
    "!chmod 600 /content/.kaggle/kaggle.json"
   ]
  },
  {
   "cell_type": "code",
   "execution_count": null,
   "metadata": {
    "colab": {
     "base_uri": "https://localhost:8080/",
     "height": 34
    },
    "colab_type": "code",
    "executionInfo": {
     "elapsed": 815,
     "status": "ok",
     "timestamp": 1592792017718,
     "user": {
      "displayName": "冨永修司",
      "photoUrl": "",
      "userId": "03180776926989276683"
     },
     "user_tz": -540
    },
    "id": "9TgiYOStY72u",
    "outputId": "ecfca3cd-4733-4b24-dfc5-b8722248b4b0"
   },
   "outputs": [
    {
     "data": {
      "text/plain": [
       "'/content'"
      ]
     },
     "execution_count": 10,
     "metadata": {
      "tags": []
     },
     "output_type": "execute_result"
    }
   ],
   "source": [
    "pwd"
   ]
  },
  {
   "cell_type": "code",
   "execution_count": null,
   "metadata": {
    "colab": {
     "base_uri": "https://localhost:8080/",
     "height": 34
    },
    "colab_type": "code",
    "executionInfo": {
     "elapsed": 3126,
     "status": "ok",
     "timestamp": 1592792021962,
     "user": {
      "displayName": "冨永修司",
      "photoUrl": "",
      "userId": "03180776926989276683"
     },
     "user_tz": -540
    },
    "id": "UYHvHU68PFsL",
    "outputId": "70f32be5-d738-4083-fc12-282bc39f19b5"
   },
   "outputs": [
    {
     "name": "stdout",
     "output_type": "stream",
     "text": [
      "\u001b[0m\u001b[01;34m.\u001b[0m/  \u001b[01;34m..\u001b[0m/  kaggle.json\n"
     ]
    }
   ],
   "source": [
    "ls -a .kaggle"
   ]
  },
  {
   "cell_type": "code",
   "execution_count": null,
   "metadata": {
    "colab": {},
    "colab_type": "code",
    "id": "67WCst_X0Qjt"
   },
   "outputs": [],
   "source": [
    "mkdir　/root/.kaggle/"
   ]
  },
  {
   "cell_type": "code",
   "execution_count": null,
   "metadata": {
    "colab": {},
    "colab_type": "code",
    "id": "2E9gx_jSa9tJ"
   },
   "outputs": [],
   "source": [
    "!cp -R /content/.kaggle/kaggle.json /root/.kaggle/"
   ]
  },
  {
   "cell_type": "code",
   "execution_count": null,
   "metadata": {
    "colab": {
     "base_uri": "https://localhost:8080/",
     "height": 34
    },
    "colab_type": "code",
    "executionInfo": {
     "elapsed": 2810,
     "status": "ok",
     "timestamp": 1592792035953,
     "user": {
      "displayName": "冨永修司",
      "photoUrl": "",
      "userId": "03180776926989276683"
     },
     "user_tz": -540
    },
    "id": "-QKa7HD1bUcC",
    "outputId": "a681a0b9-f5d7-4515-f151-7a9fd80319b3"
   },
   "outputs": [
    {
     "name": "stdout",
     "output_type": "stream",
     "text": [
      ".  ..  kaggle.json\n"
     ]
    }
   ],
   "source": [
    "!ls -a /root/.kaggle/"
   ]
  },
  {
   "cell_type": "code",
   "execution_count": null,
   "metadata": {
    "colab": {
     "base_uri": "https://localhost:8080/",
     "height": 408
    },
    "colab_type": "code",
    "executionInfo": {
     "elapsed": 4206,
     "status": "ok",
     "timestamp": 1592792046289,
     "user": {
      "displayName": "冨永修司",
      "photoUrl": "",
      "userId": "03180776926989276683"
     },
     "user_tz": -540
    },
    "id": "ADlTo5WyxveO",
    "outputId": "e574131b-cc2e-48da-e23f-440cefa99d66"
   },
   "outputs": [
    {
     "name": "stdout",
     "output_type": "stream",
     "text": [
      "Warning: Looks like you're using an outdated API Version, please consider updating (server 1.5.6 / client 1.5.4)\n",
      "ref                                               deadline             category            reward  teamCount  userHasEntered  \n",
      "------------------------------------------------  -------------------  ---------------  ---------  ---------  --------------  \n",
      "tpu-getting-started                               2030-06-03 23:59:00  Getting Started      Kudos         30           False  \n",
      "digit-recognizer                                  2030-01-01 00:00:00  Getting Started  Knowledge       3355           False  \n",
      "titanic                                           2030-01-01 00:00:00  Getting Started  Knowledge      25453            True  \n",
      "house-prices-advanced-regression-techniques       2030-01-01 00:00:00  Getting Started  Knowledge       5719            True  \n",
      "connectx                                          2030-01-01 00:00:00  Getting Started  Knowledge        552           False  \n",
      "nlp-getting-started                               2030-01-01 00:00:00  Getting Started      Kudos       1802           False  \n",
      "competitive-data-science-predict-future-sales     2020-12-31 23:59:00  Playground           Kudos       7405           False  \n",
      "halite                                            2020-09-15 23:59:00  Featured              Swag        279           False  \n",
      "birdsong-recognition                              2020-09-15 23:59:00  Research           $25,000         95           False  \n",
      "siim-isic-melanoma-classification                 2020-08-17 23:59:00  Featured           $30,000       1164           False  \n",
      "global-wheat-detection                            2020-08-04 23:59:00  Research           $15,000        987           False  \n",
      "open-images-object-detection-rvc-2020             2020-07-31 16:00:00  Playground       Knowledge         35           False  \n",
      "open-images-instance-segmentation-rvc-2020        2020-07-31 16:00:00  Playground       Knowledge          6           False  \n",
      "hashcode-photo-slideshow                          2020-07-27 23:59:00  Playground       Knowledge         39           False  \n",
      "prostate-cancer-grade-assessment                  2020-07-22 23:59:00  Featured           $25,000        624           False  \n",
      "alaska2-image-steganalysis                        2020-07-20 23:59:00  Research           $25,000        631           False  \n",
      "m5-forecasting-accuracy                           2020-06-30 23:59:00  Featured           $50,000       5188           False  \n",
      "m5-forecasting-uncertainty                        2020-06-30 23:59:00  Featured           $50,000        719           False  \n",
      "trends-assessment-prediction                      2020-06-29 23:59:00  Research           $25,000        908           False  \n",
      "jigsaw-multilingual-toxic-comment-classification  2020-06-22 23:59:00  Featured           $50,000       1603            True  \n"
     ]
    }
   ],
   "source": [
    "# kaggle APIコマンドが使えるかどうかを確認\n",
    "\n",
    "\n",
    "!kaggle competitions list"
   ]
  },
  {
   "cell_type": "code",
   "execution_count": null,
   "metadata": {
    "colab": {
     "base_uri": "https://localhost:8080/",
     "height": 34
    },
    "colab_type": "code",
    "executionInfo": {
     "elapsed": 768,
     "status": "ok",
     "timestamp": 1592792056370,
     "user": {
      "displayName": "冨永修司",
      "photoUrl": "",
      "userId": "03180776926989276683"
     },
     "user_tz": -540
    },
    "id": "ot7Tqrikc0-W",
    "outputId": "8dfc1988-d355-4404-990e-238862a4e3c4"
   },
   "outputs": [
    {
     "name": "stdout",
     "output_type": "stream",
     "text": [
      "/content/drive/My Drive\n"
     ]
    }
   ],
   "source": [
    "# カレントディレクトリの変更\n",
    "\n",
    "import os\n",
    "\n",
    "os.chdir('/content/drive/My Drive/')\n",
    "\n",
    "# カレントディレクトリの取得\n",
    "print(os.getcwd())"
   ]
  },
  {
   "cell_type": "code",
   "execution_count": null,
   "metadata": {
    "colab": {
     "base_uri": "https://localhost:8080/",
     "height": 68
    },
    "colab_type": "code",
    "executionInfo": {
     "elapsed": 75908,
     "status": "ok",
     "timestamp": 1592792146275,
     "user": {
      "displayName": "冨永修司",
      "photoUrl": "",
      "userId": "03180776926989276683"
     },
     "user_tz": -540
    },
    "id": "Erk54BOPbZdd",
    "outputId": "c16ac4d8-5a05-4f98-c53a-9662cb0dfe93"
   },
   "outputs": [
    {
     "name": "stdout",
     "output_type": "stream",
     "text": [
      "Downloading the-simpsons-characters-dataset.zip to /content/drive/My Drive\n",
      " 99% 1.07G/1.08G [01:09<00:00, 28.7MB/s]\n",
      "100% 1.08G/1.08G [01:09<00:00, 16.7MB/s]\n"
     ]
    }
   ],
   "source": [
    "# simpsonデータセットのAPIコマンドでデータセットをダウンロードする\n",
    "# APIコマンドはこちらのサイトを参照。https://www.kaggle.com/alexattia/the-simpsons-characters-dataset\n",
    "\n",
    "!kaggle datasets download -d alexattia/the-simpsons-characters-dataset --force"
   ]
  },
  {
   "cell_type": "code",
   "execution_count": null,
   "metadata": {
    "colab": {
     "base_uri": "https://localhost:8080/",
     "height": 68
    },
    "colab_type": "code",
    "executionInfo": {
     "elapsed": 94548,
     "status": "ok",
     "timestamp": 1592792284055,
     "user": {
      "displayName": "冨永修司",
      "photoUrl": "",
      "userId": "03180776926989276683"
     },
     "user_tz": -540
    },
    "id": "aT_EoanXb1C2",
    "outputId": "1c4e14fd-4bbd-4d0b-94de-59bf975096df"
   },
   "outputs": [
    {
     "name": "stdout",
     "output_type": "stream",
     "text": [
      "Archive:  /content/drive/My Drive/the-simpsons-characters-dataset.zip\n",
      "replace Simpsons/annotation.txt? [y]es, [n]o, [A]ll, [N]one, [r]ename: N\n",
      "^C\n"
     ]
    }
   ],
   "source": [
    "!unzip /content/drive/'My Drive'/the-simpsons-characters-dataset.zip  -d Simpsons"
   ]
  },
  {
   "cell_type": "code",
   "execution_count": null,
   "metadata": {
    "colab": {
     "base_uri": "https://localhost:8080/",
     "height": 34
    },
    "colab_type": "code",
    "executionInfo": {
     "elapsed": 862,
     "status": "ok",
     "timestamp": 1592792316446,
     "user": {
      "displayName": "冨永修司",
      "photoUrl": "",
      "userId": "03180776926989276683"
     },
     "user_tz": -540
    },
    "id": "wYbGZqzJ0tXk",
    "outputId": "1d50ebe3-d3f5-467d-c102-7552b6889ef0"
   },
   "outputs": [
    {
     "name": "stdout",
     "output_type": "stream",
     "text": [
      "Drive already mounted at /content/drive; to attempt to forcibly remount, call drive.mount(\"/content/drive\", force_remount=True).\n"
     ]
    }
   ],
   "source": [
    "from google.colab import drive\n",
    "drive.mount('/content/drive')"
   ]
  },
  {
   "cell_type": "code",
   "execution_count": null,
   "metadata": {
    "colab": {
     "base_uri": "https://localhost:8080/",
     "height": 34
    },
    "colab_type": "code",
    "executionInfo": {
     "elapsed": 2104,
     "status": "ok",
     "timestamp": 1592546152246,
     "user": {
      "displayName": "冨永修司",
      "photoUrl": "",
      "userId": "03180776926989276683"
     },
     "user_tz": -540
    },
    "id": "N7rYrfC9d1wr",
    "outputId": "84fb26e6-dd8b-46ec-f6e7-3ce795500d90"
   },
   "outputs": [
    {
     "name": "stdout",
     "output_type": "stream",
     "text": [
      "fatal: destination path 'ObjectDetection' already exists and is not an empty directory.\n"
     ]
    }
   ],
   "source": [
    "!git clone https://github.com/duckrabbits/ObjectDetection.git"
   ]
  },
  {
   "cell_type": "code",
   "execution_count": null,
   "metadata": {
    "colab": {},
    "colab_type": "code",
    "id": "URsloMb5fjeN"
   },
   "outputs": [],
   "source": [
    "# https://github.com/duckrabbits/ObjectDetection/tree/master\n",
    "# この後、上述のgithubのreadmeに沿って、simpsons_datasetフォルダをプロジェクトフォルダ配下に格納しましょう。\n",
    "# testデータなども同様に準備してみよう。"
   ]
  },
  {
   "cell_type": "code",
   "execution_count": null,
   "metadata": {
    "colab": {},
    "colab_type": "code",
    "id": "Ro3s37En2cqD"
   },
   "outputs": [],
   "source": [
    "mv Simpsons/simpsons_dataset ObjectDetection/"
   ]
  },
  {
   "cell_type": "code",
   "execution_count": null,
   "metadata": {
    "colab": {},
    "colab_type": "code",
    "id": "zdbIZHs5UamY"
   },
   "outputs": [],
   "source": [
    "!mv "
   ]
  }
 ],
 "metadata": {
  "accelerator": "GPU",
  "colab": {
   "collapsed_sections": [],
   "name": "Sprint17_colab版の準備（受講生用）.ipynb",
   "provenance": [],
   "toc_visible": true
  },
  "kernelspec": {
   "display_name": "Python 3",
   "language": "python",
   "name": "python3"
  },
  "language_info": {
   "codemirror_mode": {
    "name": "ipython",
    "version": 3
   },
   "file_extension": ".py",
   "mimetype": "text/x-python",
   "name": "python",
   "nbconvert_exporter": "python",
   "pygments_lexer": "ipython3",
   "version": "3.5.6"
  }
 },
 "nbformat": 4,
 "nbformat_minor": 1
}
