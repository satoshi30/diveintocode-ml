{
 "cells": [
  {
   "cell_type": "markdown",
   "metadata": {},
   "source": [
    "## Sprint アンサンブル学習"
   ]
  },
  {
   "cell_type": "markdown",
   "metadata": {},
   "source": [
    "## 小さなデータセットの用意\n",
    "\n",
    "以前も利用した回帰のデータセットを用意します。\n",
    "\n",
    "[House Prices: Advanced Regression Techniques](https://www.kaggle.com/c/house-prices-advanced-regression-techniques/data)\n",
    "\n",
    "この中の`train.csv`をダウンロードし、目的変数として`SalePrice`、説明変数として、`GrLivArea`と`YearBuilt`を使います。\n",
    "\n",
    "train.csvを学習用（train）8割、検証用（val）2割に分割してください。"
   ]
  },
  {
   "cell_type": "code",
   "execution_count": 1,
   "metadata": {},
   "outputs": [
    {
     "data": {
      "text/html": [
       "<div>\n",
       "<style scoped>\n",
       "    .dataframe tbody tr th:only-of-type {\n",
       "        vertical-align: middle;\n",
       "    }\n",
       "\n",
       "    .dataframe tbody tr th {\n",
       "        vertical-align: top;\n",
       "    }\n",
       "\n",
       "    .dataframe thead th {\n",
       "        text-align: right;\n",
       "    }\n",
       "</style>\n",
       "<table border=\"1\" class=\"dataframe\">\n",
       "  <thead>\n",
       "    <tr style=\"text-align: right;\">\n",
       "      <th></th>\n",
       "      <th>Id</th>\n",
       "      <th>MSSubClass</th>\n",
       "      <th>MSZoning</th>\n",
       "      <th>LotFrontage</th>\n",
       "      <th>LotArea</th>\n",
       "      <th>Street</th>\n",
       "      <th>Alley</th>\n",
       "      <th>LotShape</th>\n",
       "      <th>LandContour</th>\n",
       "      <th>Utilities</th>\n",
       "      <th>...</th>\n",
       "      <th>PoolArea</th>\n",
       "      <th>PoolQC</th>\n",
       "      <th>Fence</th>\n",
       "      <th>MiscFeature</th>\n",
       "      <th>MiscVal</th>\n",
       "      <th>MoSold</th>\n",
       "      <th>YrSold</th>\n",
       "      <th>SaleType</th>\n",
       "      <th>SaleCondition</th>\n",
       "      <th>SalePrice</th>\n",
       "    </tr>\n",
       "  </thead>\n",
       "  <tbody>\n",
       "    <tr>\n",
       "      <th>0</th>\n",
       "      <td>1</td>\n",
       "      <td>60</td>\n",
       "      <td>RL</td>\n",
       "      <td>65.0</td>\n",
       "      <td>8450</td>\n",
       "      <td>Pave</td>\n",
       "      <td>NaN</td>\n",
       "      <td>Reg</td>\n",
       "      <td>Lvl</td>\n",
       "      <td>AllPub</td>\n",
       "      <td>...</td>\n",
       "      <td>0</td>\n",
       "      <td>NaN</td>\n",
       "      <td>NaN</td>\n",
       "      <td>NaN</td>\n",
       "      <td>0</td>\n",
       "      <td>2</td>\n",
       "      <td>2008</td>\n",
       "      <td>WD</td>\n",
       "      <td>Normal</td>\n",
       "      <td>208500</td>\n",
       "    </tr>\n",
       "    <tr>\n",
       "      <th>1</th>\n",
       "      <td>2</td>\n",
       "      <td>20</td>\n",
       "      <td>RL</td>\n",
       "      <td>80.0</td>\n",
       "      <td>9600</td>\n",
       "      <td>Pave</td>\n",
       "      <td>NaN</td>\n",
       "      <td>Reg</td>\n",
       "      <td>Lvl</td>\n",
       "      <td>AllPub</td>\n",
       "      <td>...</td>\n",
       "      <td>0</td>\n",
       "      <td>NaN</td>\n",
       "      <td>NaN</td>\n",
       "      <td>NaN</td>\n",
       "      <td>0</td>\n",
       "      <td>5</td>\n",
       "      <td>2007</td>\n",
       "      <td>WD</td>\n",
       "      <td>Normal</td>\n",
       "      <td>181500</td>\n",
       "    </tr>\n",
       "    <tr>\n",
       "      <th>2</th>\n",
       "      <td>3</td>\n",
       "      <td>60</td>\n",
       "      <td>RL</td>\n",
       "      <td>68.0</td>\n",
       "      <td>11250</td>\n",
       "      <td>Pave</td>\n",
       "      <td>NaN</td>\n",
       "      <td>IR1</td>\n",
       "      <td>Lvl</td>\n",
       "      <td>AllPub</td>\n",
       "      <td>...</td>\n",
       "      <td>0</td>\n",
       "      <td>NaN</td>\n",
       "      <td>NaN</td>\n",
       "      <td>NaN</td>\n",
       "      <td>0</td>\n",
       "      <td>9</td>\n",
       "      <td>2008</td>\n",
       "      <td>WD</td>\n",
       "      <td>Normal</td>\n",
       "      <td>223500</td>\n",
       "    </tr>\n",
       "    <tr>\n",
       "      <th>3</th>\n",
       "      <td>4</td>\n",
       "      <td>70</td>\n",
       "      <td>RL</td>\n",
       "      <td>60.0</td>\n",
       "      <td>9550</td>\n",
       "      <td>Pave</td>\n",
       "      <td>NaN</td>\n",
       "      <td>IR1</td>\n",
       "      <td>Lvl</td>\n",
       "      <td>AllPub</td>\n",
       "      <td>...</td>\n",
       "      <td>0</td>\n",
       "      <td>NaN</td>\n",
       "      <td>NaN</td>\n",
       "      <td>NaN</td>\n",
       "      <td>0</td>\n",
       "      <td>2</td>\n",
       "      <td>2006</td>\n",
       "      <td>WD</td>\n",
       "      <td>Abnorml</td>\n",
       "      <td>140000</td>\n",
       "    </tr>\n",
       "    <tr>\n",
       "      <th>4</th>\n",
       "      <td>5</td>\n",
       "      <td>60</td>\n",
       "      <td>RL</td>\n",
       "      <td>84.0</td>\n",
       "      <td>14260</td>\n",
       "      <td>Pave</td>\n",
       "      <td>NaN</td>\n",
       "      <td>IR1</td>\n",
       "      <td>Lvl</td>\n",
       "      <td>AllPub</td>\n",
       "      <td>...</td>\n",
       "      <td>0</td>\n",
       "      <td>NaN</td>\n",
       "      <td>NaN</td>\n",
       "      <td>NaN</td>\n",
       "      <td>0</td>\n",
       "      <td>12</td>\n",
       "      <td>2008</td>\n",
       "      <td>WD</td>\n",
       "      <td>Normal</td>\n",
       "      <td>250000</td>\n",
       "    </tr>\n",
       "  </tbody>\n",
       "</table>\n",
       "<p>5 rows × 81 columns</p>\n",
       "</div>"
      ],
      "text/plain": [
       "   Id  MSSubClass MSZoning  LotFrontage  LotArea Street Alley LotShape  \\\n",
       "0   1          60       RL         65.0     8450   Pave   NaN      Reg   \n",
       "1   2          20       RL         80.0     9600   Pave   NaN      Reg   \n",
       "2   3          60       RL         68.0    11250   Pave   NaN      IR1   \n",
       "3   4          70       RL         60.0     9550   Pave   NaN      IR1   \n",
       "4   5          60       RL         84.0    14260   Pave   NaN      IR1   \n",
       "\n",
       "  LandContour Utilities  ... PoolArea PoolQC Fence MiscFeature MiscVal MoSold  \\\n",
       "0         Lvl    AllPub  ...        0    NaN   NaN         NaN       0      2   \n",
       "1         Lvl    AllPub  ...        0    NaN   NaN         NaN       0      5   \n",
       "2         Lvl    AllPub  ...        0    NaN   NaN         NaN       0      9   \n",
       "3         Lvl    AllPub  ...        0    NaN   NaN         NaN       0      2   \n",
       "4         Lvl    AllPub  ...        0    NaN   NaN         NaN       0     12   \n",
       "\n",
       "  YrSold  SaleType  SaleCondition  SalePrice  \n",
       "0   2008        WD         Normal     208500  \n",
       "1   2007        WD         Normal     181500  \n",
       "2   2008        WD         Normal     223500  \n",
       "3   2006        WD        Abnorml     140000  \n",
       "4   2008        WD         Normal     250000  \n",
       "\n",
       "[5 rows x 81 columns]"
      ]
     },
     "execution_count": 1,
     "metadata": {},
     "output_type": "execute_result"
    }
   ],
   "source": [
    "import numpy as np\n",
    "import pandas as pd\n",
    "df_train = pd.read_csv('train.csv')\n",
    "df_train.head()"
   ]
  },
  {
   "cell_type": "code",
   "execution_count": 2,
   "metadata": {},
   "outputs": [],
   "source": [
    "X = df_train.loc[:, ['GrLivArea', 'YearBuilt']].values\n",
    "y = df_train.loc[:, 'SalePrice'].values"
   ]
  },
  {
   "cell_type": "code",
   "execution_count": 3,
   "metadata": {},
   "outputs": [
    {
     "data": {
      "text/plain": [
       "((1168, 2), (292, 2), (1168,), (292,))"
      ]
     },
     "execution_count": 3,
     "metadata": {},
     "output_type": "execute_result"
    }
   ],
   "source": [
    "from sklearn.model_selection import train_test_split\n",
    "X_train, X_test, y_train, y_test = train_test_split(X, y, test_size=0.2, random_state=0)\n",
    "X_train.shape, X_test.shape, y_train.shape, y_test.shape"
   ]
  },
  {
   "cell_type": "markdown",
   "metadata": {},
   "source": [
    "## scikit-learn\n",
    "単一のモデルはスクラッチ実装ではなく、scikit-learnなどのライブラリの使用を推奨します。\n",
    "\n",
    "[sklearn.linear_model.LinearRegression — scikit-learn 0.21.3 documentation](https://scikit-learn.org/stable/modules/generated/sklearn.linear_model.LinearRegression.html)\n",
    "\n",
    "[sklearn.svm.SVR — scikit-learn 0.21.3 documentation](https://scikit-learn.org/stable/modules/generated/sklearn.svm.SVR.html)\n",
    "\n",
    "[sklearn.tree.DecisionTreeRegressor — scikit-learn 0.21.3 documentation](https://scikit-learn.org/stable/modules/generated/sklearn.tree.DecisionTreeRegressor.html)"
   ]
  },
  {
   "cell_type": "code",
   "execution_count": 4,
   "metadata": {},
   "outputs": [],
   "source": [
    "from sklearn.linear_model import LinearRegression\n",
    "lr = LinearRegression()\n",
    "lr.fit(X_train, y_train)\n",
    "lr_pred = lr.predict(X_test)"
   ]
  },
  {
   "cell_type": "code",
   "execution_count": 5,
   "metadata": {},
   "outputs": [],
   "source": [
    "from sklearn.linear_model import Ridge\n",
    "ridge = Ridge()\n",
    "ridge.fit(X_train, y_train)\n",
    "ridge_pred = ridge.predict(X_test)"
   ]
  },
  {
   "cell_type": "code",
   "execution_count": 6,
   "metadata": {},
   "outputs": [],
   "source": [
    "from sklearn.linear_model import Lasso\n",
    "lasso = Lasso()\n",
    "lasso.fit(X_train, y_train)\n",
    "lasso_pred = lasso.predict(X_test)"
   ]
  },
  {
   "cell_type": "code",
   "execution_count": 7,
   "metadata": {},
   "outputs": [],
   "source": [
    "from sklearn.linear_model import ElasticNet\n",
    "en = ElasticNet()\n",
    "en.fit(X_train, y_train)\n",
    "en_pred = en.predict(X_test)"
   ]
  },
  {
   "cell_type": "code",
   "execution_count": 8,
   "metadata": {},
   "outputs": [],
   "source": [
    "from sklearn.svm import SVR\n",
    "svr = SVR(kernel='poly')\n",
    "svr.fit(X_train, y_train)\n",
    "svr_pred = svr.predict(X_test)"
   ]
  },
  {
   "cell_type": "code",
   "execution_count": 9,
   "metadata": {},
   "outputs": [],
   "source": [
    "from sklearn.neighbors import KNeighborsRegressor\n",
    "kn = KNeighborsRegressor()\n",
    "kn.fit(X_train, y_train)\n",
    "kn_pred = kn.predict(X_test)"
   ]
  },
  {
   "cell_type": "code",
   "execution_count": 10,
   "metadata": {},
   "outputs": [],
   "source": [
    "from sklearn.tree import DecisionTreeRegressor\n",
    "dtr = DecisionTreeRegressor(random_state=0)\n",
    "dtr.fit(X_train, y_train)\n",
    "dtr_pred = dtr.predict(X_test)"
   ]
  },
  {
   "cell_type": "code",
   "execution_count": 11,
   "metadata": {},
   "outputs": [],
   "source": [
    "from sklearn.ensemble import RandomForestRegressor\n",
    "rfr = RandomForestRegressor(random_state=0)\n",
    "rfr.fit(X_train, y_train)\n",
    "rfr_pred = rfr.predict(X_test)"
   ]
  },
  {
   "cell_type": "code",
   "execution_count": 12,
   "metadata": {},
   "outputs": [
    {
     "name": "stderr",
     "output_type": "stream",
     "text": [
      "/Users/ikeda/.pyenv/versions/anaconda3-2020.02/lib/python3.7/site-packages/lightgbm/__init__.py:48: UserWarning: Starting from version 2.2.1, the library file in distribution wheels for macOS is built by the Apple Clang (Xcode_8.3.3) compiler.\n",
      "This means that in case of installing LightGBM from PyPI via the ``pip install lightgbm`` command, you don't need to install the gcc compiler anymore.\n",
      "Instead of that, you need to install the OpenMP library, which is required for running LightGBM on the system with the Apple Clang compiler.\n",
      "You can install the OpenMP library by the following command: ``brew install libomp``.\n",
      "  \"You can install the OpenMP library by the following command: ``brew install libomp``.\", UserWarning)\n"
     ]
    }
   ],
   "source": [
    "import lightgbm as lgb\n",
    "lgbm = lgb.LGBMRegressor()\n",
    "lgbm.fit(X_train, y_train)\n",
    "lgbm_pred = lgbm.predict(X_test)"
   ]
  },
  {
   "cell_type": "code",
   "execution_count": 13,
   "metadata": {},
   "outputs": [],
   "source": [
    "from sklearn.neural_network import MLPRegressor\n",
    "nn = MLPRegressor(hidden_layer_sizes=(3, 3, 3,) , random_state=0, max_iter=1500)\n",
    "nn.fit(X_train, y_train)\n",
    "nn_pred = nn.predict(X_test)"
   ]
  },
  {
   "cell_type": "code",
   "execution_count": 14,
   "metadata": {},
   "outputs": [
    {
     "name": "stdout",
     "output_type": "stream",
     "text": [
      "単一モデルの平均二乗誤差\n",
      "Linear : 2,942,066,922\n",
      "Ridge : 2,942,067,018\n",
      "Lasso : 2,942,067,002\n",
      "ElasticNet : 2,942,123,470\n",
      "SVR : 4,874,222,158\n",
      "KNeighborsRegressor : 3,119,613,674\n",
      "DecisionTreeRegressor : 3,009,170,128\n",
      "RandomForestRegressor : 1,829,102,497\n",
      "LGBMRegressor : 1,980,418,356\n",
      "MLPRegressor : 3,860,298,016\n"
     ]
    }
   ],
   "source": [
    "from sklearn.metrics import mean_squared_error\n",
    "lr_mse = mean_squared_error(y_test, lr_pred)\n",
    "ridge_mse = mean_squared_error(y_test, ridge_pred)\n",
    "lasso_mse = mean_squared_error(y_test, lasso_pred)\n",
    "en_mse = mean_squared_error(y_test, en_pred)\n",
    "svr_mse = mean_squared_error(y_test, svr_pred)\n",
    "kn_mse = mean_squared_error(y_test, kn_pred)\n",
    "dtr_mse = mean_squared_error(y_test, dtr_pred)\n",
    "rfr_mse = mean_squared_error(y_test, rfr_pred)\n",
    "lgbm_mse = mean_squared_error(y_test, lgbm_pred)\n",
    "nn_mse = mean_squared_error(y_test, nn_pred)\n",
    "\n",
    "print('単一モデルの平均二乗誤差')\n",
    "print('Linear : {:,.0f}'.format(lr_mse))\n",
    "print('Ridge : {:,.0f}'.format(ridge_mse))\n",
    "print('Lasso : {:,.0f}'.format(lasso_mse))\n",
    "print('ElasticNet : {:,.0f}'.format(en_mse))\n",
    "print('SVR : {:,.0f}'.format(svr_mse))\n",
    "print('KNeighborsRegressor : {:,.0f}'.format(kn_mse))\n",
    "print('DecisionTreeRegressor : {:,.0f}'.format(dtr_mse))\n",
    "print('RandomForestRegressor : {:,.0f}'.format(rfr_mse))\n",
    "print('LGBMRegressor : {:,.0f}'.format(lgbm_mse))\n",
    "print('MLPRegressor : {:,.0f}'.format(nn_mse))"
   ]
  },
  {
   "cell_type": "code",
   "execution_count": 15,
   "metadata": {},
   "outputs": [
    {
     "data": {
      "image/png": "[encoded data removed]",
      "text/plain": [
       "<Figure size 576x288 with 2 Axes>"
      ]
     },
     "metadata": {
      "needs_background": "light"
     },
     "output_type": "display_data"
    },
    {
     "data": {
      "image/png": "[encoded data removed]",
      "text/plain": [
       "<Figure size 576x288 with 2 Axes>"
      ]
     },
     "metadata": {
      "needs_background": "light"
     },
     "output_type": "display_data"
    },
    {
     "data": {
      "image/png": "[encoded data removed]",
      "text/plain": [
       "<Figure size 576x288 with 2 Axes>"
      ]
     },
     "metadata": {
      "needs_background": "light"
     },
     "output_type": "display_data"
    },
    {
     "data": {
      "image/png": "[encoded data removed]",
      "text/plain": [
       "<Figure size 576x288 with 2 Axes>"
      ]
     },
     "metadata": {
      "needs_background": "light"
     },
     "output_type": "display_data"
    },
    {
     "data": {
      "image/png": "[encoded data removed]",
      "text/plain": [
       "<Figure size 576x288 with 2 Axes>"
      ]
     },
     "metadata": {
      "needs_background": "light"
     },
     "output_type": "display_data"
    },
    {
     "data": {
      "image/png": "[encoded data removed]",
      "text/plain": [
       "<Figure size 576x288 with 2 Axes>"
      ]
     },
     "metadata": {
      "needs_background": "light"
     },
     "output_type": "display_data"
    },
    {
     "data": {
      "image/png": "[encoded data removed]",
      "text/plain": [
       "<Figure size 576x288 with 2 Axes>"
      ]
     },
     "metadata": {
      "needs_background": "light"
     },
     "output_type": "display_data"
    },
    {
     "data": {
      "image/png": "[encoded data removed]",
      "text/plain": [
       "<Figure size 576x288 with 2 Axes>"
      ]
     },
     "metadata": {
      "needs_background": "light"
     },
     "output_type": "display_data"
    },
    {
     "data": {
      "image/png": "[encoded data removed]",
      "text/plain": [
       "<Figure size 576x288 with 2 Axes>"
      ]
     },
     "metadata": {
      "needs_background": "light"
     },
     "output_type": "display_data"
    },
    {
     "data": {
      "image/png": "[encoded data removed]",
      "text/plain": [
       "<Figure size 576x288 with 2 Axes>"
      ]
     },
     "metadata": {
      "needs_background": "light"
     },
     "output_type": "display_data"
    }
   ],
   "source": [
    "#　予測値とテストデータをプロット\n",
    "import matplotlib.pyplot as plt\n",
    "%matplotlib inline\n",
    "pred_lst = [lr_pred, ridge_pred, lasso_pred, en_pred, svr_pred, kn_pred, dtr_pred, rfr_pred, lgbm_pred, nn_pred]\n",
    "model_title = ['Linear', 'Ridge', 'Lasso', 'Elastic_Net', 'SVR', 'KNeighborsRegressor', 'DecisionTreeRegressor', 'RandomForestRegressor','LGBMRegressor', 'MLPRegressor']\n",
    "for i in range(len(pred_lst)):\n",
    "    fig = plt.figure(figsize=(X_test.shape[1]*4, 4))\n",
    "    for j in range(X_test.shape[1]):\n",
    "        ax = fig.add_subplot(1, X_test.shape[1], j+1)\n",
    "        ax.scatter(X_test[:, j], y_test, label='test')\n",
    "        ax.scatter(X_test[:, j], pred_lst[i], label='predict')\n",
    "        ax.set_xlabel('x_{}'.format(j))\n",
    "        ax.legend()\n",
    "    fig.suptitle(model_title[i])\n",
    "    plt.tight_layout()\n",
    "    plt.subplots_adjust(top=0.9)\n",
    "    plt.show()"
   ]
  },
  {
   "cell_type": "markdown",
   "metadata": {},
   "source": [
    "## 【問題1】ブレンディングのスクラッチ実装\n",
    "\n",
    "**ブレンディング** をスクラッチ実装し、単一モデルより精度があがる例を **最低3つ** 示してください。精度があがるとは、検証用データに対する平均二乗誤差（MSE）が小さくなることを指します。\n",
    "\n",
    "## ブレンディングとは\n",
    "\n",
    "ブレンディングとは、N個の多様なモデルを独立して学習させ、推定結果を重み付けした上で足し合わせる方法です。最も単純には平均をとります。多様なモデルとは、以下のような条件を変化させることで作り出すものです。\n",
    "\n",
    "- 手法（例：線形回帰、SVM、決定木、ニューラルネットワークなど）\n",
    "- ハイパーパラメータ（例：SVMのカーネルの種類、重みの初期値など）\n",
    "- 入力データの前処理の仕方（例：標準化、対数変換、PCAなど）\n",
    "\n",
    "重要なのはそれぞれのモデルが大きく異なることです。\n",
    "\n",
    "回帰問題でのブレンディングは非常に単純であるため、scikit-learnには用意されていません。\n",
    "\n",
    "**《補足》**\n",
    "\n",
    "分類問題の場合は、多数決を行います。回帰問題に比べると複雑なため、scikit-learnにはVotingClassifierが用意されています。\n",
    "\n",
    "[sklearn.ensemble.VotingClassifier — scikit-learn 0.21.3 documentation](https://scikit-learn.org/stable/modules/generated/sklearn.ensemble.VotingClassifier.html)"
   ]
  },
  {
   "cell_type": "markdown",
   "metadata": {},
   "source": [
    "### パターン1\n",
    "- 複数モデルを学習させ、それぞれの学習モデルの予測の平均値 or 中央値 or log平均を逆変換した値を返す"
   ]
  },
  {
   "cell_type": "code",
   "execution_count": 16,
   "metadata": {},
   "outputs": [
    {
     "data": {
      "image/png": "[encoded data removed]",
      "text/plain": [
       "<Figure size 864x72 with 1 Axes>"
      ]
     },
     "metadata": {
      "needs_background": "light"
     },
     "output_type": "display_data"
    }
   ],
   "source": [
    "pred_data = [i**2 for i in range(1, 10)]\n",
    "#数直線\n",
    "import pylab\n",
    "fig,ax=plt.subplots(figsize=(12, 12)) #画像サイズ\n",
    "fig.set_figheight(1) #高さ調整\n",
    "ax.tick_params(labelbottom=True, bottom=False) #x軸設定\n",
    "ax.tick_params(labelleft=False, left=False) #y軸設定\n",
    "y = [0] * len(pred_data)\n",
    "\n",
    "xmin, xmax= 0,100 #数直線の最小値・最大値\n",
    "plt.tight_layout() #グラフの自動調整\n",
    "plt.scatter(pred_data, y, c='r', marker='o', label='predict_data', alpha=0.5) #散布図\n",
    "plt.hlines(y=0,xmin=xmin,xmax=xmax, alpha=0.5) #横軸\n",
    "plt.vlines(x=np.mean(pred_data), ymin=-0.5, ymax=0.5, label='mean', colors='b')\n",
    "plt.vlines(x=np.median(pred_data), ymin=-0.5, ymax=0.5, label='median', colors='c')\n",
    "plt.vlines(x=np.exp(np.mean(np.log(pred_data))), ymin=-0.5, ymax=0.5, label='log_mean', colors='m')\n",
    "line_width=10 #目盛り数値の刻み幅\n",
    "plt.vlines(x=[i for i in range(xmin,xmax+1,10)],ymin=-0.1,ymax=0.1, alpha=0.5) #目盛り線（大）\n",
    "# plt.vlines(x=[i/10 for i in range(xmin*10,xmax*10+1,10)],ymin=-0.02,ymax=0.02) #目盛り線（小）\n",
    "plt.xticks(np.arange(xmin,xmax+line_width,line_width)) #目盛り数値\n",
    "plt.legend()\n",
    "plt.title('option_image')\n",
    "pylab.box(False) #枠を消す"
   ]
  },
  {
   "cell_type": "code",
   "execution_count": 17,
   "metadata": {},
   "outputs": [],
   "source": [
    "class ScratchBlendingModel():\n",
    "    '''\n",
    "    複数のモデルを学習させ、予測をするスクラッチを実装\n",
    "    \n",
    "    Parameters\n",
    "    -----\n",
    "    model : list\n",
    "      学習させたいモデルオブジェクトのリスト\n",
    "    option : 'meadian', 'mean'\n",
    "      予測値の出力方法\n",
    "    '''\n",
    "    def __init__(self, model, option='mean'):\n",
    "        #　ハイパーパラメーターを属性として記録\n",
    "        self.model = model\n",
    "        self.n_models = len(self.model)\n",
    "        self.option = option\n",
    "        \n",
    "    def fit(self, X, y):\n",
    "        '''\n",
    "        学習させたいモデルオブジェクトをそれぞれ学習させる\n",
    "        '''\n",
    "        for i in range(self.n_models):\n",
    "            self.model[i].fit(X, y)\n",
    "    \n",
    "    def predict(self, X, option=None):\n",
    "        '''\n",
    "        学習したモデルオブジェクトをそれぞれ予測し、オプションに応じて予測値を計算\n",
    "        option : 'meadian', 'mean'\n",
    "        予測値の出力方法\n",
    "        '''\n",
    "        if option is None:\n",
    "            option = self.option\n",
    "        \n",
    "        pred_array = np.zeros(self.n_models * X.shape[0]).reshape(self.n_models, -1)\n",
    "        for i in range(self.n_models):\n",
    "            pred_array[i] = self.model[i].predict(X)\n",
    "        \n",
    "        if option == 'mean':\n",
    "            return np.mean(pred_array, axis=0)\n",
    "        elif option == 'median':\n",
    "            return np.median(pred_array, axis=0)\n",
    "        elif option == 'log_mean':\n",
    "            pred_array_log = np.log(pred_array)\n",
    "            return np.exp(np.mean(pred_array_log, axis=0))"
   ]
  },
  {
   "cell_type": "code",
   "execution_count": 18,
   "metadata": {},
   "outputs": [],
   "source": [
    "# LinearRegression, SVR, DecisionTreeRegressor\n",
    "model1 = [lr, svr, dtr]"
   ]
  },
  {
   "cell_type": "code",
   "execution_count": 19,
   "metadata": {},
   "outputs": [
    {
     "name": "stdout",
     "output_type": "stream",
     "text": [
      "ScratchBlendingModel option_mean : 2,852,115,033\n",
      "ScratchBlendingModel option_median : 2,802,121,052\n",
      "ScratchBlendingModel option_log_mean : 2,789,205,606\n"
     ]
    }
   ],
   "source": [
    "scratch_bm = ScratchBlendingModel(model1)\n",
    "scratch_bm.fit(X_train, y_train)\n",
    "\n",
    "mse = mean_squared_error(y_test, scratch_bm.predict(X_test, option='mean'))\n",
    "print('ScratchBlendingModel option_mean : {:,.0f}'.format(mse))\n",
    "mse = mean_squared_error(y_test, scratch_bm.predict(X_test, option='median'))\n",
    "print('ScratchBlendingModel option_median : {:,.0f}'.format(mse))\n",
    "mse = mean_squared_error(y_test, scratch_bm.predict(X_test, option='log_mean'))\n",
    "print('ScratchBlendingModel option_log_mean : {:,.0f}'.format(mse))"
   ]
  },
  {
   "cell_type": "markdown",
   "metadata": {},
   "source": [
    "- 平均二乗誤差の改善が見られた\n",
    "- 元々平均二乗誤差の大きかったSVRを外して、他の回帰モデルを入れてみる"
   ]
  },
  {
   "cell_type": "code",
   "execution_count": 20,
   "metadata": {},
   "outputs": [],
   "source": [
    "# LinearRegression, Ridge, Lasso, Elastic_Net, SVR, KNeighborsRegressor, DecisionTreeRegressor\n",
    "model2 = [lr, ridge, lasso, en, svr, kn, dtr]"
   ]
  },
  {
   "cell_type": "code",
   "execution_count": 21,
   "metadata": {},
   "outputs": [
    {
     "name": "stdout",
     "output_type": "stream",
     "text": [
      "ScratchBlendingModel option_mean : 2,755,338,836\n",
      "ScratchBlendingModel option_median : 2,941,939,413\n",
      "ScratchBlendingModel option_log_mean : 2,740,303,291\n"
     ]
    }
   ],
   "source": [
    "scratch_bm = ScratchBlendingModel(model2)\n",
    "scratch_bm.fit(X_train, y_train)\n",
    "\n",
    "mse = mean_squared_error(y_test, scratch_bm.predict(X_test, option='mean'))\n",
    "print('ScratchBlendingModel option_mean : {:,.0f}'.format(mse))\n",
    "mse = mean_squared_error(y_test, scratch_bm.predict(X_test, option='median'))\n",
    "print('ScratchBlendingModel option_median : {:,.0f}'.format(mse))\n",
    "mse = mean_squared_error(y_test, scratch_bm.predict(X_test, option='log_mean'))\n",
    "print('ScratchBlendingModel option_log_mean : {:,.0f}'.format(mse))"
   ]
  },
  {
   "cell_type": "markdown",
   "metadata": {},
   "source": [
    "- それぞれの予測値の平均で計算すれば平均二乗誤差の改善が見られたが、大きな改善は見られなかった\n",
    "- 元のモデルの精度が悪いSVRを除外する"
   ]
  },
  {
   "cell_type": "code",
   "execution_count": 22,
   "metadata": {},
   "outputs": [],
   "source": [
    "### LinearRegression, Ridge, Lasso, Elastic_Net, KNeighborsRegressor, DecisionTreeRegressor\n",
    "model3 = [lr, ridge, lasso, en, kn, dtr]"
   ]
  },
  {
   "cell_type": "code",
   "execution_count": 23,
   "metadata": {},
   "outputs": [
    {
     "name": "stdout",
     "output_type": "stream",
     "text": [
      "ScratchBlendingModel option_mean : 2,590,231,317\n",
      "ScratchBlendingModel option_median : 2,942,002,354\n",
      "ScratchBlendingModel option_log_mean : 2,604,148,617\n"
     ]
    }
   ],
   "source": [
    "scratch_bm = ScratchBlendingModel(model3)\n",
    "scratch_bm.fit(X_train, y_train)\n",
    "\n",
    "mse = mean_squared_error(y_test, scratch_bm.predict(X_test, option='mean'))\n",
    "print('ScratchBlendingModel option_mean : {:,.0f}'.format(mse))\n",
    "mse = mean_squared_error(y_test, scratch_bm.predict(X_test, option='median'))\n",
    "print('ScratchBlendingModel option_median : {:,.0f}'.format(mse))\n",
    "mse = mean_squared_error(y_test, scratch_bm.predict(X_test, option='log_mean'))\n",
    "print('ScratchBlendingModel option_log_mean : {:,.0f}'.format(mse))"
   ]
  },
  {
   "cell_type": "markdown",
   "metadata": {},
   "source": [
    "- 過去の中で一番の改善が見られた\n",
    "- model3では、似たような線形モデルを複数使用しているため、過学習が進んでしまった可能性ある？"
   ]
  },
  {
   "cell_type": "code",
   "execution_count": 24,
   "metadata": {},
   "outputs": [],
   "source": [
    "### LinearRegression, DecisionTreeRegressor\n",
    "model4 = [lr, dtr]"
   ]
  },
  {
   "cell_type": "code",
   "execution_count": 25,
   "metadata": {},
   "outputs": [
    {
     "name": "stdout",
     "output_type": "stream",
     "text": [
      "ScratchBlendingModel option_mean : 2,430,337,776\n",
      "ScratchBlendingModel option_median : 2,430,337,776\n",
      "ScratchBlendingModel option_log_mean : 2,429,402,645\n"
     ]
    }
   ],
   "source": [
    "scratch_bm = ScratchBlendingModel(model4)\n",
    "scratch_bm.fit(X_train, y_train)\n",
    "\n",
    "mse = mean_squared_error(y_test, scratch_bm.predict(X_test, option='mean'))\n",
    "print('ScratchBlendingModel option_mean : {:,.0f}'.format(mse))\n",
    "mse = mean_squared_error(y_test, scratch_bm.predict(X_test, option='median'))\n",
    "print('ScratchBlendingModel option_median : {:,.0f}'.format(mse))\n",
    "mse = mean_squared_error(y_test, scratch_bm.predict(X_test, option='log_mean'))\n",
    "print('ScratchBlendingModel option_log_mean : {:,.0f}'.format(mse))"
   ]
  },
  {
   "cell_type": "markdown",
   "metadata": {},
   "source": [
    "- 線形回帰と決定木の組み合わせでスコアの改善が見られた\n",
    "- アルゴリズムの性格が異なるブレンドは有効であると考えられる"
   ]
  },
  {
   "cell_type": "markdown",
   "metadata": {},
   "source": [
    "### パターン2\n",
    "- 決定木の深さを指定したパターンを複数学習させ、予測値の平均or中央値を返す\n",
    "- 決定木はmax_depthのdefaultがNoneであるため、過学習が進んでしまっている可能性があると想定"
   ]
  },
  {
   "cell_type": "code",
   "execution_count": 26,
   "metadata": {},
   "outputs": [],
   "source": [
    "from sklearn.tree import DecisionTreeRegressor\n",
    "class ScratchBlendingDecisionTreeRegressor():\n",
    "    '''\n",
    "    指定した深さの決定木を複数を学習させ、予測をするスクラッチを実装\n",
    "    \n",
    "    Parameters\n",
    "    -----\n",
    "    depth_patterns : Iteration\n",
    "      決定木のmax_depthのパターン\n",
    "    random_state : int\n",
    "      乱数の設定\n",
    "    option : 'meadian', 'mean'\n",
    "      予測値の出力方法\n",
    "    '''\n",
    "    def __init__(self, depth_patterns, random_state=None, option='mean'):\n",
    "        #　ハイパーパラメーターを属性として記録\n",
    "        self.depth_patterns = sorted(list(depth_patterns))\n",
    "        self.random_state = random_state\n",
    "        self.option = option\n",
    "        # 学習器を格納する\n",
    "        self.model = []\n",
    "        # 学習した深さのパターン\n",
    "        self.max_depth = []\n",
    "        # 学習したモデルのパラメーターを保管する\n",
    "        self.feature_importances_ = []\n",
    "        \n",
    "    def fit(self, X, y):\n",
    "        '''\n",
    "        depth毎に学習させる\n",
    "        '''\n",
    "        for depth in self.depth_patterns:\n",
    "            dtr = DecisionTreeRegressor(random_state=self.random_state, max_depth=depth)\n",
    "            dtr.fit(X, y)\n",
    "            # 一つ前の学習器とパラメーターが同じの時はスキップ\n",
    "            if self.feature_importances_  and np.all(dtr.feature_importances_ == self.feature_importances_[-1]):\n",
    "                continue\n",
    "            else:\n",
    "                self.model.append(dtr)\n",
    "                self.max_depth.append(depth)\n",
    "                self.feature_importances_.append(dtr.feature_importances_)\n",
    "    \n",
    "    def predict(self, X, option=None):\n",
    "        '''\n",
    "        学習したモデルオブジェクトをそれぞれ予測し、オプションに応じて予測値を計算\n",
    "        option : 'meadian', 'mean'\n",
    "        予測値の出力方法\n",
    "        '''\n",
    "        if option is None:\n",
    "            option = self.option\n",
    "        \n",
    "        pred_array = np.zeros(len(self.max_depth) * X.shape[0]).reshape(len(self.max_depth), -1)\n",
    "        for i in range(len(self.max_depth)):\n",
    "            pred_array[i] = self.model[i].predict(X)\n",
    "        \n",
    "        if option == 'mean':\n",
    "            return np.mean(pred_array, axis=0)\n",
    "        elif option == 'median':\n",
    "            return np.median(pred_array, axis=0)\n",
    "        elif option == 'log_mean':\n",
    "            pred_array_log = np.log(pred_array)\n",
    "            return np.exp(np.mean(pred_array_log, axis=0))"
   ]
  },
  {
   "cell_type": "code",
   "execution_count": 27,
   "metadata": {},
   "outputs": [
    {
     "name": "stdout",
     "output_type": "stream",
     "text": [
      "max_depth_patterns : [2, 3, 4, 5, 6, 7, 8, 9, 10, 11, 12, 13, 14, 15, 16, 17, 18, 19, 20, 21, 22]\n",
      "ScratchBlendingModel option_mean : 2,243,646,061\n",
      "ScratchBlendingModel option_median : 2,751,875,991\n",
      "ScratchBlendingModel option_log_mean : 2,241,133,687\n"
     ]
    }
   ],
   "source": [
    "max_depth_patterns1 = range(2, 50)\n",
    "scratch_bdtr = ScratchBlendingDecisionTreeRegressor(max_depth_patterns1, random_state=0)\n",
    "scratch_bdtr.fit(X_train, y_train)\n",
    "print('max_depth_patterns : {}'.format(scratch_bdtr.max_depth))\n",
    "\n",
    "mse = mean_squared_error(y_test, scratch_bdtr.predict(X_test, option='mean'))\n",
    "print('ScratchBlendingModel option_mean : {:,.0f}'.format(mse))\n",
    "mse = mean_squared_error(y_test, scratch_bdtr.predict(X_test, option='median'))\n",
    "print('ScratchBlendingModel option_median : {:,.0f}'.format(mse))\n",
    "mse = mean_squared_error(y_test, scratch_bdtr.predict(X_test, option='log_mean'))\n",
    "print('ScratchBlendingModel option_log_mean : {:,.0f}'.format(mse))"
   ]
  },
  {
   "cell_type": "markdown",
   "metadata": {},
   "source": [
    "- max_depthが22前後で学習が止まっている様子が伺える\n",
    "- defaultパラメーターの１つの決定木より、平均二乗誤差は改善している\n",
    "- max_depthの刻む幅を広げてみる"
   ]
  },
  {
   "cell_type": "code",
   "execution_count": 28,
   "metadata": {},
   "outputs": [
    {
     "name": "stdout",
     "output_type": "stream",
     "text": [
      "max_depth_patterns : [2, 5, 8, 11, 14, 17, 20, 23]\n",
      "ScratchBlendingModel option_mean : 2,228,793,107\n",
      "ScratchBlendingModel option_median : 2,645,679,208\n",
      "ScratchBlendingModel option_log_mean : 2,226,795,117\n"
     ]
    }
   ],
   "source": [
    "max_depth_patterns2 = range(2, 50, 3)\n",
    "scratch_bdtr = ScratchBlendingDecisionTreeRegressor(max_depth_patterns2, random_state=0)\n",
    "scratch_bdtr.fit(X_train, y_train)\n",
    "print('max_depth_patterns : {}'.format(scratch_bdtr.max_depth))\n",
    "\n",
    "mse = mean_squared_error(y_test, scratch_bdtr.predict(X_test, option='mean'))\n",
    "print('ScratchBlendingModel option_mean : {:,.0f}'.format(mse))\n",
    "mse = mean_squared_error(y_test, scratch_bdtr.predict(X_test, option='median'))\n",
    "print('ScratchBlendingModel option_median : {:,.0f}'.format(mse))\n",
    "mse = mean_squared_error(y_test, scratch_bdtr.predict(X_test, option='log_mean'))\n",
    "print('ScratchBlendingModel option_log_mean : {:,.0f}'.format(mse))"
   ]
  },
  {
   "cell_type": "markdown",
   "metadata": {},
   "source": [
    "- 多少改善したが、pattern1と比較して大きな改善は見受けられない"
   ]
  },
  {
   "cell_type": "code",
   "execution_count": 29,
   "metadata": {},
   "outputs": [
    {
     "name": "stdout",
     "output_type": "stream",
     "text": [
      "max_depth_patterns : [2, 4, 8, 16, 32]\n",
      "ScratchBlendingModel option_mean : 2,148,030,416\n",
      "ScratchBlendingModel option_median : 2,276,408,904\n",
      "ScratchBlendingModel option_log_mean : 2,200,205,332\n"
     ]
    }
   ],
   "source": [
    "max_depth_patterns3 = [2**i for i in range(1, 50)]\n",
    "scratch_bdtr = ScratchBlendingDecisionTreeRegressor(max_depth_patterns3, random_state=0)\n",
    "scratch_bdtr.fit(X_train, y_train)\n",
    "print('max_depth_patterns : {}'.format(scratch_bdtr.max_depth))\n",
    "\n",
    "mse = mean_squared_error(y_test, scratch_bdtr.predict(X_test, option='mean'))\n",
    "print('ScratchBlendingModel option_mean : {:,.0f}'.format(mse))\n",
    "mse = mean_squared_error(y_test, scratch_bdtr.predict(X_test, option='median'))\n",
    "print('ScratchBlendingModel option_median : {:,.0f}'.format(mse))\n",
    "mse = mean_squared_error(y_test, scratch_bdtr.predict(X_test, option='log_mean'))\n",
    "print('ScratchBlendingModel option_log_mean : {:,.0f}'.format(mse))"
   ]
  },
  {
   "cell_type": "markdown",
   "metadata": {},
   "source": [
    "- 更に僅かな改善が見られた\n",
    "- 決定木モデルは、depthを深くしすぎないで、バランスよく学習に織り交ぜることが重要"
   ]
  },
  {
   "cell_type": "markdown",
   "metadata": {},
   "source": [
    "### パターン3\n",
    "- 特徴量、目的変数をいくつかのパターンで scaleさせて予測値を算出する\n",
    "- 特徴量\n",
    "    - Not_scale\n",
    "    - log_scale\n",
    "    - Standard_scale\n",
    "    - Robust_Scale\n",
    "- 目的変数\n",
    "    - Not_scale\n",
    "    - log_scale\n",
    "    - root_scale\n",
    "    - reciprocal_scale"
   ]
  },
  {
   "cell_type": "code",
   "execution_count": 30,
   "metadata": {},
   "outputs": [],
   "source": [
    "from copy import deepcopy\n",
    "class ScratchBlendingScale():\n",
    "    '''\n",
    "    目的変数、特徴量を複数パターンでscale、学習させ、予測をするスクラッチを実装\n",
    "    \n",
    "    Parameters\n",
    "    -----\n",
    "    　X_scale : iterable\n",
    "      scaleするパターン　'not', 'log', 'std', 'robust'\n",
    "    y_sclale : iterable\n",
    "      scaleするパターン　'not', 'log', 'root', 'recipropal'\n",
    "    '''\n",
    "    def __init__(self, model, X_scale=['not', 'log'], y_scale=['not', 'log'], option='mean'):\n",
    "        #　ハイパーパラメーターを属性として記録\n",
    "        self.model = model\n",
    "        self.X_scale = X_scale\n",
    "        self.y_scale = y_scale\n",
    "        self.option = option\n",
    "        # 学習したモデルを保管するリスト\n",
    "        self.models_lst = []\n",
    "        # scaleしたパターンを保管するリスト(X_scale, y_scale)\n",
    "        self.scale_patterns = []\n",
    "        # std, robust　のためのオブジェクト\n",
    "        self.std = None\n",
    "        self.robust = None\n",
    "        \n",
    "    def fit(self, X_train, y_train):\n",
    "        '''\n",
    "        それぞれデータをスケールさせて学習させる\n",
    "        '''\n",
    "        \n",
    "        for x in self.X_scale:\n",
    "            # 変換させるXをコピー\n",
    "            X_copy = deepcopy(X_train)\n",
    "            \n",
    "            # X_scaleのパターンに応じてX_copyを変換\n",
    "            if x == 'not':\n",
    "                X_scl = X_copy\n",
    "            elif x == 'log':\n",
    "                X_scl = np.log(X_copy)\n",
    "            elif x == 'std':\n",
    "                from sklearn.preprocessing import StandardScaler\n",
    "                self.std = StandardScaler()\n",
    "                X_scl = self.std.fit_transform(X_copy)\n",
    "            elif x == 'robust':\n",
    "                from sklearn.preprocessing import RobustScaler\n",
    "                self.robust = RobustScaler()\n",
    "                X_scl = self.robust.fit_transform(X_copy)\n",
    "\n",
    "            for y in self.y_scale:\n",
    "                #　変換させるyをコピー\n",
    "                y_copy = deepcopy(y_train)\n",
    "                    \n",
    "                # y_scaleのパターンに応じてy_copyを変換\n",
    "                if y == 'not':\n",
    "                    y_scl = y_copy\n",
    "                elif y == 'log':\n",
    "                    y_scl = np.log(y_copy)\n",
    "                elif y == 'root':\n",
    "                    y_scl = np.sqrt(y_copy)\n",
    "                elif y == 'reciprocal':\n",
    "                    y_scl = np.reciprocal(y_copy, dtype=np.float64)\n",
    "                \n",
    "                # modelを呼び出し、学習\n",
    "                model = deepcopy(self.model)\n",
    "                model.fit(X_scl, y_scl)\n",
    "                #　モデルのインスタンスと変換パターンをリストへ\n",
    "                self.models_lst.append(model)\n",
    "                self.scale_patterns.append((x, y))\n",
    "    \n",
    "    def predict(self, X_test, option=None):\n",
    "        '''\n",
    "        学習したモデルオブジェクト、それぞれの変換パターンで予測\n",
    "        オプションに応じて予測値を計算\n",
    "        \n",
    "        option : 'meadian', 'mean'\n",
    "        予測値の出力方法\n",
    "        '''\n",
    "        if option is None:\n",
    "            option = self.option\n",
    "        \n",
    "        pred_array = np.zeros(len(self.models_lst) * X_test.shape[0]).reshape(-1, X_test.shape[0])\n",
    "        \n",
    "        for i in range(len(self.models_lst)):\n",
    "            #　x、yの変換パターンを呼び出す\n",
    "            x, y = self.scale_patterns[i]\n",
    "            #　Xをデータ変換\n",
    "            X_copy = deepcopy(X_test)\n",
    "            # xのパターンに応じて変換\n",
    "            if x == 'not':\n",
    "                X_scl = X_copy\n",
    "            elif x == 'log':\n",
    "                X_scl = np.log(X_copy)\n",
    "            elif x == 'std':\n",
    "                X_scl = self.std.transform(X_copy)\n",
    "            elif x == 'robust':\n",
    "                X_scl = self.robust.transform(X_copy)\n",
    "            \n",
    "            # 変換したデータをもとに予測\n",
    "            pred = self.models_lst[i].predict(X_scl)\n",
    "            # yのパターンに応じて逆変換\n",
    "            if y == 'not':\n",
    "                pred_scl = pred\n",
    "            elif y == 'log':\n",
    "                pred_scl = np.exp(pred)\n",
    "            elif y == 'root':\n",
    "                pred_scl = np.power(pred, 2)\n",
    "            elif y == 'reciprocal':\n",
    "                pred_scl = 1 / pred\n",
    "            \n",
    "            #予測した結果を保管\n",
    "            pred_array[i] = pred_scl\n",
    "        self.check = pred_array\n",
    "        if option == 'mean':\n",
    "            return np.mean(pred_array, axis=0)\n",
    "        elif option == 'median':\n",
    "            return np.median(pred_array, axis=0)\n",
    "        elif option == 'log_mean':\n",
    "            pred_array_log = np.log(pred_array)\n",
    "            return np.exp(np.mean(pred_array_log, axis=0))"
   ]
  },
  {
   "cell_type": "code",
   "execution_count": 31,
   "metadata": {},
   "outputs": [],
   "source": [
    "def test_calc(x, y, X_train, y_train, X_test, model):\n",
    "    # return predict\n",
    "    \n",
    "    # X_scaleのパターンに応じてXを変換\n",
    "    if x == 'not':\n",
    "        X_train = X_train\n",
    "        X_test = X_test\n",
    "    elif x == 'log':\n",
    "        X_train = np.log(X_train)\n",
    "        X_test = np.log(X_test)\n",
    "    elif x == 'std':\n",
    "        from sklearn.preprocessing import StandardScaler\n",
    "        std = StandardScaler()\n",
    "        X_train = std.fit_transform(X_train)\n",
    "        X_test = std.transform(X_test)\n",
    "    elif x == 'robust':\n",
    "        from sklearn.preprocessing import RobustScaler\n",
    "        robust = RobustScaler()\n",
    "        X_train = robust.fit_transform(X_train)\n",
    "        X_test = robust.transform(X_test)\n",
    "        \n",
    "    # y_scaleのパターンに応じてyを変換、学習と予測\n",
    "    if y == 'not':\n",
    "        y_train = y_train\n",
    "        pred = model.fit(X_train, y_train).predict(X_test)\n",
    "        return pred\n",
    "    elif y == 'log':\n",
    "        y_train = np.log(y_train)\n",
    "        pred = model.fit(X_train, y_train).predict(X_test)\n",
    "        return np.exp(pred)\n",
    "    elif y == 'root':\n",
    "        y_train = np.sqrt(y_train)\n",
    "        pred = model.fit(X_train, y_train).predict(X_test)\n",
    "        return np.power(pred, 2)\n",
    "    elif y == 'reciprocal':\n",
    "        y_train = np.reciprocal(y_train, dtype=np.float64)\n",
    "        pred = model.fit(X_train, y_train).predict(X_test)\n",
    "        return 1 / pred"
   ]
  },
  {
   "cell_type": "markdown",
   "metadata": {},
   "source": [
    "- 線形回帰で複数のscaleパターンを試してみる"
   ]
  },
  {
   "cell_type": "code",
   "execution_count": 32,
   "metadata": {},
   "outputs": [
    {
     "name": "stdout",
     "output_type": "stream",
     "text": [
      "SingleModel X_scale : not, y_scale : not , mse : 2,942,066,922\n",
      "SingleModel X_scale : not, y_scale : log , mse : 8,652,238,180\n",
      "SingleModel X_scale : not, y_scale : root , mse : 3,421,486,609\n",
      "SingleModel X_scale : not, y_scale : reciprocal , mse : 9,295,043,507,768\n",
      "SingleModel X_scale : log, y_scale : not , mse : 2,900,226,699\n",
      "SingleModel X_scale : log, y_scale : log , mse : 2,729,954,884\n",
      "SingleModel X_scale : log, y_scale : root , mse : 2,708,898,159\n",
      "SingleModel X_scale : log, y_scale : reciprocal , mse : 374,568,576,725\n",
      "SingleModel X_scale : std, y_scale : not , mse : 2,942,066,922\n",
      "SingleModel X_scale : std, y_scale : log , mse : 8,652,238,180\n",
      "SingleModel X_scale : std, y_scale : root , mse : 3,421,486,609\n",
      "SingleModel X_scale : std, y_scale : reciprocal , mse : 9,295,043,507,767\n",
      "SingleModel X_scale : robust, y_scale : not , mse : 2,942,066,922\n",
      "SingleModel X_scale : robust, y_scale : log , mse : 8,652,238,180\n",
      "SingleModel X_scale : robust, y_scale : root , mse : 3,421,486,609\n",
      "SingleModel X_scale : robust, y_scale : reciprocal , mse : 9,295,043,507,766\n",
      "ScratchBlendingScale option_mean : 337,230,650,721\n",
      "X_scale : ['not', 'log', 'std', 'robust'], y_scale : ['not', 'log', 'root', 'reciprocal']\n",
      "ScratchBlendingScale option_median : 2,795,670,362\n",
      "X_scale : ['not', 'log', 'std', 'robust'], y_scale : ['not', 'log', 'root', 'reciprocal']\n"
     ]
    }
   ],
   "source": [
    "model = LinearRegression()\n",
    "X_scale = ['not', 'log', 'std', 'robust']\n",
    "y_scale = ['not', 'log', 'root', 'reciprocal']\n",
    "\n",
    "for x in X_scale:\n",
    "    for y in y_scale:\n",
    "        pred = test_calc(x, y, X_train, y_train, X_test, model)\n",
    "        mse = mean_squared_error(y_test, pred)\n",
    "        print('SingleModel X_scale : {}, y_scale : {} , mse : {:,.0f}'.format(x, y, mse))\n",
    "\n",
    "scratch_bscl = ScratchBlendingScale(model, X_scale, y_scale)\n",
    "scratch_bscl.fit(X_train, y_train)\n",
    "\n",
    "mse = mean_squared_error(y_test, scratch_bscl.predict(X_test, option='mean'))\n",
    "print('ScratchBlendingScale option_mean : {:,.0f}'.format(mse))\n",
    "print('X_scale : {}, y_scale : {}'.format(X_scale, y_scale))\n",
    "mse = mean_squared_error(y_test, scratch_bscl.predict(X_test, option='median'))\n",
    "print('ScratchBlendingScale option_median : {:,.0f}'.format(mse))\n",
    "print('X_scale : {}, y_scale : {}'.format(X_scale, y_scale))"
   ]
  },
  {
   "cell_type": "markdown",
   "metadata": {},
   "source": [
    "- 誤差が大きく出ているy_scale : log, y_scale : reciprocal　を除外して再度トライ"
   ]
  },
  {
   "cell_type": "code",
   "execution_count": 33,
   "metadata": {},
   "outputs": [
    {
     "name": "stdout",
     "output_type": "stream",
     "text": [
      "SingleModel X_scale : not, y_scale : not , mse : 2,942,066,922\n",
      "SingleModel X_scale : not, y_scale : root , mse : 3,421,486,609\n",
      "SingleModel X_scale : log, y_scale : not , mse : 2,900,226,699\n",
      "SingleModel X_scale : log, y_scale : root , mse : 2,708,898,159\n",
      "SingleModel X_scale : std, y_scale : not , mse : 2,942,066,922\n",
      "SingleModel X_scale : std, y_scale : root , mse : 3,421,486,609\n",
      "SingleModel X_scale : robust, y_scale : not , mse : 2,942,066,922\n",
      "SingleModel X_scale : robust, y_scale : root , mse : 3,421,486,609\n",
      "ScratchBlendingScale option_mean : 2,959,968,809\n",
      "X_scale : ['not', 'log', 'std', 'robust'], y_scale : ['not', 'root']\n",
      "ScratchBlendingScale option_median : 2,886,008,985\n",
      "X_scale : ['not', 'log', 'std', 'robust'], y_scale : ['not', 'root']\n"
     ]
    }
   ],
   "source": [
    "model = LinearRegression()\n",
    "X_scale = ['not', 'log', 'std', 'robust']\n",
    "y_scale = ['not', 'root'] #'log'　'reciprocal'を消去\n",
    "\n",
    "for x in X_scale:\n",
    "    for y in y_scale:\n",
    "        pred = test_calc(x, y, X_train, y_train, X_test, model)\n",
    "        mse = mean_squared_error(y_test, pred)\n",
    "        print('SingleModel X_scale : {}, y_scale : {} , mse : {:,.0f}'.format(x, y, mse))\n",
    "\n",
    "scratch_bscl = ScratchBlendingScale(model, X_scale, y_scale)\n",
    "scratch_bscl.fit(X_train, y_train)\n",
    "\n",
    "mse = mean_squared_error(y_test, scratch_bscl.predict(X_test, option='mean'))\n",
    "print('ScratchBlendingScale option_mean : {:,.0f}'.format(mse))\n",
    "print('X_scale : {}, y_scale : {}'.format(X_scale, y_scale))\n",
    "mse = mean_squared_error(y_test, scratch_bscl.predict(X_test, option='median'))\n",
    "print('ScratchBlendingScale option_median : {:,.0f}'.format(mse))\n",
    "print('X_scale : {}, y_scale : {}'.format(X_scale, y_scale))"
   ]
  },
  {
   "cell_type": "markdown",
   "metadata": {},
   "source": [
    "- 何もスケールさせていない単一モデルと比較して誤差に僅かな改善が見られたが、X_scale : log, y_scale : root　がベストスコアとなっている\n",
    "- 線形回帰では、誤差を二乗を最小化するアルゴリズムであり、特徴量を標準化させた結果が反映されない\n",
    "- 距離ベースのKneighborsで試してみる"
   ]
  },
  {
   "cell_type": "code",
   "execution_count": 34,
   "metadata": {},
   "outputs": [
    {
     "name": "stdout",
     "output_type": "stream",
     "text": [
      "SingleModel X_scale : not, y_scale : not , mse : 3,119,613,674\n",
      "SingleModel X_scale : not, y_scale : log , mse : 3,064,531,064\n",
      "SingleModel X_scale : not, y_scale : root , mse : 3,081,850,943\n",
      "SingleModel X_scale : not, y_scale : reciprocal , mse : 3,089,586,481\n",
      "SingleModel X_scale : log, y_scale : not , mse : 3,091,937,444\n",
      "SingleModel X_scale : log, y_scale : log , mse : 3,050,125,769\n",
      "SingleModel X_scale : log, y_scale : root , mse : 3,061,034,862\n",
      "SingleModel X_scale : log, y_scale : reciprocal , mse : 3,085,800,239\n",
      "SingleModel X_scale : std, y_scale : not , mse : 2,138,338,489\n",
      "SingleModel X_scale : std, y_scale : log , mse : 2,133,377,649\n",
      "SingleModel X_scale : std, y_scale : root , mse : 2,128,420,862\n",
      "SingleModel X_scale : std, y_scale : reciprocal , mse : 2,192,190,544\n",
      "SingleModel X_scale : robust, y_scale : not , mse : 2,094,304,284\n",
      "SingleModel X_scale : robust, y_scale : log , mse : 2,096,472,906\n",
      "SingleModel X_scale : robust, y_scale : root , mse : 2,086,823,558\n",
      "SingleModel X_scale : robust, y_scale : reciprocal , mse : 2,170,541,724\n",
      "ScratchBlendingScale option_mean : 2,338,934,777\n",
      "X_scale : ['not', 'log', 'std', 'robust'], y_scale : ['not', 'log', 'root', 'reciprocal']\n",
      "ScratchBlendingScale option_median : 2,365,095,878\n",
      "X_scale : ['not', 'log', 'std', 'robust'], y_scale : ['not', 'log', 'root', 'reciprocal']\n"
     ]
    }
   ],
   "source": [
    "model = KNeighborsRegressor()\n",
    "X_scale = ['not', 'log', 'std', 'robust']\n",
    "y_scale = ['not', 'log', 'root', 'reciprocal']\n",
    "\n",
    "for x in X_scale:\n",
    "    for y in y_scale:\n",
    "        pred = test_calc(x, y, X_train, y_train, X_test, model)\n",
    "        mse = mean_squared_error(y_test, pred)\n",
    "        print('SingleModel X_scale : {}, y_scale : {} , mse : {:,.0f}'.format(x, y, mse))\n",
    "\n",
    "scratch_bscl = ScratchBlendingScale(model, X_scale, y_scale)\n",
    "scratch_bscl.fit(X_train, y_train)\n",
    "\n",
    "mse = mean_squared_error(y_test, scratch_bscl.predict(X_test, option='mean'))\n",
    "print('ScratchBlendingScale option_mean : {:,.0f}'.format(mse))\n",
    "print('X_scale : {}, y_scale : {}'.format(X_scale, y_scale))\n",
    "mse = mean_squared_error(y_test, scratch_bscl.predict(X_test, option='median'))\n",
    "print('ScratchBlendingScale option_median : {:,.0f}'.format(mse))\n",
    "print('X_scale : {}, y_scale : {}'.format(X_scale, y_scale))"
   ]
  },
  {
   "cell_type": "markdown",
   "metadata": {},
   "source": [
    "- 距離ベースのアルゴリズムであるので、特徴量を標準化させた効果は大きく出ているが、y_scaleの効果はほとんど異なっていないように思われる"
   ]
  },
  {
   "cell_type": "markdown",
   "metadata": {},
   "source": [
    "## 【問題2】バギングのスクラッチ実装\n",
    "\n",
    "**バギング** をスクラッチ実装し、単一モデルより精度があがる例を 最低1つ 示してください。\n",
    "\n",
    "## バギングとは\n",
    "\n",
    "バギングは入力データの選び方を多様化する方法です。学習データから重複を許した上でランダムに抜き出すことで、N種類のサブセット（ **ブートストラップサンプル** ）を作り出します。それらによってモデルをN個学習し、推定結果の平均をとります。ブレンディングと異なり、それぞれの重み付けを変えることはありません。\n",
    "\n",
    "[sklearn.model_selection.train_test_split — scikit-learn 0.21.3 documentation](https://scikit-learn.org/stable/modules/generated/sklearn.model_selection.train_test_split.html)\n",
    "\n",
    "scikit-learnのtrain_test_splitを、shuffleパラメータをTrueにして使うことで、ランダムにデータを分割することができます。これによりブートストラップサンプルが手に入ります。\n",
    "\n",
    "推定結果の平均をとる部分はブースティングと同様の実装になります。"
   ]
  },
  {
   "cell_type": "code",
   "execution_count": 35,
   "metadata": {},
   "outputs": [],
   "source": [
    "from copy import deepcopy\n",
    "class ScratchBagging():\n",
    "    '''\n",
    "    複数のモデルを学習させ、予測をするスクラッチを実装\n",
    "    \n",
    "    Parameters\n",
    "    -----\n",
    "    model : object\n",
    "      学習させたいモデルのオブジェクト\n",
    "    n_boostrap :\n",
    "    　　ブーストラップサンプルの数\n",
    "    '''\n",
    "    def __init__(self, model, n_boostrap, random_state=None):\n",
    "        #　ハイパーパラメーターを属性として記録\n",
    "        self.model = model\n",
    "        # ブーストラップサンプルの数\n",
    "        self.n_boostrap = n_boostrap\n",
    "        # 乱数を設定\n",
    "        self.random_state=random_state\n",
    "        #　学習したモデルを格納するリスト\n",
    "        self.model_lst = None\n",
    "        \n",
    "    def fit(self, X, y):\n",
    "        '''\n",
    "        学習するオブジェクトをn_boostrap回、学習させる\n",
    "        '''\n",
    "        \n",
    "        self.model_lst = []\n",
    "        \n",
    "        # KFoldクラスでクロスバリデーションを行うためインポート\n",
    "        from sklearn.model_selection import KFold\n",
    "        \n",
    "        # KFold　のオブジェクトを作成\n",
    "        kf = KFold(n_splits=self.n_boostrap, shuffle=True, random_state=self.random_state)\n",
    "        \n",
    "        #　ランダムに学習用のインデックスを取得してデータを割り当て\n",
    "        for _, random_index in kf.split(X):\n",
    "            # 学習して、モデルをリストへ格納\n",
    "            model = deepcopy(self.model)\n",
    "            model.fit(X[random_index], y[random_index])\n",
    "            self.model_lst.append(model)\n",
    "    \n",
    "    def predict(self, X):\n",
    "        '''\n",
    "        学習したモデルオブジェクトをそれぞれ予測し、平均の予測値を計算\n",
    "        '''\n",
    "        \n",
    "        pred_array = np.zeros(self.n_boostrap * X.shape[0]).reshape(self.n_boostrap, -1)\n",
    "        for i in range(self.n_boostrap):\n",
    "            pred_array[i] = self.model_lst[i].predict(X)\n",
    "        \n",
    "        return np.mean(pred_array, axis=0)"
   ]
  },
  {
   "cell_type": "markdown",
   "metadata": {},
   "source": [
    "- 各モデルでループを回し、単一モデルの誤差を下回ったものを出力"
   ]
  },
  {
   "cell_type": "code",
   "execution_count": 36,
   "metadata": {},
   "outputs": [
    {
     "name": "stdout",
     "output_type": "stream",
     "text": [
      "LinearRegression 単一モデルの平均二乗誤差\n",
      "SingleModel : 2,942,066,922\n",
      "ScratchBagging n_boostrap=2 : 2,939,013,766\n",
      "ScratchBagging n_boostrap=4 : 2,939,500,375\n",
      "ScratchBagging n_boostrap=7 : 2,927,563,129\n",
      "ScratchBagging n_boostrap=8 : 2,939,800,900\n",
      "ScratchBagging n_boostrap=11 : 2,940,409,162\n",
      "ScratchBagging n_boostrap=12 : 2,935,733,689\n",
      "ScratchBagging n_boostrap=14 : 2,927,913,830\n",
      "ScratchBagging n_boostrap=17 : 2,918,959,473\n",
      "ScratchBagging n_boostrap=19 : 2,940,698,704\n",
      "ScratchBagging n_boostrap=21 : 2,921,870,753\n",
      "ScratchBagging n_boostrap=22 : 2,930,492,221\n",
      "ScratchBagging n_boostrap=24 : 2,932,495,134\n",
      "ScratchBagging n_boostrap=25 : 2,936,268,102\n",
      "ScratchBagging n_boostrap=26 : 2,930,133,474\n",
      "ScratchBagging n_boostrap=27 : 2,937,233,083\n",
      "ScratchBagging n_boostrap=28 : 2,930,169,733\n",
      "ScratchBagging n_boostrap=29 : 2,926,695,988\n"
     ]
    }
   ],
   "source": [
    "print('LinearRegression 単一モデルの平均二乗誤差')\n",
    "print('SingleModel : {:,.0f}'.format(lr_mse))\n",
    "\n",
    "for n_boostrap in range(2, 30):\n",
    "    scratch_bagging = ScratchBagging(model=lr, n_boostrap=n_boostrap, random_state=0)\n",
    "    scratch_bagging.fit(X_train, y_train)\n",
    "    mse = mean_squared_error(y_test, scratch_bagging.predict(X_test))\n",
    "    if mse < lr_mse:\n",
    "        print('ScratchBagging n_boostrap={} : {:,.0f}'.format(n_boostrap, mse))"
   ]
  },
  {
   "cell_type": "code",
   "execution_count": 37,
   "metadata": {},
   "outputs": [
    {
     "name": "stdout",
     "output_type": "stream",
     "text": [
      "Ridge 単一モデルの平均二乗誤差\n",
      "SingleModel : 2,942,067,018\n",
      "ScratchBagging n_boostrap=2 : 2,939,013,942\n",
      "ScratchBagging n_boostrap=4 : 2,939,500,725\n",
      "ScratchBagging n_boostrap=7 : 2,927,563,879\n",
      "ScratchBagging n_boostrap=8 : 2,939,801,464\n",
      "ScratchBagging n_boostrap=11 : 2,940,409,997\n",
      "ScratchBagging n_boostrap=12 : 2,935,734,456\n",
      "ScratchBagging n_boostrap=14 : 2,927,914,878\n",
      "ScratchBagging n_boostrap=17 : 2,918,959,967\n",
      "ScratchBagging n_boostrap=19 : 2,940,700,323\n",
      "ScratchBagging n_boostrap=21 : 2,921,872,535\n",
      "ScratchBagging n_boostrap=22 : 2,930,493,990\n",
      "ScratchBagging n_boostrap=24 : 2,932,497,468\n",
      "ScratchBagging n_boostrap=25 : 2,936,270,689\n",
      "ScratchBagging n_boostrap=26 : 2,930,135,535\n",
      "ScratchBagging n_boostrap=27 : 2,937,235,459\n",
      "ScratchBagging n_boostrap=28 : 2,930,172,257\n",
      "ScratchBagging n_boostrap=29 : 2,926,698,591\n"
     ]
    }
   ],
   "source": [
    "print('Ridge 単一モデルの平均二乗誤差')\n",
    "print('SingleModel : {:,.0f}'.format(ridge_mse))\n",
    "\n",
    "for n_boostrap in range(2, 30):\n",
    "    scratch_bagging = ScratchBagging(model=ridge, n_boostrap=n_boostrap, random_state=0)\n",
    "    scratch_bagging.fit(X_train, y_train)\n",
    "    mse = mean_squared_error(y_test, scratch_bagging.predict(X_test))\n",
    "    if mse < ridge_mse:\n",
    "        print('ScratchBagging n_boostrap={} : {:,.0f}'.format(n_boostrap, mse))"
   ]
  },
  {
   "cell_type": "code",
   "execution_count": 38,
   "metadata": {},
   "outputs": [
    {
     "name": "stdout",
     "output_type": "stream",
     "text": [
      "Lasso 単一モデルの平均二乗誤差\n",
      "SingleModel : 2,942,067,002\n",
      "ScratchBagging n_boostrap=2 : 2,939,013,835\n",
      "ScratchBagging n_boostrap=4 : 2,939,500,448\n",
      "ScratchBagging n_boostrap=7 : 2,927,563,235\n",
      "ScratchBagging n_boostrap=8 : 2,939,800,955\n",
      "ScratchBagging n_boostrap=11 : 2,940,409,218\n",
      "ScratchBagging n_boostrap=12 : 2,935,733,732\n",
      "ScratchBagging n_boostrap=14 : 2,927,913,895\n",
      "ScratchBagging n_boostrap=17 : 2,918,959,491\n",
      "ScratchBagging n_boostrap=19 : 2,940,698,793\n",
      "ScratchBagging n_boostrap=21 : 2,921,870,829\n",
      "ScratchBagging n_boostrap=22 : 2,930,492,284\n",
      "ScratchBagging n_boostrap=24 : 2,932,495,226\n",
      "ScratchBagging n_boostrap=25 : 2,936,268,198\n",
      "ScratchBagging n_boostrap=26 : 2,930,133,545\n",
      "ScratchBagging n_boostrap=27 : 2,937,233,165\n",
      "ScratchBagging n_boostrap=28 : 2,930,169,824\n",
      "ScratchBagging n_boostrap=29 : 2,926,696,074\n"
     ]
    }
   ],
   "source": [
    "print('Lasso 単一モデルの平均二乗誤差')\n",
    "print('SingleModel : {:,.0f}'.format(lasso_mse))\n",
    "\n",
    "for n_boostrap in range(2, 30):\n",
    "    scratch_bagging = ScratchBagging(model=lasso, n_boostrap=n_boostrap, random_state=0)\n",
    "    scratch_bagging.fit(X_train, y_train)\n",
    "    mse = mean_squared_error(y_test, scratch_bagging.predict(X_test))\n",
    "    if mse < lasso_mse:\n",
    "        print('ScratchBagging n_boostrap={} : {:,.0f}'.format(n_boostrap, mse))"
   ]
  },
  {
   "cell_type": "code",
   "execution_count": 39,
   "metadata": {},
   "outputs": [
    {
     "name": "stdout",
     "output_type": "stream",
     "text": [
      "ElasticNet 単一モデルの平均二乗誤差\n",
      "SingleModel : 2,942,123,470\n",
      "ScratchBagging n_boostrap=2 : 2,939,065,541\n",
      "ScratchBagging n_boostrap=4 : 2,939,551,803\n",
      "ScratchBagging n_boostrap=7 : 2,927,625,982\n",
      "ScratchBagging n_boostrap=8 : 2,939,842,400\n",
      "ScratchBagging n_boostrap=11 : 2,940,453,756\n",
      "ScratchBagging n_boostrap=12 : 2,935,771,263\n",
      "ScratchBagging n_boostrap=14 : 2,927,957,790\n",
      "ScratchBagging n_boostrap=17 : 2,918,976,736\n",
      "ScratchBagging n_boostrap=19 : 2,940,748,587\n",
      "ScratchBagging n_boostrap=21 : 2,921,920,464\n",
      "ScratchBagging n_boostrap=22 : 2,930,539,487\n",
      "ScratchBagging n_boostrap=24 : 2,932,552,107\n",
      "ScratchBagging n_boostrap=25 : 2,936,328,895\n",
      "ScratchBagging n_boostrap=26 : 2,930,180,081\n",
      "ScratchBagging n_boostrap=27 : 2,937,284,609\n",
      "ScratchBagging n_boostrap=28 : 2,930,222,707\n",
      "ScratchBagging n_boostrap=29 : 2,926,748,543\n"
     ]
    }
   ],
   "source": [
    "print('ElasticNet 単一モデルの平均二乗誤差')\n",
    "print('SingleModel : {:,.0f}'.format(en_mse))\n",
    "\n",
    "for n_boostrap in range(2, 30):\n",
    "    scratch_bagging = ScratchBagging(model=en, n_boostrap=n_boostrap, random_state=0)\n",
    "    scratch_bagging.fit(X_train, y_train)\n",
    "    mse = mean_squared_error(y_test, scratch_bagging.predict(X_test))\n",
    "    if mse < en_mse:\n",
    "        print('ScratchBagging n_boostrap={} : {:,.0f}'.format(n_boostrap, mse))"
   ]
  },
  {
   "cell_type": "code",
   "execution_count": 40,
   "metadata": {},
   "outputs": [
    {
     "name": "stdout",
     "output_type": "stream",
     "text": [
      "SVR 単一モデルの平均二乗誤差\n",
      "SingleModel : 4,874,222,158\n"
     ]
    }
   ],
   "source": [
    "print('SVR 単一モデルの平均二乗誤差')\n",
    "print('SingleModel : {:,.0f}'.format(svr_mse))\n",
    "\n",
    "for n_boostrap in range(2, 30):\n",
    "    scratch_bagging = ScratchBagging(model=svr, n_boostrap=n_boostrap, random_state=0)\n",
    "    scratch_bagging.fit(X_train, y_train)\n",
    "    mse = mean_squared_error(y_test, scratch_bagging.predict(X_test))\n",
    "    if mse < svr_mse:\n",
    "        print('ScratchBagging n_boostrap={} : {:,.0f}'.format(n_boostrap, mse))"
   ]
  },
  {
   "cell_type": "code",
   "execution_count": 41,
   "metadata": {},
   "outputs": [
    {
     "name": "stdout",
     "output_type": "stream",
     "text": [
      "KNeighborsRegressor 単一モデルの平均二乗誤差\n",
      "SingleModel : 3,119,613,674\n",
      "ScratchBagging n_boostrap=2 : 2,925,018,642\n",
      "ScratchBagging n_boostrap=3 : 2,920,538,216\n",
      "ScratchBagging n_boostrap=4 : 2,900,442,505\n",
      "ScratchBagging n_boostrap=5 : 2,910,792,766\n",
      "ScratchBagging n_boostrap=6 : 3,020,363,161\n",
      "ScratchBagging n_boostrap=7 : 3,047,687,081\n",
      "ScratchBagging n_boostrap=8 : 3,111,404,717\n"
     ]
    }
   ],
   "source": [
    "print('KNeighborsRegressor 単一モデルの平均二乗誤差')\n",
    "print('SingleModel : {:,.0f}'.format(kn_mse))\n",
    "\n",
    "for n_boostrap in range(2, 30):\n",
    "    scratch_bagging = ScratchBagging(model=kn, n_boostrap=n_boostrap, random_state=0)\n",
    "    scratch_bagging.fit(X_train, y_train)\n",
    "    mse = mean_squared_error(y_test, scratch_bagging.predict(X_test))\n",
    "    if mse < kn_mse:\n",
    "        print('ScratchBagging n_boostrap={} : {:,.0f}'.format(n_boostrap, mse))"
   ]
  },
  {
   "cell_type": "code",
   "execution_count": 42,
   "metadata": {},
   "outputs": [
    {
     "name": "stdout",
     "output_type": "stream",
     "text": [
      "DecisionTreeRegressor 単一モデルの平均二乗誤差\n",
      "SingleModel : 3,009,170,128\n",
      "ScratchBagging n_boostrap=3 : 1,902,197,639\n",
      "ScratchBagging n_boostrap=4 : 2,200,179,028\n",
      "ScratchBagging n_boostrap=5 : 2,372,657,263\n",
      "ScratchBagging n_boostrap=6 : 2,280,823,306\n",
      "ScratchBagging n_boostrap=7 : 2,211,292,199\n",
      "ScratchBagging n_boostrap=8 : 2,324,617,911\n",
      "ScratchBagging n_boostrap=9 : 2,334,322,661\n",
      "ScratchBagging n_boostrap=10 : 2,093,534,079\n",
      "ScratchBagging n_boostrap=11 : 2,231,908,683\n",
      "ScratchBagging n_boostrap=12 : 2,293,923,419\n",
      "ScratchBagging n_boostrap=13 : 2,304,458,815\n",
      "ScratchBagging n_boostrap=14 : 2,565,534,785\n",
      "ScratchBagging n_boostrap=15 : 2,372,585,568\n",
      "ScratchBagging n_boostrap=16 : 2,345,665,942\n",
      "ScratchBagging n_boostrap=17 : 2,422,670,984\n",
      "ScratchBagging n_boostrap=18 : 2,414,451,812\n",
      "ScratchBagging n_boostrap=19 : 2,264,844,857\n",
      "ScratchBagging n_boostrap=20 : 2,374,434,684\n",
      "ScratchBagging n_boostrap=21 : 2,425,671,822\n",
      "ScratchBagging n_boostrap=22 : 2,362,285,643\n",
      "ScratchBagging n_boostrap=23 : 2,498,930,273\n",
      "ScratchBagging n_boostrap=24 : 2,362,129,012\n",
      "ScratchBagging n_boostrap=25 : 2,423,280,584\n",
      "ScratchBagging n_boostrap=26 : 2,459,680,974\n",
      "ScratchBagging n_boostrap=27 : 2,564,614,922\n",
      "ScratchBagging n_boostrap=28 : 2,452,478,401\n",
      "ScratchBagging n_boostrap=29 : 2,487,666,026\n"
     ]
    }
   ],
   "source": [
    "print('DecisionTreeRegressor 単一モデルの平均二乗誤差')\n",
    "print('SingleModel : {:,.0f}'.format(dtr_mse))\n",
    "\n",
    "for n_boostrap in range(2, 30):\n",
    "    scratch_bagging = ScratchBagging(model=dtr, n_boostrap=n_boostrap, random_state=0)\n",
    "    scratch_bagging.fit(X_train, y_train)\n",
    "    mse = mean_squared_error(y_test, scratch_bagging.predict(X_test))\n",
    "    if mse < dtr_mse:\n",
    "        print('ScratchBagging n_boostrap={} : {:,.0f}'.format(n_boostrap, mse))"
   ]
  },
  {
   "cell_type": "code",
   "execution_count": 43,
   "metadata": {},
   "outputs": [
    {
     "name": "stdout",
     "output_type": "stream",
     "text": [
      "RandomForestRegressor 単一モデルの平均二乗誤差\n",
      "SingleModel : 1,829,102,497\n"
     ]
    }
   ],
   "source": [
    "print('RandomForestRegressor 単一モデルの平均二乗誤差')\n",
    "print('SingleModel : {:,.0f}'.format(rfr_mse))\n",
    "\n",
    "for n_boostrap in range(2, 5):\n",
    "    scratch_bagging = ScratchBagging(model=rfr, n_boostrap=n_boostrap, random_state=0)\n",
    "    scratch_bagging.fit(X_train, y_train)\n",
    "    mse = mean_squared_error(y_test, scratch_bagging.predict(X_test))\n",
    "    if mse < rfr_mse:\n",
    "        print('ScratchBagging n_boostrap={} : {:,.0f}'.format(n_boostrap, mse))"
   ]
  },
  {
   "cell_type": "code",
   "execution_count": 44,
   "metadata": {},
   "outputs": [
    {
     "name": "stdout",
     "output_type": "stream",
     "text": [
      "LGBMRegressor 単一モデルの平均二乗誤差\n",
      "SingleModel : 1,980,418,356\n",
      "Finished loading model, total used 100 iterations\n",
      "Finished loading model, total used 100 iterations\n",
      "Finished loading model, total used 100 iterations\n",
      "Finished loading model, total used 100 iterations\n",
      "Finished loading model, total used 100 iterations\n",
      "Finished loading model, total used 100 iterations\n",
      "Finished loading model, total used 100 iterations\n",
      "Finished loading model, total used 100 iterations\n",
      "Finished loading model, total used 100 iterations\n"
     ]
    }
   ],
   "source": [
    "print('LGBMRegressor 単一モデルの平均二乗誤差')\n",
    "print('SingleModel : {:,.0f}'.format(lgbm_mse))\n",
    "\n",
    "for n_boostrap in range(2, 5):\n",
    "    scratch_bagging = ScratchBagging(model=lgbm, n_boostrap=n_boostrap, random_state=0)\n",
    "    scratch_bagging.fit(X_train, y_train)\n",
    "    mse = mean_squared_error(y_test, scratch_bagging.predict(X_test))\n",
    "    if mse < rfr_mse:\n",
    "        print('ScratchBagging n_boostrap={} : {:,.0f}'.format(n_boostrap, mse))"
   ]
  },
  {
   "cell_type": "markdown",
   "metadata": {},
   "source": [
    "- SVRは精度があがらず、KNeighborRegressorはn_boostrap:8超では精度が上がるのがストップした。サポートベクトルを選んだり、近傍な点を探すアルゴリズムであるため、データを分割して学習すると、境界線のばらつきだけが大きくなり上手く分類できないのでは、と想定\n",
    "- 決定木では。バギングするとRandomForestのようなアルゴリズムになるため、アンサンブル学習が進み精度が上がったと思われる\n",
    "- アンサンブル系のRandomForest, lightgbmではオブジェクトをデフォルト値で作成しており、デフォルトで学習器が１００個であるため、このデータセットの約1000超のサイズではバギングしても効果ないと想定（そもそもパラメーターを調整できる）"
   ]
  },
  {
   "cell_type": "markdown",
   "metadata": {},
   "source": [
    "## 【問題3】スタッキングのスクラッチ実装\n",
    "\n",
    "スタッキング をスクラッチ実装し、単一モデルより精度があがる例を **最低1つ** 示してください。\n",
    "\n",
    "## スタッキングとは\n",
    "\n",
    "スタッキングの手順は以下の通りです。最低限ステージ0とステージ1があればスタッキングは成立するため、それを実装してください。まずは \n",
    "$K_0=3, M_0=2$ \n",
    "程度にします。\n",
    "\n",
    "**《学習時》**\n",
    "\n",
    "（ステージ $0$ ）\n",
    "\n",
    "- 学習データを $K_0$ 個に分割する。\n",
    "- 分割した内の $(K_0 - 1)$ 個をまとめて学習用データ、残り $1$ 個を推定用データとする組み合わせが $K_0$ 個作れる。\n",
    "- あるモデルのインスタンスを $K_0$ 個用意し、異なる学習用データを使い学習する。\n",
    "- それぞれの学習済みモデルに対して、使っていない残り $1$ 個の推定用データを入力し、推定値を得る。（これをブレンドデータと呼ぶ）\n",
    "- さらに、異なるモデルのインスタンスも $K_0$ 個用意し、同様のことを行う。モデルが $M_0$ 個あれば、 $M_0$ 個のブレンドデータが得られる。\n",
    "\n",
    "（ステージ $n$ ）\n",
    "\n",
    "- ステージ $n-1$ のブレンドデータを$M_n-1$ 次元の特徴量を持つ学習用データと考え、 $K_n$ 個に分割する。以下同様である。\n",
    "\n",
    "（ステージ $N$ ）＊最後のステージ\n",
    "\n",
    "- ステージ $N-1$ の $M_N-1$ 個のブレンドデータを$M_N-1$ 次元の特徴量の入力として、1種類のモデルの学習を行う。これが最終的な推定を行うモデルとなる。\n",
    "\n",
    "**《推定時》**\n",
    "\n",
    "（ステージ $0$ ）\n",
    "\n",
    "- テストデータを $K_0 \\times M_0$ 個の学習済みモデルに入力し、$K_0 \\times M_0$ 個の推定値を得る。これを $K_0$ の軸で平均値を求め $M_0$ 次元の特徴量を持つデータを得る。（ブレンドテストと呼ぶ）\n",
    "\n",
    "（ステージ $n$ ）\n",
    "\n",
    "- ステージ $n-1$ で得たブレンドテストを $K_n \\times M_n$ 個の学習済みモデルに入力し、$K_n \\times M_n$ 個の推定値を得る。これを $K_n$ の軸で平均値を求め $M_0$ 次元の特徴量を持つデータを得る。（ブレンドテストと呼ぶ）\n",
    "\n",
    "（ステージ $N$ ）＊最後のステージ\n",
    "\n",
    "- ステージ $N-1$ で得たブレンドテストを学習済みモデルに入力し、推定値を得る。"
   ]
  },
  {
   "cell_type": "code",
   "execution_count": 45,
   "metadata": {},
   "outputs": [],
   "source": [
    "from copy import deepcopy\n",
    "class ScratchStackingRegressor():\n",
    "    '''\n",
    "    スタッキングにより、予測するスクラッチを実装\n",
    "    \n",
    "    Parameters\n",
    "    -----\n",
    "    models : list\n",
    "      ブレンドデータを作成するための学習器をlistでいれる\n",
    "    final_model : object\n",
    "      最終的な推定を行うモデル\n",
    "    cv :　int\n",
    "    　　ブレンドデータ作成時に交差検証する数\n",
    "    stage : int\n",
    "      ブレンドデータを作成するステージ数\n",
    "    '''\n",
    "    def __init__(self, models, final_model, cv=3, stage=1, random_state=None):\n",
    "        #　ハイパーパラメーターを属性として記録\n",
    "        self.models = models\n",
    "        self.final_model = final_model\n",
    "        self.cv = cv\n",
    "        self.stage = stage\n",
    "        # ブレンドデータ作成時に使用する学習器の数\n",
    "        self.n_models = len(self.models)\n",
    "        # 乱数を設定\n",
    "        self.random_state=random_state\n",
    "        # ステージ毎に学習した学習器のリスト  index　がステージ数、models　* cv　の学習器をいれる\n",
    "        self.models_lst = []\n",
    "        \n",
    "    def fit(self, X, y):\n",
    "        '''\n",
    "        学習\n",
    "        '''\n",
    "        # 変数を管理\n",
    "        self.learning_data = X\n",
    "        self.n_samples, _ = self.learning_data.shape\n",
    "        \n",
    "        \n",
    "        # 交差検証の乱数設定\n",
    "        if type(self.random_state) == int:\n",
    "            np.random.seed(self.random_state)\n",
    "        # KFoldクラスでクロスバリデーションを行うためインポート\n",
    "        from sklearn.model_selection import KFold\n",
    "        \n",
    "        #　ステージの回数分、繰り返す\n",
    "        for n_stage in range(self.stage):\n",
    "            \n",
    "            # KFold　のオブジェクトを作成\n",
    "            kf = KFold(n_splits=self.cv, shuffle=False)\n",
    "            # 推定した値をいれる変数を作成 shape (self.n_models, self.n_samples)\n",
    "            pred = np.zeros(self.n_models*self.n_samples).reshape(self.n_models, -1)\n",
    "            \n",
    "            # 分割毎に学習した学習器を保存、　self.cv ×　self.n_models\n",
    "            stage_lst = []\n",
    "            \n",
    "            #　学習用と推定用のインデックスを取得してデータを割り当て\n",
    "            for train_index, val_index in kf.split(self.learning_data):\n",
    "                X_train, X_val = self.learning_data[train_index], self.learning_data[val_index]\n",
    "                y_train = y[train_index]\n",
    "                \n",
    "                # 今の分割データの学習器を保存、1　×　self.n_models\n",
    "                clf_lst = []\n",
    "                # ブレンドデータ作成のための学習器を呼び出す\n",
    "                for i in range(self.n_models):\n",
    "                    # deepcopy で学習器を呼び出さないとバグがでる？\n",
    "                    clf = deepcopy(self.models[i])\n",
    "                    # 学習\n",
    "                    clf.fit(X_train, y_train)\n",
    "                    #　予測\n",
    "                    y_pred = clf.predict(X_val)\n",
    "                    # 予測データをpredに保管、i行目は学習器の順番、val_indexは予測したデータのインデックス\n",
    "                    pred[i, val_index] = y_pred\n",
    "                    # 学習器を保管\n",
    "                    clf_lst.append(clf)\n",
    "                #今の分割データにおいて学習が終わったら、clf_lstをstage_lstへ追加\n",
    "                stage_lst.append(clf_lst)\n",
    "            #　今のステージで交差検証が終了\n",
    "            # 予測データを転置して、self.learning_dataへ代入\n",
    "            self.learning_data = pred.T\n",
    "            # 今のステージで学習した学習器をself.models_lstへ追加\n",
    "            self.models_lst.append(stage_lst)\n",
    "        \n",
    "        #　ステージの繰り返しが終わったら、最終的なモデル学習を行う\n",
    "        self.final_model.fit(self.learning_data, y)\n",
    "        \n",
    "    def predict(self, X):\n",
    "        '''\n",
    "        予測\n",
    "        '''\n",
    "        # 変数を管理\n",
    "        self.val_data = X\n",
    "        self.n_pred, _ = self.val_data.shape\n",
    "        \n",
    "        #　ステージの回数分、繰り返す\n",
    "        for n_stage in range(self.stage):\n",
    "            # n_stage　で学習した学習器のリストを呼び出す\n",
    "            stage_lst = self.models_lst[n_stage]\n",
    "            # 推定した値をいれる変数を作成 shape (self.n_models, self.n_pred)\n",
    "            pred = np.zeros(self.n_models * self.n_pred).reshape(self.n_models, -1)            \n",
    "            \n",
    "            # clf_lstを呼び出す cross_validation毎の別々のモデルが格納されている\n",
    "            for clf_lst in stage_lst:\n",
    "                # self.n_models　繰り返す\n",
    "                for i in range(self.n_models):\n",
    "                    #　i 番目の学習器で予測して、pred[i]に加算\n",
    "                    clf = clf_lst[i]\n",
    "                    # print(clf)\n",
    "                    y_pred = clf.predict(self.val_data)\n",
    "                    pred[i] += y_pred\n",
    "            # clf_lstのループが終わったら、predをself.cvで割って平均を算出\n",
    "            pred = pred / self.cv\n",
    "            # 予測データを転置して、self.val_dataへ代入\n",
    "            self.val_data = pred.T\n",
    "        \n",
    "        #　ステージの繰り返しが終わったら、最終的なモデルで予測を行う\n",
    "        return self.final_model.predict(self.val_data)"
   ]
  },
  {
   "cell_type": "markdown",
   "metadata": {},
   "source": [
    "- 弱学習器をLinearRegression, DecisionTreeRegressor, SVR　の３つを選択し、 最終最終の学習器にRidgeを入れて、データの分割個数、ステージ数を複数試す"
   ]
  },
  {
   "cell_type": "code",
   "execution_count": 46,
   "metadata": {},
   "outputs": [
    {
     "name": "stdout",
     "output_type": "stream",
     "text": [
      "ScratchStacking cv : 2 stage : 1 mse : 2,758,375,935\n",
      "ScratchStacking cv : 2 stage : 2 mse : 2,394,024,258\n",
      "ScratchStacking cv : 2 stage : 3 mse : 3,040,644,362\n",
      "ScratchStacking cv : 2 stage : 4 mse : 2,845,886,701\n",
      "ScratchStacking cv : 2 stage : 5 mse : 3,581,822,430\n",
      "ScratchStacking cv : 3 stage : 1 mse : 2,596,301,996\n",
      "ScratchStacking cv : 3 stage : 2 mse : 2,291,758,263\n",
      "ScratchStacking cv : 3 stage : 3 mse : 2,532,798,694\n",
      "ScratchStacking cv : 3 stage : 4 mse : 2,612,242,735\n",
      "ScratchStacking cv : 3 stage : 5 mse : 3,670,266,948\n",
      "ScratchStacking cv : 4 stage : 1 mse : 2,457,707,032\n",
      "ScratchStacking cv : 4 stage : 2 mse : 2,233,819,327\n",
      "ScratchStacking cv : 4 stage : 3 mse : 2,510,936,879\n",
      "ScratchStacking cv : 4 stage : 4 mse : 2,217,519,359\n",
      "ScratchStacking cv : 4 stage : 5 mse : 2,648,071,635\n",
      "ScratchStacking cv : 5 stage : 1 mse : 2,319,995,706\n",
      "ScratchStacking cv : 5 stage : 2 mse : 2,146,678,172\n",
      "ScratchStacking cv : 5 stage : 3 mse : 1,913,680,480\n",
      "ScratchStacking cv : 5 stage : 4 mse : 1,954,905,215\n",
      "ScratchStacking cv : 5 stage : 5 mse : 2,382,468,800\n"
     ]
    }
   ],
   "source": [
    "models = [lr, dtr ,svr]\n",
    "final_model = ridge\n",
    "for n_cv in range(2, 6):\n",
    "    for n_stage in range(1, 6):\n",
    "        scratch_stacking = ScratchStackingRegressor(models, final_model, cv=n_cv, stage=n_stage, random_state=0)\n",
    "        scratch_stacking.fit(X_train, y_train)\n",
    "        mse = mean_squared_error(y_test, scratch_stacking.predict(X_test))\n",
    "        print('ScratchStacking cv : {} stage : {} mse : {:,.0f}'.format(n_cv, n_stage, mse))"
   ]
  },
  {
   "cell_type": "code",
   "execution_count": 47,
   "metadata": {},
   "outputs": [
    {
     "name": "stdout",
     "output_type": "stream",
     "text": [
      "SklearnStacking cv : 2 stage : 1 mse : 2,663,341,688\n",
      "SklearnStacking cv : 3 stage : 1 mse : 2,627,226,250\n",
      "SklearnStacking cv : 4 stage : 1 mse : 2,595,037,416\n",
      "SklearnStacking cv : 5 stage : 1 mse : 2,483,296,229\n"
     ]
    }
   ],
   "source": [
    "from sklearn.ensemble import StackingRegressor\n",
    "estimators = [('lr', LinearRegression()), \n",
    "               ('dtr', DecisionTreeRegressor(random_state=0)),\n",
    "               ('svr', SVR(kernel='poly'))]\n",
    "for n_cv in range(2, 6):\n",
    "    sklearn = StackingRegressor(estimators=estimators,\n",
    "                                final_estimator=Ridge(),\n",
    "                                cv=n_cv, passthrough=False)\n",
    "    sklearn.fit(X_train, y_train)\n",
    "    mse = mean_squared_error(y_test, sklearn.predict(X_test))\n",
    "    print('SklearnStacking cv : {} stage : {} mse : {:,.0f}'.format(n_cv, 1, mse))"
   ]
  },
  {
   "cell_type": "markdown",
   "metadata": {},
   "source": [
    "- 入れる学習器を変更して試す"
   ]
  },
  {
   "cell_type": "code",
   "execution_count": 48,
   "metadata": {},
   "outputs": [
    {
     "name": "stdout",
     "output_type": "stream",
     "text": [
      "LinearRegression_Singel_mse : 2,942,066,922\n",
      "DecisionTreeRegressor_Singel_mse : 1,996,751,335\n",
      "SVR_Singel_mse : 4,874,222,158\n",
      "RandomForestRegressor_Singel_mse : 1,829,102,497\n"
     ]
    }
   ],
   "source": [
    "lr = LinearRegression()\n",
    "dtr=DecisionTreeRegressor(max_depth=7, random_state=0)\n",
    "svr = SVR(kernel='poly')\n",
    "rfr = RandomForestRegressor(random_state=0)\n",
    "def mse(model):\n",
    "    return mean_squared_error(y_test, model.fit(X_train, y_train).predict(X_test))\n",
    "print('LinearRegression_Singel_mse : {:,.0f}'.format(mse(lr)))\n",
    "print('DecisionTreeRegressor_Singel_mse : {:,.0f}'.format(mse(dtr)))\n",
    "print('SVR_Singel_mse : {:,.0f}'.format(mse(svr)))\n",
    "print('RandomForestRegressor_Singel_mse : {:,.0f}'.format(mse(rfr)))"
   ]
  },
  {
   "cell_type": "code",
   "execution_count": 49,
   "metadata": {},
   "outputs": [
    {
     "name": "stdout",
     "output_type": "stream",
     "text": [
      "ScratchStacking cv : 2 stage : 1 mse : 2,196,847,602\n",
      "ScratchStacking cv : 2 stage : 2 mse : 2,415,797,704\n",
      "ScratchStacking cv : 2 stage : 3 mse : 2,595,455,388\n",
      "ScratchStacking cv : 2 stage : 4 mse : 2,731,154,450\n",
      "ScratchStacking cv : 2 stage : 5 mse : 3,482,018,593\n",
      "ScratchStacking cv : 3 stage : 1 mse : 2,062,222,046\n",
      "ScratchStacking cv : 3 stage : 2 mse : 1,871,500,144\n",
      "ScratchStacking cv : 3 stage : 3 mse : 2,133,611,241\n",
      "ScratchStacking cv : 3 stage : 4 mse : 2,733,713,042\n",
      "ScratchStacking cv : 3 stage : 5 mse : 3,047,796,904\n",
      "ScratchStacking cv : 4 stage : 1 mse : 2,244,227,104\n",
      "ScratchStacking cv : 4 stage : 2 mse : 2,399,600,704\n",
      "ScratchStacking cv : 4 stage : 3 mse : 2,009,238,870\n",
      "ScratchStacking cv : 4 stage : 4 mse : 2,611,426,921\n",
      "ScratchStacking cv : 4 stage : 5 mse : 2,935,787,255\n",
      "ScratchStacking cv : 5 stage : 1 mse : 1,655,654,550\n",
      "ScratchStacking cv : 5 stage : 2 mse : 2,315,624,127\n",
      "ScratchStacking cv : 5 stage : 3 mse : 1,881,644,468\n",
      "ScratchStacking cv : 5 stage : 4 mse : 2,135,929,440\n",
      "ScratchStacking cv : 5 stage : 5 mse : 3,493,548,882\n"
     ]
    }
   ],
   "source": [
    "models = [lr, dtr, svr]\n",
    "final_model = rfr\n",
    "for n_cv in range(2, 6):\n",
    "    for n_stage in range(1, 6):\n",
    "        scratch_stacking = ScratchStackingRegressor(models, final_model,\n",
    "                                                    cv=n_cv, stage=n_stage, random_state=0)\n",
    "        scratch_stacking.fit(X_train, y_train)\n",
    "        mse = mean_squared_error(y_test, scratch_stacking.predict(X_test))\n",
    "        print('ScratchStacking cv : {} stage : {} mse : {:,.0f}'.format(n_cv, n_stage, mse))"
   ]
  },
  {
   "cell_type": "code",
   "execution_count": 50,
   "metadata": {},
   "outputs": [
    {
     "name": "stdout",
     "output_type": "stream",
     "text": [
      "SklearnStacking cv : 2 stage : 1 mse : 2,401,157,018\n",
      "SklearnStacking cv : 3 stage : 1 mse : 2,165,471,364\n",
      "SklearnStacking cv : 4 stage : 1 mse : 2,307,074,956\n",
      "SklearnStacking cv : 5 stage : 1 mse : 1,848,734,964\n"
     ]
    }
   ],
   "source": [
    "from sklearn.ensemble import StackingRegressor\n",
    "estimators = [('lr', LinearRegression()), \n",
    "               ('dtr', DecisionTreeRegressor(random_state=0, max_depth=7)),\n",
    "               ('svr', SVR(kernel='poly'))]\n",
    "for n_cv in range(2, 6):\n",
    "    sklearn = StackingRegressor(estimators=estimators,\n",
    "                                final_estimator=RandomForestRegressor(random_state=0),\n",
    "                                cv=n_cv, passthrough=False)\n",
    "    sklearn.fit(X_train, y_train)\n",
    "    mse = mean_squared_error(y_test, sklearn.predict(X_test))\n",
    "    print('SklearnStacking cv : {} stage : {} mse : {:,.0f}'.format(n_cv, 1, mse))"
   ]
  },
  {
   "cell_type": "markdown",
   "metadata": {},
   "source": [
    "- スクラッチのcv : 5, stage : 1　がベストスコア\n",
    "- Stackingで単一モデルよりも誤差改善ができた"
   ]
  }
 ],
 "metadata": {
  "kernelspec": {
   "display_name": "Python 3",
   "language": "python",
   "name": "python3"
  },
  "language_info": {
   "codemirror_mode": {
    "name": "ipython",
    "version": 3
   },
   "file_extension": ".py",
   "mimetype": "text/x-python",
   "name": "python",
   "nbconvert_exporter": "python",
   "pygments_lexer": "ipython3",
   "version": "3.7.6"
  }
 },
 "nbformat": 4,
 "nbformat_minor": 4
}
