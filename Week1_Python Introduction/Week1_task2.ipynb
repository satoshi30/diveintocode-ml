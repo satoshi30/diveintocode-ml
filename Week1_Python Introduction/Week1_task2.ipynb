{
 "cells": [
  {
   "cell_type": "markdown",
   "metadata": {},
   "source": [
    "# 何回折ったら富士山を超えるか問題"
   ]
  },
  {
   "cell_type": "markdown",
   "metadata": {},
   "source": [
    "「Pythonを使ってみよう」の問題では「1枚の紙を43回折り曲げた時の厚さを計算するプログラム」を作成し、43回折ることで月に届くことが確認できました。\n",
    "\n",
    "\n",
    "ここで「何回折ったらある厚さになるのか」という疑問が生まれます。こういったことを計算するプログラムを作成していきましょう。\n",
    "\n",
    "\n",
    "### 紙を折った時の厚さの数式\n",
    "授業前課題と同様ですが確認しておきます。\n",
    "\n",
    "\n",
    "n回折った紙の厚さ $t_{n}$ は以下のように表せます。\n",
    "\n",
    "\n",
    "$t_{n}={t_0}\\times{2^n}$\n",
    "\n",
    "折る前の紙の厚さ $t_{0}$ は0.00008mとします。一般的なコピー用紙の厚さです。"
   ]
  },
  {
   "cell_type": "markdown",
   "metadata": {},
   "source": [
    "## 【問題1】富士山を超える最小の折る回数\n",
    "厚さが「富士山(3776m)」を超えるのは何回紙を折った時か計算するプログラムを作成してください。"
   ]
  },
  {
   "cell_type": "code",
   "execution_count": 1,
   "metadata": {},
   "outputs": [],
   "source": [
    "THICKNESS = 0.00008\n",
    "Mt_Fuji = 3776\n",
    "num = 0\n",
    "n_thickness = THICKNESS"
   ]
  },
  {
   "cell_type": "code",
   "execution_count": 2,
   "metadata": {},
   "outputs": [],
   "source": [
    "# 修正前\n",
    "# while n_thickness <= Mt_Fuji:\n",
    "#     num += 1\n",
    "#     n_thickness *= 2\n",
    "# print('{}回紙を折ったときに、富士山の高さ{}メートルを超える'.format(num, Mt_Fuji))"
   ]
  },
  {
   "cell_type": "code",
   "execution_count": 3,
   "metadata": {},
   "outputs": [],
   "source": [
    "# 問題文では、厚さが「富士山(3776m)」を超えるのはとあります。比較演算子がどういう意味を持つのかを調べて再提出お願いいたします。\n",
    "# ご指摘いただいた点が少しわかりかねています。\n",
    "# 以下超える > で書き直していますが、> と　<= は同値と認識しているのですが、誤っていますか?"
   ]
  },
  {
   "cell_type": "code",
   "execution_count": 4,
   "metadata": {},
   "outputs": [
    {
     "name": "stdout",
     "output_type": "stream",
     "text": [
      "26回紙を折ったときに、富士山の高さ3776メートルを超える\n"
     ]
    }
   ],
   "source": [
    "# 修正後\n",
    "while True:\n",
    "    if n_thickness > Mt_Fuji:\n",
    "        print('{}回紙を折ったときに、富士山の高さ{}メートルを超える'.format(num, Mt_Fuji))\n",
    "        break\n",
    "    else:\n",
    "        num += 1\n",
    "        n_thickness *= 2"
   ]
  },
  {
   "cell_type": "markdown",
   "metadata": {},
   "source": [
    "## 【問題2】任意の厚さに対応した関数を作成\n",
    "距離を入力すると、何回折った時に超えるかを出力する関数を作成してください。引数として、折る前の厚さ $t_{0}$ も設定できるようにしましょう。\n",
    "\n",
    "\n",
    "この関数を利用して、「最も近い太陽以外の恒星」に到達するには紙を何回折る必要があるか計算してください。「最も近い太陽以外の恒星」の距離は調査してください。"
   ]
  },
  {
   "cell_type": "code",
   "execution_count": 5,
   "metadata": {},
   "outputs": [],
   "source": [
    "def folded_num(t0, distance):\n",
    "    num = 0\n",
    "    while distance >= t0:\n",
    "        t0 *= 2\n",
    "        num += 1\n",
    "    return num"
   ]
  },
  {
   "cell_type": "code",
   "execution_count": 6,
   "metadata": {},
   "outputs": [
    {
     "data": {
      "text/plain": [
       "26"
      ]
     },
     "execution_count": 6,
     "metadata": {},
     "output_type": "execute_result"
    }
   ],
   "source": [
    "t0 = 0.00008 # 単位メートル\n",
    "folded_num(t0, 3776)"
   ]
  },
  {
   "cell_type": "code",
   "execution_count": 7,
   "metadata": {},
   "outputs": [],
   "source": [
    "# 修正前　light_year_to_meter = 9_460_730_580_800 #光年をメートルに変換\n",
    "light_year_to_meter = 9_460_730_472_580_800 #光年をメートルに変換\n",
    "nearest_star = 4.243 * light_year_to_meter               #プロキシマ・ケンタウリまで4.243光年をメートルに変換"
   ]
  },
  {
   "cell_type": "code",
   "execution_count": 8,
   "metadata": {},
   "outputs": [
    {
     "name": "stdout",
     "output_type": "stream",
     "text": [
      "69回紙を折ったときに、最も近い太陽以外の恒星までの距離4.01e+16メートルを超える\n"
     ]
    }
   ],
   "source": [
    "folded_num(t0, nearest_star)\n",
    "print('{}回紙を折ったときに、最も近い太陽以外の恒星までの距離{:.2e}メートルを超える'.format(folded_num(t0, nearest_star), nearest_star))"
   ]
  },
  {
   "cell_type": "markdown",
   "metadata": {},
   "source": [
    "## 【問題3】必要な紙の長さ\n",
    "実際のところ身近にある紙は43回はおろか10回も折れません。しかし、大きな紙ほどたくさん折ることができ、トイレットペーパーのような長い紙を一方向に折ることを考えた時の折れる回数を求める公式が存在します。\n",
    "\n",
    "\n",
    "厚さ $t_{0}$ の紙をn回折るために必要な紙の長さLは以下の公式で求まります。\n",
    "\n",
    "$L=\\pi\\frac{t_{0}}{6}(2^n+4)(2^n-1)$\n",
    "\n",
    "この公式を利用して、実際に紙を折り任意の厚さに到達するために必要な紙の長さを求める関数を作成してください。\n",
    "\n",
    "\n",
    "そしてこれを使って「月」「富士山」「最も近い太陽以外の恒星」に届くために必要な紙の長さを求めてください。"
   ]
  },
  {
   "cell_type": "code",
   "execution_count": 9,
   "metadata": {},
   "outputs": [],
   "source": [
    "import numpy\n",
    "def needed_length(n, t0):\n",
    "    return numpy.pi * t0 / 6 * ((2**n + 4) * (2**n - 1))"
   ]
  },
  {
   "cell_type": "code",
   "execution_count": 10,
   "metadata": {},
   "outputs": [],
   "source": [
    "t0 = 0.00008"
   ]
  },
  {
   "cell_type": "code",
   "execution_count": 11,
   "metadata": {},
   "outputs": [
    {
     "name": "stdout",
     "output_type": "stream",
     "text": [
      "富士山 に必要な紙の長さ：1.89e+11メートル\n"
     ]
    }
   ],
   "source": [
    "MtFuji_num = folded_num(t0, Mt_Fuji)\n",
    "MtFuji_needed_length = needed_length(MtFuji_num, t0)\n",
    "print('富士山 に必要な紙の長さ：{:.2e}メートル'.format(MtFuji_needed_length))"
   ]
  },
  {
   "cell_type": "code",
   "execution_count": 12,
   "metadata": {},
   "outputs": [
    {
     "name": "stdout",
     "output_type": "stream",
     "text": [
      "月 に必要な紙の長さ：3.24e+21メートル\n"
     ]
    }
   ],
   "source": [
    "moon = 384_400 * 1000 #月までの距離mに変換\n",
    "moon_num = folded_num(t0, moon)\n",
    "moon_needed_length = needed_length(moon_num, THICKNESS)\n",
    "print('月 に必要な紙の長さ：{:.2e}メートル'.format(moon_needed_length))"
   ]
  },
  {
   "cell_type": "code",
   "execution_count": 13,
   "metadata": {},
   "outputs": [
    {
     "name": "stdout",
     "output_type": "stream",
     "text": [
      "一番近い恒星 に必要な紙長さ：1.46e+37メートル\n"
     ]
    }
   ],
   "source": [
    "nearest_star_num = folded_num(t0, nearest_star)\n",
    "nearest_star_needed_length = needed_length(nearest_star_num, THICKNESS)\n",
    "print('一番近い恒星 に必要な紙長さ：{:.2e}メートル'.format(nearest_star_needed_length))"
   ]
  },
  {
   "cell_type": "code",
   "execution_count": null,
   "metadata": {},
   "outputs": [],
   "source": []
  }
 ],
 "metadata": {
  "kernelspec": {
   "display_name": "Python 3",
   "language": "python",
   "name": "python3"
  },
  "language_info": {
   "codemirror_mode": {
    "name": "ipython",
    "version": 3
   },
   "file_extension": ".py",
   "mimetype": "text/x-python",
   "name": "python",
   "nbconvert_exporter": "python",
   "pygments_lexer": "ipython3",
   "version": "3.7.4"
  }
 },
 "nbformat": 4,
 "nbformat_minor": 2
}
