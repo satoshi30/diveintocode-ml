{
 "cells": [
  {
   "cell_type": "markdown",
   "metadata": {},
   "source": [
    "# Sprint ディープラーニングフレームワーク2"
   ]
  },
  {
   "cell_type": "code",
   "execution_count": 1,
   "metadata": {},
   "outputs": [],
   "source": [
    "# import warnings\n",
    "# warnings.filterwarnings('ignore')"
   ]
  },
  {
   "cell_type": "code",
   "execution_count": 2,
   "metadata": {},
   "outputs": [
    {
     "data": {
      "text/plain": [
       "'2.0.0'"
      ]
     },
     "execution_count": 2,
     "metadata": {},
     "output_type": "execute_result"
    }
   ],
   "source": [
    "import tensorflow as tf\n",
    "tf.__version__"
   ]
  },
  {
   "cell_type": "markdown",
   "metadata": {},
   "source": [
    "## 1.このSprintについて\n",
    "\n",
    "### Sprintの目的\n",
    "- フレームワークのコードを読めるようにする\n",
    "- フレームワークを習得し続けられるようになる\n",
    "- 理論を知っている範囲をフレームワークで動かす\n",
    "\n",
    "### どのように学ぶか\n",
    "前半はTensorFlowのExampleを動かします。後半ではKerasのコードを書いていきます。"
   ]
  },
  {
   "cell_type": "markdown",
   "metadata": {},
   "source": [
    "## 2.公式Example\n",
    "\n",
    "深層学習フレームワークには公式に様々なモデルのExampleコードが公開されています。"
   ]
  },
  {
   "cell_type": "markdown",
   "metadata": {},
   "source": [
    "### 【問題1】公式チュートリアルモデルを分担して実行\n",
    "TensorFLowの公式チュートリアルモデルを分担して実行してください。\n",
    "\n",
    "以下の中から1人ひとつ選び実行し、その結果を簡単に発表してください。\n",
    "\n",
    "[models/tutorials at master · tensorflow/models](https://www.tensorflow.org/tutorials/)"
   ]
  },
  {
   "cell_type": "markdown",
   "metadata": {},
   "source": [
    "- 実行したファイル\n",
    "[image segmentation](https://github.com/satoshi30/diveintocode-ml/blob/master/Sprint/Term2_DeepLearning/Sprint14/segmentation.ipynb)\n",
    "\n",
    "- ベースとなっているモデル　:  U-net [参考](https://qiita.com/hiro871_/items/871c76bf65b76ebe1dd0)"
   ]
  },
  {
   "cell_type": "markdown",
   "metadata": {},
   "source": [
    "### 【問題2】（アドバンス課題）様々な手法を実行\n",
    "TensorFLowやGoogle AI ResearchのGitHubリポジトリには、定番のモデルから最新のモデルまで多様なコードが公開されています。これらから興味あるものを選び実行してください。\n",
    "\n",
    "なお、これらのコードは初学者向けではないため、巨大なデータセットのダウンロードが必要な場合など、実行が簡単ではないこともあります。そういった場合は、コードリーディングを行ってください。\n",
    "\n",
    "[models/research at master · tensorflow/models](https://github.com/tensorflow/models/tree/master/research)\n",
    "\n",
    "[google-research/google-research: Google AI Research](https://github.com/google-research/google-research)\n",
    "\n",
    "更新日が古いものはPythonやTensorFlowのバージョンが古く、扱いずらい場合があります。新しいものから見ることを推奨します。"
   ]
  },
  {
   "cell_type": "markdown",
   "metadata": {},
   "source": [
    "## 3.異なるフレームワークへの書き換え\n",
    "\n",
    "「ディープラーニングフレームワーク1」で作成した4種類のデータセットを扱うTensorFLowのコードを異なるフレームワークに変更していきます。\n",
    "\n",
    "- Iris（Iris-versicolorとIris-virginicaのみの2値分類）\n",
    "- Iris（3種類全ての目的変数を使用して多値分類）\n",
    "- House Prices\n",
    "- MNIST"
   ]
  },
  {
   "cell_type": "markdown",
   "metadata": {},
   "source": [
    "### Kerasへの書き換え\n",
    "KerasはTensorFLowに含まれるtf.kerasモジュールを使用してください。\n",
    "\n",
    "KerasにはSequentialモデルかFunctional APIかなど書き方に種類がありますが、これは指定しません。"
   ]
  },
  {
   "cell_type": "markdown",
   "metadata": {},
   "source": [
    "### 【問題3】Iris（2値分類）をKerasで学習\n",
    "TensorFlowによるIrisデータセットに対する2値分類をKerasに書き換えてください。"
   ]
  },
  {
   "cell_type": "code",
   "execution_count": 3,
   "metadata": {},
   "outputs": [],
   "source": [
    "import numpy as np\n",
    "import pandas as pd\n",
    "from sklearn.model_selection import train_test_split\n",
    "# データセットの読み込み\n",
    "dataset_path =\"/Users/ikeda/Desktop/dive/diveintocode-ml/Downlowd_data/datasets_19_420_Iris.csv\"\n",
    "df = pd.read_csv(dataset_path)\n",
    "# データフレームから条件抽出\n",
    "df = df[(df[\"Species\"] == \"Iris-versicolor\")|(df[\"Species\"] == \"Iris-virginica\")]\n",
    "y = df[\"Species\"]\n",
    "X = df.loc[:, [\"SepalLengthCm\", \"SepalWidthCm\", \"PetalLengthCm\", \"PetalWidthCm\"]]\n",
    "y = np.array(y)\n",
    "X = np.array(X)\n",
    "# ラベルを数値に変換\n",
    "y[y=='Iris-versicolor'] = 0\n",
    "y[y=='Iris-virginica'] = 1\n",
    "y = y.astype(np.int)[:, np.newaxis]\n",
    "# trainとtestに分割\n",
    "X_train, X_test, y_train, y_test = train_test_split(X, y, test_size=0.2, random_state=0)\n",
    "# さらにtrainとvalに分割\n",
    "X_train, X_val, y_train, y_val = train_test_split(X_train, y_train, test_size=0.2, random_state=0)\n",
    "\n",
    "# ハイパーパラメータの設定\n",
    "learning_rate = 0.01\n",
    "batch_size = 10\n",
    "num_epochs = 10\n",
    "n_hidden1 = 50\n",
    "n_hidden2 = 100\n",
    "n_input = X_train.shape[1]\n",
    "n_samples = X_train.shape[0]\n",
    "n_classes = 1"
   ]
  },
  {
   "cell_type": "code",
   "execution_count": 4,
   "metadata": {},
   "outputs": [],
   "source": [
    "model = tf.keras.Sequential()\n",
    "model.add(tf.keras.layers.Dense(units=n_hidden1, activation='relu', input_shape=(n_input, )))\n",
    "model.add(tf.keras.layers.Dense(units=n_hidden2, activation='relu'))\n",
    "model.add(tf.keras.layers.Dense(units=n_classes, activation='sigmoid'))\n",
    "model.compile(loss='binary_crossentropy', optimizer=tf.keras.optimizers.Adam(learning_rate=0.01), metrics=['accuracy'])"
   ]
  },
  {
   "cell_type": "code",
   "execution_count": 5,
   "metadata": {},
   "outputs": [
    {
     "data": {
      "image/png": "[encoded data removed]",
      "text/plain": [
       "<IPython.core.display.Image object>"
      ]
     },
     "execution_count": 5,
     "metadata": {},
     "output_type": "execute_result"
    }
   ],
   "source": [
    "tf.keras.utils.plot_model(model, show_shapes=True)"
   ]
  },
  {
   "cell_type": "code",
   "execution_count": 6,
   "metadata": {},
   "outputs": [
    {
     "name": "stdout",
     "output_type": "stream",
     "text": [
      "Train on 64 samples, validate on 16 samples\n",
      "Epoch 1/10\n",
      "64/64 - 1s - loss: 0.8499 - accuracy: 0.5000 - val_loss: 0.6495 - val_accuracy: 0.6250\n",
      "Epoch 2/10\n",
      "64/64 - 0s - loss: 0.6270 - accuracy: 0.6250 - val_loss: 0.6629 - val_accuracy: 0.3750\n",
      "Epoch 3/10\n",
      "64/64 - 0s - loss: 0.5344 - accuracy: 0.8594 - val_loss: 0.4848 - val_accuracy: 0.9375\n",
      "Epoch 4/10\n",
      "64/64 - 0s - loss: 0.4704 - accuracy: 0.8438 - val_loss: 0.3865 - val_accuracy: 0.8750\n",
      "Epoch 5/10\n",
      "64/64 - 0s - loss: 0.3624 - accuracy: 0.8438 - val_loss: 0.5847 - val_accuracy: 0.5625\n",
      "Epoch 6/10\n",
      "64/64 - 0s - loss: 0.3574 - accuracy: 0.8125 - val_loss: 0.4331 - val_accuracy: 0.7500\n",
      "Epoch 7/10\n",
      "64/64 - 0s - loss: 0.3822 - accuracy: 0.7656 - val_loss: 0.2466 - val_accuracy: 0.9375\n",
      "Epoch 8/10\n",
      "64/64 - 0s - loss: 0.2155 - accuracy: 0.9375 - val_loss: 0.1858 - val_accuracy: 1.0000\n",
      "Epoch 9/10\n",
      "64/64 - 0s - loss: 0.1872 - accuracy: 0.9688 - val_loss: 0.1939 - val_accuracy: 0.9375\n",
      "Epoch 10/10\n",
      "64/64 - 0s - loss: 0.1686 - accuracy: 0.9062 - val_loss: 0.1543 - val_accuracy: 0.8750\n"
     ]
    }
   ],
   "source": [
    "history = model.fit(X_train, y_train,\n",
    "                    batch_size=batch_size,\n",
    "                    epochs=num_epochs,\n",
    "                    verbose=2,\n",
    "                    validation_data=(X_val, y_val))"
   ]
  },
  {
   "cell_type": "markdown",
   "metadata": {},
   "source": [
    "### 【問題4】Iris（多値分類）をKerasで学習\n",
    "TensorFlowによるIrisデータセットに対する3値分類をKerasに書き換えてください。"
   ]
  },
  {
   "cell_type": "code",
   "execution_count": 7,
   "metadata": {},
   "outputs": [],
   "source": [
    "# データセットの読み込み\n",
    "dataset_path =\"/Users/ikeda/Desktop/dive/diveintocode-ml/Downlowd_data/datasets_19_420_Iris.csv\"\n",
    "df = pd.read_csv(dataset_path)\n",
    "# データフレームから条件抽出\n",
    "y = df[\"Species\"]\n",
    "X = df.loc[:, [\"SepalLengthCm\", \"SepalWidthCm\", \"PetalLengthCm\", \"PetalWidthCm\"]]\n",
    "y = np.array(y)\n",
    "X = np.array(X)\n",
    "# ラベルを数値に変換\n",
    "y[y=='Iris-setosa'] = 0\n",
    "y[y=='Iris-versicolor'] = 1\n",
    "y[y=='Iris-virginica'] = 2\n",
    "# one_hotへ変換\n",
    "y = y.astype(np.int)\n",
    "y = np.identity(3)[y]\n",
    "\n",
    "# trainとtestに分割\n",
    "X_train, X_test, y_train, y_test = train_test_split(X, y, test_size=0.2, random_state=0)\n",
    "# さらにtrainとvalに分割\n",
    "X_train, X_val, y_train, y_val = train_test_split(X_train, y_train, test_size=0.2, random_state=0)\n",
    "\n",
    "# ハイパーパラメータの設定\n",
    "learning_rate = 0.01\n",
    "batch_size = 10\n",
    "num_epochs = 10\n",
    "n_hidden1 = 50\n",
    "n_hidden2 = 100\n",
    "n_input = X_train.shape[1]\n",
    "n_samples = X_train.shape[0]\n",
    "n_classes = 3"
   ]
  },
  {
   "cell_type": "code",
   "execution_count": 8,
   "metadata": {},
   "outputs": [],
   "source": [
    "model = tf.keras.Sequential()\n",
    "model.add(tf.keras.layers.Dense(units=n_hidden1, activation='relu', input_shape=(n_input, )))\n",
    "model.add(tf.keras.layers.Dense(units=n_hidden2, activation='relu'))\n",
    "model.add(tf.keras.layers.Dense(units=n_classes, activation='softmax'))\n",
    "model.compile(loss='categorical_crossentropy', optimizer=tf.keras.optimizers.Adam(learning_rate=0.01), metrics=['categorical_accuracy'])"
   ]
  },
  {
   "cell_type": "code",
   "execution_count": 9,
   "metadata": {},
   "outputs": [
    {
     "name": "stdout",
     "output_type": "stream",
     "text": [
      "Train on 96 samples, validate on 24 samples\n",
      "Epoch 1/10\n",
      "96/96 - 1s - loss: 1.1383 - categorical_accuracy: 0.5104 - val_loss: 0.6494 - val_categorical_accuracy: 0.6250\n",
      "Epoch 2/10\n",
      "96/96 - 0s - loss: 0.4685 - categorical_accuracy: 0.7396 - val_loss: 0.5537 - val_categorical_accuracy: 0.7083\n",
      "Epoch 3/10\n",
      "96/96 - 0s - loss: 0.3417 - categorical_accuracy: 0.8646 - val_loss: 0.3111 - val_categorical_accuracy: 0.9167\n",
      "Epoch 4/10\n",
      "96/96 - 0s - loss: 0.2093 - categorical_accuracy: 0.9688 - val_loss: 0.2559 - val_categorical_accuracy: 0.9167\n",
      "Epoch 5/10\n",
      "96/96 - 0s - loss: 0.1420 - categorical_accuracy: 0.9479 - val_loss: 0.4905 - val_categorical_accuracy: 0.7500\n",
      "Epoch 6/10\n",
      "96/96 - 0s - loss: 0.1708 - categorical_accuracy: 0.9271 - val_loss: 0.2164 - val_categorical_accuracy: 0.8333\n",
      "Epoch 7/10\n",
      "96/96 - 0s - loss: 0.1276 - categorical_accuracy: 0.9479 - val_loss: 0.4237 - val_categorical_accuracy: 0.7500\n",
      "Epoch 8/10\n",
      "96/96 - 0s - loss: 0.1744 - categorical_accuracy: 0.9271 - val_loss: 0.1863 - val_categorical_accuracy: 0.9583\n",
      "Epoch 9/10\n",
      "96/96 - 0s - loss: 0.1333 - categorical_accuracy: 0.9583 - val_loss: 0.2315 - val_categorical_accuracy: 0.9167\n",
      "Epoch 10/10\n",
      "96/96 - 0s - loss: 0.0565 - categorical_accuracy: 0.9896 - val_loss: 0.3332 - val_categorical_accuracy: 0.9167\n"
     ]
    }
   ],
   "source": [
    "history = model.fit(X_train, y_train,\n",
    "                    batch_size=batch_size,\n",
    "                    epochs=num_epochs,\n",
    "                    verbose=2,\n",
    "                    validation_data=(X_val, y_val))"
   ]
  },
  {
   "cell_type": "markdown",
   "metadata": {},
   "source": [
    "### 【問題5】House PricesをKerasで学習\n",
    "TensorFlowによるHouse Pricesデータセットに対する回帰をKerasに書き換えてください。"
   ]
  },
  {
   "cell_type": "code",
   "execution_count": 10,
   "metadata": {},
   "outputs": [],
   "source": [
    "# データセットの読み込み\n",
    "dataset_path =\"/Users/ikeda/Desktop/dive/diveintocode-ml/Downlowd_data/train.csv\"\n",
    "df = pd.read_csv(dataset_path)\n",
    "# データフレームから条件抽出\n",
    "objective_variable = 'SalePrice'\n",
    "features = ['GrLivArea', 'YearBuilt']\n",
    "\n",
    "y = df[objective_variable]\n",
    "X = df.loc[:, features]\n",
    "y = np.array(y)\n",
    "X = np.array(X)\n",
    "y = y.astype(np.int)[:, np.newaxis]\n",
    "\n",
    "# trainとtestに分割\n",
    "X_train, X_test, y_train, y_test = train_test_split(X, y, test_size=0.2, random_state=0)\n",
    "# さらにtrainとvalに分割\n",
    "X_train, X_val, y_train, y_val = train_test_split(X_train, y_train, test_size=0.2, random_state=0)\n",
    "\n",
    "# Xを標準化\n",
    "from sklearn.preprocessing import StandardScaler\n",
    "std = StandardScaler()\n",
    "X_train = std.fit_transform(X_train)\n",
    "X_val = std.transform(X_val)\n",
    "X_test = std.transform(X_test)\n",
    "\n",
    "# ハイパーパラメータの設定\n",
    "learning_rate = 0.01\n",
    "batch_size = 10\n",
    "num_epochs = 10\n",
    "n_hidden1 = 50\n",
    "n_hidden2 = 100\n",
    "n_input = X_train.shape[1]\n",
    "n_samples = X_train\n",
    "n_classes = 1"
   ]
  },
  {
   "cell_type": "code",
   "execution_count": 11,
   "metadata": {},
   "outputs": [],
   "source": [
    "# 決定係数\n",
    "def det_coeff(y_true, y_pred):\n",
    "    u = tf.reduce_sum(tf.square(y_true - y_pred))\n",
    "    v = tf.reduce_sum(tf.square(y_true - tf.reduce_mean(y_true)))\n",
    "    return tf.ones_like(v) - (u / v)"
   ]
  },
  {
   "cell_type": "code",
   "execution_count": 12,
   "metadata": {},
   "outputs": [],
   "source": [
    "model = tf.keras.Sequential()\n",
    "model.add(tf.keras.layers.Dense(units=n_hidden1, activation='relu', input_shape=(n_input, )))\n",
    "model.add(tf.keras.layers.Dense(units=n_hidden2, activation='relu'))\n",
    "model.add(tf.keras.layers.Dense(units=n_classes, activation=None))\n",
    "model.compile(loss='mean_squared_error', optimizer=tf.keras.optimizers.Adam(learning_rate=0.01), metrics=[det_coeff])\n",
    "# metrics=['root_mean_squared_error']"
   ]
  },
  {
   "cell_type": "code",
   "execution_count": 13,
   "metadata": {},
   "outputs": [
    {
     "name": "stdout",
     "output_type": "stream",
     "text": [
      "Train on 934 samples, validate on 234 samples\n",
      "Epoch 1/10\n",
      "934/934 - 1s - loss: 38827281883.8201 - det_coeff: -9.4814e+00 - val_loss: 34994018198.9744 - val_det_coeff: -1.3406e+01\n",
      "Epoch 2/10\n",
      "934/934 - 0s - loss: 29377438700.2655 - det_coeff: -6.4400e+00 - val_loss: 15566800567.7949 - val_det_coeff: -5.3569e+00\n",
      "Epoch 3/10\n",
      "934/934 - 0s - loss: 7492828620.8822 - det_coeff: -9.9249e-01 - val_loss: 1812857825.9145 - val_det_coeff: -5.0133e-02\n",
      "Epoch 4/10\n",
      "934/934 - 0s - loss: 2201119140.7281 - det_coeff: 0.4967 - val_loss: 1524833123.2821 - val_det_coeff: 0.1043\n",
      "Epoch 5/10\n",
      "934/934 - 0s - loss: 2067460168.0857 - det_coeff: 0.5118 - val_loss: 1576759852.8547 - val_det_coeff: 0.0587\n",
      "Epoch 6/10\n",
      "934/934 - 0s - loss: 2068534473.5246 - det_coeff: 0.5608 - val_loss: 1553682203.8974 - val_det_coeff: 0.0868\n",
      "Epoch 7/10\n",
      "934/934 - 0s - loss: 2054300805.1392 - det_coeff: 0.4893 - val_loss: 1495899227.3504 - val_det_coeff: 0.1433\n",
      "Epoch 8/10\n",
      "934/934 - 0s - loss: 2035285872.9251 - det_coeff: 0.5601 - val_loss: 1509741257.0256 - val_det_coeff: 0.1273\n",
      "Epoch 9/10\n",
      "934/934 - 0s - loss: 2030335030.2013 - det_coeff: 0.5838 - val_loss: 1488253468.4444 - val_det_coeff: 0.1395\n",
      "Epoch 10/10\n",
      "934/934 - 0s - loss: 2030250580.8308 - det_coeff: 0.5240 - val_loss: 1479971859.4188 - val_det_coeff: 0.1459\n"
     ]
    }
   ],
   "source": [
    "history = model.fit(X_train, y_train,\n",
    "                    batch_size=batch_size,\n",
    "                    epochs=num_epochs,\n",
    "                    verbose=2,\n",
    "                    validation_data=(X_val, y_val))"
   ]
  },
  {
   "cell_type": "markdown",
   "metadata": {},
   "source": [
    "### 【問題6】MNISTをKerasで学習\n",
    "TensorFlowによるMNISTデータセットによる画像の多値分類をKerasに書き換えてください。"
   ]
  },
  {
   "cell_type": "code",
   "execution_count": 14,
   "metadata": {},
   "outputs": [],
   "source": [
    "# データセットの読み込み\n",
    "from tensorflow.keras.datasets import mnist\n",
    "(X_train, y_train), (X_test, y_test) = mnist.load_data()\n",
    "# 平滑化\n",
    "X_train = X_train.reshape(-1, 784)\n",
    "X_test = X_test.reshape(-1, 784)\n",
    "# 前処理\n",
    "X_train = X_train.astype(np.float)\n",
    "X_test = X_test.astype(np.float)\n",
    "X_train /= 255\n",
    "X_test /= 255\n",
    "\n",
    "# one_hotへ変換\n",
    "y_test = np.identity(10)[y_test]\n",
    "y_train = np.identity(10)[y_train]\n",
    "\n",
    "# さらにtrainとvalに分割\n",
    "X_train, X_val, y_train, y_val = train_test_split(X_train, y_train, test_size=0.2, random_state=0)\n",
    "\n",
    "# ハイパーパラメータの設定\n",
    "learning_rate = 0.01\n",
    "batch_size = 20\n",
    "num_epochs = 20\n",
    "n_hidden1 = 400\n",
    "n_hidden2 = 200\n",
    "n_input = X_train.shape[1]\n",
    "n_samples = X_train.shape[0]\n",
    "n_classes = 10"
   ]
  },
  {
   "cell_type": "code",
   "execution_count": 15,
   "metadata": {},
   "outputs": [],
   "source": [
    "model = tf.keras.Sequential()\n",
    "model.add(tf.keras.layers.Dense(units=n_hidden1, activation='relu', input_shape=(n_input, )))\n",
    "model.add(tf.keras.layers.Dense(units=n_hidden2, activation='relu'))\n",
    "model.add(tf.keras.layers.Dense(units=n_classes, activation='softmax'))\n",
    "model.compile(loss='categorical_crossentropy', optimizer=tf.keras.optimizers.Adam(learning_rate=0.01), metrics=['categorical_accuracy'])"
   ]
  },
  {
   "cell_type": "code",
   "execution_count": 16,
   "metadata": {},
   "outputs": [
    {
     "name": "stdout",
     "output_type": "stream",
     "text": [
      "Train on 48000 samples, validate on 12000 samples\n",
      "Epoch 1/20\n",
      "48000/48000 - 19s - loss: 0.3432 - categorical_accuracy: 0.9072 - val_loss: 0.3947 - val_categorical_accuracy: 0.9053\n",
      "Epoch 2/20\n",
      "48000/48000 - 17s - loss: 0.2369 - categorical_accuracy: 0.9395 - val_loss: 0.2170 - val_categorical_accuracy: 0.9412\n",
      "Epoch 3/20\n",
      "48000/48000 - 17s - loss: 0.1981 - categorical_accuracy: 0.9499 - val_loss: 0.2205 - val_categorical_accuracy: 0.9465\n",
      "Epoch 4/20\n",
      "48000/48000 - 17s - loss: 0.1917 - categorical_accuracy: 0.9536 - val_loss: 0.2210 - val_categorical_accuracy: 0.9473\n",
      "Epoch 5/20\n",
      "48000/48000 - 17s - loss: 0.1722 - categorical_accuracy: 0.9566 - val_loss: 0.2282 - val_categorical_accuracy: 0.9455\n",
      "Epoch 6/20\n",
      "48000/48000 - 17s - loss: 0.1557 - categorical_accuracy: 0.9621 - val_loss: 0.2195 - val_categorical_accuracy: 0.9535\n",
      "Epoch 7/20\n",
      "48000/48000 - 17s - loss: 0.1704 - categorical_accuracy: 0.9603 - val_loss: 0.2717 - val_categorical_accuracy: 0.9528\n",
      "Epoch 8/20\n",
      "48000/48000 - 17s - loss: 0.1444 - categorical_accuracy: 0.9667 - val_loss: 0.1763 - val_categorical_accuracy: 0.9622\n",
      "Epoch 9/20\n",
      "48000/48000 - 17s - loss: 0.1326 - categorical_accuracy: 0.9696 - val_loss: 0.1869 - val_categorical_accuracy: 0.9627\n",
      "Epoch 10/20\n",
      "48000/48000 - 18s - loss: 0.1375 - categorical_accuracy: 0.9685 - val_loss: 0.2135 - val_categorical_accuracy: 0.9567\n",
      "Epoch 11/20\n",
      "48000/48000 - 17s - loss: 0.1406 - categorical_accuracy: 0.9676 - val_loss: 0.2902 - val_categorical_accuracy: 0.9501\n",
      "Epoch 12/20\n",
      "48000/48000 - 18s - loss: 0.1401 - categorical_accuracy: 0.9693 - val_loss: 0.2025 - val_categorical_accuracy: 0.9593\n",
      "Epoch 13/20\n",
      "48000/48000 - 17s - loss: 0.1314 - categorical_accuracy: 0.9705 - val_loss: 0.1992 - val_categorical_accuracy: 0.9623\n",
      "Epoch 14/20\n",
      "48000/48000 - 17s - loss: 0.1267 - categorical_accuracy: 0.9718 - val_loss: 0.2879 - val_categorical_accuracy: 0.9565\n",
      "Epoch 15/20\n",
      "48000/48000 - 17s - loss: 0.1425 - categorical_accuracy: 0.9693 - val_loss: 0.2829 - val_categorical_accuracy: 0.9588\n",
      "Epoch 16/20\n",
      "48000/48000 - 17s - loss: 0.1303 - categorical_accuracy: 0.9718 - val_loss: 0.3010 - val_categorical_accuracy: 0.9557\n",
      "Epoch 17/20\n",
      "48000/48000 - 17s - loss: 0.1142 - categorical_accuracy: 0.9746 - val_loss: 0.2264 - val_categorical_accuracy: 0.9663\n",
      "Epoch 18/20\n",
      "48000/48000 - 17s - loss: 0.1328 - categorical_accuracy: 0.9731 - val_loss: 0.3041 - val_categorical_accuracy: 0.9645\n",
      "Epoch 19/20\n",
      "48000/48000 - 18s - loss: 0.1220 - categorical_accuracy: 0.9736 - val_loss: 0.2544 - val_categorical_accuracy: 0.9541\n",
      "Epoch 20/20\n",
      "48000/48000 - 775s - loss: 0.1288 - categorical_accuracy: 0.9705 - val_loss: 0.2909 - val_categorical_accuracy: 0.9627\n"
     ]
    }
   ],
   "source": [
    "history = model.fit(X_train, y_train,\n",
    "                    batch_size=batch_size,\n",
    "                    epochs=num_epochs,\n",
    "                    verbose=2,\n",
    "                    validation_data=(X_val, y_val))"
   ]
  },
  {
   "cell_type": "markdown",
   "metadata": {},
   "source": [
    "### 【問題7】（アドバンス課題）PyTorchへの書き換え\n",
    "4種類の問題をPyTorchに書き換えてください。"
   ]
  },
  {
   "cell_type": "code",
   "execution_count": 17,
   "metadata": {},
   "outputs": [
    {
     "data": {
      "text/plain": [
       "'1.6.0'"
      ]
     },
     "execution_count": 17,
     "metadata": {},
     "output_type": "execute_result"
    }
   ],
   "source": [
    "import torch\n",
    "torch.__version__"
   ]
  },
  {
   "cell_type": "code",
   "execution_count": 18,
   "metadata": {},
   "outputs": [],
   "source": [
    "import torch.nn as nn\n",
    "import torch.optim as optim\n",
    "from torch.utils.data import TensorDataset, DataLoader\n",
    "from tqdm import tqdm"
   ]
  },
  {
   "cell_type": "markdown",
   "metadata": {},
   "source": [
    "#### Iris（2値分類）"
   ]
  },
  {
   "cell_type": "code",
   "execution_count": 19,
   "metadata": {},
   "outputs": [],
   "source": [
    "import numpy as np\n",
    "import pandas as pd\n",
    "from sklearn.model_selection import train_test_split\n",
    "# データセットの読み込み\n",
    "dataset_path =\"/Users/ikeda/Desktop/dive/diveintocode-ml/Downlowd_data/datasets_19_420_Iris.csv\"\n",
    "df = pd.read_csv(dataset_path)\n",
    "# データフレームから条件抽出\n",
    "df = df[(df[\"Species\"] == \"Iris-versicolor\")|(df[\"Species\"] == \"Iris-virginica\")]\n",
    "y = df[\"Species\"]\n",
    "X = df.loc[:, [\"SepalLengthCm\", \"SepalWidthCm\", \"PetalLengthCm\", \"PetalWidthCm\"]]\n",
    "y = np.array(y)\n",
    "X = np.array(X)\n",
    "# ラベルを数値に変換\n",
    "y[y=='Iris-versicolor'] = 0\n",
    "y[y=='Iris-virginica'] = 1\n",
    "# y = y.astype(np.int)[:, np.newaxis]\n",
    "y = y.astype(np.int)\n",
    "# one_hotへ変換\n",
    "# y = y.astype(np.int)\n",
    "# y = np.identity(2)[y]\n",
    "\n",
    "# trainとtestに分割\n",
    "X_train, X_test, y_train, y_test = train_test_split(X, y, test_size=0.2, random_state=0)\n",
    "# さらにtrainとvalに分割\n",
    "X_train, X_val, y_train, y_val = train_test_split(X_train, y_train, test_size=0.2, random_state=0)\n",
    "\n",
    "# ハイパーパラメータの設定\n",
    "learning_rate = 0.01\n",
    "batch_size = 10\n",
    "num_epochs = 10\n",
    "n_hidden1 = 50\n",
    "n_hidden2 = 100\n",
    "n_input = X_train.shape[1]\n",
    "n_samples = X_train.shape[0]\n",
    "n_classes = 2"
   ]
  },
  {
   "cell_type": "code",
   "execution_count": 20,
   "metadata": {},
   "outputs": [],
   "source": [
    "# 形を直してバッチ情報を取得\n",
    "X_train = torch.from_numpy(X_train).float()\n",
    "X_val = torch.from_numpy(X_val).float()\n",
    "X_test = torch.from_numpy(X_test).float()\n",
    "y_train = torch.from_numpy(y_train).long()\n",
    "y_val = torch.from_numpy(y_val).long()\n",
    "y_test = torch.from_numpy(y_test).long()\n",
    "ds_train = TensorDataset(X_train, y_train)\n",
    "loader_train = DataLoader(ds_train, batch_size=batch_size, shuffle=True)"
   ]
  },
  {
   "cell_type": "code",
   "execution_count": 21,
   "metadata": {},
   "outputs": [
    {
     "data": {
      "text/plain": [
       "Sequential(\n",
       "  (fc1): Linear(in_features=4, out_features=50, bias=True)\n",
       "  (relu1): ReLU()\n",
       "  (fc2): Linear(in_features=50, out_features=100, bias=True)\n",
       "  (relu2): ReLU()\n",
       "  (fc3): Linear(in_features=100, out_features=2, bias=True)\n",
       ")"
      ]
     },
     "execution_count": 21,
     "metadata": {},
     "output_type": "execute_result"
    }
   ],
   "source": [
    "# モデルを構築\n",
    "model = nn.Sequential()\n",
    "model.add_module('fc1', nn.Linear(n_input, n_hidden1))\n",
    "model.add_module('relu1', nn.ReLU())\n",
    "model.add_module('fc2', nn.Linear(n_hidden1, n_hidden2))\n",
    "model.add_module('relu2', nn.ReLU())\n",
    "model.add_module('fc3', nn.Linear(n_hidden2, n_classes))\n",
    "# model.add_module('softmax', nn.Softmax(dim=1))\n",
    "model"
   ]
  },
  {
   "cell_type": "code",
   "execution_count": 22,
   "metadata": {},
   "outputs": [],
   "source": [
    "# 最適化手法のパラメータ設定\n",
    "optimizer = optim.SGD(model.parameters(), lr=0.01)\n",
    "# loss関数の定義\n",
    "criterion = nn.CrossEntropyLoss()"
   ]
  },
  {
   "cell_type": "code",
   "execution_count": 23,
   "metadata": {},
   "outputs": [
    {
     "name": "stderr",
     "output_type": "stream",
     "text": [
      "100%|██████████| 10/10 [00:00<00:00, 95.32it/s]"
     ]
    },
    {
     "name": "stdout",
     "output_type": "stream",
     "text": [
      "Epoch 1, total_loss : 0.5134, val_loss : 0.7451, total_acc : 0.328, val_acc : 0.375\n",
      "Epoch 2, total_loss : 0.5000, val_loss : 0.7484, total_acc : 0.391, val_acc : 0.375\n",
      "Epoch 3, total_loss : 0.4937, val_loss : 0.8357, total_acc : 0.562, val_acc : 0.375\n",
      "Epoch 4, total_loss : 0.4877, val_loss : 0.7096, total_acc : 0.531, val_acc : 0.375\n",
      "Epoch 5, total_loss : 0.4749, val_loss : 0.7153, total_acc : 0.562, val_acc : 0.375\n",
      "Epoch 6, total_loss : 0.4792, val_loss : 0.6879, total_acc : 0.562, val_acc : 0.375\n",
      "Epoch 7, total_loss : 0.4752, val_loss : 0.6758, total_acc : 0.547, val_acc : 0.438\n",
      "Epoch 8, total_loss : 0.4558, val_loss : 0.6781, total_acc : 0.547, val_acc : 0.375\n",
      "Epoch 9, total_loss : 0.4503, val_loss : 0.7378, total_acc : 0.578, val_acc : 0.375\n",
      "Epoch 10, total_loss : 0.4662, val_loss : 0.6315, total_acc : 0.562, val_acc : 0.875\n"
     ]
    },
    {
     "name": "stderr",
     "output_type": "stream",
     "text": [
      "\n"
     ]
    }
   ],
   "source": [
    "# バッチ正規化等、学習時と推論時で振る舞いの違うモジュールの振る舞いを学習時の振る舞いに\n",
    "# model.eval()で推論時の振る舞いに変更可能\n",
    "model.train()\n",
    "# 学習ループ\n",
    "for epoch in tqdm(range(1, num_epochs+1)):\n",
    "    total_acc = 0\n",
    "    total_correct = 0\n",
    "    total_loss = 0\n",
    "    # ミニバッチ毎ににループ\n",
    "    for mini_batch_x, mini_batch_y in loader_train:    \n",
    "        # 勾配の初期化\n",
    "        optimizer.zero_grad()\n",
    "        # 順伝播\n",
    "        out = model(mini_batch_x)\n",
    "        # 推論する\n",
    "        pred = out.data.max(1)[1] # 出力ラベルを求める\n",
    "        correct = pred.eq(mini_batch_y.data).sum()  # 正解と一緒だったらカウントアップ\n",
    "        # print(pred, correct)\n",
    "        total_correct += correct\n",
    "        # print(total_correct)\n",
    "        # ロスの計算\n",
    "        loss = criterion(out, mini_batch_y)\n",
    "        total_loss += loss\n",
    "        # print(total_loss)\n",
    "        # 勾配の計算\n",
    "        loss.backward()\n",
    "        # パラメータの更新\n",
    "        optimizer.step()\n",
    "    total_loss /= batch_size\n",
    "    # print(total_loss)\n",
    "    total_acc = total_correct.numpy() / n_samples\n",
    "    # print(total_acc)\n",
    "    val_out = model(X_val)\n",
    "    val_pred = val_out.data.max(1, keepdim=True)[1] # 出力ラベルを求める\n",
    "    val_correct = val_pred.eq(y_val.data.view_as(val_pred)).sum()  # 正解と一緒だったらカウントアップ\n",
    "    val_acc = val_correct.numpy() / len(y_val.data)\n",
    "    \n",
    "    val_loss = criterion(val_out, y_val)\n",
    "    print(\"Epoch {}, total_loss : {:.4f}, val_loss : {:.4f}, total_acc : {:.3f}, val_acc : {:.3f}\".format(epoch, total_loss, val_loss, total_acc, val_acc))"
   ]
  },
  {
   "cell_type": "markdown",
   "metadata": {},
   "source": [
    "#### Iris（多値分類）"
   ]
  },
  {
   "cell_type": "code",
   "execution_count": 24,
   "metadata": {},
   "outputs": [],
   "source": [
    "# データセットの読み込み\n",
    "dataset_path =\"/Users/ikeda/Desktop/dive/diveintocode-ml/Downlowd_data/datasets_19_420_Iris.csv\"\n",
    "df = pd.read_csv(dataset_path)\n",
    "# データフレームから条件抽出\n",
    "y = df[\"Species\"]\n",
    "X = df.loc[:, [\"SepalLengthCm\", \"SepalWidthCm\", \"PetalLengthCm\", \"PetalWidthCm\"]]\n",
    "y = np.array(y)\n",
    "X = np.array(X)\n",
    "# ラベルを数値に変換\n",
    "y[y=='Iris-setosa'] = 0\n",
    "y[y=='Iris-versicolor'] = 1\n",
    "y[y=='Iris-virginica'] = 2\n",
    "# one_hotへ変換\n",
    "y = y.astype(np.int)\n",
    "# y = np.identity(3)[y]\n",
    "\n",
    "# trainとtestに分割\n",
    "X_train, X_test, y_train, y_test = train_test_split(X, y, test_size=0.2, random_state=0)\n",
    "# さらにtrainとvalに分割\n",
    "X_train, X_val, y_train, y_val = train_test_split(X_train, y_train, test_size=0.2, random_state=0)\n",
    "\n",
    "# ハイパーパラメータの設定\n",
    "learning_rate = 0.01\n",
    "batch_size = 10\n",
    "num_epochs = 10\n",
    "n_hidden1 = 50\n",
    "n_hidden2 = 100\n",
    "n_input = X_train.shape[1]\n",
    "n_samples = X_train.shape[0]\n",
    "n_classes = 3"
   ]
  },
  {
   "cell_type": "code",
   "execution_count": 25,
   "metadata": {},
   "outputs": [],
   "source": [
    "# 形を直してバッチ情報を取得\n",
    "X_train = torch.from_numpy(X_train).float()\n",
    "X_val = torch.from_numpy(X_val).float()\n",
    "X_test = torch.from_numpy(X_test).float()\n",
    "y_train = torch.from_numpy(y_train).long()\n",
    "y_val = torch.from_numpy(y_val).long()\n",
    "y_test = torch.from_numpy(y_test).long()\n",
    "ds_train = TensorDataset(X_train, y_train)\n",
    "loader_train = DataLoader(ds_train, batch_size=batch_size, shuffle=True)"
   ]
  },
  {
   "cell_type": "code",
   "execution_count": 26,
   "metadata": {},
   "outputs": [
    {
     "data": {
      "text/plain": [
       "Sequential(\n",
       "  (fc1): Linear(in_features=4, out_features=50, bias=True)\n",
       "  (relu1): ReLU()\n",
       "  (fc2): Linear(in_features=50, out_features=100, bias=True)\n",
       "  (relu2): ReLU()\n",
       "  (fc3): Linear(in_features=100, out_features=3, bias=True)\n",
       ")"
      ]
     },
     "execution_count": 26,
     "metadata": {},
     "output_type": "execute_result"
    }
   ],
   "source": [
    "# モデルを構築\n",
    "model = nn.Sequential()\n",
    "model.add_module('fc1', nn.Linear(n_input, n_hidden1))\n",
    "model.add_module('relu1', nn.ReLU())\n",
    "model.add_module('fc2', nn.Linear(n_hidden1, n_hidden2))\n",
    "model.add_module('relu2', nn.ReLU())\n",
    "model.add_module('fc3', nn.Linear(n_hidden2, n_classes))\n",
    "# model.add_module('softmax', nn.Softmax(dim=1))\n",
    "model"
   ]
  },
  {
   "cell_type": "code",
   "execution_count": 27,
   "metadata": {},
   "outputs": [],
   "source": [
    "# 最適化手法のパラメータ設定\n",
    "optimizer = optim.SGD(model.parameters(), lr=0.01)\n",
    "# loss関数の定義\n",
    "criterion = nn.CrossEntropyLoss()"
   ]
  },
  {
   "cell_type": "code",
   "execution_count": 28,
   "metadata": {},
   "outputs": [
    {
     "name": "stderr",
     "output_type": "stream",
     "text": [
      "\r",
      "  0%|          | 0/10 [00:00<?, ?it/s]"
     ]
    },
    {
     "name": "stdout",
     "output_type": "stream",
     "text": [
      "Epoch 1, total_loss : 1.0747, val_loss : 0.9629, total_acc : 0.323, val_acc : 0.708\n",
      "Epoch 2, total_loss : 0.9345, val_loss : 0.8792, total_acc : 0.667, val_acc : 0.708\n",
      "Epoch 3, total_loss : 0.8560, val_loss : 0.8118, total_acc : 0.688, val_acc : 0.708\n",
      "Epoch 4, total_loss : 0.7930, val_loss : 0.7471, total_acc : 0.688, val_acc : 0.708\n"
     ]
    },
    {
     "name": "stderr",
     "output_type": "stream",
     "text": [
      "100%|██████████| 10/10 [00:00<00:00, 85.34it/s]"
     ]
    },
    {
     "name": "stdout",
     "output_type": "stream",
     "text": [
      "Epoch 5, total_loss : 0.7210, val_loss : 0.6952, total_acc : 0.771, val_acc : 0.708\n",
      "Epoch 6, total_loss : 0.6774, val_loss : 0.6443, total_acc : 0.688, val_acc : 0.708\n",
      "Epoch 7, total_loss : 0.6282, val_loss : 0.5983, total_acc : 0.740, val_acc : 0.708\n",
      "Epoch 8, total_loss : 0.5849, val_loss : 0.5635, total_acc : 0.844, val_acc : 0.708\n",
      "Epoch 9, total_loss : 0.5556, val_loss : 0.5533, total_acc : 0.760, val_acc : 0.875\n",
      "Epoch 10, total_loss : 0.5232, val_loss : 0.5175, total_acc : 0.844, val_acc : 0.708\n"
     ]
    },
    {
     "name": "stderr",
     "output_type": "stream",
     "text": [
      "\n"
     ]
    }
   ],
   "source": [
    "# バッチ正規化等、学習時と推論時で振る舞いの違うモジュールの振る舞いを学習時の振る舞いに\n",
    "# model.eval()で推論時の振る舞いに変更可能\n",
    "model.train()\n",
    "# 学習ループ\n",
    "for epoch in tqdm(range(1, num_epochs+1)):\n",
    "    total_acc = 0\n",
    "    total_correct = 0\n",
    "    total_loss = 0\n",
    "    # ミニバッチ毎ににループ\n",
    "    for mini_batch_x, mini_batch_y in loader_train:    \n",
    "        # 勾配の初期化\n",
    "        optimizer.zero_grad()\n",
    "        # 順伝播\n",
    "        out = model(mini_batch_x)\n",
    "        # 推論する\n",
    "        pred = out.data.max(1)[1] # 出力ラベルを求める\n",
    "        correct = pred.eq(mini_batch_y.data).sum()  # 正解と一緒だったらカウントアップ\n",
    "        # print(pred, correct)\n",
    "        total_correct += correct\n",
    "        # print(total_correct)\n",
    "        # ロスの計算\n",
    "        loss = criterion(out, mini_batch_y)\n",
    "        total_loss += loss\n",
    "        # print(total_loss)\n",
    "        # 勾配の計算\n",
    "        loss.backward()\n",
    "        # パラメータの更新\n",
    "        optimizer.step()\n",
    "    total_loss /= batch_size\n",
    "    # print(total_loss)\n",
    "    total_acc = total_correct.numpy() / n_samples\n",
    "    # print(total_acc)\n",
    "    val_out = model(X_val)\n",
    "    val_pred = val_out.data.max(1, keepdim=True)[1] # 出力ラベルを求める\n",
    "    val_correct = val_pred.eq(y_val.data.view_as(val_pred)).sum()  # 正解と一緒だったらカウントアップ\n",
    "    val_acc = val_correct.numpy() / len(y_val.data)\n",
    "    \n",
    "    val_loss = criterion(val_out, y_val)\n",
    "    print(\"Epoch {}, total_loss : {:.4f}, val_loss : {:.4f}, total_acc : {:.3f}, val_acc : {:.3f}\".format(epoch, total_loss, val_loss, total_acc, val_acc))"
   ]
  },
  {
   "cell_type": "markdown",
   "metadata": {},
   "source": [
    "#### House Prices"
   ]
  },
  {
   "cell_type": "code",
   "execution_count": 29,
   "metadata": {},
   "outputs": [],
   "source": [
    "# データセットの読み込み\n",
    "dataset_path =\"/Users/ikeda/Desktop/dive/diveintocode-ml/Downlowd_data/train.csv\"\n",
    "df = pd.read_csv(dataset_path)\n",
    "# データフレームから条件抽出\n",
    "objective_variable = 'SalePrice'\n",
    "features = ['GrLivArea', 'YearBuilt']\n",
    "\n",
    "y = df[objective_variable]\n",
    "X = df.loc[:, features]\n",
    "y = np.array(y)\n",
    "X = np.array(X)\n",
    "# yを対数変換\n",
    "y = np.log(y.astype(np.int))[:, np.newaxis]\n",
    "# y = y.astype(np.int)[:, np.newaxis]\n",
    "# y = y.astype(np.int)\n",
    "\n",
    "# trainとtestに分割\n",
    "X_train, X_test, y_train, y_test = train_test_split(X, y, test_size=0.2, random_state=0)\n",
    "# さらにtrainとvalに分割\n",
    "X_train, X_val, y_train, y_val = train_test_split(X_train, y_train, test_size=0.2, random_state=0)\n",
    "\n",
    "# Xを標準化\n",
    "from sklearn.preprocessing import StandardScaler\n",
    "std = StandardScaler()\n",
    "X_train = std.fit_transform(X_train)\n",
    "X_val = std.transform(X_val)\n",
    "X_test = std.transform(X_test)\n",
    "\n",
    "# ハイパーパラメータの設定\n",
    "learning_rate = 0.01\n",
    "batch_size = 10\n",
    "num_epochs = 10\n",
    "n_hidden1 = 50\n",
    "n_hidden2 = 100\n",
    "n_input = X_train.shape[1]\n",
    "n_samples = X_train\n",
    "n_classes = 1"
   ]
  },
  {
   "cell_type": "code",
   "execution_count": 30,
   "metadata": {},
   "outputs": [],
   "source": [
    "# 形を直してバッチ情報を取得\n",
    "X_train = torch.from_numpy(X_train).float()\n",
    "X_val = torch.from_numpy(X_val).float()\n",
    "X_test = torch.from_numpy(X_test).float()\n",
    "y_train = torch.from_numpy(y_train).float()\n",
    "y_val = torch.from_numpy(y_val).float()\n",
    "y_test = torch.from_numpy(y_test).float()\n",
    "# y_train = torch.from_numpy(y_train).long()\n",
    "# y_val = torch.from_numpy(y_val).long()\n",
    "# y_test = torch.from_numpy(y_test).long()\n",
    "ds_train = TensorDataset(X_train, y_train)\n",
    "loader_train = DataLoader(ds_train, batch_size=batch_size, shuffle=True)"
   ]
  },
  {
   "cell_type": "code",
   "execution_count": 31,
   "metadata": {},
   "outputs": [
    {
     "data": {
      "text/plain": [
       "Sequential(\n",
       "  (fc1): Linear(in_features=2, out_features=50, bias=True)\n",
       "  (relu1): ReLU()\n",
       "  (fc2): Linear(in_features=50, out_features=100, bias=True)\n",
       "  (relu2): ReLU()\n",
       "  (fc3): Linear(in_features=100, out_features=1, bias=True)\n",
       ")"
      ]
     },
     "execution_count": 31,
     "metadata": {},
     "output_type": "execute_result"
    }
   ],
   "source": [
    "# モデルを構築\n",
    "model = nn.Sequential()\n",
    "model.add_module('fc1', nn.Linear(n_input, n_hidden1))\n",
    "model.add_module('relu1', nn.ReLU())\n",
    "model.add_module('fc2', nn.Linear(n_hidden1, n_hidden2))\n",
    "model.add_module('relu2', nn.ReLU())\n",
    "model.add_module('fc3', nn.Linear(n_hidden2, n_classes))\n",
    "# model.add_module('softmax', nn.Softmax(dim=1))\n",
    "model"
   ]
  },
  {
   "cell_type": "code",
   "execution_count": 32,
   "metadata": {},
   "outputs": [],
   "source": [
    "# 最適化手法のパラメータ設定\n",
    "optimizer = optim.SGD(model.parameters(), lr=0.01)\n",
    "# loss関数の定義\n",
    "criterion = nn.MSELoss()"
   ]
  },
  {
   "cell_type": "code",
   "execution_count": 33,
   "metadata": {},
   "outputs": [
    {
     "name": "stderr",
     "output_type": "stream",
     "text": [
      " 20%|██        | 2/10 [00:00<00:00, 12.29it/s]"
     ]
    },
    {
     "name": "stdout",
     "output_type": "stream",
     "text": [
      "Epoch 1, total_loss : 42.7535, val_loss : 0.5321\n",
      "Epoch 2, total_loss : 1.8718, val_loss : 0.1161\n",
      "Epoch 3, total_loss : 1.2452, val_loss : 0.0773\n"
     ]
    },
    {
     "name": "stderr",
     "output_type": "stream",
     "text": [
      " 60%|██████    | 6/10 [00:00<00:00, 13.14it/s]"
     ]
    },
    {
     "name": "stdout",
     "output_type": "stream",
     "text": [
      "Epoch 4, total_loss : 1.2874, val_loss : 0.1148\n",
      "Epoch 5, total_loss : 1.1050, val_loss : 0.0480\n",
      "Epoch 6, total_loss : 1.0781, val_loss : 0.0542\n"
     ]
    },
    {
     "name": "stderr",
     "output_type": "stream",
     "text": [
      "\r",
      " 80%|████████  | 8/10 [00:00<00:00, 13.43it/s]"
     ]
    },
    {
     "name": "stdout",
     "output_type": "stream",
     "text": [
      "Epoch 7, total_loss : 0.9775, val_loss : 0.1483\n",
      "Epoch 8, total_loss : 1.0708, val_loss : 0.1925\n",
      "Epoch 9, total_loss : 1.0640, val_loss : 0.1341\n"
     ]
    },
    {
     "name": "stderr",
     "output_type": "stream",
     "text": [
      "100%|██████████| 10/10 [00:00<00:00, 13.66it/s]"
     ]
    },
    {
     "name": "stdout",
     "output_type": "stream",
     "text": [
      "Epoch 10, total_loss : 1.4285, val_loss : 0.3231\n"
     ]
    },
    {
     "name": "stderr",
     "output_type": "stream",
     "text": [
      "\n"
     ]
    }
   ],
   "source": [
    "# バッチ正規化等、学習時と推論時で振る舞いの違うモジュールの振る舞いを学習時の振る舞いに\n",
    "# model.eval()で推論時の振る舞いに変更可能\n",
    "model.train()\n",
    "# 学習ループ\n",
    "for epoch in tqdm(range(1, num_epochs+1)):\n",
    "    total_loss = 0\n",
    "    # ミニバッチ毎ににループ\n",
    "    for mini_batch_x, mini_batch_y in loader_train:    \n",
    "        # 勾配の初期化\n",
    "        optimizer.zero_grad()\n",
    "        # 順伝播\n",
    "        out = model(mini_batch_x)\n",
    "        # print(out)\n",
    "        # ロスの計算\n",
    "        loss = criterion(out, mini_batch_y)\n",
    "        total_loss += loss\n",
    "        # print(total_loss)\n",
    "        # 勾配の計算\n",
    "        loss.backward()\n",
    "        # パラメータの更新\n",
    "        optimizer.step()\n",
    "    total_loss /= batch_size\n",
    "    # print(total_loss)\n",
    "    val_out = model(X_val)\n",
    "    val_loss = criterion(val_out, y_val)\n",
    "    print(\"Epoch {}, total_loss : {:.4f}, val_loss : {:.4f}\".format(epoch, total_loss, val_loss))"
   ]
  },
  {
   "cell_type": "markdown",
   "metadata": {},
   "source": [
    "- 目的変数を対数変換しないと、lossがうまく計算できなかった"
   ]
  },
  {
   "cell_type": "markdown",
   "metadata": {},
   "source": [
    "#### MNIST"
   ]
  },
  {
   "cell_type": "code",
   "execution_count": 34,
   "metadata": {},
   "outputs": [],
   "source": [
    "# データセットの読み込み\n",
    "from tensorflow.keras.datasets import mnist\n",
    "(X_train, y_train), (X_test, y_test) = mnist.load_data()\n",
    "# 平滑化\n",
    "X_train = X_train.reshape(-1, 784)\n",
    "X_test = X_test.reshape(-1, 784)\n",
    "# 前処理\n",
    "X_train = X_train.astype(np.float)\n",
    "X_test = X_test.astype(np.float)\n",
    "X_train /= 255\n",
    "X_test /= 255\n",
    "\n",
    "# one_hotへ変換\n",
    "# y_test = np.identity(10)[y_test]\n",
    "# y_train = np.identity(10)[y_train]\n",
    "\n",
    "# さらにtrainとvalに分割\n",
    "X_train, X_val, y_train, y_val = train_test_split(X_train, y_train, test_size=0.2, random_state=0)\n",
    "\n",
    "# ハイパーパラメータの設定\n",
    "learning_rate = 0.01\n",
    "batch_size = 20\n",
    "num_epochs = 20\n",
    "n_hidden1 = 400\n",
    "n_hidden2 = 200\n",
    "n_input = X_train.shape[1]\n",
    "n_samples = X_train.shape[0]\n",
    "n_classes = 10"
   ]
  },
  {
   "cell_type": "code",
   "execution_count": 35,
   "metadata": {},
   "outputs": [],
   "source": [
    "# 形を直してバッチ情報を取得\n",
    "X_train = torch.from_numpy(X_train).float()\n",
    "X_val = torch.from_numpy(X_val).float()\n",
    "X_test = torch.from_numpy(X_test).float()\n",
    "y_train = torch.from_numpy(y_train).long()\n",
    "y_val = torch.from_numpy(y_val).long()\n",
    "y_test = torch.from_numpy(y_test).long()\n",
    "ds_train = TensorDataset(X_train, y_train)\n",
    "loader_train = DataLoader(ds_train, batch_size=batch_size, shuffle=True)"
   ]
  },
  {
   "cell_type": "code",
   "execution_count": 36,
   "metadata": {},
   "outputs": [
    {
     "data": {
      "text/plain": [
       "Sequential(\n",
       "  (fc1): Linear(in_features=784, out_features=400, bias=True)\n",
       "  (relu1): ReLU()\n",
       "  (fc2): Linear(in_features=400, out_features=200, bias=True)\n",
       "  (relu2): ReLU()\n",
       "  (fc3): Linear(in_features=200, out_features=10, bias=True)\n",
       ")"
      ]
     },
     "execution_count": 36,
     "metadata": {},
     "output_type": "execute_result"
    }
   ],
   "source": [
    "# モデルを構築\n",
    "model = nn.Sequential()\n",
    "model.add_module('fc1', nn.Linear(n_input, n_hidden1))\n",
    "model.add_module('relu1', nn.ReLU())\n",
    "model.add_module('fc2', nn.Linear(n_hidden1, n_hidden2))\n",
    "model.add_module('relu2', nn.ReLU())\n",
    "model.add_module('fc3', nn.Linear(n_hidden2, n_classes))\n",
    "# model.add_module('softmax', nn.Softmax(dim=1))\n",
    "model"
   ]
  },
  {
   "cell_type": "code",
   "execution_count": 37,
   "metadata": {},
   "outputs": [],
   "source": [
    "# 最適化手法のパラメータ設定\n",
    "optimizer = optim.SGD(model.parameters(), lr=0.01)\n",
    "# loss関数の定義\n",
    "criterion = nn.CrossEntropyLoss()"
   ]
  },
  {
   "cell_type": "code",
   "execution_count": 38,
   "metadata": {},
   "outputs": [
    {
     "name": "stderr",
     "output_type": "stream",
     "text": [
      "  5%|▌         | 1/20 [00:04<01:31,  4.79s/it]"
     ]
    },
    {
     "name": "stdout",
     "output_type": "stream",
     "text": [
      "Epoch 1, total_loss : 111.0736, val_loss : 0.3660, total_acc : 0.768, val_acc : 0.899\n"
     ]
    },
    {
     "name": "stderr",
     "output_type": "stream",
     "text": [
      "\r",
      " 10%|█         | 2/20 [00:09<01:26,  4.80s/it]"
     ]
    },
    {
     "name": "stdout",
     "output_type": "stream",
     "text": [
      "Epoch 2, total_loss : 40.4212, val_loss : 0.2862, total_acc : 0.904, val_acc : 0.917\n"
     ]
    },
    {
     "name": "stderr",
     "output_type": "stream",
     "text": [
      "\r",
      " 15%|█▌        | 3/20 [00:14<01:20,  4.73s/it]"
     ]
    },
    {
     "name": "stdout",
     "output_type": "stream",
     "text": [
      "Epoch 3, total_loss : 33.1764, val_loss : 0.2397, total_acc : 0.921, val_acc : 0.929\n"
     ]
    },
    {
     "name": "stderr",
     "output_type": "stream",
     "text": [
      "\r",
      " 20%|██        | 4/20 [00:18<01:14,  4.68s/it]"
     ]
    },
    {
     "name": "stdout",
     "output_type": "stream",
     "text": [
      "Epoch 4, total_loss : 28.2078, val_loss : 0.2081, total_acc : 0.932, val_acc : 0.939\n"
     ]
    },
    {
     "name": "stderr",
     "output_type": "stream",
     "text": [
      "\r",
      " 25%|██▌       | 5/20 [00:23<01:10,  4.71s/it]"
     ]
    },
    {
     "name": "stdout",
     "output_type": "stream",
     "text": [
      "Epoch 5, total_loss : 24.1683, val_loss : 0.1814, total_acc : 0.943, val_acc : 0.946\n"
     ]
    },
    {
     "name": "stderr",
     "output_type": "stream",
     "text": [
      "\r",
      " 30%|███       | 6/20 [00:28<01:05,  4.71s/it]"
     ]
    },
    {
     "name": "stdout",
     "output_type": "stream",
     "text": [
      "Epoch 6, total_loss : 20.9727, val_loss : 0.1599, total_acc : 0.950, val_acc : 0.952\n"
     ]
    },
    {
     "name": "stderr",
     "output_type": "stream",
     "text": [
      "\r",
      " 35%|███▌      | 7/20 [00:32<01:00,  4.62s/it]"
     ]
    },
    {
     "name": "stdout",
     "output_type": "stream",
     "text": [
      "Epoch 7, total_loss : 18.4093, val_loss : 0.1501, total_acc : 0.956, val_acc : 0.954\n"
     ]
    },
    {
     "name": "stderr",
     "output_type": "stream",
     "text": [
      "\r",
      " 40%|████      | 8/20 [00:36<00:54,  4.54s/it]"
     ]
    },
    {
     "name": "stdout",
     "output_type": "stream",
     "text": [
      "Epoch 8, total_loss : 16.2708, val_loss : 0.1315, total_acc : 0.961, val_acc : 0.961\n"
     ]
    },
    {
     "name": "stderr",
     "output_type": "stream",
     "text": [
      "\r",
      " 45%|████▌     | 9/20 [00:41<00:50,  4.56s/it]"
     ]
    },
    {
     "name": "stdout",
     "output_type": "stream",
     "text": [
      "Epoch 9, total_loss : 14.4316, val_loss : 0.1218, total_acc : 0.966, val_acc : 0.965\n"
     ]
    },
    {
     "name": "stderr",
     "output_type": "stream",
     "text": [
      "\r",
      " 50%|█████     | 10/20 [00:45<00:44,  4.48s/it]"
     ]
    },
    {
     "name": "stdout",
     "output_type": "stream",
     "text": [
      "Epoch 10, total_loss : 12.9549, val_loss : 0.1151, total_acc : 0.969, val_acc : 0.967\n"
     ]
    },
    {
     "name": "stderr",
     "output_type": "stream",
     "text": [
      "\r",
      " 55%|█████▌    | 11/20 [00:50<00:41,  4.56s/it]"
     ]
    },
    {
     "name": "stdout",
     "output_type": "stream",
     "text": [
      "Epoch 11, total_loss : 11.6627, val_loss : 0.1044, total_acc : 0.972, val_acc : 0.971\n"
     ]
    },
    {
     "name": "stderr",
     "output_type": "stream",
     "text": [
      "\r",
      " 60%|██████    | 12/20 [00:55<00:36,  4.51s/it]"
     ]
    },
    {
     "name": "stdout",
     "output_type": "stream",
     "text": [
      "Epoch 12, total_loss : 10.5718, val_loss : 0.1013, total_acc : 0.975, val_acc : 0.971\n"
     ]
    },
    {
     "name": "stderr",
     "output_type": "stream",
     "text": [
      "\r",
      " 65%|██████▌   | 13/20 [00:59<00:31,  4.48s/it]"
     ]
    },
    {
     "name": "stdout",
     "output_type": "stream",
     "text": [
      "Epoch 13, total_loss : 9.5997, val_loss : 0.0986, total_acc : 0.977, val_acc : 0.971\n"
     ]
    },
    {
     "name": "stderr",
     "output_type": "stream",
     "text": [
      "\r",
      " 70%|███████   | 14/20 [01:03<00:26,  4.45s/it]"
     ]
    },
    {
     "name": "stdout",
     "output_type": "stream",
     "text": [
      "Epoch 14, total_loss : 8.7394, val_loss : 0.0938, total_acc : 0.979, val_acc : 0.971\n"
     ]
    },
    {
     "name": "stderr",
     "output_type": "stream",
     "text": [
      "\r",
      " 75%|███████▌  | 15/20 [01:08<00:22,  4.46s/it]"
     ]
    },
    {
     "name": "stdout",
     "output_type": "stream",
     "text": [
      "Epoch 15, total_loss : 8.0232, val_loss : 0.0872, total_acc : 0.981, val_acc : 0.975\n"
     ]
    },
    {
     "name": "stderr",
     "output_type": "stream",
     "text": [
      "\r",
      " 80%|████████  | 16/20 [01:12<00:17,  4.47s/it]"
     ]
    },
    {
     "name": "stdout",
     "output_type": "stream",
     "text": [
      "Epoch 16, total_loss : 7.2745, val_loss : 0.0858, total_acc : 0.983, val_acc : 0.975\n"
     ]
    },
    {
     "name": "stderr",
     "output_type": "stream",
     "text": [
      "\r",
      " 85%|████████▌ | 17/20 [01:17<00:13,  4.43s/it]"
     ]
    },
    {
     "name": "stdout",
     "output_type": "stream",
     "text": [
      "Epoch 17, total_loss : 6.7424, val_loss : 0.0820, total_acc : 0.985, val_acc : 0.976\n"
     ]
    },
    {
     "name": "stderr",
     "output_type": "stream",
     "text": [
      "\r",
      " 90%|█████████ | 18/20 [01:21<00:08,  4.33s/it]"
     ]
    },
    {
     "name": "stdout",
     "output_type": "stream",
     "text": [
      "Epoch 18, total_loss : 6.1616, val_loss : 0.0793, total_acc : 0.986, val_acc : 0.976\n"
     ]
    },
    {
     "name": "stderr",
     "output_type": "stream",
     "text": [
      "\r",
      " 95%|█████████▌| 19/20 [01:24<00:03,  3.99s/it]"
     ]
    },
    {
     "name": "stdout",
     "output_type": "stream",
     "text": [
      "Epoch 19, total_loss : 5.6674, val_loss : 0.0778, total_acc : 0.987, val_acc : 0.976\n"
     ]
    },
    {
     "name": "stderr",
     "output_type": "stream",
     "text": [
      "100%|██████████| 20/20 [01:27<00:00,  4.38s/it]"
     ]
    },
    {
     "name": "stdout",
     "output_type": "stream",
     "text": [
      "Epoch 20, total_loss : 5.2431, val_loss : 0.0765, total_acc : 0.989, val_acc : 0.977\n"
     ]
    },
    {
     "name": "stderr",
     "output_type": "stream",
     "text": [
      "\n"
     ]
    }
   ],
   "source": [
    "# バッチ正規化等、学習時と推論時で振る舞いの違うモジュールの振る舞いを学習時の振る舞いに\n",
    "# model.eval()で推論時の振る舞いに変更可能\n",
    "model.train()\n",
    "# 学習ループ\n",
    "for epoch in tqdm(range(1, num_epochs+1)):\n",
    "    total_acc = 0\n",
    "    total_correct = 0\n",
    "    total_loss = 0\n",
    "    # ミニバッチ毎ににループ\n",
    "    for mini_batch_x, mini_batch_y in loader_train:    \n",
    "        # 勾配の初期化\n",
    "        optimizer.zero_grad()\n",
    "        # 順伝播\n",
    "        out = model(mini_batch_x)\n",
    "        # 推論する\n",
    "        pred = out.data.max(1)[1] # 出力ラベルを求める\n",
    "        correct = pred.eq(mini_batch_y.data).sum()  # 正解と一緒だったらカウントアップ\n",
    "        # print(pred, correct)\n",
    "        total_correct += correct\n",
    "        # print(total_correct)\n",
    "        # ロスの計算\n",
    "        loss = criterion(out, mini_batch_y)\n",
    "        total_loss += loss\n",
    "        # print(total_loss)\n",
    "        # 勾配の計算\n",
    "        loss.backward()\n",
    "        # パラメータの更新\n",
    "        optimizer.step()\n",
    "    total_loss /= batch_size\n",
    "    # print(total_loss)\n",
    "    total_acc = total_correct.numpy() / n_samples\n",
    "    # print(total_acc)\n",
    "    val_out = model(X_val)\n",
    "    val_pred = val_out.data.max(1, keepdim=True)[1] # 出力ラベルを求める\n",
    "    val_correct = val_pred.eq(y_val.data.view_as(val_pred)).sum()  # 正解と一緒だったらカウントアップ\n",
    "    val_acc = val_correct.numpy() / len(y_val.data)\n",
    "    \n",
    "    val_loss = criterion(val_out, y_val)\n",
    "    print(\"Epoch {}, total_loss : {:.4f}, val_loss : {:.4f}, total_acc : {:.3f}, val_acc : {:.3f}\".format(epoch, total_loss, val_loss, total_acc, val_acc))"
   ]
  },
  {
   "cell_type": "markdown",
   "metadata": {},
   "source": [
    "### 【問題8】（アドバンス課題）フレームワークの比較\n",
    "それぞれのフレームワークにはどのような違いがあるかをまとめてください。\n",
    "\n",
    "*《視点例》*\n",
    "\n",
    "- 計算速度\n",
    "- コードの行数・可読性\n",
    "- 用意されている機能"
   ]
  },
  {
   "cell_type": "markdown",
   "metadata": {},
   "source": [
    "- ThensorFlow\n",
    "    - ハイレベルな機能を実装可能で、計算をデータフローやグラフで表すことができまるため、実践で、複雑な問題に対処できる\n",
    "    - Googleの音声検索や言語翻訳、画像検索に使用\n",
    "-　Keras\n",
    "    - 比較的短いコードで実装可能、最新手法を素早く試すことができる\n",
    "    - CPUとGPU上でシームレスな動作\n",
    "- Chainer\n",
    "    - 記法がシンプルで国産のフレームワークのため、学習が容易\n",
    "    - 画像分類や物体検出などで利用されている\n",
    "    - 2019年12月に開発を終了し、PyTorchへ移行\n",
    "- PyTorch\n",
    "    - Chainer, Numpyと似たような構文で操作可能\n",
    "    - 計算速度も早く、ソースコードが扱いやすい\n",
    "    - 計算グラフを動的で構築可能\n",
    "- MXNet\n",
    "    - 命令的プラグラムと宣言的プログラムを併用することができ、柔軟なフレームワーク\n",
    "    - CNN、LSTM、RCNN、Deep Q Networkなど様々な深層学習モデルをサポートしており、画像認識、自然言語処理、レコメンデーションなど様々な場面で使われている\n",
    "- Deeplearning4j（DL4j）\n",
    "    - Javaで開発されているため、JVM上で動くという特徴があり、既存の情報システムと組み合わせ運用できます。そのため、商用に使われやすく、サポートが提供されているということが利点\n",
    "    - Javaでディープラーニングを行う際に利用されており、例えば、金融分野の不正検知や異常検知、電子商取引や広告のレコメンドシステム、 製造業の不良品検知や画像認識などで使用されている\n",
    "- Microsoft Cognitive Toolkit\n",
    "    - 巨大データセット処理時のパフォーマンス低下を最小化するためのアルゴリズムが組み込まれているため、複数マシンで巨大データセットを扱う場合において、他のツールキットに対する優位性があるとされている\n",
    "    - Skypeのリアルタイム翻訳、国内では三井住友銀行が自動応答システムで利用している\n",
    "- PaddlePaddle\n",
    "    - クラウドだけでなく、分散コンピューティングのクラスタで高速に稼働する\n",
    "    - 中国で強い\n",
    "- Caffe\n",
    "    - C++で実装され、GPUに対応しているため、高速な計算処理が可能\n",
    "    - 開発コミュニティーが活発にGitHubを更新していたり、サンプルコードも多く提供されているため、初心者にもおすすめ\n",
    "    - 大規模画像認識のコンテスト「ILSVRC」で2012年に首位を獲得した「畳み込みニューラルネットワークの画像分類モデル」があり、直ぐに利用できるというのも利点"
   ]
  }
 ],
 "metadata": {
  "kernelspec": {
   "display_name": "Environment (conda_anaconda3-2020.02)",
   "language": "python",
   "name": "conda_anaconda3-2020.02"
  },
  "toc": {
   "base_numbering": 1,
   "nav_menu": {},
   "number_sections": false,
   "sideBar": true,
   "skip_h1_title": false,
   "title_cell": "Table of Contents",
   "title_sidebar": "Contents",
   "toc_cell": false,
   "toc_position": {},
   "toc_section_display": true,
   "toc_window_display": false
  },
  "varInspector": {
   "cols": {
    "lenName": 16,
    "lenType": 16,
    "lenVar": 40
   },
   "kernels_config": {
    "python": {
     "delete_cmd_postfix": "",
     "delete_cmd_prefix": "del ",
     "library": "var_list.py",
     "varRefreshCmd": "print(var_dic_list())"
    },
    "r": {
     "delete_cmd_postfix": ") ",
     "delete_cmd_prefix": "rm(",
     "library": "var_list.r",
     "varRefreshCmd": "cat(var_dic_list()) "
    }
   },
   "types_to_exclude": [
    "module",
    "function",
    "builtin_function_or_method",
    "instance",
    "_Feature"
   ],
   "window_display": false
  }
 },
 "nbformat": 4,
 "nbformat_minor": 4
}
