{
 "cells": [
  {
   "cell_type": "markdown",
   "metadata": {},
   "source": [
    "# TensorFlow入門1 基本的な仕組み"
   ]
  },
  {
   "cell_type": "code",
   "execution_count": 1,
   "metadata": {},
   "outputs": [],
   "source": [
    "import warnings\n",
    "warnings.filterwarnings('ignore')"
   ]
  },
  {
   "cell_type": "code",
   "execution_count": 2,
   "metadata": {},
   "outputs": [
    {
     "data": {
      "text/plain": [
       "'1.14.0'"
      ]
     },
     "execution_count": 2,
     "metadata": {},
     "output_type": "execute_result"
    }
   ],
   "source": [
    "import tensorflow as tf\n",
    "tf.__version__"
   ]
  },
  {
   "cell_type": "markdown",
   "metadata": {},
   "source": [
    "## 1.このテキストについて\n",
    "\n",
    "### テキストの目的\n",
    "- TensorFlowの基本的な仕組みを知る\n",
    "\n",
    "### どのように学ぶか\n",
    "サンプルコードとともに説明していきます。同じコードを打ち込んで実行していってください。"
   ]
  },
  {
   "cell_type": "markdown",
   "metadata": {},
   "source": [
    "## 2.TensorFlowとは\n",
    "\n",
    "TensorFlowはニューラルネットワークを構築するためのフレームワークの一種です。\n",
    "\n",
    "以下のコードはバージョン1.13.0での動作を確認しています。\n",
    "\n",
    "### 簡単な計算\n",
    "\n",
    "簡単な計算をさせてみます。TensorFlowの基本的な流れです。\n",
    "\n",
    "**《サンプルコード》**"
   ]
  },
  {
   "cell_type": "code",
   "execution_count": 3,
   "metadata": {},
   "outputs": [
    {
     "name": "stdout",
     "output_type": "stream",
     "text": [
      "12\n"
     ]
    }
   ],
   "source": [
    "import tensorflow as tf\n",
    "a = tf.constant(5)\n",
    "b = tf.constant(7)\n",
    "add = tf.add(a, b)\n",
    "sess = tf.Session()\n",
    "output = sess.run(add)\n",
    "print(output) # 12\n",
    "sess.close()"
   ]
  },
  {
   "cell_type": "markdown",
   "metadata": {},
   "source": [
    "7行目の`sess = tf.Session()`から`sess.close()`は`with`を使って以下のように書くこともできます。"
   ]
  },
  {
   "cell_type": "code",
   "execution_count": 4,
   "metadata": {},
   "outputs": [
    {
     "name": "stdout",
     "output_type": "stream",
     "text": [
      "12\n"
     ]
    }
   ],
   "source": [
    "with tf.Session() as sess:\n",
    "    output = sess.run(add)\n",
    "    print(output) # 12"
   ]
  },
  {
   "cell_type": "markdown",
   "metadata": {},
   "source": [
    "比較のために、NumPyでも同じ計算をさせてみます。"
   ]
  },
  {
   "cell_type": "code",
   "execution_count": 5,
   "metadata": {},
   "outputs": [
    {
     "name": "stdout",
     "output_type": "stream",
     "text": [
      "12\n"
     ]
    }
   ],
   "source": [
    "import numpy as np\n",
    "a_n = np.array(5)\n",
    "b_n = np.array(7)\n",
    "output_n = np.add(a_n, b_n)\n",
    "print(output_n) # 12"
   ]
  },
  {
   "cell_type": "markdown",
   "metadata": {},
   "source": [
    "このような簡単な計算例ではNumPyの方が短く記述可能です。TensorFlowの真価が発揮されるのは学習を行うような計算の際ですが、ここでは簡単な計算を例に理解を深めていくことにします。"
   ]
  },
  {
   "cell_type": "markdown",
   "metadata": {},
   "source": [
    "## 3.データフロープログラミング\n",
    "\n",
    "TensorFlowの仕組みを見ていきます。TensorFlowでは`データフローグラフ`を考えます。\n",
    "\n",
    "簡単な計算の例では以下のようなデータフローグラフになります。\n",
    "\n",
    "![image](https://t.gyazo.com/teams/diveintocode/b10659507cc836291a26834ace057152.png)\n",
    "\n",
    "グラフはノード（丸い部分）とエッジ（線の部分）で表されます。ノードはオペレーション（操作）を表し、エッジはTensor（多次元配列）を表します。\n",
    "\n",
    "今回の例では左側の灰色のノードでは定数を作るオペレーション（操作）、右の水色のノードでは足し算のオペレーション（操作）が行われています。エッジは整数値です。"
   ]
  },
  {
   "cell_type": "markdown",
   "metadata": {},
   "source": [
    "### TensorFlowの手順\n",
    "TensorFlowの手順は以下のようになっています。\n",
    "\n",
    "1. データフローグラフを構築する\n",
    "2. データを入力して計算する\n",
    "\n",
    "簡単な計算の例でそれぞれを解説します。"
   ]
  },
  {
   "cell_type": "markdown",
   "metadata": {},
   "source": [
    "### データフローグラフの構築\n",
    "サンプルコードの以下の部分でデータフローグラフを構築しています。"
   ]
  },
  {
   "cell_type": "code",
   "execution_count": 6,
   "metadata": {},
   "outputs": [],
   "source": [
    "a = tf.constant(5)\n",
    "b = tf.constant(7)\n",
    "add = tf.add(a, b)"
   ]
  },
  {
   "cell_type": "markdown",
   "metadata": {},
   "source": [
    "定数aと定数bを定義し、それらを足し算するデータフローグラフです。NumPyであれば3行で計算まで行いますが、TensorFlowでは実際の計算までは進みません。\n",
    "\n",
    "それぞれをprintしてみても、エッジ（Tensor）の説明が返されるだけです。"
   ]
  },
  {
   "cell_type": "code",
   "execution_count": 7,
   "metadata": {},
   "outputs": [
    {
     "name": "stdout",
     "output_type": "stream",
     "text": [
      "Tensor(\"Const_2:0\", shape=(), dtype=int32)\n",
      "Tensor(\"Add_1:0\", shape=(), dtype=int32)\n"
     ]
    }
   ],
   "source": [
    "print(a) # Tensor(\"Const:0\", shape=(), dtype=int32)\n",
    "print(add) # Tensor(\"Add:0\", shape=(), dtype=int32)"
   ]
  },
  {
   "cell_type": "markdown",
   "metadata": {},
   "source": [
    "### データを入力して計算\n",
    "データフローグラフの計算を行う際には`セッション`という概念が登場します。\n",
    "\n",
    "まずSessionオブジェクトを作成します。"
   ]
  },
  {
   "cell_type": "code",
   "execution_count": 8,
   "metadata": {},
   "outputs": [],
   "source": [
    "sess = tf.Session()"
   ]
  },
  {
   "cell_type": "markdown",
   "metadata": {},
   "source": [
    "そして、`sess.run()`の中にエッジ（Tensor）を入れます。そうすることで、そのエッジ（Tensor）がどのような値を持つかが返ってきます。"
   ]
  },
  {
   "cell_type": "code",
   "execution_count": 9,
   "metadata": {},
   "outputs": [
    {
     "name": "stdout",
     "output_type": "stream",
     "text": [
      "12\n"
     ]
    }
   ],
   "source": [
    "output = sess.run(add)\n",
    "print(output) # 12"
   ]
  },
  {
   "cell_type": "markdown",
   "metadata": {},
   "source": [
    "データフローグラフやセッションの概念は、次のテキストでより複雑な計算を実装していくことで理解を深めます。"
   ]
  },
  {
   "cell_type": "markdown",
   "metadata": {},
   "source": [
    "### TensorFlowにおける値の扱い方\n",
    "TensorFlowが値を扱う上で独自の概念として、placeholderとValiableがあります。"
   ]
  },
  {
   "cell_type": "markdown",
   "metadata": {},
   "source": [
    "#### 《placeholder》\n",
    "\n",
    "placeholderはデータフローグラフの構築時には値が決まっていないものに使います。最初は配列の形だけ定義しておいて後から値を入れて使う空箱のような存在です。学習ごとに違う値が入る入力データや正解データなどに用いられます。\n",
    "\n",
    "[tf.placeholder  |  TensorFlow](https://www.tensorflow.org/api_docs/python/tf/compat/v1/placeholder?authuser=0&hl=ja)\n",
    "\n",
    "サンプルコードをplaceholderを使用したものに書き換えてみます。"
   ]
  },
  {
   "cell_type": "code",
   "execution_count": 10,
   "metadata": {},
   "outputs": [
    {
     "name": "stdout",
     "output_type": "stream",
     "text": [
      "12\n"
     ]
    }
   ],
   "source": [
    "c = tf.placeholder(tf.int32)\n",
    "d = tf.placeholder(tf.int32)\n",
    "add = tf.add(c, d)\n",
    "sess = tf.Session()\n",
    "output = sess.run(add, feed_dict={c:5, d:7})\n",
    "print(output) # 12"
   ]
  },
  {
   "cell_type": "markdown",
   "metadata": {},
   "source": [
    "セッションを実行する際に引数`feed_dict`を使い、placeholderに入れる値を辞書型で指定します。ここを書き換えることで異なる計算が可能になります。"
   ]
  },
  {
   "cell_type": "code",
   "execution_count": 11,
   "metadata": {},
   "outputs": [
    {
     "name": "stdout",
     "output_type": "stream",
     "text": [
      "52\n"
     ]
    }
   ],
   "source": [
    "output = sess.run(add, feed_dict={c:20, d:32})\n",
    "print(output) # 52"
   ]
  },
  {
   "cell_type": "markdown",
   "metadata": {},
   "source": [
    "今回の簡単な例では定数とplaceholderの違いは感じられませんが、ミニバッチ学習を行うような場合を想定すると、必要性がわかります。"
   ]
  },
  {
   "cell_type": "markdown",
   "metadata": {},
   "source": [
    "#### 《Valiable》\n",
    "\n",
    "Valiableはplaceholderとは違い、データフローグラフの構築時にも値を持ち、更新を行うものに対して使います。学習するパラメータ（重み、バイアス）に用いられます。\n",
    "\n",
    "[tf.Variable  |  TensorFlow](https://www.tensorflow.org/api_docs/python/tf/Variable)\n",
    "\n",
    "これについては次のテキストで詳しく見ていきます。"
   ]
  },
  {
   "cell_type": "markdown",
   "metadata": {},
   "source": [
    "#### 《constant》\n",
    "\n",
    "確認になりますが、placeholderでもValiableでもないただの値は定数constantとして扱います。\n",
    "\n",
    "[tf.constant  |  TensorFlow](https://www.tensorflow.org/api_docs/python/tf/constant)"
   ]
  },
  {
   "cell_type": "markdown",
   "metadata": {},
   "source": [
    "### TensorFlowにおける演算\n",
    "\n",
    "サンプルコードでは`tf.add()`を使用していますが、NumPyなどと同様に`+`を使用することも可能です。\n",
    "```\n",
    "add = a + b # tf.add(a, b)に等しい\n",
    "```\n",
    "\n",
    "TensorFlowではNumPyなどと同様に様々な関数が用意されています。"
   ]
  },
  {
   "cell_type": "markdown",
   "metadata": {},
   "source": [
    "### セッションの終了\n",
    "最後にセッションは終了させます。"
   ]
  },
  {
   "cell_type": "code",
   "execution_count": 12,
   "metadata": {},
   "outputs": [],
   "source": [
    "sess.close()"
   ]
  },
  {
   "cell_type": "markdown",
   "metadata": {},
   "source": [
    "セッションのインスタンス化から終了までに対して、with構文を使うことも可能です。\n",
    "```\n",
    "with tf.Session() as sess:\n",
    "    sess.run() # ここに計算の実行コードを入れていく\n",
    "```"
   ]
  }
 ],
 "metadata": {
  "kernelspec": {
   "display_name": "Environment (conda_tensorflow1.14)",
   "language": "python",
   "name": "conda_tensorflow1.14"
  },
  "language_info": {
   "codemirror_mode": {
    "name": "ipython",
    "version": 3
   },
   "file_extension": ".py",
   "mimetype": "text/x-python",
   "name": "python",
   "nbconvert_exporter": "python",
   "pygments_lexer": "ipython3",
   "version": "3.5.6"
  },
  "toc": {
   "base_numbering": 1,
   "nav_menu": {},
   "number_sections": false,
   "sideBar": true,
   "skip_h1_title": false,
   "title_cell": "Table of Contents",
   "title_sidebar": "Contents",
   "toc_cell": false,
   "toc_position": {},
   "toc_section_display": true,
   "toc_window_display": false
  }
 },
 "nbformat": 4,
 "nbformat_minor": 4
}
