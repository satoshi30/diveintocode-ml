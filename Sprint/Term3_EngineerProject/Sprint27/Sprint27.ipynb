{
 "cells": [
  {
   "cell_type": "markdown",
   "metadata": {},
   "source": [
    "# Sprint（任意） Generative Adversarial Networks"
   ]
  },
  {
   "cell_type": "markdown",
   "metadata": {},
   "source": [
    "## 1.このSprintについて\n",
    "\n",
    "＊本課題は任意課題です。提出は必須ではありません。\n",
    "\n",
    "### Sprintの目的\n",
    "- GANの枠組みを学ぶ\n",
    "- 論文実装によりGANの理解を深める\n",
    "\n",
    "### どのように学ぶか\n",
    "雛形を元にKeras実装を完成させることで学びます。"
   ]
  },
  {
   "cell_type": "markdown",
   "metadata": {},
   "source": [
    "## 2.GANの基本\n",
    "\n",
    "GAN（Generative Adversarial Networks, 敵対的生成ネットワーク）は生成モデルの一種で、2つのニューラルネットワークを組み合わせることで学習します。様々な改良が加えられたGANが登場していますが、ここでは2014年にGoodfellowが発表した最初のGAN（VanillaGAN）[1]を題材に学びます。\n",
    "\n",
    "\n",
    "[1] [Goodfellow, I. J., Pouget-Abadie, J., Mirza, M., Xu, B., Warde-Farley, D., Ozair, S., Courville, A., and Bengio, Y. (2014). Generative adversarial nets. In NIPS’2014.](https://arxiv.org/pdf/1406.2661.pdf)"
   ]
  },
  {
   "cell_type": "markdown",
   "metadata": {},
   "source": [
    "### GeneratorとDiscriminator\n",
    "\n",
    "GANは **Generator（生成器）** と **Discriminator（判別器）** の2つのニューラルネットワークを使用します。\n",
    "\n",
    "Generatorはノイズを受け取り、訓練データと同じようなデータを出力します。\n",
    "\n",
    "一方、Discriminatorは画像を受け取り、それがGeneratorが生成したものか訓練データのものかを分類します。"
   ]
  },
  {
   "cell_type": "markdown",
   "metadata": {},
   "source": [
    "### ニューラルネットワークの構造\n",
    "\n",
    "各ニューラルネットワークの構造はVanillaGANの論文中では言及されていません。任意の構造を用いることができますが、上手く生成するための構造が多数の論文にまとめられています。その結果、中間層の活性化関数には **LeakyReLU** の利用が一般的です。通常のReLUは負の値に対して0を出力しますが、LeakyReLUは小さな負の値を返します。\n",
    "\n",
    "![image](https://t.gyazo.com/teams/diveintocode/6e332129db8daa2040cfdc5a1ad3efa1.png)\n",
    "\n",
    "また、GeneratorにはBatchNormalizationを利用することが多いです。\n",
    "\n",
    "CNNを用いたものは **DCGAN (Deep Convolutional Generative Adversarial Networks)** とも呼ばれます。"
   ]
  },
  {
   "cell_type": "markdown",
   "metadata": {},
   "source": [
    "### 学習アルゴリズム\n",
    "学習アルゴリズムは次のようになります。GeneratorとDiscriminatorを交互に学習していきます。学習時にはミニバッチ単位での更新を行います。\n",
    "\n",
    "1. Generatorにノイズを入力し、データを生成する。\n",
    "2. Discriminatorに生成データと偽物であるというラベルを入力し、Discriminatorの重みを更新する。\n",
    "3. Discriminatorに訓練データと本物であるというラベルを入力し、Discriminatorの重みを更新する。\n",
    "4. Discriminatorに生成データと本物であるというラベルを入力し、Generatorの重みを更新する。\n",
    "5. 1から4を繰り返す。\n",
    "\n",
    "4ではGeneratorとDiscriminatorを繋がったモデルとして扱い、バックプロパゲーションを行います。Discriminatorの重みは更新せず、Generatorの重みのみ更新します。一方で2,3ではDiscriminatorの重みのみ更新します。\n",
    "\n",
    "このようにすることで、GeneratorはDiscriminatorに見破られないようになり、DiscriminatorはGeneratorを見破れるようになります。2つのニューラルネットワークが敵対しているように見えることが名称の由来になっています。\n",
    "\n",
    "なお、GeneratorとDiscriminatorの更新回数の比率を1対1ではなくすることもあります。"
   ]
  },
  {
   "cell_type": "markdown",
   "metadata": {},
   "source": [
    "### 損失関数\n",
    "GANの損失関数は次のようになっています。\n",
    "$$\n",
    "\\mathrm{min}_{G}\\mathrm{max}_{D}V(D,G) = E_{x{\\sim}p_\\mathrm{data}(x)}[\\mathrm{log}D(x)]+ E_{z{\\sim}p_\\mathrm{z}(z)}[\\mathrm{log}(1-D(G(z)))]\n",
    "$$\n",
    "\n",
    "$D$ : Discriminator\n",
    "$G$ : Generator\n",
    "$x$ : 訓練データ\n",
    "$z$ : ノイズ\n",
    "\n",
    "Generatorはこれを最小化、Discriminatorはこれを最大化しようと学習します。\n",
    "\n",
    "**《Discriminatorの学習時》**\n",
    "\n",
    "第1項は訓練データをDiscriminatorに入力して得られる値で、本物である確率（0から1）の対数です。本物と判別できた時ほど大きな値です。\n",
    "\n",
    "![image](https://t.gyazo.com/teams/diveintocode/f0487e9d2994140834416626a6bf0182.png)\n",
    "\n",
    "第2項は生成データをDiscriminatorに入力して得られる値で、偽物である確率（0から1）の対数です。偽物と判別できた時ほど大きな値です。\n",
    "\n",
    "![image](https://t.gyazo.com/teams/diveintocode/100382f4d91c1a6a8d4c396a13265af8.png)\n",
    "\n",
    "**《Generatorの学習時》**\n",
    "\n",
    "Generatorに関係するのは第2項のみです。生成データをDiscriminatorに入力して得られる値で、偽物である確率（0から1）の対数です。偽物であるほど大きな値です。\n",
    "\n",
    "第2項を最小化することで、偽物だと見抜かれない高精度の生成が行えるようになります。"
   ]
  },
  {
   "cell_type": "markdown",
   "metadata": {},
   "source": [
    "### ノイズ\n",
    "Generatorへの入力としてノイズを作成する必要がありますが、これは事前分布 \n",
    "$p_g(z)$\n",
    "からバッチサイズ分サンプリングします。事前分布には正規分布を用いることが一般的です。ノイズは例えば100次元程度のものを使います。"
   ]
  },
  {
   "cell_type": "markdown",
   "metadata": {},
   "source": [
    "## 3.VanillaGANのKeras実装\n",
    "\n",
    "VanillaGANのKeras実装を雛形を元に完成させていきます。MNISTを学習し、手書き数字を生成するモデルを作ります。"
   ]
  },
  {
   "cell_type": "markdown",
   "metadata": {},
   "source": [
    "### VanillaGANの雛形\n",
    "以下の雛形にコードを書き加えていきます。Kerasのfunctional APIを使用して記述されています。\n",
    "\n",
    "なお、Kerasのバージョンは2.2.5で動作確認してあります。"
   ]
  },
  {
   "cell_type": "code",
   "execution_count": 1,
   "metadata": {},
   "outputs": [
    {
     "name": "stderr",
     "output_type": "stream",
     "text": [
      "Using TensorFlow backend.\n"
     ]
    },
    {
     "data": {
      "text/plain": [
       "'2.3.1'"
      ]
     },
     "execution_count": 1,
     "metadata": {},
     "output_type": "execute_result"
    }
   ],
   "source": [
    "import keras\n",
    "keras.__version__"
   ]
  },
  {
   "cell_type": "code",
   "execution_count": 2,
   "metadata": {},
   "outputs": [],
   "source": [
    "from keras.datasets import mnist\n",
    "from keras.layers import BatchNormalization, Dense, Flatten, Input, Reshape\n",
    "from keras.layers.advanced_activations import LeakyReLU\n",
    "from keras.models import Model\n",
    "from keras.optimizers import Adam\n",
    "from IPython import display\n",
    "import matplotlib.pyplot as plt\n",
    "import numpy as np\n",
    "import os"
   ]
  },
  {
   "cell_type": "markdown",
   "metadata": {},
   "source": [
    "### 【問題1】ノイズの作成\n",
    "Generatorに入力するノイズを作成するcreate_noiseメソッドを完成させてください。このメソッドは「ミニバッチのサイズ×潜在変数の次元数」のndarrayを返すことが求められます。np.random.normalを用いてください。\n",
    "\n",
    "[numpy.random.normal — NumPy v1.15 Manual](https://docs.scipy.org/doc/numpy-1.15.0/reference/generated/numpy.random.normal.html)"
   ]
  },
  {
   "cell_type": "code",
   "execution_count": 3,
   "metadata": {},
   "outputs": [],
   "source": [
    "def create_noise(batch_size):\n",
    "    \"\"\"\n",
    "    Parameters\n",
    "    ----------------\n",
    "    batch_size : int\n",
    "        ミニバッチのサイズ\n",
    "\n",
    "    Returns\n",
    "    ----------------\n",
    "    noise : ndarray, shape(batch_size, noise_dim)\n",
    "        ノイズ（ミニバッチのサイズ×ノイズの次元数）\n",
    "    \"\"\"\n",
    "    noise_dim = 100\n",
    "    noise = np.random.normal(loc=0.0, scale=1.0, size=(batch_size, noise_dim))\n",
    "    return noise"
   ]
  },
  {
   "cell_type": "code",
   "execution_count": 4,
   "metadata": {},
   "outputs": [
    {
     "name": "stdout",
     "output_type": "stream",
     "text": [
      "(3, 100)\n"
     ]
    },
    {
     "data": {
      "image/png": "[encoded data removed]",
      "text/plain": [
       "<Figure size 432x288 with 2 Axes>"
      ]
     },
     "metadata": {
      "needs_background": "light"
     },
     "output_type": "display_data"
    },
    {
     "data": {
      "image/png": "[encoded data removed]",
      "text/plain": [
       "<Figure size 432x288 with 2 Axes>"
      ]
     },
     "metadata": {
      "needs_background": "light"
     },
     "output_type": "display_data"
    },
    {
     "data": {
      "image/png": "[encoded data removed]",
      "text/plain": [
       "<Figure size 432x288 with 2 Axes>"
      ]
     },
     "metadata": {
      "needs_background": "light"
     },
     "output_type": "display_data"
    }
   ],
   "source": [
    "import matplotlib.pyplot as plt\n",
    "%matplotlib inline\n",
    "import pandas as pd\n",
    "\n",
    "noise = create_noise(batch_size=3)\n",
    "print(noise.shape)\n",
    "\n",
    "noise_df = pd.DataFrame(noise.T)\n",
    "for column in noise_df.columns:\n",
    "    noise_df[column].plot(kind=\"hist\", bins=20)\n",
    "    noise_df[column].plot(kind=\"kde\", secondary_y=True)\n",
    "    plt.show()"
   ]
  },
  {
   "cell_type": "markdown",
   "metadata": {},
   "source": [
    "### 【問題2】Discriminatorの作成\n",
    "DiscriminatorのModelインスタンスを作成するdiscriminator_modelメソッドを完成させてください。\n",
    "\n",
    "画像を受け取り、2値分類を行うモデルです。出力層を合わせて3層程度の全結合層としてください。中間層の活性化関数はLeakyReLUを用いてください。"
   ]
  },
  {
   "cell_type": "code",
   "execution_count": 5,
   "metadata": {},
   "outputs": [],
   "source": [
    "class VanillaGAN():\n",
    "    \"\"\"\n",
    "    VanillaGAN\n",
    "\n",
    "    Goodfellow, I. J., Pouget-Abadie, J., Mirza, M., Xu, B., Warde-Farley, D., Ozair, S., Courville, A., and Bengio, Y. (2014). Generative adversarial nets. In NIPS’2014. https://arxiv.org/pdf/1406.2661.pdf\n",
    "\n",
    "    Parameters\n",
    "    ----------------\n",
    "    img_shape : tuple of int\n",
    "        生成する画像の形。順番は（縦, 幅, チャンネル数）。(default : (28, 28, 1))\n",
    "    noise_dim : int\n",
    "        潜在変数の次元数 (default : 100)\n",
    "    \"\"\"\n",
    "    def __init__(self, img_shape=(28, 28, 1), noise_dim=100):\n",
    "        self.img_shape = img_shape\n",
    "        self.noise_dim = noise_dim\n",
    "        self.optimizer = Adam(lr=0.0002, beta_1=0.5)\n",
    "#         self.compile_models()\n",
    "    \n",
    "    def discriminator_model(self):\n",
    "        \"\"\"\n",
    "        DiscriminatorのModelインスタンスを作る\n",
    "        \"\"\"\n",
    "        img = Input(shape=self.img_shape)\n",
    "        x = Flatten(input_shape=self.img_shape)(img)\n",
    "        # 問題2で作成\n",
    "        # 問題2で作成\n",
    "        x = Dense(400)(x)\n",
    "        x = LeakyReLU(alpha=0.2)(x)\n",
    "        x = BatchNormalization(momentum=0.8)(x)\n",
    "        x = Dense(200)(x)\n",
    "        x = LeakyReLU(alpha=0.2)(x)\n",
    "        x = BatchNormalization(momentum=0.8)(x)\n",
    "        x = Dense(100)(x)\n",
    "        x = LeakyReLU(alpha=0.2)(x)\n",
    "        x = BatchNormalization(momentum=0.8)(x)\n",
    "        validity = Dense(1, activation=\"sigmoid\")(x)\n",
    "        return Model(inputs=img, outputs=validity)"
   ]
  },
  {
   "cell_type": "code",
   "execution_count": 6,
   "metadata": {},
   "outputs": [
    {
     "name": "stdout",
     "output_type": "stream",
     "text": [
      "Model: \"model_1\"\n",
      "_________________________________________________________________\n",
      "Layer (type)                 Output Shape              Param #   \n",
      "=================================================================\n",
      "input_1 (InputLayer)         (None, 28, 28, 1)         0         \n",
      "_________________________________________________________________\n",
      "flatten_1 (Flatten)          (None, 784)               0         \n",
      "_________________________________________________________________\n",
      "dense_1 (Dense)              (None, 400)               314000    \n",
      "_________________________________________________________________\n",
      "leaky_re_lu_1 (LeakyReLU)    (None, 400)               0         \n",
      "_________________________________________________________________\n",
      "batch_normalization_1 (Batch (None, 400)               1600      \n",
      "_________________________________________________________________\n",
      "dense_2 (Dense)              (None, 200)               80200     \n",
      "_________________________________________________________________\n",
      "leaky_re_lu_2 (LeakyReLU)    (None, 200)               0         \n",
      "_________________________________________________________________\n",
      "batch_normalization_2 (Batch (None, 200)               800       \n",
      "_________________________________________________________________\n",
      "dense_3 (Dense)              (None, 100)               20100     \n",
      "_________________________________________________________________\n",
      "leaky_re_lu_3 (LeakyReLU)    (None, 100)               0         \n",
      "_________________________________________________________________\n",
      "batch_normalization_3 (Batch (None, 100)               400       \n",
      "_________________________________________________________________\n",
      "dense_4 (Dense)              (None, 1)                 101       \n",
      "=================================================================\n",
      "Total params: 417,201\n",
      "Trainable params: 415,801\n",
      "Non-trainable params: 1,400\n",
      "_________________________________________________________________\n"
     ]
    }
   ],
   "source": [
    "model = VanillaGAN().discriminator_model()\n",
    "model.summary()"
   ]
  },
  {
   "cell_type": "markdown",
   "metadata": {},
   "source": [
    "### 【問題3】GeneratorとDiscriminatorを繋げる\n",
    "Generatorを学習させるにはGeneratorとDiscriminatorを繋げたModelインスタンスを作成する必要があります。そのためのadversarial_modelメソッドを完成させてください。\n",
    "\n",
    "雛形のこのメソッド中では`self.generator`と`self.discriminator`をDenseクラスなどと同様に利用することが可能です。"
   ]
  },
  {
   "cell_type": "code",
   "execution_count": null,
   "metadata": {},
   "outputs": [],
   "source": []
  },
  {
   "cell_type": "code",
   "execution_count": null,
   "metadata": {},
   "outputs": [],
   "source": [
    "from keras.datasets import mnist\n",
    "from keras.layers import BatchNormalization, Dense, Flatten, Input, Reshape\n",
    "from keras.layers.advanced_activations import LeakyReLU\n",
    "from keras.models import Model\n",
    "from keras.optimizers import Adam\n",
    "from IPython import display\n",
    "import matplotlib.pyplot as plt\n",
    "import numpy as np\n",
    "import os\n",
    "class VanillaGAN():\n",
    "    \"\"\"\n",
    "    VanillaGAN\n",
    "\n",
    "    Goodfellow, I. J., Pouget-Abadie, J., Mirza, M., Xu, B., Warde-Farley, D., Ozair, S., Courville, A., and Bengio, Y. (2014). Generative adversarial nets. In NIPS’2014. https://arxiv.org/pdf/1406.2661.pdf\n",
    "\n",
    "    Parameters\n",
    "    ----------------\n",
    "    img_shape : tuple of int\n",
    "        生成する画像の形。順番は（縦, 幅, チャンネル数）。(default : (28, 28, 1))\n",
    "    noise_dim : int\n",
    "        潜在変数の次元数 (default : 100)\n",
    "    \"\"\"\n",
    "    def __init__(self, img_shape=(28, 28, 1), noise_dim=100):\n",
    "        self.img_shape = img_shape\n",
    "        self.noise_dim = noise_dim\n",
    "        self.optimizer = Adam(lr=0.0002, beta_1=0.5)\n",
    "        self.compile_models()\n",
    "    def compile_models(self):\n",
    "        \"\"\"\n",
    "        Modelインスタンスのコンパイルを行う\n",
    "        \"\"\"\n",
    "        self.discriminator = self.discriminator_model()\n",
    "        self.discriminator.compile(loss='binary_crossentropy',\n",
    "            optimizer=self.optimizer,\n",
    "            metrics=['accuracy'])\n",
    "        self.adversarial = self.adversarial_model()\n",
    "        self.adversarial.compile(loss='binary_crossentropy', optimizer=self.optimizer)\n",
    "    def generator_model(self):\n",
    "        \"\"\"\n",
    "        GeneratorのModelインスタンスを作る\n",
    "        \"\"\"\n",
    "        noise = Input(shape=(self.noise_dim,))\n",
    "        x = Dense(128, input_dim=self.noise_dim)(noise)\n",
    "        x = LeakyReLU(alpha=0.2)(x)\n",
    "        x = BatchNormalization(momentum=0.8)(x)\n",
    "        x = Dense(256)(x)\n",
    "        x = LeakyReLU(alpha=0.2)(x)\n",
    "        x = BatchNormalization(momentum=0.8)(x)\n",
    "        x = Dense(512)(x)\n",
    "        x = LeakyReLU(alpha=0.2)(x)\n",
    "        x = BatchNormalization(momentum=0.8)(x)\n",
    "        x = Dense(1024)(x)\n",
    "        x = LeakyReLU(alpha=0.2)(x)\n",
    "        x = BatchNormalization(momentum=0.8)(x)\n",
    "        x = Dense(np.prod(self.img_shape), activation='tanh')(x)\n",
    "        gen_img = Reshape(self.img_shape)(x)\n",
    "        return Model(inputs=noise, outputs=gen_img)\n",
    "    \n",
    "    def discriminator_model(self):\n",
    "        \"\"\"\n",
    "        DiscriminatorのModelインスタンスを作る\n",
    "        \"\"\"\n",
    "        img = Input(shape=self.img_shape)\n",
    "        x = Flatten(input_shape=self.img_shape)(img)\n",
    "        # 問題2で作成\n",
    "        # 問題2で作成\n",
    "        x = Dense(400)(x)\n",
    "        x = LeakyReLU(alpha=0.2)(x)\n",
    "        x = BatchNormalization(momentum=0.8)(x)\n",
    "        x = Dense(200)(x)\n",
    "        x = LeakyReLU(alpha=0.2)(x)\n",
    "        x = BatchNormalization(momentum=0.8)(x)\n",
    "        x = Dense(100)(x)\n",
    "        x = LeakyReLU(alpha=0.2)(x)\n",
    "        x = BatchNormalization(momentum=0.8)(x)\n",
    "        validity = Dense(1, activation=\"sigmoid\")(x)\n",
    "        return Model(inputs=img, outputs=validity)\n",
    "\n",
    "    def adversarial_model(self):\n",
    "        \"\"\"\n",
    "        DiscriminatorとGeneratorを繋げたModelインスタンスを作る\n",
    "        \"\"\"\n",
    "        self.generator = self.generator_model()\n",
    "        self.discriminator.trainable = False\n",
    "        noise = Input(shape=(self.noise_dim,))\n",
    "        # 問題3で作成\n",
    "        gen_img = self.generator(noise)\n",
    "        validity = self.discriminator(gen_img)\n",
    "        return Model(inputs=noise, outputs=validity)\n",
    "    \n",
    "    def create_noise(self, batch_size):\n",
    "        \"\"\"\n",
    "        Parameters\n",
    "        ----------------\n",
    "        batch_size : int\n",
    "            ミニバッチのサイズ\n",
    "\n",
    "        Returns\n",
    "        ----------------\n",
    "        noise : ndarray, shape(batch_size, noise_dim)\n",
    "            ノイズ（ミニバッチのサイズ×ノイズの次元数）\n",
    "        \"\"\"\n",
    "        # 問題1で作成\n",
    "        noise = np.random.normal(loc=0.0, scale=1.0, size=(batch_size, self.noise_dim))\n",
    "        return noise\n",
    "\n",
    "    def train(self, n_steps, batch_size=128, sample_interval=100):\n",
    "        \"\"\"\n",
    "        VanillaGANを学習する\n",
    "\n",
    "        Parameters\n",
    "        ----------------\n",
    "        n_steps : int\n",
    "            学習するステップ数   \n",
    "        batch_size : int\n",
    "            バッチサイズ (default : 128)\n",
    "        sample_interval : int\n",
    "            サンプル画像を生成して表示・保存するステップの間隔 (default : 100)\n",
    "        \"\"\"\n",
    "        os.makedirs(\"gen_imgs\", exist_ok=True)\n",
    "        (X_train, y_train), (_, _) = mnist.load_data()\n",
    "        n_iters = np.ceil(X_train.shape[0]/batch_size).astype(np.int)\n",
    "        X_train = X_train/127.5 - 1.\n",
    "        X_train = np.expand_dims(X_train, axis=3)\n",
    "        real_label = np.ones((batch_size, 1))\n",
    "        fake_label = np.zeros((batch_size, 1))\n",
    "        for step in range(n_steps):\n",
    "            idx = np.random.randint(0, X_train.shape[0], batch_size)\n",
    "            real_imgs = X_train[idx]\n",
    "            noise = self.create_noise(batch_size)\n",
    "            # train the discriminator\n",
    "            gen_imgs = self.generator.predict(noise)\n",
    "            d_loss_real = self.discriminator.train_on_batch(real_imgs, real_label)\n",
    "            d_loss_fake = self.discriminator.train_on_batch(gen_imgs, fake_label)\n",
    "            d_loss = (d_loss_real[0] + d_loss_fake[0])/2\n",
    "            # train the generator\n",
    "            g_loss = self.adversarial.train_on_batch(noise, real_label)\n",
    "            if step % sample_interval == 0:\n",
    "                self.show_sample_images(step, i)\n",
    "                print (\"%d step, [D loss: %f] [G loss: %f]\" % (step, d_loss, g_loss))\n",
    "    def show_sample_images(self, step):\n",
    "        \"\"\"\n",
    "        サンプル画像を生成して表示・保存する\n",
    "\n",
    "        Parameters:\n",
    "        ----------------\n",
    "        step : int\n",
    "            ステップの番号\n",
    "        \"\"\"\n",
    "        n_sample_rows, n_sample_cols = (4, 4)\n",
    "        noise = self.create_noise(n_sample_rows*n_sample_cols)\n",
    "        gen_imgs = self.generator.predict(noise)\n",
    "        gen_imgs = gen_imgs/2 + 0.5\n",
    "        fig, axs = plt.subplots(n_sample_rows, n_sample_cols)\n",
    "        count = 0\n",
    "        for row in range(n_sample_rows):\n",
    "            for col in range(n_sample_cols):\n",
    "                axs[row, col].imshow(gen_imgs[count, :, :, 0], cmap='gray')\n",
    "                axs[row, col].axis('off')\n",
    "                count += 1\n",
    "        display.clear_output(wait=True)\n",
    "        display.display(plt.gcf())\n",
    "        fig.savefig(\"gen_imgs/%d.png\" % (step))\n",
    "        plt.close()\n",
    "vanilla_gan = VanillaGAN()\n",
    "vanilla_gan.train(n_steps=2000, batch_size=128)"
   ]
  },
  {
   "cell_type": "code",
   "execution_count": null,
   "metadata": {},
   "outputs": [],
   "source": []
  }
 ],
 "metadata": {
  "kernelspec": {
   "display_name": "Environment (conda_anaconda3-2020.02)",
   "language": "python",
   "name": "conda_anaconda3-2020.02"
  },
  "language_info": {
   "codemirror_mode": {
    "name": "ipython",
    "version": 3
   },
   "file_extension": ".py",
   "mimetype": "text/x-python",
   "name": "python",
   "nbconvert_exporter": "python",
   "pygments_lexer": "ipython3",
   "version": "3.7.9"
  },
  "toc": {
   "base_numbering": 1,
   "nav_menu": {},
   "number_sections": false,
   "sideBar": true,
   "skip_h1_title": false,
   "title_cell": "Table of Contents",
   "title_sidebar": "Contents",
   "toc_cell": false,
   "toc_position": {},
   "toc_section_display": true,
   "toc_window_display": false
  },
  "varInspector": {
   "cols": {
    "lenName": 16,
    "lenType": 16,
    "lenVar": 40
   },
   "kernels_config": {
    "python": {
     "delete_cmd_postfix": "",
     "delete_cmd_prefix": "del ",
     "library": "var_list.py",
     "varRefreshCmd": "print(var_dic_list())"
    },
    "r": {
     "delete_cmd_postfix": ") ",
     "delete_cmd_prefix": "rm(",
     "library": "var_list.r",
     "varRefreshCmd": "cat(var_dic_list()) "
    }
   },
   "types_to_exclude": [
    "module",
    "function",
    "builtin_function_or_method",
    "instance",
    "_Feature"
   ],
   "window_display": false
  }
 },
 "nbformat": 4,
 "nbformat_minor": 4
}
