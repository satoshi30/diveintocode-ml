{
 "cells": [
  {
   "cell_type": "markdown",
   "metadata": {},
   "source": [
    "# Week1_授業課題1_曽呂利新左衛門問題"
   ]
  },
  {
   "cell_type": "markdown",
   "metadata": {},
   "source": [
    "## 【問題1】100日目の米粒の数\n",
    "100日目には合計で米粒をいくつもらっているのかを計算するコードを作成し、答えを出力してください。また、1日目から100日目までの「その日にもらう米の数」と「その日までに累計で貰う米の数」の推移を折れ線グラフで表現してください。（縦軸が米の数、横軸が日数）"
   ]
  },
  {
   "cell_type": "code",
   "execution_count": 1,
   "metadata": {},
   "outputs": [],
   "source": [
    "day = 100\n",
    "grains_lst = [2**i for i in range(day)]\n",
    "grains_acc_lst = [sum(grains_lst[:i+1]) for i in range(day)]"
   ]
  },
  {
   "cell_type": "code",
   "execution_count": 2,
   "metadata": {},
   "outputs": [
    {
     "data": {
      "image/png": "[encoded data removed]",
      "text/plain": [
       "<Figure size 432x288 with 1 Axes>"
      ]
     },
     "metadata": {
      "needs_background": "light"
     },
     "output_type": "display_data"
    }
   ],
   "source": [
    "import matplotlib.pyplot as plt\n",
    "%matplotlib inline\n",
    "plt.plot(grains_lst, label='number of grains')\n",
    "plt.plot(grains_acc_lst, label='accumulation of grains')\n",
    "plt.xlabel('days')\n",
    "plt.ylabel('number')\n",
    "plt.legend();"
   ]
  },
  {
   "cell_type": "markdown",
   "metadata": {},
   "source": [
    "## 【問題2】100日目以外の米粒の数\n",
    "この逸話は30日だったり81日だったりと日数が曖昧です。どの話にも対応できるように日数を引数とした 関数 を作成しましょう。関数を作成した上で、コースを受講する日数の間でいくつ米粒をもらえるかを答えてください。前の問題同様に折れ線グラフも出力してください。\n",
    "\n",
    "以下の雛形には関数としての枠組みだけではなく、引数や返り値についてのコメントも記載してあります。参考にして、自分なりにも分かりやすくコメントを書き換えてください。"
   ]
  },
  {
   "cell_type": "code",
   "execution_count": 3,
   "metadata": {},
   "outputs": [],
   "source": [
    "def compute_sorori_shinzaemon(day=100):\n",
    "    list_n_grains = [2**i for i in range(day)]\n",
    "    list_total_grains = [sum(list_n_grains[:i+1]) for i in range(day)]\n",
    "    return list_n_grains, list_total_grains"
   ]
  },
  {
   "cell_type": "code",
   "execution_count": 4,
   "metadata": {},
   "outputs": [
    {
     "name": "stdout",
     "output_type": "stream",
     "text": [
      "コースを受講する 120 日の間、合計 1.33e+36 の米粒がもらえる\n"
     ]
    },
    {
     "data": {
      "image/png": "[encoded data removed]",
      "text/plain": [
       "<Figure size 432x288 with 1 Axes>"
      ]
     },
     "metadata": {
      "needs_background": "light"
     },
     "output_type": "display_data"
    }
   ],
   "source": [
    "#コース受講期間　120日（4ヶ月）\n",
    "day = 120\n",
    "list_n_grains, list_total_grains = compute_sorori_shinzaemon(day)\n",
    "print('コースを受講する {} 日の間、合計 {:.2e} の米粒がもらえる'.format(day, list_total_grains[-1]))\n",
    "plt.plot(grains_lst, label='number of grains')\n",
    "plt.plot(grains_acc_lst, label='accumulation of grains')\n",
    "plt.xlabel('days')\n",
    "plt.ylabel('number')\n",
    "plt.legend();"
   ]
  },
  {
   "cell_type": "markdown",
   "metadata": {},
   "source": [
    "## 【問題3】何人が何日生活できる米か\n",
    "この米があれば何人が何日生活できるか計算する関数を作成してください。コースを受講する期間に貰える米粒で、このクラスにいる人数であれば、何日間生活できるかを出力してみましょう。\n",
    "\n",
    "関数の最低限の入力は 米粒の数(int) と 人数(int) 、出力は 生活できる日数(int) です。関数名やコメントなどは分かりやすく考えて作成してください。\n",
    "\n",
    "ここでは1日に必要な米粒の数は提示しません。自分なりに調べて、計算式に落とし込んでください。どう調べ、何を根拠にしたかもコメントを残しておいてください。"
   ]
  },
  {
   "cell_type": "code",
   "execution_count": 5,
   "metadata": {},
   "outputs": [],
   "source": [
    "def survival_term(total_grains, num_people):\n",
    "    #成人男性の一日必要カロリー（農林水産省　https://www.maff.go.jp/j/syokuiku/zissen_navi/balance/required.html#:~:text=%E6%B4%BB%E5%8B%95%E9%87%8F%E3%81%AE%E5%B0%91%E3%81%AA%E3%81%84%E6%88%90%E4%BA%BA,%E3%81%A0%E3%81%91%E3%80%8D%E9%A3%9F%E3%81%B9%E3%81%9F%E3%82%89%E3%82%88%E3%81%84%E3%81%AE%E3%81%8B%E3%80%82\n",
    "    needed_kcal = 2200\n",
    "    #米１00gのカロリー（「日本食品標準成分表（五訂増補）」）\n",
    "    rice_kcal = 168\n",
    "    # 1粒約0.02g（米穀安定供給確保支援機構）\n",
    "    gram_per_grain = 0.02\n",
    "    # １人が１日に必要な米粒\n",
    "    needed_grains = needed_kcal / rice_kcal * 100 / gram_per_grain\n",
    "    #生活できる期間\n",
    "    return int(total_grains / needed_grains / num_people)"
   ]
  },
  {
   "cell_type": "code",
   "execution_count": 6,
   "metadata": {},
   "outputs": [
    {
     "name": "stdout",
     "output_type": "stream",
     "text": [
      "合計 1.33e+36 の米粒で、 13 人が、 1.56e+30 日間生活ができる\n"
     ]
    }
   ],
   "source": [
    "total_grains = list_total_grains[-1]\n",
    "num_people = 13\n",
    "survival = survival_term(total_grains, num_people)\n",
    "print('合計 {:.2e} の米粒で、 {} 人が、 {:.2e} 日間生活ができる'.format(total_grains, num_people, survival))"
   ]
  }
 ],
 "metadata": {
  "kernelspec": {
   "display_name": "Python 3",
   "language": "python",
   "name": "python3"
  },
  "language_info": {
   "codemirror_mode": {
    "name": "ipython",
    "version": 3
   },
   "file_extension": ".py",
   "mimetype": "text/x-python",
   "name": "python",
   "nbconvert_exporter": "python",
   "pygments_lexer": "ipython3",
   "version": "3.7.9"
  },
  "toc": {
   "base_numbering": 1,
   "nav_menu": {},
   "number_sections": false,
   "sideBar": true,
   "skip_h1_title": false,
   "title_cell": "Table of Contents",
   "title_sidebar": "Contents",
   "toc_cell": false,
   "toc_position": {},
   "toc_section_display": true,
   "toc_window_display": false
  },
  "varInspector": {
   "cols": {
    "lenName": 16,
    "lenType": 16,
    "lenVar": 40
   },
   "kernels_config": {
    "python": {
     "delete_cmd_postfix": "",
     "delete_cmd_prefix": "del ",
     "library": "var_list.py",
     "varRefreshCmd": "print(var_dic_list())"
    },
    "r": {
     "delete_cmd_postfix": ") ",
     "delete_cmd_prefix": "rm(",
     "library": "var_list.r",
     "varRefreshCmd": "cat(var_dic_list()) "
    }
   },
   "types_to_exclude": [
    "module",
    "function",
    "builtin_function_or_method",
    "instance",
    "_Feature"
   ],
   "window_display": false
  }
 },
 "nbformat": 4,
 "nbformat_minor": 2
}
