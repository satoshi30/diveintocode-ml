{
 "cells": [
  {
   "cell_type": "markdown",
   "metadata": {},
   "source": [
    "## Week1 授業前課題１ Pythonを使ってみよう"
   ]
  },
  {
   "cell_type": "markdown",
   "metadata": {},
   "source": [
    "### 【問題1】べき乗の算術演算子を使用して作成\n",
    "べき乗の算術演算子を使用したプログラムを作ってください。  \n",
    "雛形として紙を1回折った時の厚さを計算するコードを用意しました。  \n",
    "これを43回折った時のコードに書き換えてください。"
   ]
  },
  {
   "cell_type": "code",
   "execution_count": 1,
   "metadata": {},
   "outputs": [],
   "source": [
    "THICKNESS = 0.00008\n",
    "folded_thickness = THICKNESS*2**43\n",
    "print(\"厚さ： {}メートル\".format(folded_thickness))"
   ]
  },
  {
   "cell_type": "markdown",
   "metadata": {},
   "source": [
    "### 【問題2】単位の変換\n",
    "単位がメートルだと実感が湧きづらいので、◯◯万キロメートル に変換して表示させてください。"
   ]
  },
  {
   "cell_type": "code",
   "execution_count": 2,
   "metadata": {},
   "outputs": [
    {
     "name": "stdout",
     "output_type": "stream",
     "text": [
      "厚さ： 70.37万キロメートル\n"
     ]
    }
   ],
   "source": [
    "print(\"厚さ： {:.2f}万キロメートル\".format(folded_thickness/10000000))"
   ]
  },
  {
   "cell_type": "markdown",
   "metadata": {},
   "source": [
    "### 【問題3】for文を使用して作成\n",
    "次に、for文を使用したプログラムを作ってください。  \n",
    "べき乗の算術演算子は使ってはいけません。算術演算子は四則演算（+、-、*、/）のみ使えます。"
   ]
  },
  {
   "cell_type": "code",
   "execution_count": 3,
   "metadata": {},
   "outputs": [
    {
     "name": "stdout",
     "output_type": "stream",
     "text": [
      "厚さ: 70.37万キロメートル\n"
     ]
    }
   ],
   "source": [
    "folded_thickness2 = THICKNESS\n",
    "for _ in range(43):\n",
    "    folded_thickness2 = folded_thickness2 * 2\n",
    "print('厚さ: {:.2f}万キロメートル'.format(folded_thickness2/10000000))"
   ]
  },
  {
   "cell_type": "markdown",
   "metadata": {},
   "source": [
    "### 【問題4】計算時間の比較\n",
    "2つの方法はどちらが正しいわけでもありませんが、コードの良さを評価する際には以下のような着目点があります。  \n",
    "- 計算速度\n",
    "- メモリの使用量\n",
    "- 可読性\n",
    "- 拡張性\n",
    "- 再利用性\n",
    "今回は計算速度を比較してみます。  \n",
    "以下の雛形を使用して、2つの方法の計算時間を出力してください。  \n",
    "そして、それぞれの計算時間の関係を簡単に説明してください。  \n",
    "どちらの書き方が良さそうでしょうか。  \n",
    "なお、変数の定義やprint文など、どちらの方法でも使われている部分は除いた範囲の時間を比較してください。"
   ]
  },
  {
   "cell_type": "code",
   "execution_count": 4,
   "metadata": {},
   "outputs": [
    {
     "data": {
      "text/plain": [
       "'%.3f'"
      ]
     },
     "execution_count": 4,
     "metadata": {},
     "output_type": "execute_result"
    }
   ],
   "source": [
    "%precision 3"
   ]
  },
  {
   "cell_type": "code",
   "execution_count": 5,
   "metadata": {},
   "outputs": [
    {
     "name": "stdout",
     "output_type": "stream",
     "text": [
      "time : 0.0001270771026611328[s]\n"
     ]
    }
   ],
   "source": [
    "import time\n",
    "start = time.time()\n",
    "folded_thickness = THICKNESS*2**1000\n",
    "elapsed_time = time.time() - start\n",
    "print('time : {}[s]'.format(elapsed_time))"
   ]
  },
  {
   "cell_type": "code",
   "execution_count": 6,
   "metadata": {},
   "outputs": [
    {
     "name": "stdout",
     "output_type": "stream",
     "text": [
      "time : 0.0001652240753173828[s]\n"
     ]
    }
   ],
   "source": [
    "start = time.time()\n",
    "folded_thickness3 = THICKNESS\n",
    "for _ in range(1000):\n",
    "    folded_thickness3 = folded_thickness3 * 2\n",
    "elapsed_time = time.time() - start\n",
    "print('time : {}[s]'.format(elapsed_time))"
   ]
  },
  {
   "cell_type": "markdown",
   "metadata": {},
   "source": [
    "`べき乗演算より、for文の方が時間がかかる`"
   ]
  },
  {
   "cell_type": "code",
   "execution_count": 7,
   "metadata": {},
   "outputs": [
    {
     "name": "stdout",
     "output_type": "stream",
     "text": [
      "57.8 ns ± 0.356 ns per loop (mean ± std. dev. of 7 runs, 10000000 loops each)\n"
     ]
    }
   ],
   "source": [
    "%%timeit\n",
    "folded_thickness = THICKNESS*2**43"
   ]
  },
  {
   "cell_type": "code",
   "execution_count": 8,
   "metadata": {},
   "outputs": [
    {
     "name": "stdout",
     "output_type": "stream",
     "text": [
      "2.04 µs ± 122 ns per loop (mean ± std. dev. of 7 runs, 100000 loops each)\n"
     ]
    }
   ],
   "source": [
    "%%timeit\n",
    "folded_thickness4 = THICKNESS\n",
    "for _ in range(43):\n",
    "    folded_thickness4 *= 2"
   ]
  },
  {
   "cell_type": "markdown",
   "metadata": {},
   "source": [
    "### 【問題5】リストへの保存\n",
    "ここまでは43回折った後の最後の値だけを使用していましたが、グラフで可視化するためには過程の値も必要です。  \n",
    "for文を使用したコードに、過程の値合計44個を記録するコードを加えてください。"
   ]
  },
  {
   "cell_type": "code",
   "execution_count": 9,
   "metadata": {},
   "outputs": [],
   "source": [
    "folded_thickness = THICKNESS\n",
    "past_thickness = [folded_thickness]\n",
    "for _ in range(43):\n",
    "    folded_thickness *= 2\n",
    "    past_thickness.append(folded_thickness)"
   ]
  },
  {
   "cell_type": "code",
   "execution_count": 10,
   "metadata": {},
   "outputs": [
    {
     "data": {
      "text/plain": [
       "44"
      ]
     },
     "execution_count": 10,
     "metadata": {},
     "output_type": "execute_result"
    }
   ],
   "source": [
    "len(past_thickness)"
   ]
  },
  {
   "cell_type": "markdown",
   "metadata": {},
   "source": [
    "### 【問題6】折れ線グラフの表示\n",
    "グラフの描画には Matplotlib という ライブラリ を用います。  \n",
    "リストへ記録するコードの後ろで以下の雛形を使用してください。"
   ]
  },
  {
   "cell_type": "code",
   "execution_count": 11,
   "metadata": {},
   "outputs": [
    {
     "data": {
      "image/png": "[encoded data removed]",
      "text/plain": [
       "<Figure size 432x288 with 1 Axes>"
      ]
     },
     "metadata": {
      "needs_background": "light"
     },
     "output_type": "display_data"
    }
   ],
   "source": [
    "import matplotlib.pyplot as plt\n",
    "%matplotlib inline\n",
    "plt.title('thickness of folded paper')\n",
    "plt.xlabel('number of folded')\n",
    "plt.ylabel('thickness[m]')\n",
    "plt.plot(past_thickness)\n",
    "plt.show();"
   ]
  },
  {
   "cell_type": "markdown",
   "metadata": {},
   "source": [
    "`厚さが指数関数的に急激に増加している`"
   ]
  },
  {
   "cell_type": "markdown",
   "metadata": {},
   "source": [
    "### 【問題7】グラフのカスタマイズ\n",
    "グラフをより見やすくカスタマイズしてみましょう。  \n",
    "カスタマイズしたグラフを最低3種類作成してください。  \n",
    "例えば以下のように書き換えることで、線の色を赤に変更できます。"
   ]
  },
  {
   "cell_type": "code",
   "execution_count": 12,
   "metadata": {},
   "outputs": [
    {
     "data": {
      "image/png": "[encoded data removed]",
      "text/plain": [
       "<Figure size 432x288 with 1 Axes>"
      ]
     },
     "metadata": {
      "needs_background": "light"
     },
     "output_type": "display_data"
    }
   ],
   "source": [
    "\"\"\"\n",
    "カスタマイズ１\n",
    "\"\"\"\n",
    "plt.title(\"thickness of folded paper\")\n",
    "plt.xlabel(\"number of folds\")\n",
    "plt.ylabel(\"thickness[m]\")\n",
    "plt.plot(past_thickness, color='green')\n",
    "plt.show()"
   ]
  },
  {
   "cell_type": "code",
   "execution_count": 13,
   "metadata": {},
   "outputs": [
    {
     "data": {
      "image/png": "[encoded data removed]",
      "text/plain": [
       "<Figure size 432x288 with 1 Axes>"
      ]
     },
     "metadata": {
      "needs_background": "light"
     },
     "output_type": "display_data"
    }
   ],
   "source": [
    "\"\"\"\n",
    "カスタマイズ２\n",
    "\"\"\"\n",
    "plt.title(\"thickness of folded paper\")\n",
    "plt.xlabel(\"number of folds\")\n",
    "plt.ylabel(\"thickness[m]\")\n",
    "plt.plot(past_thickness, marker='*',markersize=10, linestyle='--', color='red', linewidth=15, alpha=0.2)\n",
    "plt.show()"
   ]
  },
  {
   "cell_type": "code",
   "execution_count": 14,
   "metadata": {
    "scrolled": true
   },
   "outputs": [
    {
     "data": {
      "image/png": "[encoded data removed]",
      "text/plain": [
       "<Figure size 432x288 with 1 Axes>"
      ]
     },
     "metadata": {
      "needs_background": "light"
     },
     "output_type": "display_data"
    }
   ],
   "source": [
    "\"\"\"\n",
    "カスタマイズ３\n",
    "\"\"\"\n",
    "plt.title(\"thickness of folded paper\", fontsize=20)\n",
    "plt.xlabel(\"number of folds\", fontsize=15)\n",
    "plt.ylabel(\"thickness[m]\", fontsize=15)\n",
    "plt.tick_params(labelsize=15)\n",
    "plt.plot(past_thickness, marker='o', linewidth=0)\n",
    "plt.hlines([384400000], xmin=0, xmax=len(past_thickness), color='red', linestyle='--')\n",
    "plt.text(20, 394400000, 'distance to the moon', fontsize=10)\n",
    "plt.show()"
   ]
  }
 ],
 "metadata": {
  "kernelspec": {
   "display_name": "Python 3",
   "language": "python",
   "name": "python3"
  },
  "language_info": {
   "codemirror_mode": {
    "name": "ipython",
    "version": 3
   },
   "file_extension": ".py",
   "mimetype": "text/x-python",
   "name": "python",
   "nbconvert_exporter": "python",
   "pygments_lexer": "ipython3",
   "version": "3.7.9"
  },
  "toc": {
   "base_numbering": 1,
   "nav_menu": {},
   "number_sections": false,
   "sideBar": true,
   "skip_h1_title": false,
   "title_cell": "Table of Contents",
   "title_sidebar": "Contents",
   "toc_cell": false,
   "toc_position": {},
   "toc_section_display": true,
   "toc_window_display": true
  },
  "varInspector": {
   "cols": {
    "lenName": 16,
    "lenType": 16,
    "lenVar": 40
   },
   "kernels_config": {
    "python": {
     "delete_cmd_postfix": "",
     "delete_cmd_prefix": "del ",
     "library": "var_list.py",
     "varRefreshCmd": "print(var_dic_list())"
    },
    "r": {
     "delete_cmd_postfix": ") ",
     "delete_cmd_prefix": "rm(",
     "library": "var_list.r",
     "varRefreshCmd": "cat(var_dic_list()) "
    }
   },
   "types_to_exclude": [
    "module",
    "function",
    "builtin_function_or_method",
    "instance",
    "_Feature"
   ],
   "window_display": false
  }
 },
 "nbformat": 4,
 "nbformat_minor": 2
}
