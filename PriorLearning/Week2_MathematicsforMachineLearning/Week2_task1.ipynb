{
 "cells": [
  {
   "cell_type": "markdown",
   "metadata": {},
   "source": [
    "# Week2_授業課題1_二次元配列と勾配問題"
   ]
  },
  {
   "cell_type": "markdown",
   "metadata": {},
   "source": [
    "## 【問題1】1次関数\n",
    "$x$ が-50から50の範囲で次の式を考えます。\n",
    "\n",
    "$$y=\\frac{1}{2}x+1$$\n",
    "\n",
    "-50から50まで0.1間隔のxを表すndarrayと、各要素に対するyを表すndarrayを作成してください。"
   ]
  },
  {
   "cell_type": "code",
   "execution_count": 1,
   "metadata": {},
   "outputs": [],
   "source": [
    "import numpy as np"
   ]
  },
  {
   "cell_type": "code",
   "execution_count": 2,
   "metadata": {},
   "outputs": [
    {
     "data": {
      "text/plain": [
       "array([-50. , -49.9, -49.8, ...,  49.8,  49.9,  50. ])"
      ]
     },
     "execution_count": 2,
     "metadata": {},
     "output_type": "execute_result"
    }
   ],
   "source": [
    "x_ndarray = np.arange(-50, 50.1, 0.1)\n",
    "x_ndarray"
   ]
  },
  {
   "cell_type": "code",
   "execution_count": 3,
   "metadata": {},
   "outputs": [
    {
     "data": {
      "text/plain": [
       "array([-24.  , -23.95, -23.9 , ...,  25.9 ,  25.95,  26.  ])"
      ]
     },
     "execution_count": 3,
     "metadata": {},
     "output_type": "execute_result"
    }
   ],
   "source": [
    "y_ndarray = x_ndarray / 2 + 1\n",
    "y_ndarray"
   ]
  },
  {
   "cell_type": "markdown",
   "metadata": {},
   "source": [
    "## 【問題2】配列の結合\n",
    "問題1で作成したndarrayを結合し、(1001, 2)の形の配列にしてください。0列目にx、1列目にyが来るようにします。"
   ]
  },
  {
   "cell_type": "code",
   "execution_count": 4,
   "metadata": {},
   "outputs": [
    {
     "data": {
      "text/plain": [
       "array([[-50.  , -24.  ],\n",
       "       [-49.9 , -23.95],\n",
       "       [-49.8 , -23.9 ],\n",
       "       ...,\n",
       "       [ 49.8 ,  25.9 ],\n",
       "       [ 49.9 ,  25.95],\n",
       "       [ 50.  ,  26.  ]])"
      ]
     },
     "execution_count": 4,
     "metadata": {},
     "output_type": "execute_result"
    }
   ],
   "source": [
    "xy_ndarray = np.vstack((x_ndarray, y_ndarray)).T\n",
    "xy_ndarray"
   ]
  },
  {
   "cell_type": "markdown",
   "metadata": {},
   "source": [
    "## 【問題3】勾配を求める\n",
    "各x座標における勾配を求めます。ここで勾配はyの変化量をxの変化量で割ることで計算します。\n",
    "![image.png](https://t.gyazo.com/teams/diveintocode/7fd04c4808b8a0150a49c908e21f3cd2.png)\n",
    "各変化量は以下の図のように隣同士の要素の差から近似的に求めます。\n",
    "![image.png](https://t.gyazo.com/teams/diveintocode/398d8c5b4b1bd4151dea6488059226a1.png)\n",
    "《注意》<br>\n",
    "・厳密に各点における勾配を求めるには極限（微分）を利用する必要があります<br>\n",
    "・勾配はx座標の間隔を使うので、xの要素数に対して一つ少なくなります"
   ]
  },
  {
   "cell_type": "code",
   "execution_count": 5,
   "metadata": {},
   "outputs": [
    {
     "data": {
      "text/plain": [
       "array([0.5, 0.5])"
      ]
     },
     "execution_count": 5,
     "metadata": {},
     "output_type": "execute_result"
    }
   ],
   "source": [
    "delta_array = (y_ndarray[1:] - y_ndarray[:-1]) / (x_ndarray[1:] - x_ndarray[:-1])\n",
    "delta_array[:2]"
   ]
  },
  {
   "cell_type": "markdown",
   "metadata": {},
   "source": [
    "## 【問題4】グラフを描く\n",
    "1次関数のグラフをMatplotlibを用いて描いてください。また、それとは別に横軸をx、縦軸を勾配としたグラフも描いてください。\n",
    "\n",
    "[matplotlib.pyplot.plot — Matplotlib 3.1.0 documentation](https://matplotlib.org/3.1.0/api/_as_gen/matplotlib.pyplot.plot.html)"
   ]
  },
  {
   "cell_type": "code",
   "execution_count": 6,
   "metadata": {},
   "outputs": [
    {
     "data": {
      "image/png": "[encoded data removed]",
      "text/plain": [
       "<Figure size 432x288 with 1 Axes>"
      ]
     },
     "metadata": {
      "needs_background": "light"
     },
     "output_type": "display_data"
    }
   ],
   "source": [
    "import matplotlib.pyplot as plt\n",
    "%matplotlib inline\n",
    "plt.xlabel('x')\n",
    "plt.ylabel('y')\n",
    "plt.plot(x_ndarray, y_ndarray);"
   ]
  },
  {
   "cell_type": "code",
   "execution_count": 7,
   "metadata": {},
   "outputs": [
    {
     "data": {
      "image/png": "[encoded data removed]",
      "text/plain": [
       "<Figure size 432x288 with 1 Axes>"
      ]
     },
     "metadata": {
      "needs_background": "light"
     },
     "output_type": "display_data"
    }
   ],
   "source": [
    "plt.xlabel('x')\n",
    "plt.ylabel('delta')\n",
    "plt.plot(x_ndarray[:-1], delta_array);"
   ]
  },
  {
   "cell_type": "markdown",
   "metadata": {},
   "source": [
    "## 【問題5】Pythonの関数化\n",
    "問題1から問題3までの範囲をまとめて行うPythonの関数を雛形を参考に作成してください。\n",
    "\n",
    "そして、以下の3式の勾配を0.1間隔で求めてndarrayで出力してください。\n",
    "\n",
    "$$y=x^2　\\, (-50 \\leq x \\leq 50)$$\n",
    "$$y=2x^2+2^x 　\\, (-50 \\leq x \\leq 50)$$\n",
    "$$y=\\sin(x^\\frac{1}{2}) 　\\, (0 \\leq x \\leq 50)$$\n",
    "\n",
    "また、問題4と同様にグラフを描いてください。\n",
    "\n",
    "ndarrayに対して三角関数のsinの計算を行うには `np.sin()`を用います。\n",
    "\n",
    "[numpy.sin — NumPy v1.16 Manual](https://docs.scipy.org/doc/numpy/reference/generated/numpy.sin.html#numpy.sin)"
   ]
  },
  {
   "cell_type": "code",
   "execution_count": 8,
   "metadata": {},
   "outputs": [],
   "source": [
    "def compute_gradient(function, x_range=(-50, 50.1, 0.1)):\n",
    "    \"\"\"\n",
    "    変化量を使い勾配を計算する。\n",
    "    \n",
    "    Parameters\n",
    "    ----------------\n",
    "    function : function\n",
    "      求めたい関数、xのndarrayを入れるとyのndarrayを返すもの。\n",
    "    x_range : tuple\n",
    "        np.arange()の引数と同じ方法で範囲を指定する。\n",
    "        \n",
    "    Returns\n",
    "    ----------------\n",
    "    array_xy : ndarray, shape(n, 2)\n",
    "        xとyを結合したもの。nはx_rangeに依存する。\n",
    "    gradient : ndarray, shape(n-1,)\n",
    "        関数の勾配。差をとるため要素は1つ減る\n",
    "    \"\"\"\n",
    "    array_x = np.arange(x_range[0], x_range[1], x_range[2])\n",
    "    array_y = function(array_x)\n",
    "    array_xy = np.vstack((array_x, array_y)).T\n",
    "    gradient = (array_y[1:] - array_y[:-1]) / (array_x[1:] - array_x[:-1])\n",
    "    return array_xy, gradient\n",
    "\n",
    "def function1(array_x):\n",
    "    array_y = array_x / 2 + 1\n",
    "    return array_y\n",
    "\n",
    "def function2(array_x):\n",
    "    array_y = array_x**2\n",
    "    return array_y\n",
    "\n",
    "def function3(array_x):\n",
    "    array_y = array_x**2 + 2**array_x\n",
    "    return array_y\n",
    "\n",
    "def function4(array_x):\n",
    "    array_y = np.sin(np.sqrt(array_x))\n",
    "    return array_y"
   ]
  },
  {
   "cell_type": "code",
   "execution_count": 9,
   "metadata": {},
   "outputs": [
    {
     "data": {
      "text/plain": [
       "(array([[-50.  , -24.  ],\n",
       "        [-49.9 , -23.95],\n",
       "        [-49.8 , -23.9 ],\n",
       "        ...,\n",
       "        [ 49.8 ,  25.9 ],\n",
       "        [ 49.9 ,  25.95],\n",
       "        [ 50.  ,  26.  ]]),\n",
       " array([0.5, 0.5, 0.5]))"
      ]
     },
     "execution_count": 9,
     "metadata": {},
     "output_type": "execute_result"
    }
   ],
   "source": [
    "array_xy1, gradient1 = compute_gradient(function1, x_range=(-50, 50.1, 0.1))\n",
    "array_xy1, gradient1[:3]"
   ]
  },
  {
   "cell_type": "code",
   "execution_count": 10,
   "metadata": {},
   "outputs": [
    {
     "data": {
      "image/png": "[encoded data removed]",
      "text/plain": [
       "<Figure size 432x288 with 2 Axes>"
      ]
     },
     "metadata": {
      "needs_background": "light"
     },
     "output_type": "display_data"
    }
   ],
   "source": [
    "fig, axes = plt.subplots(1, 2)\n",
    "fig.tight_layout()\n",
    "axes[0].plot(array_xy1[:, 0], array_xy1[:, 1])\n",
    "axes[0].set_title('y=1/2*x')\n",
    "axes[1].plot(array_xy1[:-1, 0], gradient1)\n",
    "axes[1].set_title('gradient');"
   ]
  },
  {
   "cell_type": "code",
   "execution_count": 11,
   "metadata": {},
   "outputs": [
    {
     "data": {
      "text/plain": [
       "(array([[ -50.  , 2500.  ],\n",
       "        [ -49.9 , 2490.01],\n",
       "        [ -49.8 , 2480.04],\n",
       "        ...,\n",
       "        [  49.8 , 2480.04],\n",
       "        [  49.9 , 2490.01],\n",
       "        [  50.  , 2500.  ]]),\n",
       " array([-99.9, -99.7, -99.5]))"
      ]
     },
     "execution_count": 11,
     "metadata": {},
     "output_type": "execute_result"
    }
   ],
   "source": [
    "array_xy2, gradient2 = compute_gradient(function2, x_range=(-50, 50.1, 0.1))\n",
    "array_xy2, gradient2[:3]"
   ]
  },
  {
   "cell_type": "code",
   "execution_count": 12,
   "metadata": {},
   "outputs": [
    {
     "data": {
      "image/png": "[encoded data removed]",
      "text/plain": [
       "<Figure size 432x288 with 2 Axes>"
      ]
     },
     "metadata": {
      "needs_background": "light"
     },
     "output_type": "display_data"
    }
   ],
   "source": [
    "fig, axes = plt.subplots(1, 2)\n",
    "fig.tight_layout()\n",
    "axes[0].plot(array_xy2[:, 0], array_xy2[:, 1])\n",
    "axes[0].set_title('y=x^2')\n",
    "axes[1].plot(array_xy2[:-1, 0], gradient2)\n",
    "axes[1].set_title('gradient');"
   ]
  },
  {
   "cell_type": "code",
   "execution_count": 13,
   "metadata": {},
   "outputs": [
    {
     "data": {
      "text/plain": [
       "(array([[-5.00000000e+01,  2.50000000e+03],\n",
       "        [-4.99000000e+01,  2.49001000e+03],\n",
       "        [-4.98000000e+01,  2.48004000e+03],\n",
       "        ...,\n",
       "        [ 4.98000000e+01,  9.80152798e+14],\n",
       "        [ 4.99000000e+01,  1.05050176e+15],\n",
       "        [ 5.00000000e+01,  1.12589991e+15]]),\n",
       " array([-99.9, -99.7, -99.5]))"
      ]
     },
     "execution_count": 13,
     "metadata": {},
     "output_type": "execute_result"
    }
   ],
   "source": [
    "array_xy3, gradient3 = compute_gradient(function3, x_range=(-50, 50.1, 0.1))\n",
    "array_xy3, gradient3[:3]"
   ]
  },
  {
   "cell_type": "code",
   "execution_count": 14,
   "metadata": {},
   "outputs": [
    {
     "data": {
      "image/png": "[encoded data removed]",
      "text/plain": [
       "<Figure size 432x288 with 2 Axes>"
      ]
     },
     "metadata": {
      "needs_background": "light"
     },
     "output_type": "display_data"
    }
   ],
   "source": [
    "fig, axes = plt.subplots(1, 2)\n",
    "fig.tight_layout()\n",
    "axes[0].plot(array_xy3[:, 0], array_xy3[:, 1])\n",
    "axes[0].set_title('y=2*x^2 + 2^x')\n",
    "# axes[0].set_ylim(0, 10)\n",
    "axes[1].plot(array_xy1[:-1, 0], gradient3)\n",
    "axes[1].set_title('gradient');"
   ]
  },
  {
   "cell_type": "code",
   "execution_count": 15,
   "metadata": {},
   "outputs": [
    {
     "data": {
      "text/plain": [
       "(array([[ 0.        ,  0.        ],\n",
       "        [ 0.1       ,  0.31098359],\n",
       "        [ 0.2       ,  0.43245484],\n",
       "        ...,\n",
       "        [49.8       ,  0.69880548],\n",
       "        [49.9       ,  0.70385354],\n",
       "        [50.        ,  0.70886129]]),\n",
       " array([3.10983593, 1.21471246, 0.88289461]))"
      ]
     },
     "execution_count": 15,
     "metadata": {},
     "output_type": "execute_result"
    }
   ],
   "source": [
    "array_xy4, gradient4 = compute_gradient(function4, x_range=(0, 50.1, 0.1))\n",
    "array_xy4, gradient4[:3]"
   ]
  },
  {
   "cell_type": "code",
   "execution_count": 16,
   "metadata": {},
   "outputs": [
    {
     "data": {
      "image/png": "[encoded data removed]",
      "text/plain": [
       "<Figure size 432x288 with 2 Axes>"
      ]
     },
     "metadata": {
      "needs_background": "light"
     },
     "output_type": "display_data"
    }
   ],
   "source": [
    "fig, axes = plt.subplots(1, 2)\n",
    "fig.tight_layout()\n",
    "axes[0].plot(array_xy4[:, 0], array_xy4[:, 1])\n",
    "axes[0].set_title('y=sin(√x)')\n",
    "axes[1].plot(array_xy4[:-1, 0], gradient4)\n",
    "axes[1].set_title('gradient');"
   ]
  },
  {
   "cell_type": "markdown",
   "metadata": {},
   "source": [
    "## 【問題6】最小値を求める\n",
    "問題5で扱った関数のyの最小値を求めます。xの範囲も問題5と同様とします。\n",
    "\n",
    "今回は勾配降下法ではなく、ndarrayのminメソッド、argminメソッドを用いてください。minメソッドは最小値を、argminメソッドは最小値のインデックスを取得することができます。\n",
    "\n",
    "また、最小のyをとる前後の勾配を表示してください。\n",
    "\n",
    "[numpy.ndarray.min — NumPy v1.16 Manual](https://docs.scipy.org/doc/numpy/reference/generated/numpy.ndarray.min.html)\n",
    "\n",
    "[numpy.ndarray.argmin — NumPy v1.16 Manual](https://docs.scipy.org/doc/numpy/reference/generated/numpy.ndarray.argmin.html)"
   ]
  },
  {
   "cell_type": "code",
   "execution_count": 17,
   "metadata": {},
   "outputs": [
    {
     "data": {
      "text/plain": [
       "(-24.0, 0.5)"
      ]
     },
     "execution_count": 17,
     "metadata": {},
     "output_type": "execute_result"
    }
   ],
   "source": [
    "y_min1 = array_xy1[:, 1].min()\n",
    "min_index1 = array_xy1[:, 1].argmin()\n",
    "min_gradient1 = gradient1[min_index1]\n",
    "y_min1, min_gradient1"
   ]
  },
  {
   "cell_type": "code",
   "execution_count": 18,
   "metadata": {},
   "outputs": [
    {
     "data": {
      "text/plain": [
       "(5.048709793414476e-25, 0.1000000000014225)"
      ]
     },
     "execution_count": 18,
     "metadata": {},
     "output_type": "execute_result"
    }
   ],
   "source": [
    "y_min2 = array_xy2[:, 1].min()\n",
    "min_index2 = array_xy2[:, 1].argmin()\n",
    "min_gradient2 = gradient2[min_index2]\n",
    "y_min2, min_gradient2"
   ]
  },
  {
   "cell_type": "code",
   "execution_count": 19,
   "metadata": {},
   "outputs": [
    {
     "data": {
      "text/plain": [
       "(0.9022523963562094, 0.08298166940058686)"
      ]
     },
     "execution_count": 19,
     "metadata": {},
     "output_type": "execute_result"
    }
   ],
   "source": [
    "y_min3 = array_xy3[:, 1].min()\n",
    "min_index3 = array_xy3[:, 1].argmin()\n",
    "min_gradient3 = gradient3[min_index3]\n",
    "y_min3, min_gradient3"
   ]
  },
  {
   "cell_type": "code",
   "execution_count": 20,
   "metadata": {},
   "outputs": [
    {
     "data": {
      "text/plain": [
       "(-0.9999997540298113, 0.0004874477930660974)"
      ]
     },
     "execution_count": 20,
     "metadata": {},
     "output_type": "execute_result"
    }
   ],
   "source": [
    "y_min4 = array_xy4[:, 1].min()\n",
    "min_index4 = array_xy4[:, 1].argmin()\n",
    "min_gradient4 = gradient4[min_index4]\n",
    "y_min4, min_gradient4"
   ]
  }
 ],
 "metadata": {
  "kernelspec": {
   "display_name": "Python 3",
   "language": "python",
   "name": "python3"
  },
  "language_info": {
   "codemirror_mode": {
    "name": "ipython",
    "version": 3
   },
   "file_extension": ".py",
   "mimetype": "text/x-python",
   "name": "python",
   "nbconvert_exporter": "python",
   "pygments_lexer": "ipython3",
   "version": "3.7.9"
  },
  "toc": {
   "base_numbering": 1,
   "nav_menu": {},
   "number_sections": false,
   "sideBar": true,
   "skip_h1_title": false,
   "title_cell": "Table of Contents",
   "title_sidebar": "Contents",
   "toc_cell": false,
   "toc_position": {},
   "toc_section_display": true,
   "toc_window_display": false
  },
  "varInspector": {
   "cols": {
    "lenName": 16,
    "lenType": 16,
    "lenVar": 40
   },
   "kernels_config": {
    "python": {
     "delete_cmd_postfix": "",
     "delete_cmd_prefix": "del ",
     "library": "var_list.py",
     "varRefreshCmd": "print(var_dic_list())"
    },
    "r": {
     "delete_cmd_postfix": ") ",
     "delete_cmd_prefix": "rm(",
     "library": "var_list.r",
     "varRefreshCmd": "cat(var_dic_list()) "
    }
   },
   "types_to_exclude": [
    "module",
    "function",
    "builtin_function_or_method",
    "instance",
    "_Feature"
   ],
   "window_display": false
  }
 },
 "nbformat": 4,
 "nbformat_minor": 2
}
