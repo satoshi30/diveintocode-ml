{
 "cells": [
  {
   "cell_type": "markdown",
   "metadata": {},
   "source": [
    "## 【問題1】べき乗の算術演算子を使用して作成\n",
    "べき乗の算術演算子を使用したプログラムを作ってください。  \n",
    "雛形として紙を1回折った時の厚さを計算するコードを用意しました。これを43回折った時のコードに書き換えてください。  \n",
    "\"\"\"\n",
    "紙を1回折った時の厚さを計算するコード\n",
    "\"\"\"  \n",
    "THICKNESS = 0.00008  \n",
    "folded_thickness = THICKNESS*2  \n",
    "print(\"厚さ： {}メートル\".format(folded_thickness))"
   ]
  },
  {
   "cell_type": "code",
   "execution_count": 1,
   "metadata": {},
   "outputs": [
    {
     "name": "stdout",
     "output_type": "stream",
     "text": [
      "厚さ : 703687441.77664メートル\n"
     ]
    }
   ],
   "source": [
    "THICKNESS = 0.00008\n",
    "folded43_thickness = THICKNESS*2**43\n",
    "print('厚さ : {}メートル'.format(folded43_thickness))"
   ]
  },
  {
   "cell_type": "markdown",
   "metadata": {},
   "source": [
    "## 【問題2】単位の変換\n",
    "単位がメートルだと実感が湧きづらいので、◯◯万キロメートル に変換して表示させてください。  \n",
    "サンプルとして ◯◯キロメートル に変換したコードを用意したので、参考にして取り組んでください。    \n",
    "小数点以下は2桁まで表示されるようにも指定しています。  \n",
    "\n",
    "《サンプルコード》  \n",
    "\n",
    "'''メートルをキロメートルに変換して小数点以下2桁で表示する'''  \n",
    "print(\"厚さ： {:.2f}キロメートル\".format(folded_thickness/1000))"
   ]
  },
  {
   "cell_type": "code",
   "execution_count": 2,
   "metadata": {},
   "outputs": [
    {
     "name": "stdout",
     "output_type": "stream",
     "text": [
      "厚さ : 70.37万キロメートル\n"
     ]
    }
   ],
   "source": [
    "print('厚さ : {:.2f}万キロメートル'.format(folded43_thickness/10000000))"
   ]
  },
  {
   "cell_type": "markdown",
   "metadata": {},
   "source": [
    "### 「月までの距離」を検索して、折った紙が月に届くかどうか確認してみましょう。  \n",
    "月までの距離：約38万キロ"
   ]
  },
  {
   "cell_type": "markdown",
   "metadata": {},
   "source": [
    "## 【問題3】for文を使用して作成\n",
    "次に、for文を使用したプログラムを作ってください。  \n",
    "べき乗の算術演算子は使ってはいけません。算術演算子は四則演算（+、-、*、/）のみ使えます。  \n",
    "《ヒント》  \n",
    "べき乗は以下のように掛け算の繰り返しに置き換えることができます。  \n",
    "\n",
    "$2^3=2×2×2$  \n",
    "$2^5=2×2×2×2×2$  "
   ]
  },
  {
   "cell_type": "code",
   "execution_count": 3,
   "metadata": {},
   "outputs": [
    {
     "name": "stdout",
     "output_type": "stream",
     "text": [
      "厚さ : 70.37万キロメートル\n"
     ]
    }
   ],
   "source": [
    "folded43_thickness2 = 0.00008\n",
    "for _ in range(43):\n",
    "    folded43_thickness2 *= 2\n",
    "print('厚さ : {:.2f}万キロメートル'.format(folded43_thickness2/10000000))"
   ]
  },
  {
   "cell_type": "markdown",
   "metadata": {},
   "source": [
    "## 【問題4】計算時間の比較\n",
    "2つの方法はどちらが正しいわけでもありませんが、コードの良さを評価する際には以下のような着目点があります。  \n",
    "\n",
    "-計算速度\n",
    "-メモリの使用量\n",
    "-可読性\n",
    "-拡張性\n",
    "-再利用性\n",
    "\n",
    "今回は計算速度を比較してみます。  \n",
    "以下の雛形を使用して、2つの方法の計算時間を出力してください。  \n",
    "そして、それぞれの計算時間の関係を簡単に説明してください。どちらの書き方が良さそうでしょうか。  \n",
    "なお、変数の定義やprint文など、どちらの方法でも使われている部分は除いた範囲の時間を比較してください。  \n",
    "\n",
    "\n",
    "《雛形》  \n",
    "timeモジュールを用いることで現在の時間を取得できます。  \n",
    "比較したい箇所の前後の時間の差を計算することで、実行時間を求めます。\n",
    "\n",
    "'''   \n",
    "import time  \n",
    "start = time.time()  \n",
    "'''\n",
    " ここに比較したいコードを貼り付ける\n",
    "'''  \n",
    "elapsed_time = time.time() - start  \n",
    "print(\"time : {}[s]\".format(elapsed_time))  "
   ]
  },
  {
   "cell_type": "code",
   "execution_count": 4,
   "metadata": {},
   "outputs": [
    {
     "name": "stdout",
     "output_type": "stream",
     "text": [
      "time1 : 7.224082946777344e-05[s]\n"
     ]
    }
   ],
   "source": [
    "import time\n",
    "start1 = time.time()\n",
    "THICKNESS = 0.00008\n",
    "folded43_thickness = THICKNESS*2**43\n",
    "elapsed_time1 = time.time() - start1\n",
    "print('time1 : {}[s]'.format(elapsed_time1))"
   ]
  },
  {
   "cell_type": "code",
   "execution_count": 5,
   "metadata": {},
   "outputs": [
    {
     "name": "stdout",
     "output_type": "stream",
     "text": [
      "time2 : 8.988380432128906e-05[s]\n"
     ]
    }
   ],
   "source": [
    "start2 = time.time()\n",
    "folded43_thickness2 = 0.00008\n",
    "for _ in range(43):\n",
    "    folded43_thickness2 *= 2\n",
    "elapsed_time2 = time.time() - start2\n",
    "print('time2 : {}[s]'.format(elapsed_time2))"
   ]
  },
  {
   "cell_type": "markdown",
   "metadata": {},
   "source": [
    "《発展：マジックコマンドを使う》  \n",
    "計算時間は実行するたびに変化します。  \n",
    "そのため、複数回計測することが一般的です。  \n",
    "timeモジュールとfor文を組み合わせることで実現できる他、Jupyter Notebookでは%timeitという マジックコマンド でも計測が可能です。  \n",
    "マジックコマンドはPythonのプログラムとは別に用意された、Jupyter Notebookを便利にするための機能です。  \n",
    "計測したいコードを書いたセルのはじめに%%timeitと入れて実行します。  \n",
    "\n",
    "%%timeit  \n",
    "'''\n",
    "ここに比較したいコードを貼り付ける\n",
    "'''  "
   ]
  },
  {
   "cell_type": "code",
   "execution_count": 6,
   "metadata": {},
   "outputs": [
    {
     "name": "stdout",
     "output_type": "stream",
     "text": [
      "52 ns ± 0.991 ns per loop (mean ± std. dev. of 7 runs, 10000000 loops each)\n"
     ]
    }
   ],
   "source": [
    "%%timeit\n",
    "THICKNESS = 0.00008\n",
    "folded43_thickness = THICKNESS*2**43"
   ]
  },
  {
   "cell_type": "code",
   "execution_count": 7,
   "metadata": {},
   "outputs": [
    {
     "name": "stdout",
     "output_type": "stream",
     "text": [
      "1.77 µs ± 30.5 ns per loop (mean ± std. dev. of 7 runs, 1000000 loops each)\n"
     ]
    }
   ],
   "source": [
    "%%timeit\n",
    "folded43_thickness2 = 0.00008\n",
    "for _ in range(43):\n",
    "    folded43_thickness2 *= 2"
   ]
  },
  {
   "cell_type": "markdown",
   "metadata": {},
   "source": [
    "## 【問題5】リストへの保存  \n",
    "ここまでは43回折った後の最後の値だけを使用していましたが、グラフで可視化するためには過程の値も必要です。  \n",
    "for文を使用したコードに、過程の値合計44個を記録するコードを加えてください。  "
   ]
  },
  {
   "cell_type": "code",
   "execution_count": 13,
   "metadata": {},
   "outputs": [
    {
     "data": {
      "text/plain": [
       "44"
      ]
     },
     "execution_count": 13,
     "metadata": {},
     "output_type": "execute_result"
    }
   ],
   "source": [
    "thickness3 = 0.00008\n",
    "lst = []\n",
    "for i in range(44):\n",
    "    lst.append(thickness3 * 2**i)\n",
    "len(lst)"
   ]
  },
  {
   "cell_type": "markdown",
   "metadata": {},
   "source": [
    "## 【問題6】折れ線グラフの表示\n",
    "グラフの描画には Matplotlib という ライブラリ を用います。  \n",
    "リストへ記録するコードの後ろで以下の雛形を使用してください。  \n",
    "\"\"\"\n",
    "グラフを表示する。タイトルと軸ラベル名付き。\n",
    "\"\"\"  \n",
    "import matplotlib.pyplot as plt  \n",
    "%matplotlib inline  \n",
    "plt.title(\"thickness of folded paper\")  \n",
    "plt.xlabel(\"number of folds\")  \n",
    "plt.ylabel(\"thickness[m]\")  \n",
    "plt.plot(リスト名) # 「リスト名」のところにリストの変数名を入れる  \n",
    "plt.show()  "
   ]
  },
  {
   "cell_type": "code",
   "execution_count": 11,
   "metadata": {},
   "outputs": [
    {
     "data": {
      "image/png": "[encoded data removed]",
      "text/plain": [
       "<Figure size 432x288 with 1 Axes>"
      ]
     },
     "metadata": {
      "needs_background": "light"
     },
     "output_type": "display_data"
    }
   ],
   "source": [
    "import matplotlib.pyplot as plt\n",
    "%matplotlib inline\n",
    "plt.title('thickness of folded paper')\n",
    "plt.xlabel('number of folds')\n",
    "plt.ylabel('thickness[m]')\n",
    "plt.plot(lst)\n",
    "plt.show()"
   ]
  },
  {
   "cell_type": "markdown",
   "metadata": {},
   "source": [
    "## 【問題7】グラフのカスタマイズ\n",
    "グラフをより見やすくカスタマイズしてみましょう。  \n",
    "カスタマイズしたグラフを最低3種類作成してください。  \n",
    "例えば以下のように書き換えることで、線の色を赤に変更できます。  \n",
    "\"\"\"\n",
    "赤い折れ線グラフを表示する。\n",
    "\"\"\"   \n",
    "plt.title(\"thickness of folded paper\")  \n",
    "plt.xlabel(\"number of folds\")  \n",
    "plt.ylabel(\"thickness[m]\")  \n",
    "plt.plot(リスト名, color='red')  \n",
    "plt.show()  "
   ]
  },
  {
   "cell_type": "code",
   "execution_count": 20,
   "metadata": {},
   "outputs": [
    {
     "data": {
      "image/png": "[encoded data removed]",
      "text/plain": [
       "<Figure size 432x288 with 1 Axes>"
      ]
     },
     "metadata": {
      "needs_background": "light"
     },
     "output_type": "display_data"
    }
   ],
   "source": [
    "plt.title(\"thickness of folded paper\")\n",
    "plt.xlabel(\"number of folds\")\n",
    "plt.ylabel(\"thickness[m]\")\n",
    "plt.tick_params(labelsize=20, color='red', labelcolor='red') #軸の値に関する設定\n",
    "plt.plot(lst, color='red')\n",
    "plt.show()"
   ]
  },
  {
   "cell_type": "code",
   "execution_count": null,
   "metadata": {},
   "outputs": [],
   "source": []
  }
 ],
 "metadata": {
  "kernelspec": {
   "display_name": "Python 3",
   "language": "python",
   "name": "python3"
  },
  "language_info": {
   "codemirror_mode": {
    "name": "ipython",
    "version": 3
   },
   "file_extension": ".py",
   "mimetype": "text/x-python",
   "name": "python",
   "nbconvert_exporter": "python",
   "pygments_lexer": "ipython3",
   "version": "3.7.4"
  }
 },
 "nbformat": 4,
 "nbformat_minor": 2
}
