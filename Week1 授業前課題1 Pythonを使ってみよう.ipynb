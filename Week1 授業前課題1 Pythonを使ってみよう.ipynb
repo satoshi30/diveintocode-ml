{
 "cells": [
  {
   "cell_type": "markdown",
   "metadata": {},
   "source": [
    "## 【問題1】べき乗の算術演算子を使用して作成\n",
    "べき乗の算術演算子を使用したプログラムを作ってください。  \n",
    "雛形として紙を1回折った時の厚さを計算するコードを用意しました。これを43回折った時のコードに書き換えてください。  \n",
    "\"\"\"\n",
    "紙を1回折った時の厚さを計算するコード\n",
    "\"\"\"  \n",
    "THICKNESS = 0.00008  \n",
    "folded_thickness = THICKNESS*2  \n",
    "print(\"厚さ： {}メートル\".format(folded_thickness))"
   ]
  },
  {
   "cell_type": "code",
   "execution_count": 1,
   "metadata": {},
   "outputs": [
    {
     "name": "stdout",
     "output_type": "stream",
     "text": [
      "厚さ : 703687441.77664メートル\n"
     ]
    }
   ],
   "source": [
    "THICKNESS = 0.00008\n",
    "folded43_thickness = THICKNESS*2**43\n",
    "print('厚さ : {}メートル'.format(folded43_thickness))"
   ]
  },
  {
   "cell_type": "markdown",
   "metadata": {},
   "source": [
    "## 【問題2】単位の変換\n",
    "単位がメートルだと実感が湧きづらいので、◯◯万キロメートル に変換して表示させてください。  \n",
    "サンプルとして ◯◯キロメートル に変換したコードを用意したので、参考にして取り組んでください。    \n",
    "小数点以下は2桁まで表示されるようにも指定しています。  \n",
    "\n",
    "《サンプルコード》  \n",
    "\n",
    "'''メートルをキロメートルに変換して小数点以下2桁で表示する'''  \n",
    "print(\"厚さ： {:.2f}キロメートル\".format(folded_thickness/1000))"
   ]
  },
  {
   "cell_type": "code",
   "execution_count": 2,
   "metadata": {},
   "outputs": [
    {
     "name": "stdout",
     "output_type": "stream",
     "text": [
      "厚さ : 70.37万キロメートル\n"
     ]
    }
   ],
   "source": [
    "print('厚さ : {:.2f}万キロメートル'.format(folded43_thickness/10000000))"
   ]
  },
  {
   "cell_type": "markdown",
   "metadata": {},
   "source": [
    "### 「月までの距離」を検索して、折った紙が月に届くかどうか確認してみましょう。  \n",
    "月までの距離：約38万キロ"
   ]
  },
  {
   "cell_type": "markdown",
   "metadata": {},
   "source": [
    "## 【問題3】for文を使用して作成\n",
    "次に、for文を使用したプログラムを作ってください。  \n",
    "べき乗の算術演算子は使ってはいけません。算術演算子は四則演算（+、-、*、/）のみ使えます。  \n",
    "《ヒント》  \n",
    "べき乗は以下のように掛け算の繰り返しに置き換えることができます。  \n",
    "\n",
    "$2^3=2×2×2$  \n",
    "$2^5=2×2×2×2×2$  "
   ]
  },
  {
   "cell_type": "code",
   "execution_count": 3,
   "metadata": {},
   "outputs": [
    {
     "name": "stdout",
     "output_type": "stream",
     "text": [
      "厚さ : 70.37万キロメートル\n"
     ]
    }
   ],
   "source": [
    "folded43_thickness2 = 0.00008\n",
    "for _ in range(43):\n",
    "    folded43_thickness2 *= 2\n",
    "print('厚さ : {:.2f}万キロメートル'.format(folded43_thickness2/10000000))"
   ]
  },
  {
   "cell_type": "markdown",
   "metadata": {},
   "source": [
    "## 【問題4】計算時間の比較\n",
    "2つの方法はどちらが正しいわけでもありませんが、コードの良さを評価する際には以下のような着目点があります。  \n",
    "\n",
    "-計算速度\n",
    "-メモリの使用量\n",
    "-可読性\n",
    "-拡張性\n",
    "-再利用性\n",
    "\n",
    "今回は計算速度を比較してみます。  \n",
    "以下の雛形を使用して、2つの方法の計算時間を出力してください。  \n",
    "そして、それぞれの計算時間の関係を簡単に説明してください。どちらの書き方が良さそうでしょうか。  \n",
    "なお、変数の定義やprint文など、どちらの方法でも使われている部分は除いた範囲の時間を比較してください。  \n",
    "\n",
    "\n",
    "《雛形》  \n",
    "timeモジュールを用いることで現在の時間を取得できます。  \n",
    "比較したい箇所の前後の時間の差を計算することで、実行時間を求めます。\n",
    "\n",
    "'''   \n",
    "import time  \n",
    "start = time.time()  \n",
    "'''\n",
    " ここに比較したいコードを貼り付ける\n",
    "'''  \n",
    "elapsed_time = time.time() - start  \n",
    "print(\"time : {}[s]\".format(elapsed_time))  "
   ]
  },
  {
   "cell_type": "code",
   "execution_count": 4,
   "metadata": {},
   "outputs": [
    {
     "name": "stdout",
     "output_type": "stream",
     "text": [
<<<<<<< HEAD
      "time1 : 7.009506225585938e-05[s]\n"
=======
      "time1 : 7.224082946777344e-05[s]\n"
>>>>>>> dbf5ae0814dcb42804c7ca16c254a7b5274863a7
     ]
    }
   ],
   "source": [
    "import time\n",
    "start1 = time.time()\n",
    "THICKNESS = 0.00008\n",
    "folded43_thickness = THICKNESS*2**43\n",
    "elapsed_time1 = time.time() - start1\n",
    "print('time1 : {}[s]'.format(elapsed_time1))"
   ]
  },
  {
   "cell_type": "code",
   "execution_count": 5,
   "metadata": {},
   "outputs": [
    {
     "name": "stdout",
     "output_type": "stream",
     "text": [
<<<<<<< HEAD
      "time2 : 9.107589721679688e-05[s]\n"
=======
      "time2 : 8.988380432128906e-05[s]\n"
>>>>>>> dbf5ae0814dcb42804c7ca16c254a7b5274863a7
     ]
    }
   ],
   "source": [
    "start2 = time.time()\n",
    "folded43_thickness2 = 0.00008\n",
    "for _ in range(43):\n",
    "    folded43_thickness2 *= 2\n",
    "elapsed_time2 = time.time() - start2\n",
    "print('time2 : {}[s]'.format(elapsed_time2))"
   ]
  },
  {
   "cell_type": "markdown",
   "metadata": {},
   "source": [
    "《発展：マジックコマンドを使う》  \n",
    "計算時間は実行するたびに変化します。  \n",
    "そのため、複数回計測することが一般的です。  \n",
    "timeモジュールとfor文を組み合わせることで実現できる他、Jupyter Notebookでは%timeitという マジックコマンド でも計測が可能です。  \n",
    "マジックコマンドはPythonのプログラムとは別に用意された、Jupyter Notebookを便利にするための機能です。  \n",
    "計測したいコードを書いたセルのはじめに%%timeitと入れて実行します。  \n",
    "\n",
    "%%timeit  \n",
    "'''\n",
    "ここに比較したいコードを貼り付ける\n",
    "'''  "
   ]
  },
  {
   "cell_type": "code",
   "execution_count": 6,
   "metadata": {},
   "outputs": [
    {
     "name": "stdout",
     "output_type": "stream",
     "text": [
<<<<<<< HEAD
      "53.7 ns ± 0.842 ns per loop (mean ± std. dev. of 7 runs, 10000000 loops each)\n"
=======
      "52 ns ± 0.991 ns per loop (mean ± std. dev. of 7 runs, 10000000 loops each)\n"
>>>>>>> dbf5ae0814dcb42804c7ca16c254a7b5274863a7
     ]
    }
   ],
   "source": [
    "%%timeit\n",
    "THICKNESS = 0.00008\n",
    "folded43_thickness = THICKNESS*2**43"
   ]
  },
  {
   "cell_type": "code",
   "execution_count": 7,
   "metadata": {},
   "outputs": [
    {
     "name": "stdout",
     "output_type": "stream",
     "text": [
<<<<<<< HEAD
      "1.84 µs ± 8.79 ns per loop (mean ± std. dev. of 7 runs, 1000000 loops each)\n"
=======
      "1.77 µs ± 30.5 ns per loop (mean ± std. dev. of 7 runs, 1000000 loops each)\n"
>>>>>>> dbf5ae0814dcb42804c7ca16c254a7b5274863a7
     ]
    }
   ],
   "source": [
    "%%timeit\n",
    "folded43_thickness2 = 0.00008\n",
    "for _ in range(43):\n",
    "    folded43_thickness2 *= 2"
   ]
  },
  {
   "cell_type": "markdown",
   "metadata": {},
   "source": [
    "## 【問題5】リストへの保存  \n",
    "ここまでは43回折った後の最後の値だけを使用していましたが、グラフで可視化するためには過程の値も必要です。  \n",
    "for文を使用したコードに、過程の値合計44個を記録するコードを加えてください。  "
   ]
  },
  {
   "cell_type": "code",
<<<<<<< HEAD
   "execution_count": 8,
=======
   "execution_count": 13,
>>>>>>> dbf5ae0814dcb42804c7ca16c254a7b5274863a7
   "metadata": {},
   "outputs": [
    {
     "data": {
      "text/plain": [
       "44"
      ]
     },
<<<<<<< HEAD
     "execution_count": 8,
=======
     "execution_count": 13,
>>>>>>> dbf5ae0814dcb42804c7ca16c254a7b5274863a7
     "metadata": {},
     "output_type": "execute_result"
    }
   ],
   "source": [
    "thickness3 = 0.00008\n",
    "lst = []\n",
    "for i in range(44):\n",
    "    lst.append(thickness3 * 2**i)\n",
    "len(lst)"
   ]
  },
  {
   "cell_type": "markdown",
   "metadata": {},
   "source": [
    "## 【問題6】折れ線グラフの表示\n",
    "グラフの描画には Matplotlib という ライブラリ を用います。  \n",
    "リストへ記録するコードの後ろで以下の雛形を使用してください。  \n",
    "\"\"\"\n",
    "グラフを表示する。タイトルと軸ラベル名付き。\n",
    "\"\"\"  \n",
    "import matplotlib.pyplot as plt  \n",
    "%matplotlib inline  \n",
    "plt.title(\"thickness of folded paper\")  \n",
    "plt.xlabel(\"number of folds\")  \n",
    "plt.ylabel(\"thickness[m]\")  \n",
    "plt.plot(リスト名) # 「リスト名」のところにリストの変数名を入れる  \n",
    "plt.show()  "
   ]
  },
  {
   "cell_type": "code",
<<<<<<< HEAD
   "execution_count": 9,
=======
   "execution_count": 11,
>>>>>>> dbf5ae0814dcb42804c7ca16c254a7b5274863a7
   "metadata": {},
   "outputs": [
    {
     "data": {
      "image/png": "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\n",
      "text/plain": [
       "<Figure size 432x288 with 1 Axes>"
      ]
     },
     "metadata": {
      "needs_background": "light"
     },
     "output_type": "display_data"
    }
   ],
   "source": [
    "import matplotlib.pyplot as plt\n",
    "%matplotlib inline\n",
    "plt.title('thickness of folded paper')\n",
    "plt.xlabel('number of folds')\n",
    "plt.ylabel('thickness[m]')\n",
    "plt.plot(lst)\n",
    "plt.show()"
   ]
  },
  {
   "cell_type": "markdown",
   "metadata": {},
   "source": [
    "## 【問題7】グラフのカスタマイズ\n",
    "グラフをより見やすくカスタマイズしてみましょう。  \n",
    "カスタマイズしたグラフを最低3種類作成してください。  \n",
    "例えば以下のように書き換えることで、線の色を赤に変更できます。  \n",
    "\"\"\"\n",
    "赤い折れ線グラフを表示する。\n",
    "\"\"\"   \n",
    "plt.title(\"thickness of folded paper\")  \n",
    "plt.xlabel(\"number of folds\")  \n",
    "plt.ylabel(\"thickness[m]\")  \n",
    "plt.plot(リスト名, color='red')  \n",
    "plt.show()  "
   ]
  },
  {
   "cell_type": "code",
<<<<<<< HEAD
   "execution_count": 10,
=======
   "execution_count": 20,
>>>>>>> dbf5ae0814dcb42804c7ca16c254a7b5274863a7
   "metadata": {},
   "outputs": [
    {
     "data": {
      "image/png": "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\n",
      "text/plain": [
       "<Figure size 432x288 with 1 Axes>"
      ]
     },
     "metadata": {
      "needs_background": "light"
     },
     "output_type": "display_data"
    }
   ],
   "source": [
    "plt.title(\"thickness of folded paper\")\n",
    "plt.xlabel(\"number of folds\")\n",
    "plt.ylabel(\"thickness[m]\")\n",
    "plt.tick_params(labelsize=20, color='red', labelcolor='red') #軸の値に関する設定\n",
    "plt.plot(lst, color='red')\n",
    "plt.show()"
   ]
  },
  {
   "cell_type": "code",
<<<<<<< HEAD
   "execution_count": 14,
   "metadata": {},
   "outputs": [
    {
     "data": {
      "image/png": "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\n",
      "text/plain": [
       "<Figure size 432x288 with 1 Axes>"
      ]
     },
     "metadata": {
      "needs_background": "light"
     },
     "output_type": "display_data"
    }
   ],
   "source": [
    "plt.title(\"thickness of folded paper\")\n",
    "plt.xlabel(\"number of folds\")\n",
    "plt.ylabel(\"thickness[m]\")\n",
    "plt.tick_params(labelsize=10, color='green', labelcolor='green') #軸の値に関する設定\n",
    "plt.plot(lst, color='green', linewidth=10)\n",
    "plt.show()"
   ]
  },
  {
   "cell_type": "code",
   "execution_count": 25,
   "metadata": {},
   "outputs": [
    {
     "data": {
      "image/png": "iVBORw0KGgoAAAANSUhEUgAAAXgAAAEWCAYAAABsY4yMAAAABHNCSVQICAgIfAhkiAAAAAlwSFlzAAALEgAACxIB0t1+/AAAADh0RVh0U29mdHdhcmUAbWF0cGxvdGxpYiB2ZXJzaW9uMy4xLjEsIGh0dHA6Ly9tYXRwbG90bGliLm9yZy8QZhcZAAAgAElEQVR4nO3deZhcV3nn8e9be2/qltRqeZHa7YVBMostEGC2BGxC2MmQjXUgYaJkkslAgGFMwkxgJgnhIcMkeSYzjCHEbHHCPjEhxI4DhgxhkbG8gOQYG1myLLrVknrvru2+88e9JZVK1d2llm5t/fs8Tz/quss5b5/qfnXq3HPPNXdHRES6T6LVAYiISDyU4EVEupQSvIhIl1KCFxHpUkrwIiJdSgleRKRLKcHLKWY2ZmZuZqll9v+2mX2kgXJuNrPfu/ARxsvMtprZ181s1sz+e539PWZ2q5lNm9lnVilrtbZ8j5l9co1xrvlcWV/q/vLJ+mBmB4F/6+7/0Mjx7v4H8UbUcnuASWCD179B5OeArcBmdy81NTKRNVAPXuS0y4AfLJPcK/v/Rcl9dct9cpHmUoJfp8zsE8AocKuZzZnZO6t2v87MDpnZpJn9TtU5ZwwNmNlzzOybZjZlZofN7E116hkws6+a2Z9a6GYz+zMz+9toKOTbZnZl1fE7zOx2MzthZg+Y2S9U7XuJmf0gOu+Imb0j2j5sZl+K4jhhZt8ws7q/22b2LDP7bjTM8l0ze1a0/WbgjcA7o/Z4Qc157wX+C/CL0f43m1nCzN5tZo+Y2YSZfdzMBpep93IzuzOK/XZguGb/dVVteY+ZPa/Rc2vKeZ6ZPRoNp02a2UEze13V/pea2d1mNhO9Z++p2lcZVtpjZo+Z2VEze3vV/oSZ3WhmD5nZcTP7tJltqjn3zWZ2CPjH5WKUJnJ3fa3TL+Ag8IKq12OAAx8GeoBrgDywM9r/HuCT0fejwCzwGiANbAaujfbdDPxetO07wO9V1XEzcAJ4OuEQ4aeAv4r29QGHgV+K9j2FcMjkCdH+o8Bzo+83Ak+Jvn8f8KEojjTwXMDq/LybgJPAG6LyXxO93lwd9wrtdernj17/MvBD4AqgH/g88ImatkxFr/8Z+CCQBX4iartKW14KHAdeQtjp+qno9ZbVzq0T4/OAUtXxPwnMA4+v2v+kqJ4nA+PAz9TEfEv0XjwJOEb0OwK8FfgWsC0q+/8At9Sc+/Ho3J5W/37ry9uvB29mH416Q/c3cOxo1Du828zuNbOXNCPGdeC97r7o7vcA9xAm+lqvA/7B3W9x96K7H3f3fVX7LwHuBD7j7u+uOffz7v4dD4c6PgVcG21/GXDQ3f/C3Uvu/j3gc4Rj3wBF4Goz2+DuJ6P9le0XA5dFsXzDo6xT46XAg+7+iaj8W4ADwMvPoW1q2+CD7v6wu88B7wJeXTs8YWajwNOA/+zueXf/OnBr1SGvB77s7l9298Ddbwf2Ai9p4NzlVI6/E/hb4BcA3P1r7n5fVM+9hMn8J2vOfa+7z7v7fcBfEP5HCPCrwO+4+6Punif8D+/nan7e90TnLjYQo8Ss7RI8YS/qRQ0e+27g0+6+C3g18L/iCmqd+XHV9wuEvdNa24GHVijjpYSfAj50DuVfBjwjGqaYMrMpwiR6UbT/Zwl7uY9EQxbPjLZ/gLAnfZuZPWxmNy4T0yXAIzXbHiHsQa9FbXmPEH4y2FrnuJPuPl9zbMVlwM/X/NzPIfxPa7Vz66l3/CUAZvaMqFN0zMymgV/j7CGfw/XOjeL8QlWM+4Fyzc9bfa60WNsl+KiHcqJ6m5ldaWZfMbO7ovHVHZXDgQ3R94PAY00MtRucz1Kih4ErV9j/YeArwJfNrO8cyrzT3Yeqvvrd/d8BuPt33f2VwAjwReDT0fZZd3+7u19B2Bt/m5ndUKf8xwiTVLVR4EiD8a1W3ijh8Mh4zXFHgY017TBa9f1hwqGd6p+7z93/sIFz66l3fOVv4y+BvwG2u/sg4X/AVnP+9mXOPQy8uCbOnLtXt5+Wp20jbZfgl3ET8Jvu/lTgHZzuqb8HeL2ZPQp8GfjN1oTXscYJx4/X4lPAC8zsF8wsZWabzezammP+PfAA8CUz62mgzC8B/8rM3mBm6ejraWa208wyZvY6Mxt09yIwQ9h7xMxeZmZXmZlVbS/XKf/LUfmvjWL+ReDqqN61uAX4regiaD/wB8Bfe80sG3d/hHDI5b3Rz/EczhwW+iTwcjP7aTNLmlkuuli6rYFzl1M5/rmEQ1+VefsDwAl3XzKzpwOvrXPufzazXjN7AuH1kL+Otn8I+H0zuwzAzLaY2SsbiEVapO0TfPSH8yzgM2a2j/DCzsXR7tcAN7v7NsKP7p+wZWZPSF3vA94dfeR+x7mc6O6HCNv87YSfuPZRM1YfjYPvIez5/V8zy61S5izwQsLhtscIh3LeT3hBD8KLowfNbIZwaOH10fbHAf8AzBFekPxf7v61OuUfJ0x2bye8iPlO4GXuPnkOP3q1jwKfAL4O/AhYYvlOxmuBZxC21e8SXoysxHUYeCXw24QXNQ8D/5HTf5/LnruMHxNePH6M8D/iX3P3A9G+Xwf+q5nNEs4K+nSd8+8kHPK6A/gjd78t2v4nhL3/26LzvxXFJW3K6l+Lai0zGwO+5O5PNLMNwAPufnGd474PvCj6A8HMHgauc/eJZsYr0i4snF75yajTc67njhH+R5Wu/RQinante7vuPgP8yMx+HsBClZ7iIeCGaPtOIEfYAxIRWffaLsGb2S2EH7Mfb+ENG28mnEnxZjO7B/g+4cdZCD9q/0q0/RbgTctMjxMRWXfacohGRETOX9v14EVE5MJoqwWBhoeHfWxsrNVhiIh0jLvuumvS3bfU29dWCX5sbIy9e/e2OgwRkY5hZsve2awhGhGRLqUELyLSpZTgRUS6VFuNwYuIrBcLhRIHJ+c5MD7LUqFMLpNkx9YBxob76M1cmNSsBC8i0mSTc3nu2D9BuRww2JNmoD9FoRSw79AU9x2Z4YadIwz3Z1cvaBUaohERaaKFQok79k+QSyUY2ZAjm05iZmTTSUY25MilEtyxf4KFwvkvBxRbgjezx5vZvqqvGTN7a1z1iYh0goOT85TLAX3Z+gMofdkUpXLAwcn5uvvPRWwJ3t0fcPdr3f1a4KmET+75Qlz1iYh0ggPjswz2pFc8ZqgnzYHx2fOuq1lDNDcAD0UPLxARWbeWCmUyqdOpd3qxyMTs0hnHpFMJlgr1nllzbpqV4F9NuNrjWcxsj5ntNbO9x45ppV8R6W65TJJCKTj1ulAKKJbPXPSxWArIZZLnXVfsCd7MMsArOP3IsDO4+03uvtvdd2/ZUnc5BRGRrrFj6wDTi8VTr4cHMlwyeObDzqYWi+zYOnDedTWjB/9i4HvuXvsgYhGRdWdsuI9kMsF8Ppwls5AvUyif7tHP50ukkgnGhht9Vv3ympHgX8MywzMiIutNbybFDTtHWCoFjM8sMbNUolAKyBfLjM8ssVQKuGHnyAW52SnWG53MrBf4KeBX46xHRKSTDPdnefk1F5+6k3WxUMYNdo0Odc6drO6+AGyOsw4RkU7Um0lx9SWDBA6XD/ctOy/+fOhOVhGRFppeLGIWT9lK8CIiLVQsB6ST8aRiJXgRkRZxd8qBk0rE04VXghcRaZFi2UklE1hMYzRK8CIiLVIsB6Rj6r2DEryISMskE8bFQz2xla8ELyLSIrl0kssvwB2ry1GCFxFpkYnZJR46Nhdb+Xpkn4hIi2zszTCQXXlt+POhHryISIuUyk4ixiysBC8i0iKPnJhnYiYfW/lK8CIiLVIseWx3sYISvIhIyxSDgHRS8+BFRLpOsRSQUg9eRKT7lAInowQvItJ9CuWAlIZoRES6z9PGNukiq4hItwmCcKngOCnBi4i0QKEccOj4Qqx1xJrgzWzIzD5rZgfMbL+ZPTPO+kREOkUuneRJ2wZjrSPuHvyfAF9x9x3ANcD+mOsTEekI04vF2HvwsS02ZmYbgJ8A3gTg7gWgEFd9IiKdZD5fYmapGGsdcfbgrwCOAX9hZneb2UfM7KyFj81sj5ntNbO9x44dizEcEZH2USo7mVS8gyhxlp4CngL8b3ffBcwDN9Ye5O43uftud9+9ZcuWGMMREWkfhXIQ28O2K+JM8I8Cj7r7t6PXnyVM+CIi614pCGKdAw8xJnh3/zFw2MweH226AfhBXPWJiHSSuFeShPif6PSbwKfMLAM8DPxSzPWJiHSEnkyCnnQy1jpiTfDuvg/YHWcdIiKd6KqRgdjr0J2sIiItcODHMxRKQax1KMGLiLTApr5MR8+iERGROtydjb0ZEkrwIiLdpVAO+OZDx2OvRwleRKTJSmUnHXPvHZTgRUSarlgOSMe8TAEowYuINF2hHP9drKAELyLSdKWyxz6DBpTgRUSarhkrSUL8SxWIiEiN4YFM7M9jBSV4EZGmSycT5FIaohER6To/nJhjci4fez3qwYuINNnOizc0pR714EVEmuzwiQXypXLs9SjBi4g02aETCwTxLiQJKMGLiDRdoRyQSuoiq4hIVwkCJwjif1wfKMGLiDRVMQhINSG5gxK8iEhTlcpOugnDMxDzNEkzOwjMAmWg5O56PquIrGtld3ozzZmh3oxanu/uk02oR0Sk7W3Ipbl2+1BT6tIQjYhIE00vFpmYXWpKXXEneAduM7O7zGxPvQPMbI+Z7TWzvceOHYs5HBGR1jKDhHXBGDzwbHd/zMxGgNvN7IC7f736AHe/CbgJYPfu3fEvryYi0kIbcumm1RVrD97dH4v+nQC+ADw9zvpERNrdv4zP8tjUYlPqii3Bm1mfmQ1UvgdeCNwfV30iIp0gXwxINuFpThDvEM1W4AsWjjWlgL9096/EWJ+ISNsrlIOmPK4PYkzw7v4wcE1c5YuIdKJSOSDdhMf1gaZJiog0VbHspBNK8CIiXacYBE1bqkAJXkSkiS7f3KfFxkREutHYcF/T6lKCFxFpkvl8ie/86ETT6lOCFxFpkt5MkqeMNmehMVhlmqSZbWqgjMDdpy5QPCIiXWupGJAvlRnqzTSlvtXmwT8Wfa10yTcJjF6wiEREutTJhQInFwptk+D3u/uulQ4ws7svYDwiIl2rWA6a8izWitVqemYDZTRyjIjIulcsN+dh2xUr9uDd/dSq9Ga2EdhefY67f6/6GBERWV6xHJBNNedxfdDgWjRm9t+ANwEPET7Eg+jf6+MJS0Sk+5TKTqZJ69BA44uN/QJwpbsX4gxGRKSbNXMlSWg8wd8PDAETMcYiItLVdm0foklP6wMaT/DvA+42s/uBfGWju78ilqhERLrQsbk8w/1ZmrTWWMMJ/mPA+4H7gCC+cEREuteJ+QKb+zKsfGvRhdNogp909z+NNRIRkS638+INTa2v0cu5d5nZ+8zsmWb2lMpXrJGJiHSRQilg3+HmrurSaA++cjfrdVXbNE1SRKRBhXLAQqHU1DobSvDu/vy1VmBmSWAvcMTdX7bWckREOlmpHJBp4l2ssMoQjZmtmpAbOOYtwP5zCUpEpNsUmrwODazeg/+AmR1h5Uu+fwB8qd4OM9sGvBT4feBta4pQRKQLFMtOqlnzIyOrJfhx4IOrHPPgCvv+GHgnMHAuQYmIdJtSu/Xg3f15ay04GrqZcPe7zGzZcsxsD7AHYHRUy8qLSHfqySTpySSbWmdD/52Y2VvMbIOFPmJm3zOzF65y2rOBV5jZQeCvgOvN7JO1B7n7Te6+2913b9my5Zx/ABGRTjAykGNkINfUOhv9vPDL7j4DvBAYAX4J+MOVTnD3d7n7NncfA14N/KO7v/58ghUR6VQPjs9yYr656zU2Og++cmXgJcBfuPs9Zs1cMkdEpLNdurGn6WPw53In622ECf7vzWyAc1iTxt2/pjnwIrKelQMn2eR+caMJ/s3AjcDT3H0BSBMO04iISAPuOTxNodzctRobTfDPBB5w9ykzez3wbmA6vrBERLpLsckP+4DGE/z/BhbM7BrCee2PAB+PLSoRkS4SBE7gTqqd5sFXKbm7m9krgT9x9z83szfGGZiISKdbKJQ4ODnPfUem2X90lumlIju2DjA23EdvJv6Hbzdaw6yZvQt4A/DcaAGxdHxhiYh0tsm5PHfsn6BcDshmEmzqS5NNJNh3aIr7jsxww84RhvuzscbQ6OeFXyR8VN8vu/uPgUuBD8QWlYhIB1solLhj/wS5VIKRDTmSliCTTJBNJxnZkCOXSnDH/onYlw9uKMFHSf1zQOW/m0ngC3EFJSLSyQ5OzlMuB/Rlw0GSnnSC7Zt6T+3vy6YolQMOTs7HGkejSxX8CvBZ4P9Emy4FvhhXUCIinezA+CyDPadHscsOVrMo71BPmgPjs7HG0egQzW8Qri0zA+DuDxIuWSAiIjWWCmUyqdPpdT5fYnqxeMYx6VSCpUI51jgavciad/dCZXUCM0sRPrJPRERq5DJJCqWAbDpcPXJjb+asY4qlgFzMq0s22oO/08x+G+gxs58CPgPcGl9YIiKda8fWgTN67EenF8+6i3VqMZwyGadGE/yNwDHgPuBXgS8T3s0qIiI1xob7SCYTzOfDWTLH5wtUL0Mzny+RSiYYG+6LNY5GH7odAB+OvkREZAW9mRQ37Bzhjv0TTC8uUCgFJM3IF8tMLRZJJRPcsHMk9pudGirdzJ4NvAe4LDrHAHf3K+ILTUSkcw33Z3n5NRdz/5FpJmaPMTmXJ5dJsmt0qO3uZP1z4LeAu4B4L/uKiHSJ3kyK0U19/PQTUjxp22DT6280wU+7+9/FGomISBdaKJSa/izWikYT/FfN7APA5wmXLADA3b8XS1QiIl0ik0qQTbV3gn9G9O/uqm0OXH9hwxER6S7bNvauflBMGk3wL3b3peoNZrY5hnhERLrKPYeneMIlG5q+Fjw0Pg/+c9HdqwCY2UXAbSudYGY5M/uOmd1jZt83s/eeT6AiIp1o28aeliR3aDzBfxH4rJklzWyMMLm/a5Vz8sD17n4NcC3wIjO7bq2Bioh0mmLVipKt0OiNTh82swxhoh8DftXdv7nKOQ7MRS/T0ZfWrxGRdeP4XIFjs/mWTJGEVRK8mb2t+iWwHdgHXGdm17n7B1c5P0k4d/4q4M/c/dvnGa+ISMdo5RRJWH2IZqDqq5/wIR8/rNq2Incvu/u1wDbg6Wb2xNpjzGyPme01s73Hjh071/hFRNrWQqFMbwsT/Io9eHe/IBdG3X3KzL4GvAi4v2bfTcBNALt379YQjoh0jcViaxN8o090ut3MhqpebzSzv1/lnC2Vc8ysB3gBcOB8ghUR6STz+dYO0TR6eXeLu09VXrj7STNb7YlOFwMfi8bhE8Cn3f1La4xTRKSjFMsBDi27ixUaT/BlMxt190MAZnYZq8yIcfd7gV3nGZ+ISEdKmvG0sU0tjaHRBP87wD+Z2Z3R658A9sQTkohI5yuUwzXgW6nRefBfMbOnANcRTpf8LXefjDUyEZEONrVQpFgO2L6pTdeiMbMd7n4gSu4Aj0X/jkZDNlpNUkSkjosGc60OYdUe/NsIh2L+e519Wk1SRGQZD47Psm1jb/vOonH3PdG/z29OOCIi3eHI1CKjm1s3PAONX2TFzJ5FuA7NqXPc/eMxxCQi0tHaYYokNP7Q7U8AVxKuQ1N5JqsDSvAiIjUW8mV6061N7tB4D343cHW0QqSIiKwgXKKgdcsEVzS6Hvz9wEVxBiIi0i3mW7yKZMVq0yRvJRyKGQB+YGbf4cyHbr8i3vBERDpPNpUg1wFDNH9EeGPT+4Gfqdpe2SYiIjVa+aDtaqtNk7wTwMzSle8rohUiRUSkxt2HTvLkbUMkE228VIGZ/Tvg14ErzOzeql0DwP+LMzARkU41trmv5ckdVh+i+Uvg74D3ATdWbZ919xOxRSUi0qGK5aAtLrDC6kM008A08JrmhCMi0tkm5/IcnyvwxEtb86Dtao1OkxQRkQYsFMpt04NXghcRuYAWW/yg7WpK8CIiF9BCoUxvuvV3sYISvIjIBbXQJnexghK8iMgFUygFAGRS7ZFaY4vCzLab2VfNbL+Zfd/M3hJXXSIi7SCVaP2DtqvFOVBUAt7u7t8zswHgLjO73d1/EGOdIiItUygHJFr8oO1qsfXg3f1o5Zmt7j4L7Acujas+EZFWm1ooMjmXX/3AJmnKpV4zGwN2Ad+us28P4XNfGR0dbUY4IiKxaIcHbVeLPcGbWT/wOeCt7j5Tu9/dbwJuAti9e7ceKCIiHWWhUOLg5DwHxmd5ZHKBS4ZyPOnSQcaG+1r+0I9YazezNGFy/5S7fz7OukREmm1yLs8d+ycolwMGe9K4O7l0gn2HprjvyAw37BxhuD/bsvjinEVjwJ8D+939g3HVIyLSCguFEnfsnyCXSjCyIUcyaZgZfZk0Ixty5FIJ7tg/wUKh1LIY45ys+WzgDcD1ZrYv+npJjPWJiDTNwcl5yuWAvmw4EJIvBmSr5r/3ZVOUygEHJ+dbFWJ8QzTu/k+ET34SEek6B8ZnGexJn3qdLwdk02f2mYd60hwYn+XqS1qzsmR73G4lItJhlgrlM+5YzRfLZ/TgAdKpBEuFcrNDO0UJXkRkDXKZ5KmlCQCSCWMglz7jmGIpINfCdWmU4EVE1mDH1gGmF4unXo8M5OirmRY5tVhkx9aBZod2ihK8iMgajA33kUwmmM+XOLFQ4OjM4hn75/MlUskEY8N9LYpQCV5EZE16Mylu2DnCUilgqVimP5sicCdfLDM+s8RSKeCGnSMtvdmpPValFxHpQMP9WV76pIu4+/AUx+byTM7lyWWS7Bod6v47WUVEul2x7GSSCV61a1urQzmLhmhERM7D8fk8m1u4HMFKlOBFRM7D5FyB4f5Mq8OoSwleRGSNlopllorlM+5obSdK8CIia3R8vsDmvizWRk9xqqYELyKyRkvFMlsG2nP8HTSLRkRkza7c0t/qEFakHryIyBpMLxR55HjrlgJuhHrwIiJrkE0nGKQ9L65WqAcvIrIG5cAZ6m3P6ZEVSvAiIudoqVjmuwdP4O6tDmVFSvAiIufo+HyB4f72nR5ZoQQvInKOJmfzbG7Tu1erxZbgzeyjZjZhZvfHVYeISLMFgXNyocCmvvZP8HHOorkZ+J/Ax2OsQ0QkdguFEgcn5zkwPsvx2TzTiyVGBrJtsSTwSmKLzN2/bmZjcZUvItIMk3N57tg/QbkcMNiTJptOsDGRZt+hKe47MsMNO0cY1mqS9ZnZHjPba2Z7jx071upwREROWSiUuGP/BLlUgpENObLpJBcP9rB9Yy8jG3LkUgnu2D/BQqHU6lDranmCd/eb3H23u+/esmVLq8MRETnl4OQ85XJAXzYc7CiUA07OF0lEs2f6silK5YCDk+15R2vLE7yISLs6MD575lLADgFnzn0f6klzYHy2yZE1RgleRGQZS4UymVSYJh3HEjDcd+Z4ezqVYKlQbkV4q4pzmuQtwD8DjzezR83szXHVJSISh1wmSaEUAOHNTYdPLJx1TLEUkMskmx1aQ+KcRfOauMoWEWmGHVsH2Hdoik1JY3x6icu39J11zNRikV2jQy2IbnUaohERWcbYcB/JZIJHJhfYkEvTmz6zTzyfL5FKJhgbPjvxtwMleBGRZfRmUjzryk2Mz+ZJJCBfLBO4ky+WGZ9ZYqkUcMPOkba92ak9oxIRaRMn5ov8/FO34TgHxmeZniuSyyTZNTq0fu9kFRHpdEHg9GSSXLWln0TCuPqSwVaHdE6U4EVE6nB38qWAf7V1oNWhrJkSvIgIZy4oVpnX3ptJ8sInXNTWwzAr0UVWEVn3Jufy3HrPUfYdmiKbSDDcn2Ewl2YhX+bWe44yOZdvdYhrogQvIutavQXFjk7nmc2XOmJBsZUowYvIula7oFi+VObkQoHB3nANmnZfUGwlSvAisq5VLyhWCgIeOb7AyECWdOJ0emznBcVWogQvIutaZUGxfKnMg+NzDORSbBnonAXFVtKZl4ZFRNagdqZMLpPkxHyedNJ4bHqJrRtyZ60WCe29oNhKlOBFZF2offTeQH+KQilgdqnMQxPHue7KzWyuk9yhvRcUW4mGaESk69WbKWNmpFMJejNJMskEdx+aIl86exim3RcUW4l68CLSVeoNw2TMWCiU2NzXC4QP7zg+V2BzX4YnXDLI9o29fOOHx9h/dIadF20gnUpQLAVMLRZJJRNtvaDYSjovYhFZ9+ol8R1bBxjIpfjmQyfOGob52gMTpFNJBnvSmBnjM0sAbOxNkzRjQ0+a5141zJHpJfJB0FELiq2kM6MWka53rkn8Ow+f4P7HZrh2dJCLNvScKiebTpJNJymWA/7++z/m8RcNcMlQD5t7M1j08GyA/lyazaWAV+3a1oofNxYdneCX+wWojJWt1329mZTaRm3a0fsWCuW6F0RXSuIBTsLgwfF5NvZmyKaSuDtmxsxSiaQ5A9kUG3vSXTVTZiXm7qsf1SS7d+/2vXv3NnRs7RXxTCpBoRQwvVhksRiAOT3RR7L1tC+ZTLBrdIi7D02pbdSmHbmv7FAolxnuy566u7Ti0Il5DhydpSeT4umXbySbOp2Q//mhSVIJ4+RikatG+tm+qZcfTsyx46IBDh1f4EeT8/RnUxSDgGdeMXxWThmfWWLX6FDHLQlsZne5++56+2KdRWNmLzKzB8zsh2Z244Uqd7kr4tl0+Mvy4MQsD47PMdibXlf7RjbkMJyb7nyYhLnaRm3acftGNuSYXSxy/6PTpJJ21t/+kZOLbOzLUA4CJmaWKJQCphYLHJla5PDJRY5MLbJYKHNwcoF0IsHjtw5gGBdtyJFKGMVycOoh2tU6eabMSmJL8GaWBP4MeDFwNfAaM7v6QpRdu3ZEtfHZJVIJI5UwJqILKetlH8BcvkSxHDC3dPbCSO0Ua6fsA7Vps/ZVRhOOzS2RMDh4fJ7pxQInFgpMzC7x2NQihXLAUqFMKXAenVrk0Ml5Ts4XSSeNkYEsFw/lGN3USzLKbIlojD2bTvLkbUMsFcssFMsd9+i9tYrzp3k68EN3fxjAzP4KeCXwg/MtuHrtCIBCOWBiNvxFue/INKlE+Kbee2SarYPhON3UQoEjJxeBcDGhe49MY4nTPYT9R2fY1M5Gd8IAAAvISURBVJdlPl/ioWPzbNvUy5GpxbplburL0ptNcmRqkSMnF0kljPlC6awy7zsyzchAjnyxzAPjc2zf1Mf47BLFcnBWmf25NBt7M4zPLvHIiQWy6QQzi8W6ZW7qywDwg6MzbN/Ux8mFAvPRSnf3HZkmYc69R6bDHtFAjpMLBTLJBI+eXDw1z7e23IePzdOXTXJivsCjU4ts6stycrFQ9+ffvqmP+XyJQjngyMlFSkFAOfCzyvyX8TkGe9JMLxY5eHyBrYM9Hfc+1bZp9fu0sTfDIycWlm3Tyvu4kC/z6NQi/bn0Ge9TJdbq93Et79OJheh9enSaZM37VPnPqfI+lcrOvY9OQ+XiosMD43MM9aSZWiyE79OGHsZnlnDCY8Nkaex7dIqtgz24Oyfmw/ep7E6hGHD34SnKDu7gwIGj02wZyDGzWOTBifB9enB8DgfuPzJF0gw3+NaP8vTl0mzsTXP/YzM86dJBphdLFEoB+4/Okk4mSSYgnUiQSSXIJBMkEtCTTTOfL3HVltMP41jaUubhY/Mks+GxtTb0pLlqZIAtA9mumimzkjh/okuBw1WvHwWeUXuQme0B9gCMjo42VPBSocxA/+nQzSBXNRaXS4ffzy2VSFj4C5dJJSiUAzKpBGbhvupzAodUwshEf5CGLVtmMmmn9hfKAT3pJGVPnlUmhGUG6cSpP+xsKkEy+uOqLjMddTmy0fzbnp4UuXT9MjNJwzGC6PJJKpk445i+bIr5fPnUL3kqmSCZDD+eVtdZfU4pCEgl0uTSSQqlgGRy+Z8fIJk00oRtmksnKQd+dpsGTiph5NIJCiXv2Pepuk2r36eERRfmlmnTyvuYTYfjy7XvU+W8hWiNk7W+Tz3RsRj0ZM58n8JhjsSpn7+UcuYWS6eOA/DofepNJ8mXnEQCeqNPxwkz+jMp3E6/T5jRl01RKAf0ZZJkUwlml0ps7K10uoxUIkEqYfT3pJhfKmEYlw71YAk4fGKewVwazMLzetIYxpMuDce+N/amSSYyLBbLXFEzZLJQKPHwsXn66yTxrQM5Dh1f4Ph8gasvPvspTPP5Er3ZFNd3YU99OXH+lGcPoIV/w2ducL8JuAnCi6yNFJzLhL/c2egXO51IMNwfXhXf1JshlUxghMkiFa0IN9STIZNMkEqGvYBM6vQ54f40pcDJJBJYtHm5Mit/cMP9WTLJBGZGXyZ1VpmbejOUAidJOM+2Eke9MvujP6ihngw96STuy5cZuGHAUPQHNZBNMRCdv6k3LD+bTp6qq7Kv8vNX6qwuty+TohQ4fZnwIlQulSTXn6wbK0SJOrVymQO5sMxcKkkyEXTk+1TbptXvE0BPOrnsz195H3OpJMUgOOt9qm3TZrxP2aj86lkklfcpm0qSSASkEgk2R58SN/amT5WZTtqp92lDLnx/kokEqQQke43BqjarlJnETv1nUhlS7cukwMLf4Z5M4oypigCXbuzhX8Zn6w7BrpTEs+kkV430s+/wNG6QL5a75oaltYrzIuujwPaq19uAxy5EwTu2DjC9WKy779KNPcznS8zlS2wb6llX+yr7J+cKy+5rl1g7ZV9lv9q0ee29dSBHvhSwuTdz1r5KEnfnVBKvHktPp5K85QWP47rLN5MPAibn8uSDgF2jQ7z8movP+M9yPYgzwX8XeJyZXW5mGeDVwN9ciILHhvtIJhPM58++6LV1IEcpcEpBOONhPe0D6M+mSCcT9Ofq937aJdZO2Qdq02a3dylwnnjJEAO9acZnls45iW/f1MvVlwzyql3beO0zLuNVu7Zx9SWD66rnXhHrPHgzewnwx0AS+Ki7//5Kx69lHnypHDDUkz7jo9hSNMc2l0quu32pqjnbahu1aSfuOz2UklzxxjMJrTQPvmNvdALdyaq7LtWm3bpPCbxxXZvgRUTWu5bdySoiIq2jBC8i0qWU4EVEulRbjcGb2THgkTWePgxMXsBwuonapj61y/LUNstrt7a5zN231NvRVgn+fJjZ3uUuNKx3apv61C7LU9ssr5PaRkM0IiJdSgleRKRLdVOCv6nVAbQxtU19apflqW2W1zFt0zVj8CIicqZu6sGLiEgVJXgRkS7V8Qk+rgd7dyIz+6iZTZjZ/VXbNpnZ7Wb2YPTvxlbG2Cpmtt3Mvmpm+83s+2b2lmj7um8fM8uZ2XfM7J6obd4bbb/czL4dtc1fR8t+rztmljSzu83sS9HrjmmXjk7wcT7Yu0PdDLyoZtuNwB3u/jjgjuj1elQC3u7uO4HrgN+IflfUPpAHrnf3a4BrgReZ2XXA+4H/EbXNSeDNLYyxld4C7K963THt0tEJnqoHe7t7Aag82HtdcvevAydqNr8S+Fj0/ceAn2lqUG3C3Y+6+/ei72cJ/2AvRe2Dh+ail+noy4Hrgc9G29dl25jZNuClwEei10YHtUunJ/h6D/a+tEWxtKut7n4UwiQHjLQ4npYzszFgF/Bt1D7AqWGIfcAEcDvwEDDl7pXHpq3Xv60/Bt4JBNHrzXRQu3R6gm/owd4iFWbWD3wOeKu7z7Q6nnbh7mV3v5bw2clPB3bWO6y5UbWWmb0MmHD3u6o31zm0bdul0x+bEtuDvbvIuJld7O5Hzexiwh7aumRmacLk/il3/3y0We1Txd2nzOxrhNcphswsFfVW1+Pf1rOBV0SPHs0BGwh79B3TLp3eg4/twd5d5G+AN0bfvxH4vy2MpWWisdM/B/a7+werdq379jGzLWY2FH3fA7yA8BrFV4Gfiw5bd23j7u9y923uPkaYW/7R3V9HB7VLx9/Jeq4P9u5mZnYL8DzC5UzHgd8Fvgh8GhgFDgE/7+61F2K7npk9B/gGcB+nx1N/m3Acfl23j5k9mfBiYZKw0/dpd/+vZnYF4cSFTcDdwOvdPd+6SFvHzJ4HvMPdX9ZJ7dLxCV5EROrr9CEaERFZhhK8iEiXUoIXEelSSvAiIl1KCV5EpEspwcu6YGZfM7PYH5RsZv8hWrHyU3X23WJm95rZb61w/s1m9nN1tj+vspqhSKM6/U5WkdhV3bXYiF8HXuzuP6op4yLgWe5+2QUPUGQZ6sFL2zCzsaj3++FoXfLbojsrz+iBm9mwmR2Mvn+TmX3RzG41sx+Z2b83s7dF63d/y8w2VVXxejP7ppndb2ZPj87vi9bR/250ziuryv2Mmd0K3FYn1rdF5dxvZm+Ntn0IuAL4mzq99NuAETPbZ2bPNbNro/juNbMv1FuH3sJnHRwws38CXlW1/SejcvZFMQ+stc2luynBS7t5HPBn7v4EYAr42QbOeSLwWsJFsn4fWHD3XcA/A/+m6rg+d38WYS/7o9G23yG8Bf1pwPOBD5hZX7TvmcAb3f366srM7KnALwHPIFyz5VfMbJe7/xrhuiTPd/f/URPjK4CH3P1ad/8G8HHgP7n7kwnvrv3dmjpywIeBlwPPBS6q2v0O4DeixcGeCyw20EayDinBS7v5kbvvi76/Cxhr4Jyvuvusux8DpoFbo+331Zx/C5xaN39DtP7KC4Ebo6Vyv0a4qNRodPztyyxb8BzgC+4+H62j/nnCRNsQMxsEhtz9zmjTx4CfqDlsB2FbPOjh7eafrNr3/4APmtl/iMppdPhI1hkleGk31Wt6lDl9najE6d/X3ArnBFWvA868zlS7LocTLv/6s1HP+lp3H3X3ytN75peJsd6SsXGou46Iu/8h8G+BHuBbZrajSfFIh1GCl05xEHhq9P1Zs0wa9ItwauGxaXefBv4e+M1otUnMbFcD5Xwd+Bkz642Gc/414UJmDYnqPWlmlV7/G4A7aw47AFxuZldGr19T2WFmV7r7fe7+fmAvYW9f5CyaRSOd4o+AT5vZG4B/XGMZJ83sm4Trev9ytO2/Ea5Gem+U5A8CL1upEHf/npndDHwn2vQRd7/7HGN5I/AhM+sFHiYc06+uY8nM9gB/a2aTwD8RXmsAeKuZPZ/wE84PgL87x7plndBqkiIiXUpDNCIiXUoJXkSkSynBi4h0KSV4EZEupQQvItKllOBFRLqUEryISJf6/4JNjuVho/SkAAAAAElFTkSuQmCC\n",
      "text/plain": [
       "<Figure size 432x288 with 1 Axes>"
      ]
     },
     "metadata": {
      "needs_background": "light"
     },
     "output_type": "display_data"
    }
   ],
   "source": [
    "plt.title(\"thickness of folded paper\")\n",
    "plt.xlabel(\"number of folds\")\n",
    "plt.ylabel(\"thickness[m]\")\n",
    "plt.tick_params(labelsize=10) #軸の値に関する設定\n",
    "plt.plot(lst, linewidth=1, alpha=0.3, marker='o', markersize=10, linestyle='-.')\n",
    "plt.show()"
   ]
  },
  {
   "cell_type": "code",
   "execution_count": 42,
   "metadata": {},
   "outputs": [
    {
     "data": {
      "image/png": "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\n",
      "text/plain": [
       "<Figure size 432x288 with 1 Axes>"
      ]
     },
     "metadata": {
      "needs_background": "light"
     },
     "output_type": "display_data"
    }
   ],
   "source": [
    "plt.title(\"thickness of folded paper\", fontsize=20, alpha=0.3, fontfamily='Takaogothic')\n",
    "plt.xlabel(\"number of folds\", fontsize=10)\n",
    "plt.ylabel(\"thickness[m]\", fontsize=10)\n",
    "plt.tick_params(labelsize=10) #軸の値に関する設定\n",
    "plt.plot(lst, linewidth=1, alpha=0.3, marker='*', markersizelinestyle='-.')\n",
    "plt.show()"
   ]
  },
  {
   "cell_type": "code",
=======
>>>>>>> dbf5ae0814dcb42804c7ca16c254a7b5274863a7
   "execution_count": null,
   "metadata": {},
   "outputs": [],
   "source": []
  }
 ],
 "metadata": {
  "kernelspec": {
   "display_name": "Python 3",
   "language": "python",
   "name": "python3"
  },
  "language_info": {
   "codemirror_mode": {
    "name": "ipython",
    "version": 3
   },
   "file_extension": ".py",
   "mimetype": "text/x-python",
   "name": "python",
   "nbconvert_exporter": "python",
   "pygments_lexer": "ipython3",
   "version": "3.7.4"
  }
 },
 "nbformat": 4,
 "nbformat_minor": 2
}
